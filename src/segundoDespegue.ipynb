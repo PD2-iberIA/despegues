{
 "cells": [
  {
   "cell_type": "code",
   "metadata": {
    "colab": {
     "base_uri": "https://localhost:8080/"
    },
    "id": "wNNPpxTvbg5v",
    "outputId": "e5db1907-bcfc-4c6e-9f98-c499d4308fb5",
    "ExecuteTime": {
     "end_time": "2025-01-29T09:51:51.318599Z",
     "start_time": "2025-01-29T09:51:51.314026Z"
    }
   },
   "source": [
    "import pyModeS as pms\n",
    "import pandas as pd\n",
    "import base64"
   ],
   "outputs": [],
   "execution_count": 13
  },
  {
   "metadata": {},
   "cell_type": "markdown",
   "source": ""
  },
  {
   "cell_type": "markdown",
   "metadata": {
    "id": "tahP9YtptEmD"
   },
   "source": [
    "Lectura del fichero de despegues"
   ]
  },
  {
   "cell_type": "code",
   "metadata": {
    "colab": {
     "base_uri": "https://localhost:8080/",
     "height": 423
    },
    "id": "PapwECYvtUwa",
    "outputId": "1451629d-6c21-4d0f-b611-3d6dc6f4944b",
    "ExecuteTime": {
     "end_time": "2025-01-29T10:30:42.151406Z",
     "start_time": "2025-01-29T10:30:42.119687Z"
    }
   },
   "source": [
    "datos  = pd.read_csv('test.csv', sep=';')\n",
    "datos = datos.drop(columns=['Unnamed: 2'])\n",
    "datos"
   ],
   "outputs": [
    {
     "data": {
      "text/plain": [
       "           ts_kafka               message\n",
       "0     1734667201534  oAANuYAVzS4ABLg3aB0=\n",
       "1     1734667201534  kDQjSSgABjG4hW4fTbY=\n",
       "2     1734667201534          XTxUM/+DTw==\n",
       "3     1734667201534  kDQjShBRgxXDaCAWeDM=\n",
       "4     1734667201534  jTRV1fgjAAIASbigrIs=\n",
       "...             ...                   ...\n",
       "8354  1734667796655          IAAAALRFCw==\n",
       "8355  1734667796655          IAAAALRFCw==\n",
       "8356  1734667796655  jTlkQ5kItjeQCBj8Xms=\n",
       "8357  1734667796655          IAAGM27mPA==\n",
       "8358  1734667796655  kDQjTRBRgxXDmCDKjus=\n",
       "\n",
       "[8359 rows x 2 columns]"
      ],
      "text/html": [
       "<div>\n",
       "<style scoped>\n",
       "    .dataframe tbody tr th:only-of-type {\n",
       "        vertical-align: middle;\n",
       "    }\n",
       "\n",
       "    .dataframe tbody tr th {\n",
       "        vertical-align: top;\n",
       "    }\n",
       "\n",
       "    .dataframe thead th {\n",
       "        text-align: right;\n",
       "    }\n",
       "</style>\n",
       "<table border=\"1\" class=\"dataframe\">\n",
       "  <thead>\n",
       "    <tr style=\"text-align: right;\">\n",
       "      <th></th>\n",
       "      <th>ts_kafka</th>\n",
       "      <th>message</th>\n",
       "    </tr>\n",
       "  </thead>\n",
       "  <tbody>\n",
       "    <tr>\n",
       "      <th>0</th>\n",
       "      <td>1734667201534</td>\n",
       "      <td>oAANuYAVzS4ABLg3aB0=</td>\n",
       "    </tr>\n",
       "    <tr>\n",
       "      <th>1</th>\n",
       "      <td>1734667201534</td>\n",
       "      <td>kDQjSSgABjG4hW4fTbY=</td>\n",
       "    </tr>\n",
       "    <tr>\n",
       "      <th>2</th>\n",
       "      <td>1734667201534</td>\n",
       "      <td>XTxUM/+DTw==</td>\n",
       "    </tr>\n",
       "    <tr>\n",
       "      <th>3</th>\n",
       "      <td>1734667201534</td>\n",
       "      <td>kDQjShBRgxXDaCAWeDM=</td>\n",
       "    </tr>\n",
       "    <tr>\n",
       "      <th>4</th>\n",
       "      <td>1734667201534</td>\n",
       "      <td>jTRV1fgjAAIASbigrIs=</td>\n",
       "    </tr>\n",
       "    <tr>\n",
       "      <th>...</th>\n",
       "      <td>...</td>\n",
       "      <td>...</td>\n",
       "    </tr>\n",
       "    <tr>\n",
       "      <th>8354</th>\n",
       "      <td>1734667796655</td>\n",
       "      <td>IAAAALRFCw==</td>\n",
       "    </tr>\n",
       "    <tr>\n",
       "      <th>8355</th>\n",
       "      <td>1734667796655</td>\n",
       "      <td>IAAAALRFCw==</td>\n",
       "    </tr>\n",
       "    <tr>\n",
       "      <th>8356</th>\n",
       "      <td>1734667796655</td>\n",
       "      <td>jTlkQ5kItjeQCBj8Xms=</td>\n",
       "    </tr>\n",
       "    <tr>\n",
       "      <th>8357</th>\n",
       "      <td>1734667796655</td>\n",
       "      <td>IAAGM27mPA==</td>\n",
       "    </tr>\n",
       "    <tr>\n",
       "      <th>8358</th>\n",
       "      <td>1734667796655</td>\n",
       "      <td>kDQjTRBRgxXDmCDKjus=</td>\n",
       "    </tr>\n",
       "  </tbody>\n",
       "</table>\n",
       "<p>8359 rows × 2 columns</p>\n",
       "</div>"
      ]
     },
     "execution_count": 58,
     "metadata": {},
     "output_type": "execute_result"
    }
   ],
   "execution_count": 58
  },
  {
   "cell_type": "markdown",
   "metadata": {
    "id": "VwmZAnAotzOe"
   },
   "source": [
    "Los datos correspenden a la lectura que ha realizado la antena durante 1 minuto.\n",
    "\n",
    "Son poco más de 8k filas, y la informacion de cada despeque se encuentra en la columna message, formateada en base 64."
   ]
  },
  {
   "cell_type": "markdown",
   "metadata": {
    "id": "JqyYwH9buKZB"
   },
   "source": [
    "Almacenaremos los datos en diccionarios."
   ]
  },
  {
   "cell_type": "code",
   "metadata": {
    "colab": {
     "base_uri": "https://localhost:8080/"
    },
    "id": "8NbEp5NquI-Y",
    "outputId": "82669137-067e-487c-a3b8-84c8895ec931",
    "ExecuteTime": {
     "end_time": "2025-01-29T10:30:57.244733Z",
     "start_time": "2025-01-29T10:30:50.542762Z"
    }
   },
   "source": [
    "for mensaje in datos['message']:\n",
    "  msg_hex = base64.b64decode(mensaje).hex().upper()\n",
    "  datos.loc[datos['message'] == mensaje, 'hexadecimal'] = msg_hex"
   ],
   "outputs": [],
   "execution_count": 60
  },
  {
   "cell_type": "code",
   "metadata": {
    "ExecuteTime": {
     "end_time": "2025-01-29T10:14:34.004744Z",
     "start_time": "2025-01-29T10:14:33.994984Z"
    }
   },
   "source": [
    "datos.head()"
   ],
   "outputs": [
    {
     "data": {
      "text/plain": [
       "        ts_kafka               message                    hexaecimal  \\\n",
       "0  1734667201534  oAANuYAVzS4ABLg3aB0=  A0000DB98015CD2E0004B837681D   \n",
       "1  1734667201534  kDQjSSgABjG4hW4fTbY=  9034234928000631B8856E1F4DB6   \n",
       "2  1734667201534          XTxUM/+DTw==                5D3C5433FF834F   \n",
       "3  1734667201534  kDQjShBRgxXDaCAWeDM=  9034234A10518315C36820167833   \n",
       "4  1734667201534  jTRV1fgjAAIASbigrIs=  8D3455D5F82300020049B8A0AC8B   \n",
       "\n",
       "                    hexadecimal  \n",
       "0  A0000DB98015CD2E0004B837681D  \n",
       "1  9034234928000631B8856E1F4DB6  \n",
       "2                5D3C5433FF834F  \n",
       "3  9034234A10518315C36820167833  \n",
       "4  8D3455D5F82300020049B8A0AC8B  "
      ],
      "text/html": [
       "<div>\n",
       "<style scoped>\n",
       "    .dataframe tbody tr th:only-of-type {\n",
       "        vertical-align: middle;\n",
       "    }\n",
       "\n",
       "    .dataframe tbody tr th {\n",
       "        vertical-align: top;\n",
       "    }\n",
       "\n",
       "    .dataframe thead th {\n",
       "        text-align: right;\n",
       "    }\n",
       "</style>\n",
       "<table border=\"1\" class=\"dataframe\">\n",
       "  <thead>\n",
       "    <tr style=\"text-align: right;\">\n",
       "      <th></th>\n",
       "      <th>ts_kafka</th>\n",
       "      <th>message</th>\n",
       "      <th>hexaecimal</th>\n",
       "      <th>hexadecimal</th>\n",
       "    </tr>\n",
       "  </thead>\n",
       "  <tbody>\n",
       "    <tr>\n",
       "      <th>0</th>\n",
       "      <td>1734667201534</td>\n",
       "      <td>oAANuYAVzS4ABLg3aB0=</td>\n",
       "      <td>A0000DB98015CD2E0004B837681D</td>\n",
       "      <td>A0000DB98015CD2E0004B837681D</td>\n",
       "    </tr>\n",
       "    <tr>\n",
       "      <th>1</th>\n",
       "      <td>1734667201534</td>\n",
       "      <td>kDQjSSgABjG4hW4fTbY=</td>\n",
       "      <td>9034234928000631B8856E1F4DB6</td>\n",
       "      <td>9034234928000631B8856E1F4DB6</td>\n",
       "    </tr>\n",
       "    <tr>\n",
       "      <th>2</th>\n",
       "      <td>1734667201534</td>\n",
       "      <td>XTxUM/+DTw==</td>\n",
       "      <td>5D3C5433FF834F</td>\n",
       "      <td>5D3C5433FF834F</td>\n",
       "    </tr>\n",
       "    <tr>\n",
       "      <th>3</th>\n",
       "      <td>1734667201534</td>\n",
       "      <td>kDQjShBRgxXDaCAWeDM=</td>\n",
       "      <td>9034234A10518315C36820167833</td>\n",
       "      <td>9034234A10518315C36820167833</td>\n",
       "    </tr>\n",
       "    <tr>\n",
       "      <th>4</th>\n",
       "      <td>1734667201534</td>\n",
       "      <td>jTRV1fgjAAIASbigrIs=</td>\n",
       "      <td>8D3455D5F82300020049B8A0AC8B</td>\n",
       "      <td>8D3455D5F82300020049B8A0AC8B</td>\n",
       "    </tr>\n",
       "  </tbody>\n",
       "</table>\n",
       "</div>"
      ]
     },
     "execution_count": 41,
     "metadata": {},
     "output_type": "execute_result"
    }
   ],
   "execution_count": 41
  },
  {
   "metadata": {},
   "cell_type": "markdown",
   "source": [
    "ModeS supports the decoding of following types of messages:\n",
    "\n",
    "DF4 / DF20: Altitude code\n",
    "\n",
    "DF5 / DF21: Identity code (squawk code)\n",
    "\n",
    "DF17 / DF18: Automatic Dependent Surveillance-Broadcast (ADS-B)\n",
    "\n",
    "TC=1-4 / BDS 0,8: Aircraft identification and category\n",
    "\n",
    "TC=5-8 / BDS 0,6: Surface position\n",
    "\n",
    "TC=9-18 / BDS 0,5: Airborne position\n",
    "\n",
    "TC=19 / BDS 0,9: Airborne velocity\n",
    "\n",
    "TC=28 / BDS 6,1: Airborne status [to be implemented]\n",
    "\n",
    "TC=29 / BDS 6,2: Target state and status information [to be implemented]\n",
    "\n",
    "TC=31 / BDS 6,5: Aircraft operational status [to be implemented]\n",
    "\n",
    "DF20 / DF21: Mode-S Comm-B messages\n",
    "\n",
    "BDS 1,0: Data link capability report\n",
    "\n",
    "BDS 1,7: Common usage GICB capability report\n",
    "\n",
    "BDS 2,0: Aircraft identification\n",
    "\n",
    "BDS 3,0: ACAS active resolution advisory\n",
    "\n",
    "BDS 4,0: Selected vertical intention\n",
    "\n",
    "BDS 4,4: Meteorological routine air report (experimental)\n",
    "\n",
    "BDS 4,5: Meteorological hazard report (experimental)\n",
    "\n",
    "BDS 5,0: Track and turn report\n",
    "\n",
    "BDS 6,0: Heading and speed report"
   ]
  },
  {
   "metadata": {
    "ExecuteTime": {
     "end_time": "2025-01-29T10:31:44.868384Z",
     "start_time": "2025-01-29T10:31:44.422868Z"
    }
   },
   "cell_type": "code",
   "source": [
    "# Los datos tienen registros de aviones, y la informacion esta separada en distintos typecodes\n",
    "# Lo primero es clasificar por DF\n",
    "\n",
    "datos_id = datos.copy()\n",
    "datos_id[\"DF\"] = datos[\"hexadecimal\"].map(pms.df)\n",
    "datos_id[\"ICAO\"] = datos[\"hexadecimal\"].map(pms.icao)\n",
    "datos_id[\"TYPECODE\"] = datos_id.apply(lambda x: pms.adsb.typecode(x[\"hexadecimal\"]) if x[\"DF\"] in [17, 18] else None, axis=1)\n",
    "datos_id[\"BDS\"] = datos_id.apply(lambda x: pms.bds.infer(x[\"hexadecimal\"]) if x[\"DF\"] in [20, 21] else None, axis=1)\n",
    "\n",
    "datos_id"
   ],
   "outputs": [
    {
     "data": {
      "text/plain": [
       "           ts_kafka               message                   hexadecimal  DF  \\\n",
       "0     1734667201534  oAANuYAVzS4ABLg3aB0=  A0000DB98015CD2E0004B837681D  20   \n",
       "1     1734667201534  kDQjSSgABjG4hW4fTbY=  9034234928000631B8856E1F4DB6  18   \n",
       "2     1734667201534          XTxUM/+DTw==                5D3C5433FF834F  11   \n",
       "3     1734667201534  kDQjShBRgxXDaCAWeDM=  9034234A10518315C36820167833  18   \n",
       "4     1734667201534  jTRV1fgjAAIASbigrIs=  8D3455D5F82300020049B8A0AC8B  17   \n",
       "...             ...                   ...                           ...  ..   \n",
       "8354  1734667796655          IAAAALRFCw==                20000000B4450B   4   \n",
       "8355  1734667796655          IAAAALRFCw==                20000000B4450B   4   \n",
       "8356  1734667796655  jTlkQ5kItjeQCBj8Xms=  8D3964439908B637900818FC5E6B  17   \n",
       "8357  1734667796655          IAAGM27mPA==                200006336EE63C   4   \n",
       "8358  1734667796655  kDQjTRBRgxXDmCDKjus=  9034234D10518315C39820CA8EEB  18   \n",
       "\n",
       "        ICAO  TYPECODE    BDS  \n",
       "0     AA5F41       NaN  BDS50  \n",
       "1     342349       5.0   None  \n",
       "2     3C5433       NaN   None  \n",
       "3     34234A       2.0   None  \n",
       "4     3455D5      31.0   None  \n",
       "...      ...       ...    ...  \n",
       "8354  342354       NaN   None  \n",
       "8355  342354       NaN   None  \n",
       "8356  396443      19.0   None  \n",
       "8357  346419       NaN   None  \n",
       "8358  34234D       2.0   None  \n",
       "\n",
       "[8359 rows x 7 columns]"
      ],
      "text/html": [
       "<div>\n",
       "<style scoped>\n",
       "    .dataframe tbody tr th:only-of-type {\n",
       "        vertical-align: middle;\n",
       "    }\n",
       "\n",
       "    .dataframe tbody tr th {\n",
       "        vertical-align: top;\n",
       "    }\n",
       "\n",
       "    .dataframe thead th {\n",
       "        text-align: right;\n",
       "    }\n",
       "</style>\n",
       "<table border=\"1\" class=\"dataframe\">\n",
       "  <thead>\n",
       "    <tr style=\"text-align: right;\">\n",
       "      <th></th>\n",
       "      <th>ts_kafka</th>\n",
       "      <th>message</th>\n",
       "      <th>hexadecimal</th>\n",
       "      <th>DF</th>\n",
       "      <th>ICAO</th>\n",
       "      <th>TYPECODE</th>\n",
       "      <th>BDS</th>\n",
       "    </tr>\n",
       "  </thead>\n",
       "  <tbody>\n",
       "    <tr>\n",
       "      <th>0</th>\n",
       "      <td>1734667201534</td>\n",
       "      <td>oAANuYAVzS4ABLg3aB0=</td>\n",
       "      <td>A0000DB98015CD2E0004B837681D</td>\n",
       "      <td>20</td>\n",
       "      <td>AA5F41</td>\n",
       "      <td>NaN</td>\n",
       "      <td>BDS50</td>\n",
       "    </tr>\n",
       "    <tr>\n",
       "      <th>1</th>\n",
       "      <td>1734667201534</td>\n",
       "      <td>kDQjSSgABjG4hW4fTbY=</td>\n",
       "      <td>9034234928000631B8856E1F4DB6</td>\n",
       "      <td>18</td>\n",
       "      <td>342349</td>\n",
       "      <td>5.0</td>\n",
       "      <td>None</td>\n",
       "    </tr>\n",
       "    <tr>\n",
       "      <th>2</th>\n",
       "      <td>1734667201534</td>\n",
       "      <td>XTxUM/+DTw==</td>\n",
       "      <td>5D3C5433FF834F</td>\n",
       "      <td>11</td>\n",
       "      <td>3C5433</td>\n",
       "      <td>NaN</td>\n",
       "      <td>None</td>\n",
       "    </tr>\n",
       "    <tr>\n",
       "      <th>3</th>\n",
       "      <td>1734667201534</td>\n",
       "      <td>kDQjShBRgxXDaCAWeDM=</td>\n",
       "      <td>9034234A10518315C36820167833</td>\n",
       "      <td>18</td>\n",
       "      <td>34234A</td>\n",
       "      <td>2.0</td>\n",
       "      <td>None</td>\n",
       "    </tr>\n",
       "    <tr>\n",
       "      <th>4</th>\n",
       "      <td>1734667201534</td>\n",
       "      <td>jTRV1fgjAAIASbigrIs=</td>\n",
       "      <td>8D3455D5F82300020049B8A0AC8B</td>\n",
       "      <td>17</td>\n",
       "      <td>3455D5</td>\n",
       "      <td>31.0</td>\n",
       "      <td>None</td>\n",
       "    </tr>\n",
       "    <tr>\n",
       "      <th>...</th>\n",
       "      <td>...</td>\n",
       "      <td>...</td>\n",
       "      <td>...</td>\n",
       "      <td>...</td>\n",
       "      <td>...</td>\n",
       "      <td>...</td>\n",
       "      <td>...</td>\n",
       "    </tr>\n",
       "    <tr>\n",
       "      <th>8354</th>\n",
       "      <td>1734667796655</td>\n",
       "      <td>IAAAALRFCw==</td>\n",
       "      <td>20000000B4450B</td>\n",
       "      <td>4</td>\n",
       "      <td>342354</td>\n",
       "      <td>NaN</td>\n",
       "      <td>None</td>\n",
       "    </tr>\n",
       "    <tr>\n",
       "      <th>8355</th>\n",
       "      <td>1734667796655</td>\n",
       "      <td>IAAAALRFCw==</td>\n",
       "      <td>20000000B4450B</td>\n",
       "      <td>4</td>\n",
       "      <td>342354</td>\n",
       "      <td>NaN</td>\n",
       "      <td>None</td>\n",
       "    </tr>\n",
       "    <tr>\n",
       "      <th>8356</th>\n",
       "      <td>1734667796655</td>\n",
       "      <td>jTlkQ5kItjeQCBj8Xms=</td>\n",
       "      <td>8D3964439908B637900818FC5E6B</td>\n",
       "      <td>17</td>\n",
       "      <td>396443</td>\n",
       "      <td>19.0</td>\n",
       "      <td>None</td>\n",
       "    </tr>\n",
       "    <tr>\n",
       "      <th>8357</th>\n",
       "      <td>1734667796655</td>\n",
       "      <td>IAAGM27mPA==</td>\n",
       "      <td>200006336EE63C</td>\n",
       "      <td>4</td>\n",
       "      <td>346419</td>\n",
       "      <td>NaN</td>\n",
       "      <td>None</td>\n",
       "    </tr>\n",
       "    <tr>\n",
       "      <th>8358</th>\n",
       "      <td>1734667796655</td>\n",
       "      <td>kDQjTRBRgxXDmCDKjus=</td>\n",
       "      <td>9034234D10518315C39820CA8EEB</td>\n",
       "      <td>18</td>\n",
       "      <td>34234D</td>\n",
       "      <td>2.0</td>\n",
       "      <td>None</td>\n",
       "    </tr>\n",
       "  </tbody>\n",
       "</table>\n",
       "<p>8359 rows × 7 columns</p>\n",
       "</div>"
      ]
     },
     "execution_count": 62,
     "metadata": {},
     "output_type": "execute_result"
    }
   ],
   "execution_count": 62
  },
  {
   "cell_type": "code",
   "metadata": {
    "colab": {
     "base_uri": "https://localhost:8080/",
     "height": 104
    },
    "id": "sO3Wk2zDbtzE",
    "outputId": "08eefe21-ec87-4629-f794-b6362deac8c7",
    "ExecuteTime": {
     "end_time": "2025-01-29T10:00:30.503396Z",
     "start_time": "2025-01-29T10:00:30.495696Z"
    }
   },
   "source": [
    "\n",
    "msg = '9034234928000631B8856E1F4DB6'    # Convert grey code to integer\n",
    "\n",
    "\n",
    "pms.typecode(msg)\n",
    "pms.df(msg)\n",
    "\n",
    "pms.adsb.surface_velocity(msg)\n",
    "\n"
   ],
   "outputs": [
    {
     "data": {
      "text/plain": [
       "(None, None, 0, 'GS')"
      ]
     },
     "execution_count": 34,
     "metadata": {},
     "output_type": "execute_result"
    }
   ],
   "execution_count": 34
  },
  {
   "cell_type": "code",
   "metadata": {
    "id": "WFJ3TurNbv3-",
    "ExecuteTime": {
     "end_time": "2025-01-29T10:27:49.921575Z",
     "start_time": "2025-01-29T10:27:49.913336Z"
    }
   },
   "source": "pms.tell(\"A800139D8031DB36FFFCDA676570\")",
   "outputs": [
    {
     "name": "stdout",
     "output_type": "stream",
     "text": [
      "                     Message: A800139D8031DB36FFFCDA676570 \n",
      "                ICAO address: 4B18F5 \n",
      "             Downlink Format: 21 \n",
      "                    Protocol: Mode-S Comm-B identity reply \n",
      "                 Squawk code: 6257 \n",
      "                         BDS: BDS50 (Track and turn report) \n",
      "                  Roll angle: 0.17578125 degrees\n",
      "                 Track angle: 41.66015625 degrees\n",
      "                  Track rate: -0.03125 degree/second\n",
      "                Ground speed: 438 knots\n",
      "               True airspeed: 436 knots\n"
     ]
    }
   ],
   "execution_count": 57
  },
  {
   "metadata": {},
   "cell_type": "code",
   "outputs": [],
   "execution_count": null,
   "source": ""
  }
 ],
 "metadata": {
  "colab": {
   "provenance": []
  },
  "kernelspec": {
   "display_name": "Python 3 (ipykernel)",
   "language": "python",
   "name": "python3"
  },
  "language_info": {
   "codemirror_mode": {
    "name": "ipython",
    "version": 3
   },
   "file_extension": ".py",
   "mimetype": "text/x-python",
   "name": "python",
   "nbconvert_exporter": "python",
   "pygments_lexer": "ipython3",
   "version": "3.12.3"
  }
 },
 "nbformat": 4,
 "nbformat_minor": 4
}
