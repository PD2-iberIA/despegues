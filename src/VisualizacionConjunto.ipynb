{
 "cells": [
  {
   "cell_type": "markdown",
   "id": "15f5c93a5d41daee",
   "metadata": {},
   "source": [
    "# Entrega 1: Visualización conjunto de datos"
   ]
  },
  {
   "cell_type": "markdown",
   "id": "1fe423f6c02b7150",
   "metadata": {},
   "source": [
    " Contexto: deseamos predecir cuánto tiempo estarán en tierra aquellos aviones en puntos de espera, es\n",
    " decir, cuánto tiempo transcurre entre el punto de espera y el despegue. Por ahora, en lugar de comprobar\n",
    " puntos de espera consideraremos tiempo desde la última vez que está parado (obviamente, en tierra) hasta\n",
    " que está en el aire."
   ]
  },
  {
   "cell_type": "markdown",
   "id": "2bade315116a5cc2",
   "metadata": {},
   "source": [
    "El conjunto de esta entrega corresponde a los registros de los vuelos de la primera semana.\n",
    "Que se encuentran en un csv y están codificados."
   ]
  },
  {
   "cell_type": "markdown",
   "id": "48db3089eb7a9239",
   "metadata": {},
   "source": [
    "Entonces, lo primero que haremos será leer el csv y guardar los datos en la carpeeta datos"
   ]
  },
  {
   "cell_type": "code",
   "execution_count": 2,
   "id": "3ce5259902f7d4c6",
   "metadata": {
    "ExecuteTime": {
     "end_time": "2025-02-12T09:30:02.546598Z",
     "start_time": "2025-02-12T09:29:25.186121Z"
    }
   },
   "outputs": [
    {
     "name": "stdout",
     "output_type": "stream",
     "text": [
      "        ts_kafka               message\n",
      "0  1733011203260  jUoZIupCiFgBPAjykJ4=\n",
      "1  1733011203260  oAAUllilYmBIYPDDtec=\n",
      "2  1733011203260  oAAZEMMJ5TEgP//kyUg=\n",
      "3  1733011203260  jQIBK/gjAAIASbh2gt8=\n",
      "4  1733011203260          XTRCE1QV9w==\n"
     ]
    }
   ],
   "source": [
    "from preprocess.reader import read_data\n",
    "\n",
    "TAR_PATH = \"C:/Users/bryan/PycharmProjects/despegues/src/202412010000_202412072359.tar\"\n",
    "FILE_NAME = \"202412010000_202412072359.csv\"\n",
    "read_data(TAR_PATH, FILE_NAME) # Se aplica paralelismo, sim embargo, sigue tardando un par de horas"
   ]
  },
  {
   "cell_type": "markdown",
   "id": "6c0c2037dad6dc18",
   "metadata": {},
   "source": [
    "Ahora los datos ya se encuentran procesados y en parquets (para observar como funciona por dentro recomendamos ver)"
   ]
  },
  {
   "cell_type": "markdown",
   "id": "ab0843e1c500b7bf",
   "metadata": {},
   "source": [
    "Leeremos los datos parquets y los almazenamos en dataframes"
   ]
  },
  {
   "cell_type": "code",
   "execution_count": null,
   "id": "65455e8ca4842772",
   "metadata": {},
   "outputs": [],
   "source": [
    "# Codigo para leer todo el conjunto y hacer concat\n",
    "datos = ...\n",
    "datos"
   ]
  },
  {
   "cell_type": "code",
   "execution_count": null,
   "id": "5b88634a2ba9325e",
   "metadata": {},
   "outputs": [],
   "source": [
    "# Codigo para separar por semanas"
   ]
  },
  {
   "cell_type": "markdown",
   "id": "14fab10fc0e84d3",
   "metadata": {},
   "source": [
    "## Ejercicio 1 Con los datos proporcionados, genera visualizaciones que permitan entender el conjunto de datos. \n",
    "\n",
    "En particular,\n",
    "\n",
    " (a) tráfico aéreo por horas, distinguiendo aviones en tierra y en el aire;\n",
    "\n",
    " (b) distribución de los tiempos de espera\n",
    "\n",
    " Histograma para ver cómo se distribuyen los tiempos de espera en general.\n",
    " Boxplot para identificar la mediana, los cuartiles y posibles valores atípicos.\n",
    " Mapa de calor para ver qué horas del día tienen mayor tiempo de espera.\n",
    "\n",
    " (c) (opcional) completa con otras visualizaciones que consideres interesantes para el problema pro\n",
    "puesto;\n",
    "\n",
    " (d) (opcional) filtra, según la gráfica, por días, por franjas horarias, por vuelos, por tipo de avión,\n",
    " por pistas, etc."
   ]
  },
  {
   "cell_type": "code",
   "execution_count": null,
   "id": "f260a574c31704a3",
   "metadata": {
    "ExecuteTime": {
     "end_time": "2025-02-06T15:37:11.119174Z",
     "start_time": "2025-02-06T15:37:10.745916Z"
    }
   },
   "outputs": [],
   "source": [
    "from visualization import dash\n",
    "from visualization import maps\n",
    "\n",
    "# codido para visualizar"
   ]
  },
  {
   "cell_type": "markdown",
   "id": "873bd1ae1732cae6",
   "metadata": {},
   "source": [
    " ## Ejercicio 2 Con los datos proporcionados, visualiza la información en un mapa.\n",
    " \n",
    " En concreto,\n",
    "\n",
    " (a) sitúa las pistas;\n",
    "\n",
    " (b) sitúa los aviones;\n",
    "\n",
    " (c) indica si están en tierra o en el aire;\n",
    "\n",
    " (d) (opcional) indica dirección;\n",
    "\n",
    " (e) (opcional) indica velocidad;\n",
    "\n",
    " (f) (opcional) indica trayectorias por avión y vuelo\n"
   ]
  },
  {
   "cell_type": "code",
   "execution_count": null,
   "id": "c02494de",
   "metadata": {},
   "outputs": [],
   "source": [
    "from preprocess.dataframe_processor import DataframeProcessor\n",
    "from visualization.maps import Maps"
   ]
  },
  {
   "cell_type": "markdown",
   "id": "a1515070",
   "metadata": {},
   "source": [
    "Para visualizar la información en mapas, lo primero que haremos es eliminar de los datos aquellos aviones que consideramos \"ouliers\" siguiendo el siguiente criterio:\n",
    "\n",
    "- `Un vuelo es outlier si recorre una distancia mayor a 200km en menos de 1 minuto.`"
   ]
  },
  {
   "cell_type": "code",
   "execution_count": null,
   "id": "58cf9df4c9655c8c",
   "metadata": {},
   "outputs": [],
   "source": [
    "df = DataframeProcessor.removeOutlierFlights(datos)"
   ]
  },
  {
   "cell_type": "markdown",
   "id": "8f22e946",
   "metadata": {},
   "source": [
    "### 1. Mapa de dispersión de los estados de vuelo\n",
    "\n",
    "En este mapa se posicionan todos los mensajes detectados en un periodo de tiempo determinado, permitiendo distinguir si la aeronave está __en tierra (on-ground)__ o __en el aire (airborne)__. Haciendo hover sobre los puntos se puede observar información adicional (ICAO, Callsign, etc.). Asimismo, se posicionan el __radar__ y las cuatro __pistas__ del aeropuerto. Por lo tanto, se trata de una primera aproximación para observar el tráfico aéreo."
   ]
  },
  {
   "cell_type": "code",
   "execution_count": null,
   "id": "657ca6d2",
   "metadata": {},
   "outputs": [],
   "source": [
    "# PARA ESTE MAPA JAVI REDUJO EL NÚMERO DE PUNTOS QUE SE MUESTRAN PARA QUE NO HAYA DEMASIADOS PERO NO TENGO EL CÓDIGO\n",
    "df_pos = DataframeProcessor.getPositions(df)\n",
    "m = Maps.positionsScatterMap(df_pos)\n",
    "m"
   ]
  },
  {
   "cell_type": "code",
   "execution_count": null,
   "id": "71a5d8a0",
   "metadata": {},
   "outputs": [],
   "source": [
    "# PARA GUARDAR ESTOS MAPAS COMO HTML\n",
    "m.save(\"nombre.html\")"
   ]
  },
  {
   "cell_type": "markdown",
   "id": "a2e7e085",
   "metadata": {},
   "source": [
    "### 2. Mapa de calor\n",
    "\n",
    "Esta visualización deriva de la anterior, se trata de un mapa de calor animado que permite monitorizar la densidad de mensajes en ventanas de tiempo muy reducidas (hemos fijado los frames a cinco minutos). De este modo, podemos observar el tráfico aéreo de forma mucho más precisa y en contexto. Se incluyen tanto las señales emitidas por aeronaves situadas tanto en tierra como en el aire."
   ]
  },
  {
   "cell_type": "code",
   "execution_count": null,
   "id": "41e8266c",
   "metadata": {},
   "outputs": [],
   "source": [
    "df_pos = DataframeProcessor.getPositions(df)\n",
    "m = Maps.positionsHeatMap(df_pos)\n",
    "m"
   ]
  },
  {
   "cell_type": "markdown",
   "id": "abbc8c84",
   "metadata": {},
   "source": [
    "### 3. Trayectorias por tipo de avión\n",
    "\n",
    "El siguiente mapa permite visualizar las __trayectorias__ de las aeronaves por ICAO e identificador de vuelo distinguiendo por categoría de turbulencia. Asimismo, permite la opción de filtrar las trayectorias por despegues, aterrizajes y otros vuelos ajenos al aeropuerto. Es preciso indicar que las trayectorias se han generalizado a rectas con la finalidad de poder abarcar ventanas temporales más grandes. El punto en el final de uno de los extremos indica la __dirección__ del vuelo."
   ]
  },
  {
   "cell_type": "code",
   "execution_count": null,
   "id": "365fbe9f",
   "metadata": {},
   "outputs": [],
   "source": [
    "df_pos = DataframeProcessor.getFlightsInfo(df)\n",
    "m = Maps.trajectoriesMap(df_pos)\n",
    "m"
   ]
  },
  {
   "cell_type": "markdown",
   "id": "bc129a3b",
   "metadata": {},
   "source": [
    "### 4. Trayectorias con velocidad\n",
    "\n",
    "POR COMPLETAR"
   ]
  },
  {
   "cell_type": "code",
   "execution_count": null,
   "id": "cb274815",
   "metadata": {},
   "outputs": [],
   "source": []
  }
 ],
 "metadata": {
  "kernelspec": {
   "display_name": ".venv",
   "language": "python",
   "name": "python3"
  },
  "language_info": {
   "codemirror_mode": {
    "name": "ipython",
    "version": 3
   },
   "file_extension": ".py",
   "mimetype": "text/x-python",
   "name": "python",
   "nbconvert_exporter": "python",
   "pygments_lexer": "ipython3",
   "version": "3.12.3"
  }
 },
 "nbformat": 4,
 "nbformat_minor": 5
}
