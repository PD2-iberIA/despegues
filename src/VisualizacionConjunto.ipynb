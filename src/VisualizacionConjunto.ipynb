{
 "cells": [
  {
   "cell_type": "markdown",
   "id": "15f5c93a5d41daee",
   "metadata": {},
   "source": [
    "# Entrega 1: Visualización del conjunto de datos"
   ]
  },
  {
   "cell_type": "markdown",
   "id": "1fe423f6c02b7150",
   "metadata": {},
   "source": [
    " Contexto: deseamos predecir cuánto tiempo estarán en tierra aquellos aviones en puntos de espera, es\n",
    " decir, cuánto tiempo transcurre entre el punto de espera y el despegue. Por ahora, en lugar de comprobar\n",
    " puntos de espera consideraremos tiempo desde la última vez que está parado (obviamente, en tierra) hasta\n",
    " que está en el aire."
   ]
  },
  {
   "cell_type": "markdown",
   "id": "48db3089eb7a9239",
   "metadata": {},
   "source": [
    "## Lectura y procesamiento de los datos\n",
    "\n",
    "El conjunto de datos de esta primera entrega corresponde a los registros de los vuelos de una semana. Estos se encuentran en un archivo csv y están codificados.\n",
    "\n",
    "Lo primero que haremos será leer el csv (se encuentra comprimido en un archivo tar), procesar y guardar los almacenar los resultados en la carpeta datos:"
   ]
  },
  {
   "cell_type": "code",
   "execution_count": 2,
   "id": "3ce5259902f7d4c6",
   "metadata": {
    "ExecuteTime": {
     "end_time": "2025-02-12T09:30:02.546598Z",
     "start_time": "2025-02-12T09:29:25.186121Z"
    }
   },
   "outputs": [
    {
     "name": "stdout",
     "output_type": "stream",
     "text": [
      "        ts_kafka               message\n",
      "0  1733011203260  jUoZIupCiFgBPAjykJ4=\n",
      "1  1733011203260  oAAUllilYmBIYPDDtec=\n",
      "2  1733011203260  oAAZEMMJ5TEgP//kyUg=\n",
      "3  1733011203260  jQIBK/gjAAIASbh2gt8=\n",
      "4  1733011203260          XTRCE1QV9w==\n"
     ]
    }
   ],
   "source": [
    "from preprocess.reader import read_data\n",
    "\n",
    "TAR_PATH = \"C:/Users/bryan/PycharmProjects/despegues/src/202412010000_202412072359.tar\"\n",
    "FILE_NAME = \"202412010000_202412072359.csv\"\n",
    "read_data(TAR_PATH, FILE_NAME) # Se aplica paralelismo, sim embargo, sigue tardando un par de horas"
   ]
  },
  {
   "cell_type": "markdown",
   "id": "ab0843e1c500b7bf",
   "metadata": {},
   "source": [
    "Ahora los datos ya se encuentran procesados y en formato parquet (para observar como funciona por dentro recomendamos ver los distintos módulos del proyecto).\n",
    "\n",
    "A continuación leemos los archivos parquet y los almacenamos en DataFrames de Pandas:"
   ]
  },
  {
   "cell_type": "code",
   "execution_count": null,
   "id": "65455e8ca4842772",
   "metadata": {
    "ExecuteTime": {
     "end_time": "2025-02-23T07:54:04.862997Z",
     "start_time": "2025-02-23T07:32:01.363196Z"
    }
   },
   "outputs": [],
   "source": [
    "import pandas as pd\n",
    "import glob\n",
    "import plotly.express as px\n",
    "from preprocess.utilities import stringToNan\n",
    "\n",
    "# Ruta de los archivos parquet\n",
    "file_pattern = \"./preprocess/data/part_*.parquet\"\n",
    "output_file = \"./preprocess/data/primeraSemanaDash.parquet\"\n",
    "\n",
    "# Obtener lista de archivos parquet\n",
    "file_list = sorted(glob.glob(file_pattern))\n",
    "\n",
    "# Seleccionar solo las columnas necesarias\n",
    "selected_columns = [\n",
    "    \"Timestamp (date)\", \"ICAO\", \"Callsign\", \"Flight status\", \"Speed\",\n",
    "    \"Altitude (ft)\", \"lat\", \"lon\", \"Typecode\", \"TurbulenceCategory\", \"Downlink Format\"\n",
    "]\n",
    "\n",
    "# Cargar, filtrar y limpiar datos en un bucle\n",
    "df_list = [stringToNan(pd.read_parquet(file)[selected_columns]) for file in file_list]\n",
    "\n",
    "# Concatenar todos los DataFrames\n",
    "df = pd.concat(df_list, ignore_index=True)\n",
    "\n",
    "# Convertir Timestamp a datetime\n",
    "df['Timestamp (date)'] = pd.to_datetime(df['Timestamp (date)'])\n",
    "\n",
    "# Extraer hora y día de la semana\n",
    "df['hour'] = df['Timestamp (date)'].dt.floor('h')\n",
    "df['day_of_week'] = df['Timestamp (date)'].dt.strftime('%a')"
   ]
  },
  {
   "cell_type": "code",
   "execution_count": 3,
   "id": "5b88634a2ba9325e",
   "metadata": {
    "ExecuteTime": {
     "end_time": "2025-02-23T07:57:55.310843Z",
     "start_time": "2025-02-23T07:54:05.018603Z"
    }
   },
   "outputs": [
    {
     "name": "stdout",
     "output_type": "stream",
     "text": [
      "Archivo parquet generado y guardado.\n"
     ]
    }
   ],
   "source": [
    "# Guardar el DataFrame combinado en un archivo Parquet\n",
    "save_file = \"./data/primeraSemanaDash.parquet\"\n",
    "df.to_parquet(save_file)\n",
    "print(\"Archivo parquet generado y guardado.\")"
   ]
  },
  {
   "cell_type": "markdown",
   "id": "e3f40e8b8b93ec42",
   "metadata": {},
   "source": [
    "LEER SOLO ESTE"
   ]
  },
  {
   "cell_type": "code",
   "execution_count": 1,
   "id": "bba0569868dce4d2",
   "metadata": {},
   "outputs": [],
   "source": [
    "import pandas as pd\n",
    "\n",
    "df = pd.read_parquet(\"./data/primeraSemanaDash.parquet\", engine=\"pyarrow\")"
   ]
  },
  {
   "cell_type": "markdown",
   "id": "14fab10fc0e84d3",
   "metadata": {},
   "source": [
    "## Ejercicio 1 Con los datos proporcionados, genera visualizaciones que permitan entender el conjunto de datos. \n",
    "\n",
    "En particular,\n",
    "\n",
    " (a) tráfico aéreo por horas, distinguiendo aviones en tierra y en el aire;\n",
    "\n",
    " (b) distribución de los tiempos de espera\n",
    "\n",
    " Histograma para ver cómo se distribuyen los tiempos de espera en general.\n",
    " Boxplot para identificar la mediana, los cuartiles y posibles valores atípicos.\n",
    " Mapa de calor para ver qué horas del día tienen mayor tiempo de espera.\n",
    "\n",
    " (c) (opcional) completa con otras visualizaciones que consideres interesantes para el problema pro\n",
    "puesto;\n",
    "\n",
    " (d) (opcional) filtra, según la gráfica, por días, por franjas horarias, por vuelos, por tipo de avión,\n",
    " por pistas, etc."
   ]
  },
  {
   "cell_type": "code",
   "execution_count": null,
   "id": "51eb1a98",
   "metadata": {},
   "outputs": [],
   "source": [
    "import pandas as pd\n",
    "from preprocess.dataframe_processor import DataframeProcessor\n",
    "import preprocess.utilities as ut"
   ]
  },
  {
   "cell_type": "code",
   "execution_count": null,
   "id": "53a40510",
   "metadata": {},
   "outputs": [],
   "source": [
    " # Conseguimos el df con todos los datos necesarios->flight status en todos los callsign\n",
    "df1 = DataframeProcessor.getVelocities(df)\n",
    "df2 = DataframeProcessor.getFlights(df)\n",
    "\n",
    "df1_s = df1.sort_values([\"Timestamp (date)\", \"ICAO\"])\n",
    "df2_s = df2.sort_values([\"Timestamp (date)\", \"ICAO\"])\n",
    "\n",
    "t = pd.Timedelta('10 minute')\n",
    "dff = pd.merge_asof(df1_s, df2_s, on=\"Timestamp (date)\", by=\"ICAO\", direction=\"nearest\", tolerance=t)\n",
    "\n",
    "# Ensure timestamp is in datetime format\n",
    "dff['Timestamp (date)'] = pd.to_datetime(dff['Timestamp (date)'])\n",
    "\n",
    "# Extract hour\n",
    "dff = ut.extractHour(dff)\n",
    "\n",
    "# Day of the week\n",
    "dff = ut.extractDaysOfTheWeek(dff)\n",
    "\n",
    "df_status = df.groupby(['hour', 'Flight status', 'Callsign']).size().unstack(fill_value=0)\n",
    "# Sumammos el número de vuelos, no el número de mensajes\n",
    "df_status['count_nonzero'] = (df_status.ne(0)).sum(axis=1)\n",
    "df_status = df_status.reset_index()\n",
    "\n",
    "# Summarize data: count_nonzero per hour divided by Flight status\n",
    "df_status = df_status.groupby(['hour', 'Flight status'])['count_nonzero'].sum().reset_index()"
   ]
  },
  {
   "cell_type": "code",
   "execution_count": null,
   "id": "f260a574c31704a3",
   "metadata": {
    "ExecuteTime": {
     "end_time": "2025-02-23T08:07:41.222759Z",
     "start_time": "2025-02-23T08:07:19.152115Z"
    }
   },
   "outputs": [],
   "source": [
    "# no ejecutar esta\n",
    "traffic_by_hour = df.groupby(['hour', 'Flight status']).size().unstack(fill_value=0)\n",
    "traffic_by_hour_reset = traffic_by_hour.reset_index()\n",
    "traffic_melted = traffic_by_hour_reset.melt(id_vars=['hour'], var_name='Flight Status', value_name='Count')"
   ]
  },
  {
   "cell_type": "code",
   "execution_count": null,
   "id": "8ff557a7ff77a07e",
   "metadata": {
    "ExecuteTime": {
     "end_time": "2025-02-23T08:07:42.866743Z",
     "start_time": "2025-02-23T08:07:42.360700Z"
    }
   },
   "outputs": [],
   "source": [
    "# Create interactive stacked bar chart using Plotly\n",
    "fig_bar = px.bar(\n",
    "    df_status,\n",
    "    y='hour',\n",
    "    x='Count',\n",
    "    color='Flight Status',\n",
    "    title=\"Hourly Air Traffic (On-Ground vs Airborne)\",\n",
    "    labels={'hour': 'Hour', 'Count': 'Number of Flights'},\n",
    "    barmode='stack'\n",
    ")\n",
    "\n",
    "# Update layout for better visualization\n",
    "fig_bar.update_layout(\n",
    "    xaxis_title=\"Hour\",\n",
    "    yaxis_title=\"Number of Flights\",\n",
    "    xaxis_tickangle=-45,\n",
    "    legend_title=\"Flight Status\"\n",
    ")\n",
    "\n",
    "# Show interactive chart\n",
    "fig_bar.show()"
   ]
  },
  {
   "cell_type": "markdown",
   "id": "793df46438fd1c97",
   "metadata": {},
   "source": [
    "1.b distribución de los tiempos de espera"
   ]
  },
  {
   "cell_type": "code",
   "execution_count": null,
   "id": "8ba20db594087f03",
   "metadata": {
    "ExecuteTime": {
     "end_time": "2025-02-23T08:44:44.155978Z",
     "start_time": "2025-02-23T08:44:44.147623Z"
    }
   },
   "outputs": [],
   "source": [
    "from preprocess.dataframe_processor import DataframeProcessor\n",
    "\n",
    "df1 = DataframeProcessor.getVelocities(df)\n",
    "df2 = DataframeProcessor.getFlights(df)\n",
    "\n",
    "df1_s = df1.sort_values([\"Timestamp (date)\", \"ICAO\"])\n",
    "df2_s = df2.sort_values([\"Timestamp (date)\", \"ICAO\"])\n",
    "\n",
    "t = pd.Timedelta('10 minute')\n",
    "dff = pd.merge_asof(df1_s, df2_s, on=\"Timestamp (date)\", by=\"ICAO\", direction=\"nearest\", tolerance=t)"
   ]
  },
  {
   "cell_type": "code",
   "execution_count": null,
   "id": "1e38c196423bcc9d",
   "metadata": {},
   "outputs": [],
   "source": [
    "# Ensure data is sorted by Flight ID and timestamp\n",
    "dff = dff.sort_values(by=[\"Callsign\", \"Timestamp (date)\"])\n",
    "\n",
    "# Separate on-ground and airborne events\n",
    "on_ground = dff[(dff[\"Flight status\"] == \"on-ground\") & (dff[\"Speed\"]==0)].groupby(\"Callsign\")[\"Timestamp (date)\"].min()\n",
    "airborne = dff[dff[\"Flight status\"] == \"airborne\"].groupby(\"Callsign\")[\"Timestamp (date)\"].min()"
   ]
  },
  {
   "cell_type": "code",
   "execution_count": null,
   "id": "99cda5d2128c6a75",
   "metadata": {},
   "outputs": [],
   "source": [
    "on_ground = pd.DataFrame(on_ground)\n",
    "on_ground.columns = [\"ts ground\"]"
   ]
  },
  {
   "cell_type": "code",
   "execution_count": null,
   "id": "c4077704e4c39131",
   "metadata": {},
   "outputs": [],
   "source": [
    "airborne = pd.DataFrame(airborne)\n",
    "airborne.columns = [\"ts airborne\"]"
   ]
  },
  {
   "cell_type": "code",
   "execution_count": null,
   "id": "1ad018733f200617",
   "metadata": {},
   "outputs": [],
   "source": [
    "df_wait_times = on_ground.merge(airborne, how=\"inner\", on=\"Callsign\")\n",
    "df_wait_times = df_wait_times[df_wait_times[\"ts airborne\"] > df_wait_times[\"ts ground\"]]\n",
    "df_wait_times[\"Wait time\"] = df_wait_times[\"ts airborne\"] - df_wait_times[\"ts ground\"]\n",
    "df_wait_times[\"Wait time (s)\"] = df_wait_times[\"Wait time\"].dt.total_seconds()\n",
    "df_wait_times['day_of_week'] = df_wait_times['ts ground'].dt.strftime('%a')"
   ]
  },
  {
   "cell_type": "code",
   "execution_count": null,
   "id": "e285364a675cfc34",
   "metadata": {},
   "outputs": [],
   "source": [
    "# Create a histogram\n",
    "fig_hist = px.histogram(df_wait_times, x=\"Wait time (s)\", nbins=10, title=\"Wait Time Distribution\")\n",
    "\n",
    "# Show the plot\n",
    "fig_hist.show()"
   ]
  },
  {
   "cell_type": "code",
   "execution_count": null,
   "id": "f3289cb19704e2a2",
   "metadata": {},
   "outputs": [],
   "source": [
    "# Crear un boxplot\n",
    "fig_box = px.box(df_wait_times, y=\"Wait time (s)\", title=\"Boxplot de Valores\")  # points=\"all\" muestra los valores atípicos\n",
    "\n",
    "# Mostrar la gráfica\n",
    "fig_box.show()"
   ]
  },
  {
   "cell_type": "markdown",
   "id": "347f7b25392e6a38",
   "metadata": {},
   "source": [
    "MAPAS DE CALOR POR HORAS DEL DIA"
   ]
  },
  {
   "cell_type": "code",
   "execution_count": null,
   "id": "267b952e1a096566",
   "metadata": {},
   "outputs": [],
   "source": [
    "# Extraer fecha y hora\n",
    "df_wait_times[\"Date\"] = df_wait_times[\"ts ground\"].dt.date\n",
    "df_wait_times[\"Hour\"] = df_wait_times[\"ts ground\"].dt.hour\n",
    "\n",
    "# Crear tabla pivote para el heatmap\n",
    "heatmap_data = df_wait_times.pivot_table(index=\"Date\", columns=\"Hour\", values=\"Wait time (s)\", aggfunc=\"mean\")\n",
    "\n",
    "# Crear el mapa de calor con Plotly\n",
    "fig_heatmap = px.imshow(\n",
    "    heatmap_data.values,\n",
    "    labels=dict(x=\"Hour\", y=\"Date\", color=\"Tiempo de espera (s)\"),\n",
    "    x=heatmap_data.columns,\n",
    "    y=heatmap_data.index,\n",
    "    color_continuous_scale=\"RdYlGn_r\",\n",
    "    title=\"Mapa de Calor del Tiempo de Espera por Hora y Día del Mes\"\n",
    ")\n",
    "\n",
    "# Mostrar el gráfico\n",
    "fig_heatmap.show()\n"
   ]
  },
  {
   "cell_type": "code",
   "execution_count": null,
   "id": "5e0f03b6b387b740",
   "metadata": {},
   "outputs": [],
   "source": [
    "# Gráfica por horas de aviones en tierra y aterrizados\n",
    "def graph_hourly_flight_status(df):\n",
    "    \"\"\"\n",
    "    Generates an interactive stacked bar chart showing the hourly distribution of flights\n",
    "    based on their status (e.g., on-ground or airborne).\n",
    "\n",
    "    Args:\n",
    "        df (pd.DataFrame): A DataFrame containing flight data with at least two columns:\n",
    "            - 'Timestamp (date)': Datetime column representing flight event timestamps.\n",
    "            - 'Flight status': Categorical column indicating the flight's status.\n",
    "\n",
    "    Returns:\n",
    "        plotly.graph_objects.Figure: A Plotly figure object displaying the stacked bar chart.\n",
    "    \"\"\"\n",
    "    # Ensure timestamp is in datetime format\n",
    "    df['Timestamp (date)'] = pd.to_datetime(df['Timestamp (date)'])\n",
    "\n",
    "    # Extract hour\n",
    "    df['hour'] = df['Timestamp (date)'].dt.floor('H')\n",
    "\n",
    "    # Group by hour and flight status\n",
    "    traffic_by_hour = df.groupby(['hour', 'Flight status']).size().unstack(fill_value=0)\n",
    "\n",
    "    # Reset index for plotting\n",
    "    traffic_by_hour_reset = traffic_by_hour.reset_index()\n",
    "\n",
    "    # Melt the DataFrame for Plotly\n",
    "    traffic_melted = traffic_by_hour_reset.melt(id_vars=['hour'], var_name='Flight Status', value_name='Count')\n",
    "\n",
    "    # Create interactive stacked bar chart using Plotly\n",
    "    fig = px.bar(\n",
    "        traffic_melted,\n",
    "        y='hour',\n",
    "        x='Count',\n",
    "        color='Flight Status',\n",
    "        title=\"Hourly Air Traffic (On-Ground vs Airborne)\",\n",
    "        labels={'hour': 'Hour', 'Count': 'Number of Flights'},\n",
    "        barmode='stack'\n",
    "    )\n",
    "\n",
    "    # Update layout for better visualization\n",
    "    fig.update_layout(\n",
    "        xaxis_title=\"Hour\",\n",
    "        yaxis_title=\"Number of Flights\",\n",
    "        xaxis_tickangle=-45,\n",
    "        legend_title=\"Flight Status\"\n",
    "    )\n",
    "\n",
    "    return fig\n",
    "\n",
    "# Sacar df de los tiempos de espera\n",
    "def df_wait_times(df):\n",
    "    # Extraemos las columnas necesarias y creamos un df nuevo\n",
    "    df1 = DataframeProcessor.getVelocities(df)\n",
    "    df2 = DataframeProcessor.getFlights(df)\n",
    "\n",
    "    df1_s = df1.sort_values([\"Timestamp (date)\", \"ICAO\"])\n",
    "    df2_s = df2.sort_values([\"Timestamp (date)\", \"ICAO\"])\n",
    "\n",
    "    t = pd.Timedelta('10 minute')\n",
    "    dff = pd.merge_asof(df1_s, df2_s, on=\"Timestamp (date)\", by=\"ICAO\", direction=\"nearest\", tolerance=t)\n",
    "\n",
    "    # Ensure data is sorted by Flight ID and timestamp\n",
    "    dff = dff.sort_values(by=[\"Callsign\", \"Timestamp (date)\"])\n",
    "\n",
    "    # Separate on-ground and airborne events\n",
    "    on_ground = dff[(dff[\"Flight status\"] == \"on-ground\") & (dff[\"Speed\"]==0)].groupby(\"Callsign\")[\"Timestamp (date)\"].min()\n",
    "    airborne = dff[dff[\"Flight status\"] == \"airborne\"].groupby(\"Callsign\")[\"Timestamp (date)\"].min()\n",
    "\n",
    "    # Create new dataframes and rename timestamp columns\n",
    "    on_ground = pd.DataFrame(on_ground)\n",
    "    on_ground.columns = [\"ts ground\"]\n",
    "\n",
    "    airborne = pd.DataFrame(airborne)\n",
    "    airborne.columns = [\"ts airborne\"]\n",
    "\n",
    "    # Merge them into a new dataframe and extract the waiting seconds\n",
    "    df_wait_times = on_ground.merge(airborne, how=\"inner\", on=\"Callsign\")\n",
    "    df_wait_times = df_wait_times[df_wait_times[\"ts airborne\"] > df_wait_times[\"ts ground\"]]\n",
    "    df_wait_times[\"Wait time\"] = df_wait_times[\"ts airborne\"] - df_wait_times[\"ts ground\"]\n",
    "    df_wait_times[\"Wait time (s)\"] = df_wait_times[\"Wait time\"].dt.total_seconds()\n",
    "\n",
    "    return df_wait_times\n",
    "\n",
    "def histogram_wait_times(df):\n",
    "    fig_hist = px.histogram(df, x=\"Wait time (s)\", nbins=10, title=\"Wait Time Distribution\")\n",
    "    return fig_hist\n",
    "\n",
    "def boxplot_wait_times(df):\n",
    "    fig_box = px.box(df_wait_times, y=\"Wait time (s)\", title=\"Boxplot de Valores\")\n",
    "    return fig_box\n",
    "\n",
    "def heatmap_wait_times(df):\n",
    "    # Extraer fecha y hora\n",
    "    df[\"Date\"] = df[\"ts ground\"].dt.date\n",
    "    df[\"Hour\"] = df[\"ts ground\"].dt.hour\n",
    "\n",
    "    # Crear tabla pivote para el heatmap\n",
    "    heatmap_data = df.pivot_table(index=\"Date\", columns=\"Hour\", values=\"Wait time (s)\", aggfunc=\"mean\")\n",
    "\n",
    "    # Crear el mapa de calor con Plotly\n",
    "    fig_heatmap = px.imshow(\n",
    "        heatmap_data.values,\n",
    "        labels=dict(x=\"Hour\", y=\"Date\", color=\"Tiempo de espera (s)\"),\n",
    "        x=heatmap_data.columns,\n",
    "        y=heatmap_data.index,\n",
    "        color_continuous_scale=\"RdYlGn_r\",\n",
    "        title=\"Mapa de Calor del Tiempo de Espera por Hora y Día del Mes\"\n",
    "    )\n",
    "\n",
    "    return fig_heatmap\n"
   ]
  },
  {
   "cell_type": "code",
   "execution_count": null,
   "id": "cffb3ad979587b7f",
   "metadata": {},
   "outputs": [],
   "source": [
    "import dash\n",
    "from dash import dcc, html, Input, Output\n",
    "import plotly.express as px\n",
    "import pandas as pd\n",
    "import numpy as np"
   ]
  },
  {
   "cell_type": "code",
   "execution_count": null,
   "id": "bf95cb8bd3118599",
   "metadata": {},
   "outputs": [],
   "source": [
    "# Crear la aplicación Dash\n",
    "app = dash.Dash(__name__)\n",
    "\n",
    "app.layout = html.Div([\n",
    "    html.H1(\"Air Traffic Dashboard\"),\n",
    "\n",
    "    dcc.Dropdown(\n",
    "        id='day-dropdown',\n",
    "        options=[{'label': day, 'value': day} for day in df['day_of_week'].unique()],\n",
    "        value=df['day_of_week'].unique()[0],  # Valor por defecto\n",
    "        clearable=False\n",
    "    ),\n",
    "\n",
    "    dcc.Graph(id='bar-graph'),\n",
    "    dcc.Graph(id='hist-graph'),\n",
    "    dcc.Graph(id='box-graph'),\n",
    "    dcc.Graph(id='heatmap-graph', figure=heatmap_wait_times(df_wait_times(df)))\n",
    "])\n",
    "\n",
    "# Callback para actualizar gráficos basados en el día seleccionado\n",
    "@app.callback(\n",
    "    [Output('bar-graph', 'figure'),\n",
    "     Output('hist-graph', 'figure'),\n",
    "     Output('box-graph', 'figure')],\n",
    "\n",
    "    [Input('day-dropdown', 'value')]\n",
    ")\n",
    "def update_graphs(selected_day):\n",
    "    df1 = df[df['day_of_week'] == selected_day]\n",
    "    df2 = df_wait_times(df1)\n",
    "\n",
    "    fig_bar = graph_hourly_flight_status(df1)\n",
    "    fig_hist = histogram_wait_times(df2)\n",
    "    fig_box = boxplot_wait_times(df2)\n",
    "\n",
    "    return fig_bar, fig_hist, fig_box\n",
    "\n",
    "if __name__ == '__main__':\n",
    "    app.run_server(debug=True)"
   ]
  },
  {
   "cell_type": "markdown",
   "id": "873bd1ae1732cae6",
   "metadata": {},
   "source": [
    " ## Ejercicio 2 Con los datos proporcionados, visualiza la información en un mapa.\n",
    " \n",
    " En concreto,\n",
    "\n",
    " (a) sitúa las pistas;\n",
    "\n",
    " (b) sitúa los aviones;\n",
    "\n",
    " (c) indica si están en tierra o en el aire;\n",
    "\n",
    " (d) (opcional) indica dirección;\n",
    "\n",
    " (e) (opcional) indica velocidad;\n",
    "\n",
    " (f) (opcional) indica trayectorias por avión y vuelo\n"
   ]
  },
  {
   "cell_type": "code",
   "execution_count": null,
   "id": "c02494de",
   "metadata": {},
   "outputs": [],
   "source": [
    "from preprocess.dataframe_processor import DataframeProcessor\n",
    "from visualization.maps import Maps"
   ]
  },
  {
   "cell_type": "markdown",
   "id": "a1515070",
   "metadata": {},
   "source": [
    "Para visualizar los datos en mapas, primero nos quedamos solo con la información de los vuelos. Después eliminamos de los datos aquellos aviones que consideramos \"ouliers\" siguiendo el siguiente criterio:\n",
    "\n",
    "- `Un vuelo es outlier si recorre una distancia mayor a 200km en menos de 10 minutos.`"
   ]
  },
  {
   "cell_type": "code",
   "execution_count": null,
   "id": "58cf9df4c9655c8c",
   "metadata": {},
   "outputs": [],
   "source": [
    "df_maps = DataframeProcessor.getFlightsInfo(df)\n",
    "df_maps = DataframeProcessor.removeOutlierFlights(df_maps)"
   ]
  },
  {
   "cell_type": "markdown",
   "id": "8f22e946",
   "metadata": {},
   "source": [
    "### 1. Mapa de dispersión de los estados de vuelo\n",
    "\n",
    "En este mapa se posicionan todos los mensajes detectados en un periodo de tiempo determinado, permitiendo distinguir si la aeronave está __en tierra (on-ground)__ o __en el aire (airborne)__. Haciendo hover sobre los puntos se puede observar información adicional (ICAO, Callsign, etc.). Asimismo, se posicionan el __radar__ y las cuatro __pistas__ del aeropuerto. Por lo tanto, se trata de una primera aproximación para observar el tráfico aéreo."
   ]
  },
  {
   "cell_type": "code",
   "execution_count": null,
   "id": "657ca6d2",
   "metadata": {},
   "outputs": [],
   "source": [
    "m = Maps.positionsScatterMap(df_maps)\n",
    "m"
   ]
  },
  {
   "cell_type": "code",
   "execution_count": null,
   "id": "71a5d8a0",
   "metadata": {},
   "outputs": [],
   "source": [
    "# PARA GUARDAR ESTOS MAPAS COMO HTML\n",
    "m.save(\"nombre.html\")"
   ]
  },
  {
   "cell_type": "markdown",
   "id": "a2e7e085",
   "metadata": {},
   "source": [
    "### 2. Mapa de calor\n",
    "\n",
    "Esta visualización deriva de la anterior, se trata de un mapa de calor animado que permite monitorizar la densidad de mensajes en ventanas de tiempo muy reducidas (hemos fijado los frames a cinco minutos). De este modo, podemos observar el tráfico aéreo de forma mucho más precisa y en contexto. Se incluyen tanto las señales emitidas por aeronaves situadas tanto en tierra como en el aire."
   ]
  },
  {
   "cell_type": "code",
   "execution_count": null,
   "id": "41e8266c",
   "metadata": {},
   "outputs": [],
   "source": [
    "m = Maps.positionsHeatMap(df_maps)\n",
    "m"
   ]
  },
  {
   "cell_type": "markdown",
   "id": "abbc8c84",
   "metadata": {},
   "source": [
    "### 3. Trayectorias por tipo de avión\n",
    "\n",
    "El siguiente mapa permite visualizar las __trayectorias__ de las aeronaves por ICAO e identificador de vuelo distinguiendo por categoría de turbulencia. Asimismo, permite la opción de filtrar las trayectorias por despegues, aterrizajes y otros vuelos ajenos al aeropuerto. Es preciso indicar que las trayectorias se han generalizado a rectas con la finalidad de poder abarcar ventanas temporales más grandes. El punto en el final de uno de los extremos indica la __dirección__ del vuelo."
   ]
  },
  {
   "cell_type": "code",
   "execution_count": null,
   "id": "365fbe9f",
   "metadata": {},
   "outputs": [],
   "source": [
    "m = Maps.trajectoriesMap(df_maps)\n",
    "m"
   ]
  },
  {
   "cell_type": "markdown",
   "id": "bc129a3b",
   "metadata": {},
   "source": [
    "### 4. Trayectorias con velocidad\n",
    "\n",
    "Este mapa permite visualizar las **trayectorias** de forma más detallada y precisa, pero está orientado a franjas temporales más pequeñas. La **velocidad** viene indicada por el color de la recta en ese punto de la trayectoria, mientras que la **dirección** se indica con un punto en uno de los extremos. Cabe destacar que la velocidad de las señales tiene como unidad el nudo (1 kt=1.852 km/h), así que hemos hecho la conversión a km/h."
   ]
  },
  {
   "cell_type": "code",
   "execution_count": null,
   "id": "cb274815",
   "metadata": {},
   "outputs": [],
   "source": [
    "m = Maps.detailedTrajectoriesMap(df_maps)\n",
    "m"
   ]
  },
  {
   "cell_type": "markdown",
   "id": "9f5a60f6",
   "metadata": {},
   "source": [
    "### 5. Trayectorias con altitud\n",
    "\n",
    "En este mapa, al igual que en el de velocidades, se representan las trayectorias detalladas de cada vuelo. El color indica la altitud de cada aeronave a lo largo de su trayectoria, mientras que la dirección se indica con un punto en uno de los extremos. La altitud se muestra en pies (ft)."
   ]
  },
  {
   "cell_type": "code",
   "execution_count": null,
   "id": "cfdbda1f",
   "metadata": {},
   "outputs": [],
   "source": [
    "m = Maps.altitudesMap(df_maps)\n",
    "m"
   ]
  }
 ],
 "metadata": {
  "kernelspec": {
   "display_name": "Python 3 (ipykernel)",
   "language": "python",
   "name": "python3"
  },
  "language_info": {
   "codemirror_mode": {
    "name": "ipython",
    "version": 3
   },
   "file_extension": ".py",
   "mimetype": "text/x-python",
   "name": "python",
   "nbconvert_exporter": "python",
   "pygments_lexer": "ipython3",
   "version": "3.11.5"
  }
 },
 "nbformat": 4,
 "nbformat_minor": 5
}
