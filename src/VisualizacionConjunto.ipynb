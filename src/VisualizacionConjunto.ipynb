{
 "cells": [
  {
   "metadata": {},
   "cell_type": "markdown",
   "source": "# Entrega 1: Visualización conjunto de datos",
   "id": "15f5c93a5d41daee"
  },
  {
   "metadata": {},
   "cell_type": "markdown",
   "source": [
    " Contexto: deseamos predecir cuánto tiempo estarán en tierra aquellos aviones en puntos de espera, es\n",
    " decir, cuánto tiempo transcurre entre el punto de espera y el despegue. Por ahora, en lugar de comprobar\n",
    " puntos de espera consideraremos tiempo desde la última vez que está parado (obviamente, en tierra) hasta\n",
    " que está en el aire."
   ],
   "id": "1fe423f6c02b7150"
  },
  {
   "metadata": {},
   "cell_type": "markdown",
   "source": [
    "El conjuto de esta entrega corresponde a los registros de los vuelos de la primera semana.\n",
    "Que se encuentran en un csv y estan codificados."
   ],
   "id": "2bade315116a5cc2"
  },
  {
   "metadata": {},
   "cell_type": "markdown",
   "source": "Entonces, lo primero que haremos será leer el csv y guardar los datos en la carpeeta datos",
   "id": "48db3089eb7a9239"
  },
  {
   "metadata": {
    "ExecuteTime": {
     "end_time": "2025-02-12T09:30:02.546598Z",
     "start_time": "2025-02-12T09:29:25.186121Z"
    }
   },
   "cell_type": "code",
   "outputs": [
    {
     "name": "stdout",
     "output_type": "stream",
     "text": [
      "        ts_kafka               message\n",
      "0  1733011203260  jUoZIupCiFgBPAjykJ4=\n",
      "1  1733011203260  oAAUllilYmBIYPDDtec=\n",
      "2  1733011203260  oAAZEMMJ5TEgP//kyUg=\n",
      "3  1733011203260  jQIBK/gjAAIASbh2gt8=\n",
      "4  1733011203260          XTRCE1QV9w==\n"
     ]
    }
   ],
   "execution_count": 2,
   "source": [
    "from preprocess.reader import read_data\n",
    "\n",
    "TAR_PATH = \"C:/Users/bryan/PycharmProjects/despegues/src/202412010000_202412072359.tar\"\n",
    "FILE_NAME = \"202412010000_202412072359.csv\"\n",
    "read_data(TAR_PATH, FILE_NAME) # Se aplica paralelismo, sim embargo, sigue tardando un par de horas"
   ],
   "id": "3ce5259902f7d4c6"
  },
  {
   "metadata": {},
   "cell_type": "markdown",
   "source": "Ahora los datos ya se encuentran procesados y en parquets (para observar como funciona por dentro recomendamos ver)",
   "id": "6c0c2037dad6dc18"
  },
  {
   "metadata": {},
   "cell_type": "markdown",
   "source": "Leeremos los datos parquets y los almazenamos en dataframes",
   "id": "ab0843e1c500b7bf"
  },
  {
   "metadata": {},
   "cell_type": "code",
   "outputs": [],
   "execution_count": null,
   "source": [
    "# Codigo para leer todo el conjunto y hacer concat\n",
    "datos = ...\n",
    "datos"
   ],
   "id": "65455e8ca4842772"
  },
  {
   "metadata": {},
   "cell_type": "code",
   "outputs": [],
   "execution_count": null,
   "source": "# Codigo para separar por semanas",
   "id": "5b88634a2ba9325e"
  },
  {
   "metadata": {},
   "cell_type": "markdown",
   "source": [
    "## Ejercicio 1 Con los datos proporcionados, genera visualizaciones que permitan entender el conjunto de\n",
    " datos. En particular,\n",
    "\n",
    " (a) tráfico aéreo por horas, distinguiendo aviones en tierra y en el aire;\n",
    "\n",
    " (b) distribución de los tiempos de espera\n",
    "\n",
    " Histograma para ver cómo se distribuyen los tiempos de espera en general.\n",
    " Boxplot para identificar la mediana, los cuartiles y posibles valores atípicos.\n",
    " Mapa de calor para ver qué horas del día tienen mayor tiempo de espera.\n",
    "\n",
    " (c) (opcional) completa con otras visualizaciones que consideres interesantes para el problema pro\n",
    "puesto;\n",
    "\n",
    " (d) (opcional) filtra, según la gráfica, por días, por franjas horarias, por vuelos, por tipo de avión,\n",
    " por pistas, etc."
   ],
   "id": "14fab10fc0e84d3"
  },
  {
   "metadata": {
    "ExecuteTime": {
     "end_time": "2025-02-06T15:37:11.119174Z",
     "start_time": "2025-02-06T15:37:10.745916Z"
    }
   },
   "cell_type": "code",
   "outputs": [],
   "execution_count": 5,
   "source": [
    "from visualization import dash\n",
    "from visualization import maps\n",
    "\n",
    "# codido para visualizar"
   ],
   "id": "f260a574c31704a3"
  },
  {
   "metadata": {},
   "cell_type": "markdown",
   "source": [
    " ## Ejercicio 2 Con los datos proporcionados, visualiza la información en un mapa. En concreto,\n",
    "\n",
    "\n",
    " (a) sitúa las pistas;\n",
    "\n",
    " (b) sitúa los aviones;\n",
    "\n",
    " (c) indica si están en tierra o en el aire;\n",
    "\n",
    " (d) (opcional) indica dirección;\n",
    "\n",
    " (e) (opcional) indica velocidad;\n",
    "\n",
    " (f) (opcional) indica trayectorias por avión y vuelo\n"
   ],
   "id": "873bd1ae1732cae6"
  },
  {
   "metadata": {},
   "cell_type": "code",
   "outputs": [],
   "execution_count": null,
   "source": "",
   "id": "58cf9df4c9655c8c"
  }
 ],
 "metadata": {
  "kernelspec": {
   "display_name": "Python 3",
   "language": "python",
   "name": "python3"
  },
  "language_info": {
   "codemirror_mode": {
    "name": "ipython",
    "version": 2
   },
   "file_extension": ".py",
   "mimetype": "text/x-python",
   "name": "python",
   "nbconvert_exporter": "python",
   "pygments_lexer": "ipython2",
   "version": "2.7.6"
  }
 },
 "nbformat": 4,
 "nbformat_minor": 5
}
