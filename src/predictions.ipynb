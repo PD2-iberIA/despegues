{
 "cells": [
  {
   "cell_type": "markdown",
   "id": "f4533c4e",
   "metadata": {},
   "source": [
    "# Preprocessing pipeline"
   ]
  },
  {
   "cell_type": "markdown",
   "id": "466bc228",
   "metadata": {},
   "source": [
    "Procesamos los escenarios de test"
   ]
  },
  {
   "cell_type": "code",
   "execution_count": 13,
   "id": "6f87d769",
   "metadata": {},
   "outputs": [
    {
     "ename": "NameError",
     "evalue": "name 'MODEL_PATH' is not defined",
     "output_type": "error",
     "traceback": [
      "\u001b[0;31m---------------------------------------------------------------------------\u001b[0m",
      "\u001b[0;31mNameError\u001b[0m                                 Traceback (most recent call last)",
      "Cell \u001b[0;32mIn[13], line 22\u001b[0m\n\u001b[1;32m     19\u001b[0m df_results \u001b[38;5;241m=\u001b[39m pd\u001b[38;5;241m.\u001b[39mread_csv(RESULT_PATH)\n\u001b[1;32m     21\u001b[0m \u001b[38;5;66;03m# Cargamos el modelo entrenado \u001b[39;00m\n\u001b[0;32m---> 22\u001b[0m model \u001b[38;5;241m=\u001b[39m tf\u001b[38;5;241m.\u001b[39mkeras\u001b[38;5;241m.\u001b[39mmodels\u001b[38;5;241m.\u001b[39mload_model(MODEL_PATH) \n\u001b[1;32m     24\u001b[0m \u001b[38;5;66;03m# Cargamos los datos meteorológicos\u001b[39;00m\n\u001b[1;32m     25\u001b[0m meteo_dataset \u001b[38;5;241m=\u001b[39m meteo\u001b[38;5;241m.\u001b[39mMeteoDataset(METEO_PATH)\n",
      "\u001b[0;31mNameError\u001b[0m: name 'MODEL_PATH' is not defined"
     ]
    }
   ],
   "source": [
    "import pandas as pd\n",
    "from pyspark.sql import SparkSession\n",
    "from preprocess.enrichment import pipeline, meteo\n",
    "from preprocess.cleaning import cleaner\n",
    "import tensorflow as tf\n",
    "\n",
    "RESULT_PATH = \"../data/final_scenarios/answers_empty.csv\"\n",
    "DIR = \"../data/final_scenarios/clean/\"\n",
    "\n",
    "# Inicializamos la sesión de Spark\n",
    "spark = SparkSession.builder \\\n",
    "    .appName(\"MyApp\") \\\n",
    "    .config(\"spark.driver.memory\", \"16g\") \\\n",
    "    .config(\"spark.executor.memory\", \"16g\") \\\n",
    "    .config(\"spark.sql.legacy.timeParserPolicy\", \"LEGACY\") \\\n",
    "    .getOrCreate()\n",
    "\n",
    "# Cargamos el df de resultados\n",
    "df_results = pd.read_csv(RESULT_PATH)\n",
    "\n",
    "# Cargamos el modelo entrenado \n",
    "model = tf.keras.models.load_model(MODEL_PATH) \n",
    "\n",
    "# Cargamos los datos meteorológicos\n",
    "meteo_dataset = meteo.MeteoDataset(METEO_PATH)\n",
    "data_df = meteo_dataset.load_data('ruta/al/tu/archivo_de_datos.parquet')\n",
    "\n",
    "# Creamos el pipeline de preprocesado\n",
    "pipeline = pipeline.Pipeline()\n",
    "\n",
    "# Creamos el depurador\n",
    "depurador = depurador.Depurador()\n",
    "\n",
    "for i in range(1, 194):\n",
    "    file_name = f\"scenario_{str(i).zfill(3)}.parquet\"\n",
    "    file_path = DIR + file_name\n",
    "    # Leemos el dataframe con el escenario ya preprocesado con el formato del decoder\n",
    "    df0 = spark.read.parquet(file_path)\n",
    "    # Aplicamos el pipeline de procesamiento\n",
    "    df1 = pipeline.apply_pipeline(df0)\n",
    "    # Añadimos los datos meteorológicos\n",
    "    df2 = meteo_dataset.merge(df1.toPandas())\n",
    "    # Depuramos los datos\n",
    "    df3 = depurador.apply_basic(df2) \n",
    "    # Aplicamos el pipeline de procesado especifico del modelo\n",
    "    !! df4 = procesar para el modelo concreto(df3)\n",
    "    # Sacamos las predicciones con el modelo\n",
    "    predictions = model(df4)\n",
    "    df4['prediction'] = predictions\n",
    "    # Seleccionamos la fila con la predicción correspondiente para ese escenario\n",
    "    # Sacamos la fila que nos interesa del df de resultados\n",
    "    fila = df_results.iloc[i]\n",
    "\n",
    "    df_validos = df4.join(fila, on=[\"ICAO\", \"HoldingPoint\", \"Runway\"], how=\"inner\")\n",
    "    pred_mas_reciente = df_validos.loc[[df[\"Timestamp\"].idxmax()]]\n",
    "\n",
    "    # Rellenamos la información en el dataframe de resultados\n",
    "    !! acordarse de poner -1 si no hay predicción\n",
    "    df_results.iloc[i][\"time_to_takeoff_s\"] = pred_mas_reciente['prediction']\n",
    "\n",
    "# Guardamos el dataframe de resultados\n",
    "df_results.to_csv(RESULT_PATH, index=False) \n"
   ]
  },
  {
   "cell_type": "markdown",
   "id": "d070934a",
   "metadata": {},
   "source": [
    "# Predictions"
   ]
  },
  {
   "cell_type": "markdown",
   "id": "0f53af0a",
   "metadata": {},
   "source": [
    "Importamos el modelo final de la fase de entrenamiento"
   ]
  },
  {
   "cell_type": "markdown",
   "id": "a716afdb",
   "metadata": {},
   "source": [
    "Realizamos las predicciones sobre el escenario procesado"
   ]
  },
  {
   "cell_type": "markdown",
   "id": "7afeeacb",
   "metadata": {},
   "source": [
    "Guardamos la predicción correspondiente en el CSV de respuestas"
   ]
  },
  {
   "cell_type": "code",
   "execution_count": 1,
   "id": "fffc379a",
   "metadata": {},
   "outputs": [],
   "source": [
    "#----------------------------------------------\n",
    "# Mis pruebecitas\n",
    "#----------------------------------------------"
   ]
  },
  {
   "cell_type": "code",
   "execution_count": 1,
   "id": "ea6f171d",
   "metadata": {},
   "outputs": [],
   "source": [
    "# Lo hago primero con uno y luego hago el bucle\n",
    "import pandas as pd\n",
    "\n",
    "RESULT_PATH = \"/Users/maria/Dropbox/UCM/PD2/despegues/src/data/final_scenarios/answers_empty.csv\"\n",
    "#MODEL_PATH = \n",
    "df_results = pd.read_csv(RESULT_PATH)"
   ]
  },
  {
   "cell_type": "markdown",
   "id": "a8367a3c",
   "metadata": {},
   "source": []
  },
  {
   "cell_type": "code",
   "execution_count": 27,
   "id": "43d0557a",
   "metadata": {},
   "outputs": [],
   "source": [
    "file_path = \"../data/final_scenarios/clean/scenario_002.parquet\"\n",
    "\n",
    "from pyspark.sql import SparkSession \n",
    "spark = SparkSession.builder \\\n",
    "    .appName(\"MyApp\") \\\n",
    "    .config(\"spark.driver.memory\", \"16g\") \\\n",
    "    .config(\"spark.executor.memory\", \"16g\") \\\n",
    "    .config(\"spark.sql.legacy.timeParserPolicy\", \"LEGACY\") \\\n",
    "    .getOrCreate()\n",
    "\n",
    "# Creamos el dataframe con los datos del escenario post decoder\n",
    "df0 = spark.read.parquet(file_path)\n",
    "#df0.show(5)\n"
   ]
  },
  {
   "cell_type": "code",
   "execution_count": 29,
   "id": "53f2f8fb-365d-4443-a8eb-715bb461dd26",
   "metadata": {},
   "outputs": [
    {
     "name": "stdout",
     "output_type": "stream",
     "text": [
      "root\n",
      " |-- Timestamp (date): string (nullable = true)\n",
      " |-- ICAO: string (nullable = true)\n",
      " |-- Downlink Format: long (nullable = true)\n",
      " |-- Typecode: long (nullable = true)\n",
      " |-- lat: double (nullable = true)\n",
      " |-- lon: double (nullable = true)\n",
      " |-- TurbulenceCategory: string (nullable = true)\n",
      " |-- Callsign: string (nullable = true)\n",
      " |-- Speed: double (nullable = true)\n",
      " |-- Altitude (ft): double (nullable = true)\n",
      " |-- Flight status: string (nullable = true)\n",
      "\n"
     ]
    }
   ],
   "source": [
    "df0.printSchema()"
   ]
  },
  {
   "cell_type": "code",
   "execution_count": 31,
   "id": "b6f3cecb",
   "metadata": {},
   "outputs": [
    {
     "name": "stdout",
     "output_type": "stream",
     "text": [
      "+------+--------------------+-------------+------------------+-------------------+--------+----------+------+\n",
      "|  ICAO|           Timestamp|Flight status|               lat|                lon|Callsign|Designator|Runway|\n",
      "+------+--------------------+-------------+------------------+-------------------+--------+----------+------+\n",
      "|06a053|2025-03-10 14:49:...|    on-ground| 40.49149723376258|  -3.56667085127397|   QTR9U|      NULL|  NULL|\n",
      "|06a053|2025-03-10 14:49:...|    on-ground|40.491508871822035|  -3.56667085127397|   QTR9U|      NULL|  NULL|\n",
      "|06a053|2025-03-10 14:49:...|    on-ground| 40.49149723376258|  -3.56667085127397|   QTR9U|      NULL|  NULL|\n",
      "|06a053|2025-03-10 14:49:...|    on-ground| 40.49149723376258|  -3.56667085127397|   QTR9U|      NULL|  NULL|\n",
      "|06a053|2025-03-10 14:49:...|    on-ground| 40.49149723376258|  -3.56667085127397|   QTR9U|      NULL|  NULL|\n",
      "|06a053|2025-03-10 14:49:...|    on-ground| 40.49149723376258|  -3.56667085127397|   QTR9U|      NULL|  NULL|\n",
      "|06a053|2025-03-10 14:49:...|    on-ground| 40.49149723376258|  -3.56667085127397|   QTR9U|      NULL|  NULL|\n",
      "|06a053|2025-03-10 14:49:...|    on-ground| 40.49149723376258|  -3.56667085127397|   QTR9U|      NULL|  NULL|\n",
      "|06a053|2025-03-10 14:50:...|    on-ground|40.491508871822035|  -3.56667085127397|   QTR9U|      NULL|  NULL|\n",
      "|06a053|2025-03-10 14:50:...|    on-ground|40.491508871822035|  -3.56667085127397|   QTR9U|      NULL|  NULL|\n",
      "|06a053|2025-03-10 14:50:...|    on-ground| 40.49150848388672|-3.5666656494140625|   QTR9U|      NULL|  NULL|\n",
      "|341083|2025-03-10 14:48:...|    on-ground| 40.48674774169922|-3.5892791748046875|     P27|      NULL|  NULL|\n",
      "|341083|2025-03-10 14:48:...|    on-ground| 40.48681873386189|-3.5892989418723364|     P27|      NULL|  NULL|\n",
      "|341083|2025-03-10 14:48:...|    on-ground|40.486839294433594| -3.589324951171875|     P27|      NULL|  NULL|\n",
      "|341083|2025-03-10 14:48:...|    on-ground| 40.48686218261719|-3.5893402099609375|     P27|      NULL|  NULL|\n",
      "|341083|2025-03-10 14:48:...|    on-ground| 40.48689651489258|-3.5894012451171875|     P27|      NULL|  NULL|\n",
      "|341083|2025-03-10 14:48:...|    on-ground| 40.48690020027807|-3.5894237865101206|     P27|      NULL|  NULL|\n",
      "|341083|2025-03-10 14:48:...|    on-ground|40.486907958984375| -3.589447021484375|     P27|      NULL|  NULL|\n",
      "|341083|2025-03-10 14:48:...|    on-ground|40.486907958984375|-3.5894622802734375|     P27|      NULL|  NULL|\n",
      "|341083|2025-03-10 14:48:...|    on-ground| 40.48691940307617|   -3.5894775390625|     P27|      NULL|  NULL|\n",
      "+------+--------------------+-------------+------------------+-------------------+--------+----------+------+\n",
      "only showing top 20 rows\n",
      "\n",
      "3376\n",
      "0\n",
      "13\n",
      "2\n",
      "1\n"
     ]
    },
    {
     "name": "stderr",
     "output_type": "stream",
     "text": [
      "25/05/07 23:17:14 WARN SparkStringUtils: Truncated the string representation of a plan since it was too large. This behavior can be adjusted by setting 'spark.sql.debug.maxToStringFields'.\n"
     ]
    },
    {
     "name": "stdout",
     "output_type": "stream",
     "text": [
      "after 15\n"
     ]
    },
    {
     "name": "stderr",
     "output_type": "stream",
     "text": [
      "                                                                                \r"
     ]
    },
    {
     "name": "stdout",
     "output_type": "stream",
     "text": [
      "+------+------+--------+----+--------+---------+-------------+---+---+----------+------------------+--------------------+------------------+-------------------+-----+------------+-------------------------+---------------------+---+---+---+---+---+---+---+---+---+---+---+---+---+---+---+---+---+---+---+---+---+-------+-------+-------+-------+-----------------+-----------------+---------------+-------------------+----------+-----------------------------+\n",
      "|Runway|Minute|time_10s|ICAO|Callsign|Timestamp|Flight status|lat|lon|Designator|TurbulenceCategory|first_on_ground_time|first_holding_time|first_airborne_time|Speed|takeoff time|time_before_holding_point|time_at_holding_point| Z1|KA6|KA8| K3| K2| K1| Y1| Y2| Y3| Y7| Z6| Z4| Z2| Z3| LF| L1| LA| LB| LC| LD| LE|36R_18L|32R_14L|36L_18R|32L_14R|last min takeoffs|last min landings|event_timestamp|last_event_turb_cat|last_event|time_since_last_event_seconds|\n",
      "+------+------+--------+----+--------+---------+-------------+---+---+----------+------------------+--------------------+------------------+-------------------+-----+------------+-------------------------+---------------------+---+---+---+---+---+---+---+---+---+---+---+---+---+---+---+---+---+---+---+---+---+-------+-------+-------+-------+-----------------+-----------------+---------------+-------------------+----------+-----------------------------+\n",
      "+------+------+--------+----+--------+---------+-------------+---+---+----------+------------------+--------------------+------------------+-------------------+-----+------------+-------------------------+---------------------+---+---+---+---+---+---+---+---+---+---+---+---+---+---+---+---+---+---+---+---+---+-------+-------+-------+-------+-----------------+-----------------+---------------+-------------------+----------+-----------------------------+\n",
      "\n",
      "after 16\n",
      "+------+------+--------+----+--------+---------+-------------+---+---+----------+------------------+--------------------+------------------+-------------------+-----+------------+-------------------------+---------------------+---+---+---+---+---+---+---+---+---+---+---+---+---+---+---+---+---+---+---+---+---+-------+-------+-------+-------+-----------------+-----------------+---------------+-------------------+----------+-----------------------------+----+-------+---------+\n",
      "|Runway|Minute|time_10s|ICAO|Callsign|Timestamp|Flight status|lat|lon|Designator|TurbulenceCategory|first_on_ground_time|first_holding_time|first_airborne_time|Speed|takeoff time|time_before_holding_point|time_at_holding_point| Z1|KA6|KA8| K3| K2| K1| Y1| Y2| Y3| Y7| Z6| Z4| Z2| Z3| LF| L1| LA| LB| LC| LD| LE|36R_18L|32R_14L|36L_18R|32L_14R|last min takeoffs|last min landings|event_timestamp|last_event_turb_cat|last_event|time_since_last_event_seconds|Hour|Weekday|IsHoliday|\n",
      "+------+------+--------+----+--------+---------+-------------+---+---+----------+------------------+--------------------+------------------+-------------------+-----+------------+-------------------------+---------------------+---+---+---+---+---+---+---+---+---+---+---+---+---+---+---+---+---+---+---+---+---+-------+-------+-------+-------+-----------------+-----------------+---------------+-------------------+----------+-----------------------------+----+-------+---------+\n",
      "+------+------+--------+----+--------+---------+-------------+---+---+----------+------------------+--------------------+------------------+-------------------+-----+------------+-------------------------+---------------------+---+---+---+---+---+---+---+---+---+---+---+---+---+---+---+---+---+---+---+---+---+-------+-------+-------+-------+-----------------+-----------------+---------------+-------------------+----------+-----------------------------+----+-------+---------+\n",
      "\n",
      "after 17\n",
      "+------+------+--------+----+--------+---------+-------------+---+---+----------+------------------+--------------------+------------------+-------------------+-----+------------+-------------------------+---------------------+---+---+---+---+---+---+---+---+---+---+---+---+---+---+---+---+---+---+---+---+---+-------+-------+-------+-------+-----------------+-----------------+---------------+-------------------+----------+-----------------------------+----+-------+---------+--------+\n",
      "|Runway|Minute|time_10s|ICAO|Callsign|Timestamp|Flight status|lat|lon|Designator|TurbulenceCategory|first_on_ground_time|first_holding_time|first_airborne_time|Speed|takeoff time|time_before_holding_point|time_at_holding_point| Z1|KA6|KA8| K3| K2| K1| Y1| Y2| Y3| Y7| Z6| Z4| Z2| Z3| LF| L1| LA| LB| LC| LD| LE|36R_18L|32R_14L|36L_18R|32L_14R|last min takeoffs|last min landings|event_timestamp|last_event_turb_cat|last_event|time_since_last_event_seconds|Hour|Weekday|IsHoliday|operator|\n",
      "+------+------+--------+----+--------+---------+-------------+---+---+----------+------------------+--------------------+------------------+-------------------+-----+------------+-------------------------+---------------------+---+---+---+---+---+---+---+---+---+---+---+---+---+---+---+---+---+---+---+---+---+-------+-------+-------+-------+-----------------+-----------------+---------------+-------------------+----------+-----------------------------+----+-------+---------+--------+\n",
      "+------+------+--------+----+--------+---------+-------------+---+---+----------+------------------+--------------------+------------------+-------------------+-----+------------+-------------------------+---------------------+---+---+---+---+---+---+---+---+---+---+---+---+---+---+---+---+---+---+---+---+---+-------+-------+-------+-------+-----------------+-----------------+---------------+-------------------+----------+-----------------------------+----+-------+---------+--------+\n",
      "\n",
      "after 18\n",
      "+------------+---------+----+--------+-------------+------+--------+-------------------+---+---+-----------------+----------+-----------------+-------------------+-----------------------------+-------------------------+---------------------+----+-------+----------+---------------+------------------+-------------------+--------------------+---+---+---+---+---+---+---+---+---+---+---+---+---+---+---+---+---+---+---+---+---+-------+-------+-------+-------+\n",
      "|takeoff_time|timestamp|icao|callsign|holding_point|runway|operator|turbulence_category|lat|lon|last_min_takeoffs|last_event|last_min_landings|last_event_turb_cat|time_since_last_event_seconds|time_before_holding_point|time_at_holding_point|hour|weekday|is_holiday|event_timestamp|first_holding_time|first_airborne_time|first_on_ground_time| Z1|KA6|KA8| K3| K2| K1| Y1| Y2| Y3| Y7| Z6| Z4| Z2| Z3| LF| L1| LA| LB| LC| LD| LE|36R_18L|32R_14L|36L_18R|32L_14R|\n",
      "+------------+---------+----+--------+-------------+------+--------+-------------------+---+---+-----------------+----------+-----------------+-------------------+-----------------------------+-------------------------+---------------------+----+-------+----------+---------------+------------------+-------------------+--------------------+---+---+---+---+---+---+---+---+---+---+---+---+---+---+---+---+---+---+---+---+---+-------+-------+-------+-------+\n",
      "+------------+---------+----+--------+-------------+------+--------+-------------------+---+---+-----------------+----------+-----------------+-------------------+-----------------------------+-------------------------+---------------------+----+-------+----------+---------------+------------------+-------------------+--------------------+---+---+---+---+---+---+---+---+---+---+---+---+---+---+---+---+---+---+---+---+---+-------+-------+-------+-------+\n",
      "\n",
      "+------------+---------+----+--------+-------------+------+--------+-------------------+---+---+-----------------+----------+-----------------+-------------------+-----------------------------+-------------------------+---------------------+----+-------+----------+---------------+------------------+-------------------+--------------------+---+---+---+---+---+---+---+---+---+---+---+---+---+---+---+---+---+---+---+---+---+-------+-------+-------+-------+\n",
      "|takeoff_time|timestamp|icao|callsign|holding_point|runway|operator|turbulence_category|lat|lon|last_min_takeoffs|last_event|last_min_landings|last_event_turb_cat|time_since_last_event_seconds|time_before_holding_point|time_at_holding_point|hour|weekday|is_holiday|event_timestamp|first_holding_time|first_airborne_time|first_on_ground_time| Z1|KA6|KA8| K3| K2| K1| Y1| Y2| Y3| Y7| Z6| Z4| Z2| Z3| LF| L1| LA| LB| LC| LD| LE|36R_18L|32R_14L|36L_18R|32L_14R|\n",
      "+------------+---------+----+--------+-------------+------+--------+-------------------+---+---+-----------------+----------+-----------------+-------------------+-----------------------------+-------------------------+---------------------+----+-------+----------+---------------+------------------+-------------------+--------------------+---+---+---+---+---+---+---+---+---+---+---+---+---+---+---+---+---+---+---+---+---+-------+-------+-------+-------+\n",
      "+------------+---------+----+--------+-------------+------+--------+-------------------+---+---+-----------------+----------+-----------------+-------------------+-----------------------------+-------------------------+---------------------+----+-------+----------+---------------+------------------+-------------------+--------------------+---+---+---+---+---+---+---+---+---+---+---+---+---+---+---+---+---+---+---+---+---+-------+-------+-------+-------+\n",
      "\n"
     ]
    }
   ],
   "source": [
    "# Aplicamos el pipeline de procesamiento\n",
    "from preprocess.enrichment import pipeline\n",
    "\n",
    "p = pipeline.Pipeline()\n",
    "df1 = p.apply_pipeline(df0)\n",
    "\n",
    "df1.show(5)"
   ]
  },
  {
   "cell_type": "code",
   "execution_count": 4,
   "id": "c01a5592",
   "metadata": {},
   "outputs": [
    {
     "name": "stdout",
     "output_type": "stream",
     "text": [
      "root\n",
      " |-- Timestamp (date): timestamp_ntz (nullable = true)\n",
      " |-- ICAO: string (nullable = true)\n",
      " |-- Downlink Format: long (nullable = true)\n",
      " |-- Typecode: long (nullable = true)\n",
      " |-- lat: double (nullable = true)\n",
      " |-- lon: double (nullable = true)\n",
      " |-- TurbulenceCategory: string (nullable = true)\n",
      " |-- Callsign: string (nullable = true)\n",
      " |-- Speed: double (nullable = true)\n",
      " |-- Altitude (ft): double (nullable = true)\n",
      " |-- Flight status: string (nullable = true)\n",
      "\n"
     ]
    }
   ],
   "source": [
    "df0.printSchema()\n"
   ]
  },
  {
   "cell_type": "code",
   "execution_count": 25,
   "id": "807d7192-c403-47c2-b7fd-a98e992ea82f",
   "metadata": {},
   "outputs": [
    {
     "name": "stdout",
     "output_type": "stream",
     "text": [
      "+--------------------+------+---------------+--------+------------------+------------------+------------------+--------+-----+-------------+-------------+--------------------+\n",
      "|    Timestamp (date)|  ICAO|Downlink Format|Typecode|               lat|               lon|TurbulenceCategory|Callsign|Speed|Altitude (ft)|Flight status|             date_ts|\n",
      "+--------------------+------+---------------+--------+------------------+------------------+------------------+--------+-----+-------------+-------------+--------------------+\n",
      "|2025-03-10 14:50:...|4bb26b|             17|       7|40.495554592925956|-3.560411408421098|              NULL|    NULL|  0.0|         NULL|    on-ground|2025-03-10 14:50:...|\n",
      "|2025-03-10 14:50:...|4bb26b|             17|       7|  40.4955940246582|  -3.5604248046875|              NULL|    NULL|  0.0|         NULL|    on-ground|2025-03-10 14:50:...|\n",
      "|2025-03-10 14:50:...|4bb26b|             17|       7|  40.4955940246582|  -3.5604248046875|              NULL|    NULL|  3.0|         NULL|    on-ground|2025-03-10 14:50:...|\n",
      "+--------------------+------+---------------+--------+------------------+------------------+------------------+--------+-----+-------------+-------------+--------------------+\n",
      "\n"
     ]
    }
   ],
   "source": [
    "from pyspark.sql.functions import col\n",
    "\n",
    "from pyspark.sql.functions import col, to_timestamp\n",
    "\n",
    "# 1. Convertir a timestamp\n",
    "df_ts = df0.withColumn(\"date_ts\", to_timestamp(col(\"Timestamp (date)\")))\n",
    "\n",
    "# 2. Ordenar por timestamp descendente\n",
    "df_sorted = df_ts.orderBy(col(\"date_ts\").desc())\n",
    "\n",
    "df_filtrado = df_sorted.filter((col(\"icao\") == \"4bb26b\"))\n",
    "# 3. Seleccionar los dos últimos mensajes\n",
    "df_last_two = df_filtrado.limit(3)\n",
    "\n",
    "\n",
    "df_last_two.show()"
   ]
  },
  {
   "cell_type": "code",
   "execution_count": 7,
   "id": "35bdd2fd",
   "metadata": {},
   "outputs": [],
   "source": [
    "from pyspark.sql import functions as F\n",
    "def getAirplaneCategories(df):\n",
    "        \"\"\"\n",
    "        Genera un DataFrame con la categoría de cada aeronave.\n",
    "        \n",
    "        Parámetros:\n",
    "            df: DataFrame de datos.\n",
    "        Devuelve:\n",
    "            DataFrame con las siguientes columnas: \"ICAO\", \"TurbulenceCategory\".\n",
    "        \"\"\"\n",
    "        # Seleccionamos mensajes ADS-B\n",
    "        df_filtered = df.filter(F.col(\"Downlink Format\").isin([17, 18]))\n",
    "        # Nos quedamos con los ICAOs y su tipo de avión\n",
    "        df_filtered = df_filtered.filter(F.col(\"TurbulenceCategory\").isNotNull() & (F.col(\"TurbulenceCategory\") != \"None\") & (~F.isnan(F.col(\"TurbulenceCategory\"))))\n",
    "        df_result = df_filtered.select(\"ICAO\", \"TurbulenceCategory\").dropDuplicates()\n",
    "        return df_result"
   ]
  },
  {
   "cell_type": "code",
   "execution_count": 8,
   "id": "8698e171",
   "metadata": {},
   "outputs": [
    {
     "name": "stdout",
     "output_type": "stream",
     "text": [
      "+------+--------------------+\n",
      "|  ICAO|  TurbulenceCategory|\n",
      "+------+--------------------+\n",
      "|ab7376|Heavy (larger tha...|\n",
      "|344099|Medium 2 (between...|\n",
      "|3420cc|Medium 2 (between...|\n",
      "|346303|Medium 2 (between...|\n",
      "|39ceb0|Medium 2 (between...|\n",
      "+------+--------------------+\n",
      "only showing top 5 rows\n",
      "\n"
     ]
    }
   ],
   "source": [
    "df2 = getAirplaneCategories(df0)\n",
    "df2.show(5)"
   ]
  },
  {
   "cell_type": "code",
   "execution_count": null,
   "id": "87ceab76",
   "metadata": {},
   "outputs": [],
   "source": []
  }
 ],
 "metadata": {
  "kernelspec": {
   "display_name": "Python [conda env:base] *",
   "language": "python",
   "name": "conda-base-py"
  },
  "language_info": {
   "codemirror_mode": {
    "name": "ipython",
    "version": 3
   },
   "file_extension": ".py",
   "mimetype": "text/x-python",
   "name": "python",
   "nbconvert_exporter": "python",
   "pygments_lexer": "ipython3",
   "version": "3.12.7"
  }
 },
 "nbformat": 4,
 "nbformat_minor": 5
}
