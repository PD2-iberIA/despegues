{
 "cells": [
  {
   "cell_type": "markdown",
   "id": "f4533c4e",
   "metadata": {},
   "source": [
    "# Preprocessing pipeline"
   ]
  },
  {
   "cell_type": "markdown",
   "id": "466bc228",
   "metadata": {},
   "source": [
    "Procesamos los escenarios de test"
   ]
  },
  {
   "cell_type": "code",
   "execution_count": null,
   "id": "6f87d769",
   "metadata": {},
   "outputs": [],
   "source": [
    "import pandas as pd\n",
    "from pyspark.sql import SparkSession\n",
    "from preprocess import pipeline, meteo, depurador\n",
    "import tensorflow as tf\n",
    "\n",
    "RESULT_PATH = \"/Users/maria/Dropbox/UCM/PD2/final_scenarios/answers_empty.csv\"\n",
    "MODEL_PATH = \n",
    "METEO_PATH = \n",
    "DIR = \"/Users/maria/Dropbox/UCM/PD2/final_scenarios/clean/\"\n",
    "\n",
    "# Inicializamos la sesión de Spark\n",
    "spark = SparkSession.builder \\\n",
    "    .appName(\"MyApp\") \\\n",
    "    .config(\"spark.driver.memory\", \"16g\") \\\n",
    "    .config(\"spark.executor.memory\", \"16g\") \\\n",
    "    .config(\"spark.sql.legacy.timeParserPolicy\", \"LEGACY\") \\\n",
    "    .getOrCreate()\n",
    "\n",
    "# Cargamos el df de resultados\n",
    "df_results = pd.read_csv(RESULT_PATH)\n",
    "\n",
    "# Cargamos el modelo entrenado \n",
    "model = tf.keras.models.load_model(MODEL_PATH) \n",
    "\n",
    "# Cargamos los datos meteorológicos\n",
    "meteo_dataset = meteo.MeteoDataset(METEO_PATH)\n",
    "data_df = meteo_dataset.load_data('ruta/al/tu/archivo_de_datos.parquet')\n",
    "\n",
    "# Creamos el pipeline de preprocesado\n",
    "pipeline = pipeline.Pipeline()\n",
    "\n",
    "# Creamos el depurador\n",
    "depurador = depurador.Depurador()\n",
    "\n",
    "for i in range(1, 194):\n",
    "    file_name = f\"scenario_{str(i).zfill(3)}.parquet\"\n",
    "    file_path = DIR + file_name\n",
    "    # Leemos el dataframe con el escenario ya preprocesado con el formato del decoder\n",
    "    df0 = spark.read.parquet(file_path)\n",
    "    # Aplicamos el pipeline de procesamiento\n",
    "    df1 = pipeline.apply_pipeline(df0)\n",
    "    # Añadimos los datos meteorológicos\n",
    "    df2 = meteo_dataset.merge(df1.toPandas())\n",
    "    # Depuramos los datos\n",
    "    df3 = depurador.apply_basic(df2) \n",
    "    # Aplicamos el pipeline de procesado especifico del modelo\n",
    "    !! df4 = procesar para el modelo concreto(df3)\n",
    "    # Sacamos las predicciones con el modelo\n",
    "    predictions = model(df4)\n",
    "    df4['prediction'] = predictions\n",
    "    # Seleccionamos la fila con la predicción correspondiente para ese escenario\n",
    "    # Sacamos la fila que nos interesa del df de resultados\n",
    "    fila = df_results.iloc[i]\n",
    "\n",
    "    df_validos = df4.join(fila, on=[\"ICAO\", \"HoldingPoint\", \"Runway\"], how=\"inner\")\n",
    "    pred_mas_reciente = df_validos.loc[[df[\"Timestamp\"].idxmax()]]\n",
    "\n",
    "    # Rellenamos la información en el dataframe de resultados\n",
    "    !! acordarse de poner -1 si no hay predicción\n",
    "    df_results.iloc[i][\"time_to_takeoff_s\"] = pred_mas_reciente['prediction']\n",
    "\n",
    "# Guardamos el dataframe de resultados\n",
    "df_results.to_csv(RESULT_PATH, index=False) \n"
   ]
  },
  {
   "cell_type": "markdown",
   "id": "d070934a",
   "metadata": {},
   "source": [
    "# Predictions"
   ]
  },
  {
   "cell_type": "markdown",
   "id": "0f53af0a",
   "metadata": {},
   "source": [
    "Importamos el modelo final de la fase de entrenamiento"
   ]
  },
  {
   "cell_type": "markdown",
   "id": "a716afdb",
   "metadata": {},
   "source": [
    "Realizamos las predicciones sobre el escenario procesado"
   ]
  },
  {
   "cell_type": "markdown",
   "id": "7afeeacb",
   "metadata": {},
   "source": [
    "Guardamos la predicción correspondiente en el CSV de respuestas"
   ]
  },
  {
   "cell_type": "code",
   "execution_count": 1,
   "id": "fffc379a",
   "metadata": {},
   "outputs": [],
   "source": [
    "#----------------------------------------------\n",
    "# Mis pruebecitas\n",
    "#----------------------------------------------"
   ]
  },
  {
   "cell_type": "code",
   "execution_count": 1,
   "id": "ea6f171d",
   "metadata": {},
   "outputs": [],
   "source": [
    "# Lo hago primero con uno y luego hago el bucle\n",
    "import pandas as pd\n",
    "\n",
    "RESULT_PATH = \"/Users/maria/Dropbox/UCM/PD2/despegues/src/data/final_scenarios/answers_empty.csv\"\n",
    "#MODEL_PATH = \n",
    "df_results = pd.read_csv(RESULT_PATH)"
   ]
  },
  {
   "cell_type": "markdown",
   "id": "a8367a3c",
   "metadata": {},
   "source": []
  },
  {
   "cell_type": "code",
   "execution_count": 3,
   "id": "43d0557a",
   "metadata": {},
   "outputs": [
    {
     "name": "stderr",
     "output_type": "stream",
     "text": [
      "                                                                                \r"
     ]
    }
   ],
   "source": [
    "file_path = \"/Users/maria/Dropbox/UCM/PD2/despegues/src/data/final_scenarios/clean/scenario_150.parquet\"\n",
    "\n",
    "from pyspark.sql import SparkSession \n",
    "spark = SparkSession.builder \\\n",
    "    .appName(\"MyApp\") \\\n",
    "    .config(\"spark.driver.memory\", \"16g\") \\\n",
    "    .config(\"spark.executor.memory\", \"16g\") \\\n",
    "    .config(\"spark.sql.legacy.timeParserPolicy\", \"LEGACY\") \\\n",
    "    .getOrCreate()\n",
    "\n",
    "# Creamos el dataframe con los datos del escenario post decoder\n",
    "df0 = spark.read.parquet(file_path)\n",
    "#df0.show(5)\n"
   ]
  },
  {
   "cell_type": "code",
   "execution_count": 4,
   "id": "b6f3cecb",
   "metadata": {},
   "outputs": [
    {
     "name": "stdout",
     "output_type": "stream",
     "text": [
      "2077\n",
      "0\n",
      "13\n",
      "3\n",
      "3\n",
      "after 15\n"
     ]
    },
    {
     "name": "stderr",
     "output_type": "stream",
     "text": [
      "                                                                                \r"
     ]
    },
    {
     "name": "stdout",
     "output_type": "stream",
     "text": [
      "+------+------+--------+----+--------+---------+-------------+---+---+----------+------------------+--------------------+------------------+-------------------+-----+------------+-------------------------+---------------------+---+---+---+---+---+---+---+---+---+---+---+---+---+---+---+---+---+---+---+---+---+-------+-------+-------+-------+-----------------+-----------------+---------------+-------------------+----------+-----------------------------+\n",
      "|Runway|Minute|time_10s|ICAO|Callsign|Timestamp|Flight status|lat|lon|Designator|TurbulenceCategory|first_on_ground_time|first_holding_time|first_airborne_time|Speed|takeoff time|time_before_holding_point|time_at_holding_point| Z1|KA6|KA8| K3| K2| K1| Y1| Y2| Y3| Y7| Z6| Z4| Z2| Z3| LF| L1| LA| LB| LC| LD| LE|36R_18L|32R_14L|36L_18R|32L_14R|last min takeoffs|last min landings|event_timestamp|last_event_turb_cat|last_event|time_since_last_event_seconds|\n",
      "+------+------+--------+----+--------+---------+-------------+---+---+----------+------------------+--------------------+------------------+-------------------+-----+------------+-------------------------+---------------------+---+---+---+---+---+---+---+---+---+---+---+---+---+---+---+---+---+---+---+---+---+-------+-------+-------+-------+-----------------+-----------------+---------------+-------------------+----------+-----------------------------+\n",
      "+------+------+--------+----+--------+---------+-------------+---+---+----------+------------------+--------------------+------------------+-------------------+-----+------------+-------------------------+---------------------+---+---+---+---+---+---+---+---+---+---+---+---+---+---+---+---+---+---+---+---+---+-------+-------+-------+-------+-----------------+-----------------+---------------+-------------------+----------+-----------------------------+\n",
      "\n",
      "after 16\n",
      "+------+------+--------+----+--------+---------+-------------+---+---+----------+------------------+--------------------+------------------+-------------------+-----+------------+-------------------------+---------------------+---+---+---+---+---+---+---+---+---+---+---+---+---+---+---+---+---+---+---+---+---+-------+-------+-------+-------+-----------------+-----------------+---------------+-------------------+----------+-----------------------------+----+-------+---------+\n",
      "|Runway|Minute|time_10s|ICAO|Callsign|Timestamp|Flight status|lat|lon|Designator|TurbulenceCategory|first_on_ground_time|first_holding_time|first_airborne_time|Speed|takeoff time|time_before_holding_point|time_at_holding_point| Z1|KA6|KA8| K3| K2| K1| Y1| Y2| Y3| Y7| Z6| Z4| Z2| Z3| LF| L1| LA| LB| LC| LD| LE|36R_18L|32R_14L|36L_18R|32L_14R|last min takeoffs|last min landings|event_timestamp|last_event_turb_cat|last_event|time_since_last_event_seconds|Hour|Weekday|IsHoliday|\n",
      "+------+------+--------+----+--------+---------+-------------+---+---+----------+------------------+--------------------+------------------+-------------------+-----+------------+-------------------------+---------------------+---+---+---+---+---+---+---+---+---+---+---+---+---+---+---+---+---+---+---+---+---+-------+-------+-------+-------+-----------------+-----------------+---------------+-------------------+----------+-----------------------------+----+-------+---------+\n",
      "+------+------+--------+----+--------+---------+-------------+---+---+----------+------------------+--------------------+------------------+-------------------+-----+------------+-------------------------+---------------------+---+---+---+---+---+---+---+---+---+---+---+---+---+---+---+---+---+---+---+---+---+-------+-------+-------+-------+-----------------+-----------------+---------------+-------------------+----------+-----------------------------+----+-------+---------+\n",
      "\n",
      "after 17\n",
      "+------+------+--------+----+--------+---------+-------------+---+---+----------+------------------+--------------------+------------------+-------------------+-----+------------+-------------------------+---------------------+---+---+---+---+---+---+---+---+---+---+---+---+---+---+---+---+---+---+---+---+---+-------+-------+-------+-------+-----------------+-----------------+---------------+-------------------+----------+-----------------------------+----+-------+---------+--------+\n",
      "|Runway|Minute|time_10s|ICAO|Callsign|Timestamp|Flight status|lat|lon|Designator|TurbulenceCategory|first_on_ground_time|first_holding_time|first_airborne_time|Speed|takeoff time|time_before_holding_point|time_at_holding_point| Z1|KA6|KA8| K3| K2| K1| Y1| Y2| Y3| Y7| Z6| Z4| Z2| Z3| LF| L1| LA| LB| LC| LD| LE|36R_18L|32R_14L|36L_18R|32L_14R|last min takeoffs|last min landings|event_timestamp|last_event_turb_cat|last_event|time_since_last_event_seconds|Hour|Weekday|IsHoliday|operator|\n",
      "+------+------+--------+----+--------+---------+-------------+---+---+----------+------------------+--------------------+------------------+-------------------+-----+------------+-------------------------+---------------------+---+---+---+---+---+---+---+---+---+---+---+---+---+---+---+---+---+---+---+---+---+-------+-------+-------+-------+-----------------+-----------------+---------------+-------------------+----------+-----------------------------+----+-------+---------+--------+\n",
      "+------+------+--------+----+--------+---------+-------------+---+---+----------+------------------+--------------------+------------------+-------------------+-----+------------+-------------------------+---------------------+---+---+---+---+---+---+---+---+---+---+---+---+---+---+---+---+---+---+---+---+---+-------+-------+-------+-------+-----------------+-----------------+---------------+-------------------+----------+-----------------------------+----+-------+---------+--------+\n",
      "\n",
      "after 18\n",
      "+------------+---------+----+--------+-------------+------+--------+-------------------+---+---+-----------------+----------+-----------------+-------------------+-----------------------------+-------------------------+---------------------+----+-------+----------+---------------+------------------+-------------------+--------------------+---+---+---+---+---+---+---+---+---+---+---+---+---+---+---+---+---+---+---+---+---+-------+-------+-------+-------+\n",
      "|takeoff_time|timestamp|icao|callsign|holding_point|runway|operator|turbulence_category|lat|lon|last_min_takeoffs|last_event|last_min_landings|last_event_turb_cat|time_since_last_event_seconds|time_before_holding_point|time_at_holding_point|hour|weekday|is_holiday|event_timestamp|first_holding_time|first_airborne_time|first_on_ground_time| Z1|KA6|KA8| K3| K2| K1| Y1| Y2| Y3| Y7| Z6| Z4| Z2| Z3| LF| L1| LA| LB| LC| LD| LE|36R_18L|32R_14L|36L_18R|32L_14R|\n",
      "+------------+---------+----+--------+-------------+------+--------+-------------------+---+---+-----------------+----------+-----------------+-------------------+-----------------------------+-------------------------+---------------------+----+-------+----------+---------------+------------------+-------------------+--------------------+---+---+---+---+---+---+---+---+---+---+---+---+---+---+---+---+---+---+---+---+---+-------+-------+-------+-------+\n",
      "+------------+---------+----+--------+-------------+------+--------+-------------------+---+---+-----------------+----------+-----------------+-------------------+-----------------------------+-------------------------+---------------------+----+-------+----------+---------------+------------------+-------------------+--------------------+---+---+---+---+---+---+---+---+---+---+---+---+---+---+---+---+---+---+---+---+---+-------+-------+-------+-------+\n",
      "\n"
     ]
    },
    {
     "name": "stderr",
     "output_type": "stream",
     "text": [
      "                                                                                \r"
     ]
    },
    {
     "name": "stdout",
     "output_type": "stream",
     "text": [
      "+------------+---------+----+--------+-------------+------+--------+-------------------+---+---+-----------------+----------+-----------------+-------------------+-----------------------------+-------------------------+---------------------+----+-------+----------+---------------+------------------+-------------------+--------------------+---+---+---+---+---+---+---+---+---+---+---+---+---+---+---+---+---+---+---+---+---+-------+-------+-------+-------+\n",
      "|takeoff_time|timestamp|icao|callsign|holding_point|runway|operator|turbulence_category|lat|lon|last_min_takeoffs|last_event|last_min_landings|last_event_turb_cat|time_since_last_event_seconds|time_before_holding_point|time_at_holding_point|hour|weekday|is_holiday|event_timestamp|first_holding_time|first_airborne_time|first_on_ground_time| Z1|KA6|KA8| K3| K2| K1| Y1| Y2| Y3| Y7| Z6| Z4| Z2| Z3| LF| L1| LA| LB| LC| LD| LE|36R_18L|32R_14L|36L_18R|32L_14R|\n",
      "+------------+---------+----+--------+-------------+------+--------+-------------------+---+---+-----------------+----------+-----------------+-------------------+-----------------------------+-------------------------+---------------------+----+-------+----------+---------------+------------------+-------------------+--------------------+---+---+---+---+---+---+---+---+---+---+---+---+---+---+---+---+---+---+---+---+---+-------+-------+-------+-------+\n",
      "+------------+---------+----+--------+-------------+------+--------+-------------------+---+---+-----------------+----------+-----------------+-------------------+-----------------------------+-------------------------+---------------------+----+-------+----------+---------------+------------------+-------------------+--------------------+---+---+---+---+---+---+---+---+---+---+---+---+---+---+---+---+---+---+---+---+---+-------+-------+-------+-------+\n",
      "\n"
     ]
    }
   ],
   "source": [
    "# Aplicamos el pipeline de procesamiento\n",
    "from preprocess import pipeline\n",
    "\n",
    "p = pipeline.Pipeline()\n",
    "df1 = p.apply_pipeline(df0)\n",
    "\n",
    "df1.show(5)"
   ]
  },
  {
   "cell_type": "code",
   "execution_count": 4,
   "id": "c01a5592",
   "metadata": {},
   "outputs": [
    {
     "name": "stdout",
     "output_type": "stream",
     "text": [
      "root\n",
      " |-- Timestamp (date): timestamp_ntz (nullable = true)\n",
      " |-- ICAO: string (nullable = true)\n",
      " |-- Downlink Format: long (nullable = true)\n",
      " |-- Typecode: long (nullable = true)\n",
      " |-- lat: double (nullable = true)\n",
      " |-- lon: double (nullable = true)\n",
      " |-- TurbulenceCategory: string (nullable = true)\n",
      " |-- Callsign: string (nullable = true)\n",
      " |-- Speed: double (nullable = true)\n",
      " |-- Altitude (ft): double (nullable = true)\n",
      " |-- Flight status: string (nullable = true)\n",
      "\n"
     ]
    }
   ],
   "source": [
    "df0.printSchema()\n"
   ]
  },
  {
   "cell_type": "code",
   "execution_count": 7,
   "id": "35bdd2fd",
   "metadata": {},
   "outputs": [],
   "source": [
    "from pyspark.sql import functions as F\n",
    "def getAirplaneCategories(df):\n",
    "        \"\"\"\n",
    "        Genera un DataFrame con la categoría de cada aeronave.\n",
    "        \n",
    "        Parámetros:\n",
    "            df: DataFrame de datos.\n",
    "        Devuelve:\n",
    "            DataFrame con las siguientes columnas: \"ICAO\", \"TurbulenceCategory\".\n",
    "        \"\"\"\n",
    "        # Seleccionamos mensajes ADS-B\n",
    "        df_filtered = df.filter(F.col(\"Downlink Format\").isin([17, 18]))\n",
    "        # Nos quedamos con los ICAOs y su tipo de avión\n",
    "        df_filtered = df_filtered.filter(F.col(\"TurbulenceCategory\").isNotNull() & (F.col(\"TurbulenceCategory\") != \"None\") & (~F.isnan(F.col(\"TurbulenceCategory\"))))\n",
    "        df_result = df_filtered.select(\"ICAO\", \"TurbulenceCategory\").dropDuplicates()\n",
    "        return df_result"
   ]
  },
  {
   "cell_type": "code",
   "execution_count": 8,
   "id": "8698e171",
   "metadata": {},
   "outputs": [
    {
     "name": "stdout",
     "output_type": "stream",
     "text": [
      "+------+--------------------+\n",
      "|  ICAO|  TurbulenceCategory|\n",
      "+------+--------------------+\n",
      "|ab7376|Heavy (larger tha...|\n",
      "|344099|Medium 2 (between...|\n",
      "|3420cc|Medium 2 (between...|\n",
      "|346303|Medium 2 (between...|\n",
      "|39ceb0|Medium 2 (between...|\n",
      "+------+--------------------+\n",
      "only showing top 5 rows\n",
      "\n"
     ]
    }
   ],
   "source": [
    "df2 = getAirplaneCategories(df0)\n",
    "df2.show(5)"
   ]
  },
  {
   "cell_type": "code",
   "execution_count": null,
   "id": "87ceab76",
   "metadata": {},
   "outputs": [],
   "source": []
  }
 ],
 "metadata": {
  "kernelspec": {
   "display_name": "base",
   "language": "python",
   "name": "python3"
  },
  "language_info": {
   "codemirror_mode": {
    "name": "ipython",
    "version": 3
   },
   "file_extension": ".py",
   "mimetype": "text/x-python",
   "name": "python",
   "nbconvert_exporter": "python",
   "pygments_lexer": "ipython3",
   "version": "3.11.5"
  }
 },
 "nbformat": 4,
 "nbformat_minor": 5
}
