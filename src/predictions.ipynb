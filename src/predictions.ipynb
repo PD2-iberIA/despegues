{
 "cells": [
  {
   "cell_type": "markdown",
   "id": "f4533c4e",
   "metadata": {},
   "source": [
    "# Preprocessing pipeline"
   ]
  },
  {
   "cell_type": "markdown",
   "id": "466bc228",
   "metadata": {},
   "source": [
    "Procesamos los escenarios de test"
   ]
  },
  {
   "cell_type": "code",
   "execution_count": null,
   "id": "6f87d769",
   "metadata": {},
   "outputs": [],
   "source": [
    "import pandas as pd\n",
    "from pyspark.sql import SparkSession\n",
    "\n",
    "RESULT_PATH = \"/Users/maria/Dropbox/UCM/PD2/final_scenarios/answers_empty.csv\"\n",
    "MODEL_PATH = \n",
    "df_results = pd.read_csv(RESULT_PATH)\n",
    "\n",
    "# Cargamos el modelo entrenado \n",
    "model = load_model(MODEL_PATH)  # Cambia \"model_path\" por la ruta real del modelo\n",
    "\n",
    "for i in range(0, 194):\n",
    "    file = f\"scenario_{fillz(i,3)}\"\n",
    "    # Leemos el dataframe con el escenario ya preprocesado con el formato del decoder\n",
    "    df = spark.read.parquet(file)\n",
    "    # Aplicamos el pipeline de procesamiento\n",
    "    df_model_ready = \n",
    "    # Añadimos los datos meteorológicos\n",
    "    df_con_meteo = \n",
    "    # Depuramos los datos (nb -> depuración)\n",
    "    df_clean =\n",
    "    # Sacamos las predicciones con el modelo\n",
    "    predictions = model.predict(df_model_ready)\n",
    "    # Seleccionamos la fila con la predicción correspondiente para ese escenario\n",
    "    pred = \n",
    "    # Rellenamos la información en el dataframe de resultados\n",
    "    df_results.loc[df_results['scenario'] == file, 'pred'] = pred\n",
    "\n",
    "# Guardamos el dataframe de resultados\n",
    "df_results.to_csv(RESULT_PATH, index=False) \n"
   ]
  },
  {
   "cell_type": "markdown",
   "id": "d070934a",
   "metadata": {},
   "source": [
    "# Predictions"
   ]
  },
  {
   "cell_type": "markdown",
   "id": "0f53af0a",
   "metadata": {},
   "source": [
    "Importamos el modelo final de la fase de entrenamiento"
   ]
  },
  {
   "cell_type": "markdown",
   "id": "a716afdb",
   "metadata": {},
   "source": [
    "Realizamos las predicciones sobre el escenario procesado"
   ]
  },
  {
   "cell_type": "markdown",
   "id": "7afeeacb",
   "metadata": {},
   "source": [
    "Guardamos la predicción correspondiente en el CSV de respuestas"
   ]
  },
  {
   "cell_type": "code",
   "execution_count": null,
   "id": "fffc379a",
   "metadata": {},
   "outputs": [
    {
     "ename": "",
     "evalue": "",
     "output_type": "error",
     "traceback": [
      "\u001b[1;31mThe kernel failed to start as the Python Environment 'Python 3.9.6' is no longer available. Consider selecting another kernel or refreshing the list of Python Environments."
     ]
    }
   ],
   "source": [
    "#----------------------------------------------\n",
    "# Mis pruebecitas\n",
    "#----------------------------------------------"
   ]
  },
  {
   "cell_type": "code",
   "execution_count": 2,
   "id": "ea6f171d",
   "metadata": {},
   "outputs": [],
   "source": [
    "# Lo hago primero con uno y luego hago el bucle\n",
    "import pandas as pd\n",
    "\n",
    "RESULT_PATH = \"/Users/maria/Dropbox/UCM/PD2/despegues/src/data/final_scenarios/answers_empty.csv\"\n",
    "#MODEL_PATH = \n",
    "df_results = pd.read_csv(RESULT_PATH)"
   ]
  },
  {
   "cell_type": "markdown",
   "id": "a8367a3c",
   "metadata": {},
   "source": []
  },
  {
   "cell_type": "code",
   "execution_count": null,
   "id": "43d0557a",
   "metadata": {},
   "outputs": [
    {
     "name": "stderr",
     "output_type": "stream",
     "text": [
      "25/05/06 00:04:53 WARN Utils: Your hostname, neutron.local resolves to a loopback address: 127.0.0.1; using 10.8.63.80 instead (on interface en0)\n",
      "25/05/06 00:04:53 WARN Utils: Set SPARK_LOCAL_IP if you need to bind to another address\n",
      "Setting default log level to \"WARN\".\n",
      "To adjust logging level use sc.setLogLevel(newLevel). For SparkR, use setLogLevel(newLevel).\n",
      "25/05/06 00:04:54 WARN NativeCodeLoader: Unable to load native-hadoop library for your platform... using builtin-java classes where applicable\n",
      "                                                                                \r"
     ]
    },
    {
     "name": "stdout",
     "output_type": "stream",
     "text": [
      "+--------------------+------+---------------+--------+----------------+-----------------+------------------+--------+-----+-------------+-------------+\n",
      "|    Timestamp (date)|  ICAO|Downlink Format|Typecode|             lat|              lon|TurbulenceCategory|Callsign|Speed|Altitude (ft)|Flight status|\n",
      "+--------------------+------+---------------+--------+----------------+-----------------+------------------+--------+-----+-------------+-------------+\n",
      "|2025-03-09 07:02:...|3c618b|             20|    NULL|            NULL|             NULL|              NULL|    NULL| NULL|      39000.0|          NaN|\n",
      "|2025-03-09 07:02:...|347256|             20|    NULL|            NULL|             NULL|              NULL|    NULL| NULL|      33000.0|          NaN|\n",
      "|2025-03-09 07:02:...|3451d8|             17|      11|40.7662353515625|-3.14813232421875|              NULL|    NULL| NULL|       9100.0|     airborne|\n",
      "|2025-03-09 07:02:...|4952c6|             20|    NULL|            NULL|             NULL|              NULL|    NULL| NULL|      39025.0|          NaN|\n",
      "|2025-03-09 07:02:...|347256|             21|    NULL|            NULL|             NULL|              NULL|    NULL| NULL|         NULL|          NaN|\n",
      "+--------------------+------+---------------+--------+----------------+-----------------+------------------+--------+-----+-------------+-------------+\n",
      "only showing top 5 rows\n",
      "\n"
     ]
    }
   ],
   "source": [
    "file_path = \"/Users/maria/Dropbox/UCM/PD2/despegues/src/data/final_scenarios/clean/scenario_001.parquet\"\n",
    "\n",
    "from pyspark.sql import SparkSession \n",
    "spark = SparkSession.builder \\\n",
    "    .appName(\"MyApp\") \\\n",
    "    .config(\"spark.driver.memory\", \"16g\") \\\n",
    "    .config(\"spark.executor.memory\", \"16g\") \\\n",
    "    .getOrCreate()\n",
    "\n",
    "# Creamos el dataframe con los datos del escenario post decoder\n",
    "df0 = spark.read.parquet(file_path)\n",
    "df0.show(5)\n"
   ]
  },
  {
   "cell_type": "code",
   "execution_count": null,
   "id": "b6f3cecb",
   "metadata": {},
   "outputs": [],
   "source": [
    "# Aplicamos el pipeline de procesamiento\n",
    "from preprocess import pipeline\n",
    "df1 = pipeline.apply(df0)\n",
    "\n",
    "df1.show(5)"
   ]
  }
 ],
 "metadata": {
  "kernelspec": {
   "display_name": "base",
   "language": "python",
   "name": "python3"
  },
  "language_info": {
   "codemirror_mode": {
    "name": "ipython",
    "version": 3
   },
   "file_extension": ".py",
   "mimetype": "text/x-python",
   "name": "python",
   "nbconvert_exporter": "python",
   "pygments_lexer": "ipython3",
   "version": "3.11.5"
  }
 },
 "nbformat": 4,
 "nbformat_minor": 5
}
