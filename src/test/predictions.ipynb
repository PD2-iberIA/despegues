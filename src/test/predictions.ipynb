{
 "cells": [
  {
   "cell_type": "markdown",
   "id": "f4533c4e",
   "metadata": {},
   "source": [
    "# Preprocessing pipeline"
   ]
  },
  {
   "cell_type": "markdown",
   "id": "466bc228",
   "metadata": {},
   "source": [
    "Procesamos los escenarios de test"
   ]
  },
  {
   "cell_type": "code",
   "execution_count": null,
   "id": "6f87d769",
   "metadata": {},
   "outputs": [],
   "source": [
    "import pandas as pd\n",
    "from pyspark.sql import SparkSession\n",
    "\n",
    "RESULT_PATH = \"/Users/maria/Dropbox/UCM/PD2/final_scenarios/answers_empty.csv\"\n",
    "MODEL_PATH = \n",
    "df_results = pd.read_csv(RESULT_PATH)\n",
    "\n",
    "# Cargamos el modelo entrenado \n",
    "model = load_model(MODEL_PATH)  # Cambia \"model_path\" por la ruta real del modelo\n",
    "\n",
    "for i in range(0, 194):\n",
    "    file = f\"scenario_{fillz(i,3)}\"\n",
    "    # Leemos el dataframe con el escenario ya preprocesado con el formato del decoder\n",
    "    df = spark.read.parquet(file)\n",
    "    # Aplicamos el pipeline de procesamiento\n",
    "    df_model_ready = \n",
    "    # Añadimos los datos meteorológicos\n",
    "    df_con_meteo = \n",
    "    # Sacamos las predicciones con el modelo\n",
    "    predictions = model.predict(df_model_ready)\n",
    "    # Seleccionamos la fila con la predicción correspondiente para ese escenario\n",
    "    pred = \n",
    "    # Rellenamos la información en el dataframe de resultados\n",
    "    df_results.loc[df_results['scenario'] == file, 'pred'] = pred\n",
    "\n",
    "# Guardamos el dataframe de resultados\n",
    "df_results.to_csv(RESULT_PATH, index=False) \n"
   ]
  },
  {
   "cell_type": "code",
   "execution_count": null,
   "id": "fffc379a",
   "metadata": {},
   "outputs": [],
   "source": []
  },
  {
   "cell_type": "markdown",
   "id": "d070934a",
   "metadata": {},
   "source": [
    "# Predictions"
   ]
  },
  {
   "cell_type": "markdown",
   "id": "0f53af0a",
   "metadata": {},
   "source": [
    "Importamos el modelo final de la fase de entrenamiento"
   ]
  },
  {
   "cell_type": "markdown",
   "id": "a716afdb",
   "metadata": {},
   "source": [
    "Realizamos las predicciones sobre el escenario procesado"
   ]
  },
  {
   "cell_type": "markdown",
   "id": "7afeeacb",
   "metadata": {},
   "source": [
    "Guardamos la predicción correspondiente en el CSV de respuestas"
   ]
  },
  {
   "cell_type": "markdown",
   "id": "a8367a3c",
   "metadata": {},
   "source": []
  }
 ],
 "metadata": {
  "language_info": {
   "name": "python"
  }
 },
 "nbformat": 4,
 "nbformat_minor": 5
}
