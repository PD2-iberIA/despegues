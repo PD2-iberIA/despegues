{
 "cells": [
  {
   "cell_type": "code",
   "execution_count": 16,
   "id": "28c6bf3b-74f3-47c5-8754-6f00bd7d2ee8",
   "metadata": {},
   "outputs": [],
   "source": [
    "import pandas as pd\n",
    "import numpy as np\n",
    "\n",
    "def cleanScenario(df):\n",
    "    \n",
    "    df_new = df[[\"ts\", \"icao24\", \"df\", \"tc\", \"callsign\", \"bds20_callsign\", \"lat_deg\", \"lon_deg\", \"altitude\", \"bds05_altitude\", \"groundspeed\", \"bds50_groundspeed\", \"wake_vortex\"]]\n",
    "    \n",
    "    WAKE_VORTEX_TRANSLATION = {\n",
    "        '<7000kg': 'Light (less than 7000 kg)',\n",
    "        '<34,000kg': 'Medium 1 (between 7000 kg and 34000 kg)',\n",
    "        '<136,000kg': 'Medium 2 (between 34000 kg to 136000 kg)',\n",
    "        'Heavy': 'Heavy (larger than 136000 kg)',\n",
    "        'High vortex': 'High vortex aircraft',\n",
    "        'Rotorcraft': 'Rotorcraft',\n",
    "        'Obstruction': 'Ground obstruction',\n",
    "        'Surface emergency vehicle': 'Surface emergency vehicle',\n",
    "    }\n",
    "    \n",
    "    df_new[\"TurbulenceCategory\"] = df_new[\"wake_vortex\"].map(WAKE_VORTEX_TRANSLATION).fillna(np.nan)\n",
    "    df_new = df_new.drop(columns=[\"wake_vortex\"])\n",
    "\n",
    "    # Cambiamos el formato de al columna timestamp\n",
    "    df_new[\"ts\"] = pd.to_datetime(df_new[\"ts\"], unit='ms') # para que se pueda leer también con spark\n",
    "    \n",
    "    # Pasamos el typecode y downlink format a enteros\n",
    "    df_new[\"tc\"] = df_new[\"tc\"].astype(\"Int64\")\n",
    "    df_new[\"df\"] = df_new[\"df\"].astype(\"Int64\")\n",
    "    \n",
    "    # Combinamos las dos columnas de callsign en una sola\n",
    "    df_new[\"Callsign\"] = df_new[\"callsign\"].fillna(df_new[\"bds20_callsign\"])\n",
    "    df_new = df_new.drop(columns=[\"callsign\", \"bds20_callsign\"])\n",
    "    \n",
    "    # Combinamos las dos columnas de speed en una sola\n",
    "    df_new[\"Speed\"] = df_new[\"groundspeed\"].fillna(df_new[\"bds50_groundspeed\"])\n",
    "    df_new = df_new.drop(columns=[\"groundspeed\", \"bds50_groundspeed\"])\n",
    "    \n",
    "    # Combinamos las dos columnas de altitude en una sola\n",
    "    df_new[\"Altitude (ft)\"] = df_new[\"altitude\"].fillna(df_new[\"bds05_altitude\"])\n",
    "    df_new = df_new.drop(columns=[\"altitude\", \"bds05_altitude\"])\n",
    "    \n",
    "    df_new = df_new.rename(columns={\"ts\": \"Timestamp (date)\", \"icao24\": \"ICAO\", \"df\": \"Downlink Format\", \"tc\": \"Typecode\",\n",
    "                                     \"lat_deg\": \"lat\", \"lon_deg\": \"lon\"})\n",
    "\n",
    "    # Flight Status basado en Downlink Format y Typecode\n",
    "    conditions_fs = [\n",
    "        (df_new[\"Downlink Format\"].isin([17, 18])) & (df_new[\"Typecode\"].isin(range(5, 9))), # TC 5-8 (Tierra)\n",
    "        (df_new[\"Downlink Format\"].isin([17, 18])) & (df_new[\"Typecode\"].isin(range(9, 23))), # TC 9-22 (Airborne) \n",
    "    ]\n",
    "    \n",
    "    results_fs = [\n",
    "        'on-ground',\n",
    "        'airborne',\n",
    "    ]\n",
    "    \n",
    "    df_new[\"Flight status\"] = np.select(conditions_fs, results_fs, default='NaN') \n",
    "\n",
    "    return df_new"
   ]
  },
  {
   "cell_type": "code",
   "execution_count": 18,
   "id": "3d7b8f69-e8a4-460a-8444-e486741aba6f",
   "metadata": {},
   "outputs": [
    {
     "name": "stdout",
     "output_type": "stream",
     "text": [
      "Procesando scenario_064.parquet\n"
     ]
    },
    {
     "name": "stderr",
     "output_type": "stream",
     "text": [
      "/var/folders/dp/1z2xwn7516q1b4n5t3nlr0500000gn/T/ipykernel_11419/2679907221.py:19: SettingWithCopyWarning: \n",
      "A value is trying to be set on a copy of a slice from a DataFrame.\n",
      "Try using .loc[row_indexer,col_indexer] = value instead\n",
      "\n",
      "See the caveats in the documentation: https://pandas.pydata.org/pandas-docs/stable/user_guide/indexing.html#returning-a-view-versus-a-copy\n",
      "  df_new[\"TurbulenceCategory\"] = df_new[\"wake_vortex\"].map(WAKE_VORTEX_TRANSLATION).fillna(np.nan)\n",
      "/var/folders/dp/1z2xwn7516q1b4n5t3nlr0500000gn/T/ipykernel_11419/2679907221.py:19: SettingWithCopyWarning: \n",
      "A value is trying to be set on a copy of a slice from a DataFrame.\n",
      "Try using .loc[row_indexer,col_indexer] = value instead\n",
      "\n",
      "See the caveats in the documentation: https://pandas.pydata.org/pandas-docs/stable/user_guide/indexing.html#returning-a-view-versus-a-copy\n",
      "  df_new[\"TurbulenceCategory\"] = df_new[\"wake_vortex\"].map(WAKE_VORTEX_TRANSLATION).fillna(np.nan)\n"
     ]
    },
    {
     "name": "stdout",
     "output_type": "stream",
     "text": [
      "Guardado en ../data/final_scenarios/clean/scenario_064.parquet\n",
      "Procesando scenario_074.parquet\n",
      "Guardado en ../data/final_scenarios/clean/scenario_074.parquet\n",
      "Procesando scenario_006.parquet\n"
     ]
    },
    {
     "name": "stderr",
     "output_type": "stream",
     "text": [
      "/var/folders/dp/1z2xwn7516q1b4n5t3nlr0500000gn/T/ipykernel_11419/2679907221.py:19: SettingWithCopyWarning: \n",
      "A value is trying to be set on a copy of a slice from a DataFrame.\n",
      "Try using .loc[row_indexer,col_indexer] = value instead\n",
      "\n",
      "See the caveats in the documentation: https://pandas.pydata.org/pandas-docs/stable/user_guide/indexing.html#returning-a-view-versus-a-copy\n",
      "  df_new[\"TurbulenceCategory\"] = df_new[\"wake_vortex\"].map(WAKE_VORTEX_TRANSLATION).fillna(np.nan)\n"
     ]
    },
    {
     "name": "stdout",
     "output_type": "stream",
     "text": [
      "Guardado en ../data/final_scenarios/clean/scenario_006.parquet\n",
      "Procesando scenario_016.parquet\n"
     ]
    },
    {
     "name": "stderr",
     "output_type": "stream",
     "text": [
      "/var/folders/dp/1z2xwn7516q1b4n5t3nlr0500000gn/T/ipykernel_11419/2679907221.py:19: SettingWithCopyWarning: \n",
      "A value is trying to be set on a copy of a slice from a DataFrame.\n",
      "Try using .loc[row_indexer,col_indexer] = value instead\n",
      "\n",
      "See the caveats in the documentation: https://pandas.pydata.org/pandas-docs/stable/user_guide/indexing.html#returning-a-view-versus-a-copy\n",
      "  df_new[\"TurbulenceCategory\"] = df_new[\"wake_vortex\"].map(WAKE_VORTEX_TRANSLATION).fillna(np.nan)\n",
      "/var/folders/dp/1z2xwn7516q1b4n5t3nlr0500000gn/T/ipykernel_11419/2679907221.py:19: SettingWithCopyWarning: \n",
      "A value is trying to be set on a copy of a slice from a DataFrame.\n",
      "Try using .loc[row_indexer,col_indexer] = value instead\n",
      "\n",
      "See the caveats in the documentation: https://pandas.pydata.org/pandas-docs/stable/user_guide/indexing.html#returning-a-view-versus-a-copy\n",
      "  df_new[\"TurbulenceCategory\"] = df_new[\"wake_vortex\"].map(WAKE_VORTEX_TRANSLATION).fillna(np.nan)\n"
     ]
    },
    {
     "name": "stdout",
     "output_type": "stream",
     "text": [
      "Guardado en ../data/final_scenarios/clean/scenario_016.parquet\n",
      "Procesando scenario_123.parquet\n",
      "Guardado en ../data/final_scenarios/clean/scenario_123.parquet\n",
      "Procesando scenario_133.parquet\n"
     ]
    },
    {
     "name": "stderr",
     "output_type": "stream",
     "text": [
      "/var/folders/dp/1z2xwn7516q1b4n5t3nlr0500000gn/T/ipykernel_11419/2679907221.py:19: SettingWithCopyWarning: \n",
      "A value is trying to be set on a copy of a slice from a DataFrame.\n",
      "Try using .loc[row_indexer,col_indexer] = value instead\n",
      "\n",
      "See the caveats in the documentation: https://pandas.pydata.org/pandas-docs/stable/user_guide/indexing.html#returning-a-view-versus-a-copy\n",
      "  df_new[\"TurbulenceCategory\"] = df_new[\"wake_vortex\"].map(WAKE_VORTEX_TRANSLATION).fillna(np.nan)\n"
     ]
    },
    {
     "name": "stdout",
     "output_type": "stream",
     "text": [
      "Guardado en ../data/final_scenarios/clean/scenario_133.parquet\n",
      "Procesando scenario_039.parquet\n"
     ]
    },
    {
     "name": "stderr",
     "output_type": "stream",
     "text": [
      "/var/folders/dp/1z2xwn7516q1b4n5t3nlr0500000gn/T/ipykernel_11419/2679907221.py:19: SettingWithCopyWarning: \n",
      "A value is trying to be set on a copy of a slice from a DataFrame.\n",
      "Try using .loc[row_indexer,col_indexer] = value instead\n",
      "\n",
      "See the caveats in the documentation: https://pandas.pydata.org/pandas-docs/stable/user_guide/indexing.html#returning-a-view-versus-a-copy\n",
      "  df_new[\"TurbulenceCategory\"] = df_new[\"wake_vortex\"].map(WAKE_VORTEX_TRANSLATION).fillna(np.nan)\n",
      "/var/folders/dp/1z2xwn7516q1b4n5t3nlr0500000gn/T/ipykernel_11419/2679907221.py:19: SettingWithCopyWarning: \n",
      "A value is trying to be set on a copy of a slice from a DataFrame.\n",
      "Try using .loc[row_indexer,col_indexer] = value instead\n",
      "\n",
      "See the caveats in the documentation: https://pandas.pydata.org/pandas-docs/stable/user_guide/indexing.html#returning-a-view-versus-a-copy\n",
      "  df_new[\"TurbulenceCategory\"] = df_new[\"wake_vortex\"].map(WAKE_VORTEX_TRANSLATION).fillna(np.nan)\n"
     ]
    },
    {
     "name": "stdout",
     "output_type": "stream",
     "text": [
      "Guardado en ../data/final_scenarios/clean/scenario_039.parquet\n",
      "Procesando scenario_141.parquet\n",
      "Guardado en ../data/final_scenarios/clean/scenario_141.parquet\n",
      "Procesando scenario_029.parquet\n"
     ]
    },
    {
     "name": "stderr",
     "output_type": "stream",
     "text": [
      "/var/folders/dp/1z2xwn7516q1b4n5t3nlr0500000gn/T/ipykernel_11419/2679907221.py:19: SettingWithCopyWarning: \n",
      "A value is trying to be set on a copy of a slice from a DataFrame.\n",
      "Try using .loc[row_indexer,col_indexer] = value instead\n",
      "\n",
      "See the caveats in the documentation: https://pandas.pydata.org/pandas-docs/stable/user_guide/indexing.html#returning-a-view-versus-a-copy\n",
      "  df_new[\"TurbulenceCategory\"] = df_new[\"wake_vortex\"].map(WAKE_VORTEX_TRANSLATION).fillna(np.nan)\n",
      "/var/folders/dp/1z2xwn7516q1b4n5t3nlr0500000gn/T/ipykernel_11419/2679907221.py:19: SettingWithCopyWarning: \n",
      "A value is trying to be set on a copy of a slice from a DataFrame.\n",
      "Try using .loc[row_indexer,col_indexer] = value instead\n",
      "\n",
      "See the caveats in the documentation: https://pandas.pydata.org/pandas-docs/stable/user_guide/indexing.html#returning-a-view-versus-a-copy\n",
      "  df_new[\"TurbulenceCategory\"] = df_new[\"wake_vortex\"].map(WAKE_VORTEX_TRANSLATION).fillna(np.nan)\n"
     ]
    },
    {
     "name": "stdout",
     "output_type": "stream",
     "text": [
      "Guardado en ../data/final_scenarios/clean/scenario_029.parquet\n",
      "Procesando scenario_151.parquet\n",
      "Guardado en ../data/final_scenarios/clean/scenario_151.parquet\n",
      "Procesando scenario_080.parquet\n"
     ]
    },
    {
     "name": "stderr",
     "output_type": "stream",
     "text": [
      "/var/folders/dp/1z2xwn7516q1b4n5t3nlr0500000gn/T/ipykernel_11419/2679907221.py:19: SettingWithCopyWarning: \n",
      "A value is trying to be set on a copy of a slice from a DataFrame.\n",
      "Try using .loc[row_indexer,col_indexer] = value instead\n",
      "\n",
      "See the caveats in the documentation: https://pandas.pydata.org/pandas-docs/stable/user_guide/indexing.html#returning-a-view-versus-a-copy\n",
      "  df_new[\"TurbulenceCategory\"] = df_new[\"wake_vortex\"].map(WAKE_VORTEX_TRANSLATION).fillna(np.nan)\n"
     ]
    },
    {
     "name": "stdout",
     "output_type": "stream",
     "text": [
      "Guardado en ../data/final_scenarios/clean/scenario_080.parquet\n",
      "Procesando scenario_090.parquet\n"
     ]
    },
    {
     "name": "stderr",
     "output_type": "stream",
     "text": [
      "/var/folders/dp/1z2xwn7516q1b4n5t3nlr0500000gn/T/ipykernel_11419/2679907221.py:19: SettingWithCopyWarning: \n",
      "A value is trying to be set on a copy of a slice from a DataFrame.\n",
      "Try using .loc[row_indexer,col_indexer] = value instead\n",
      "\n",
      "See the caveats in the documentation: https://pandas.pydata.org/pandas-docs/stable/user_guide/indexing.html#returning-a-view-versus-a-copy\n",
      "  df_new[\"TurbulenceCategory\"] = df_new[\"wake_vortex\"].map(WAKE_VORTEX_TRANSLATION).fillna(np.nan)\n"
     ]
    },
    {
     "name": "stdout",
     "output_type": "stream",
     "text": [
      "Guardado en ../data/final_scenarios/clean/scenario_090.parquet\n",
      "Procesando scenario_167.parquet\n"
     ]
    },
    {
     "name": "stderr",
     "output_type": "stream",
     "text": [
      "/var/folders/dp/1z2xwn7516q1b4n5t3nlr0500000gn/T/ipykernel_11419/2679907221.py:19: SettingWithCopyWarning: \n",
      "A value is trying to be set on a copy of a slice from a DataFrame.\n",
      "Try using .loc[row_indexer,col_indexer] = value instead\n",
      "\n",
      "See the caveats in the documentation: https://pandas.pydata.org/pandas-docs/stable/user_guide/indexing.html#returning-a-view-versus-a-copy\n",
      "  df_new[\"TurbulenceCategory\"] = df_new[\"wake_vortex\"].map(WAKE_VORTEX_TRANSLATION).fillna(np.nan)\n",
      "/var/folders/dp/1z2xwn7516q1b4n5t3nlr0500000gn/T/ipykernel_11419/2679907221.py:19: SettingWithCopyWarning: \n",
      "A value is trying to be set on a copy of a slice from a DataFrame.\n",
      "Try using .loc[row_indexer,col_indexer] = value instead\n",
      "\n",
      "See the caveats in the documentation: https://pandas.pydata.org/pandas-docs/stable/user_guide/indexing.html#returning-a-view-versus-a-copy\n",
      "  df_new[\"TurbulenceCategory\"] = df_new[\"wake_vortex\"].map(WAKE_VORTEX_TRANSLATION).fillna(np.nan)\n"
     ]
    },
    {
     "name": "stdout",
     "output_type": "stream",
     "text": [
      "Guardado en ../data/final_scenarios/clean/scenario_167.parquet\n",
      "Procesando scenario_177.parquet\n",
      "Guardado en ../data/final_scenarios/clean/scenario_177.parquet\n",
      "Procesando scenario_105.parquet\n"
     ]
    },
    {
     "name": "stderr",
     "output_type": "stream",
     "text": [
      "/var/folders/dp/1z2xwn7516q1b4n5t3nlr0500000gn/T/ipykernel_11419/2679907221.py:19: SettingWithCopyWarning: \n",
      "A value is trying to be set on a copy of a slice from a DataFrame.\n",
      "Try using .loc[row_indexer,col_indexer] = value instead\n",
      "\n",
      "See the caveats in the documentation: https://pandas.pydata.org/pandas-docs/stable/user_guide/indexing.html#returning-a-view-versus-a-copy\n",
      "  df_new[\"TurbulenceCategory\"] = df_new[\"wake_vortex\"].map(WAKE_VORTEX_TRANSLATION).fillna(np.nan)\n"
     ]
    },
    {
     "name": "stdout",
     "output_type": "stream",
     "text": [
      "Guardado en ../data/final_scenarios/clean/scenario_105.parquet\n",
      "Procesando scenario_115.parquet\n"
     ]
    },
    {
     "name": "stderr",
     "output_type": "stream",
     "text": [
      "/var/folders/dp/1z2xwn7516q1b4n5t3nlr0500000gn/T/ipykernel_11419/2679907221.py:19: SettingWithCopyWarning: \n",
      "A value is trying to be set on a copy of a slice from a DataFrame.\n",
      "Try using .loc[row_indexer,col_indexer] = value instead\n",
      "\n",
      "See the caveats in the documentation: https://pandas.pydata.org/pandas-docs/stable/user_guide/indexing.html#returning-a-view-versus-a-copy\n",
      "  df_new[\"TurbulenceCategory\"] = df_new[\"wake_vortex\"].map(WAKE_VORTEX_TRANSLATION).fillna(np.nan)\n"
     ]
    },
    {
     "name": "stdout",
     "output_type": "stream",
     "text": [
      "Guardado en ../data/final_scenarios/clean/scenario_115.parquet\n",
      "Procesando scenario_020.parquet\n"
     ]
    },
    {
     "name": "stderr",
     "output_type": "stream",
     "text": [
      "/var/folders/dp/1z2xwn7516q1b4n5t3nlr0500000gn/T/ipykernel_11419/2679907221.py:19: SettingWithCopyWarning: \n",
      "A value is trying to be set on a copy of a slice from a DataFrame.\n",
      "Try using .loc[row_indexer,col_indexer] = value instead\n",
      "\n",
      "See the caveats in the documentation: https://pandas.pydata.org/pandas-docs/stable/user_guide/indexing.html#returning-a-view-versus-a-copy\n",
      "  df_new[\"TurbulenceCategory\"] = df_new[\"wake_vortex\"].map(WAKE_VORTEX_TRANSLATION).fillna(np.nan)\n"
     ]
    },
    {
     "name": "stdout",
     "output_type": "stream",
     "text": [
      "Guardado en ../data/final_scenarios/clean/scenario_020.parquet\n",
      "Procesando scenario_158.parquet\n"
     ]
    },
    {
     "name": "stderr",
     "output_type": "stream",
     "text": [
      "/var/folders/dp/1z2xwn7516q1b4n5t3nlr0500000gn/T/ipykernel_11419/2679907221.py:19: SettingWithCopyWarning: \n",
      "A value is trying to be set on a copy of a slice from a DataFrame.\n",
      "Try using .loc[row_indexer,col_indexer] = value instead\n",
      "\n",
      "See the caveats in the documentation: https://pandas.pydata.org/pandas-docs/stable/user_guide/indexing.html#returning-a-view-versus-a-copy\n",
      "  df_new[\"TurbulenceCategory\"] = df_new[\"wake_vortex\"].map(WAKE_VORTEX_TRANSLATION).fillna(np.nan)\n"
     ]
    },
    {
     "name": "stdout",
     "output_type": "stream",
     "text": [
      "Guardado en ../data/final_scenarios/clean/scenario_158.parquet\n",
      "Procesando scenario_030.parquet\n"
     ]
    },
    {
     "name": "stderr",
     "output_type": "stream",
     "text": [
      "/var/folders/dp/1z2xwn7516q1b4n5t3nlr0500000gn/T/ipykernel_11419/2679907221.py:19: SettingWithCopyWarning: \n",
      "A value is trying to be set on a copy of a slice from a DataFrame.\n",
      "Try using .loc[row_indexer,col_indexer] = value instead\n",
      "\n",
      "See the caveats in the documentation: https://pandas.pydata.org/pandas-docs/stable/user_guide/indexing.html#returning-a-view-versus-a-copy\n",
      "  df_new[\"TurbulenceCategory\"] = df_new[\"wake_vortex\"].map(WAKE_VORTEX_TRANSLATION).fillna(np.nan)\n"
     ]
    },
    {
     "name": "stdout",
     "output_type": "stream",
     "text": [
      "Guardado en ../data/final_scenarios/clean/scenario_030.parquet\n",
      "Procesando scenario_148.parquet\n"
     ]
    },
    {
     "name": "stderr",
     "output_type": "stream",
     "text": [
      "/var/folders/dp/1z2xwn7516q1b4n5t3nlr0500000gn/T/ipykernel_11419/2679907221.py:19: SettingWithCopyWarning: \n",
      "A value is trying to be set on a copy of a slice from a DataFrame.\n",
      "Try using .loc[row_indexer,col_indexer] = value instead\n",
      "\n",
      "See the caveats in the documentation: https://pandas.pydata.org/pandas-docs/stable/user_guide/indexing.html#returning-a-view-versus-a-copy\n",
      "  df_new[\"TurbulenceCategory\"] = df_new[\"wake_vortex\"].map(WAKE_VORTEX_TRANSLATION).fillna(np.nan)\n",
      "/var/folders/dp/1z2xwn7516q1b4n5t3nlr0500000gn/T/ipykernel_11419/2679907221.py:19: SettingWithCopyWarning: \n",
      "A value is trying to be set on a copy of a slice from a DataFrame.\n",
      "Try using .loc[row_indexer,col_indexer] = value instead\n",
      "\n",
      "See the caveats in the documentation: https://pandas.pydata.org/pandas-docs/stable/user_guide/indexing.html#returning-a-view-versus-a-copy\n",
      "  df_new[\"TurbulenceCategory\"] = df_new[\"wake_vortex\"].map(WAKE_VORTEX_TRANSLATION).fillna(np.nan)\n",
      "/var/folders/dp/1z2xwn7516q1b4n5t3nlr0500000gn/T/ipykernel_11419/2679907221.py:19: SettingWithCopyWarning: \n",
      "A value is trying to be set on a copy of a slice from a DataFrame.\n",
      "Try using .loc[row_indexer,col_indexer] = value instead\n",
      "\n",
      "See the caveats in the documentation: https://pandas.pydata.org/pandas-docs/stable/user_guide/indexing.html#returning-a-view-versus-a-copy\n",
      "  df_new[\"TurbulenceCategory\"] = df_new[\"wake_vortex\"].map(WAKE_VORTEX_TRANSLATION).fillna(np.nan)\n"
     ]
    },
    {
     "name": "stdout",
     "output_type": "stream",
     "text": [
      "Guardado en ../data/final_scenarios/clean/scenario_148.parquet\n",
      "Procesando scenario_099.parquet\n",
      "Guardado en ../data/final_scenarios/clean/scenario_099.parquet\n",
      "Procesando scenario_089.parquet\n",
      "Guardado en ../data/final_scenarios/clean/scenario_089.parquet\n",
      "Procesando scenario_183.parquet\n"
     ]
    },
    {
     "name": "stderr",
     "output_type": "stream",
     "text": [
      "/var/folders/dp/1z2xwn7516q1b4n5t3nlr0500000gn/T/ipykernel_11419/2679907221.py:19: SettingWithCopyWarning: \n",
      "A value is trying to be set on a copy of a slice from a DataFrame.\n",
      "Try using .loc[row_indexer,col_indexer] = value instead\n",
      "\n",
      "See the caveats in the documentation: https://pandas.pydata.org/pandas-docs/stable/user_guide/indexing.html#returning-a-view-versus-a-copy\n",
      "  df_new[\"TurbulenceCategory\"] = df_new[\"wake_vortex\"].map(WAKE_VORTEX_TRANSLATION).fillna(np.nan)\n"
     ]
    },
    {
     "name": "stdout",
     "output_type": "stream",
     "text": [
      "Guardado en ../data/final_scenarios/clean/scenario_183.parquet\n",
      "Procesando scenario_193.parquet\n"
     ]
    },
    {
     "name": "stderr",
     "output_type": "stream",
     "text": [
      "/var/folders/dp/1z2xwn7516q1b4n5t3nlr0500000gn/T/ipykernel_11419/2679907221.py:19: SettingWithCopyWarning: \n",
      "A value is trying to be set on a copy of a slice from a DataFrame.\n",
      "Try using .loc[row_indexer,col_indexer] = value instead\n",
      "\n",
      "See the caveats in the documentation: https://pandas.pydata.org/pandas-docs/stable/user_guide/indexing.html#returning-a-view-versus-a-copy\n",
      "  df_new[\"TurbulenceCategory\"] = df_new[\"wake_vortex\"].map(WAKE_VORTEX_TRANSLATION).fillna(np.nan)\n"
     ]
    },
    {
     "name": "stdout",
     "output_type": "stream",
     "text": [
      "Guardado en ../data/final_scenarios/clean/scenario_193.parquet\n",
      "Procesando scenario_042.parquet\n"
     ]
    },
    {
     "name": "stderr",
     "output_type": "stream",
     "text": [
      "/var/folders/dp/1z2xwn7516q1b4n5t3nlr0500000gn/T/ipykernel_11419/2679907221.py:19: SettingWithCopyWarning: \n",
      "A value is trying to be set on a copy of a slice from a DataFrame.\n",
      "Try using .loc[row_indexer,col_indexer] = value instead\n",
      "\n",
      "See the caveats in the documentation: https://pandas.pydata.org/pandas-docs/stable/user_guide/indexing.html#returning-a-view-versus-a-copy\n",
      "  df_new[\"TurbulenceCategory\"] = df_new[\"wake_vortex\"].map(WAKE_VORTEX_TRANSLATION).fillna(np.nan)\n"
     ]
    },
    {
     "name": "stdout",
     "output_type": "stream",
     "text": [
      "Guardado en ../data/final_scenarios/clean/scenario_042.parquet\n",
      "Procesando scenario_052.parquet\n"
     ]
    },
    {
     "name": "stderr",
     "output_type": "stream",
     "text": [
      "/var/folders/dp/1z2xwn7516q1b4n5t3nlr0500000gn/T/ipykernel_11419/2679907221.py:19: SettingWithCopyWarning: \n",
      "A value is trying to be set on a copy of a slice from a DataFrame.\n",
      "Try using .loc[row_indexer,col_indexer] = value instead\n",
      "\n",
      "See the caveats in the documentation: https://pandas.pydata.org/pandas-docs/stable/user_guide/indexing.html#returning-a-view-versus-a-copy\n",
      "  df_new[\"TurbulenceCategory\"] = df_new[\"wake_vortex\"].map(WAKE_VORTEX_TRANSLATION).fillna(np.nan)\n"
     ]
    },
    {
     "name": "stdout",
     "output_type": "stream",
     "text": [
      "Guardado en ../data/final_scenarios/clean/scenario_052.parquet\n",
      "Procesando scenario_176.parquet\n"
     ]
    },
    {
     "name": "stderr",
     "output_type": "stream",
     "text": [
      "/var/folders/dp/1z2xwn7516q1b4n5t3nlr0500000gn/T/ipykernel_11419/2679907221.py:19: SettingWithCopyWarning: \n",
      "A value is trying to be set on a copy of a slice from a DataFrame.\n",
      "Try using .loc[row_indexer,col_indexer] = value instead\n",
      "\n",
      "See the caveats in the documentation: https://pandas.pydata.org/pandas-docs/stable/user_guide/indexing.html#returning-a-view-versus-a-copy\n",
      "  df_new[\"TurbulenceCategory\"] = df_new[\"wake_vortex\"].map(WAKE_VORTEX_TRANSLATION).fillna(np.nan)\n"
     ]
    },
    {
     "name": "stdout",
     "output_type": "stream",
     "text": [
      "Guardado en ../data/final_scenarios/clean/scenario_176.parquet\n",
      "Procesando scenario_166.parquet\n"
     ]
    },
    {
     "name": "stderr",
     "output_type": "stream",
     "text": [
      "/var/folders/dp/1z2xwn7516q1b4n5t3nlr0500000gn/T/ipykernel_11419/2679907221.py:19: SettingWithCopyWarning: \n",
      "A value is trying to be set on a copy of a slice from a DataFrame.\n",
      "Try using .loc[row_indexer,col_indexer] = value instead\n",
      "\n",
      "See the caveats in the documentation: https://pandas.pydata.org/pandas-docs/stable/user_guide/indexing.html#returning-a-view-versus-a-copy\n",
      "  df_new[\"TurbulenceCategory\"] = df_new[\"wake_vortex\"].map(WAKE_VORTEX_TRANSLATION).fillna(np.nan)\n"
     ]
    },
    {
     "name": "stdout",
     "output_type": "stream",
     "text": [
      "Guardado en ../data/final_scenarios/clean/scenario_166.parquet\n",
      "Procesando scenario_114.parquet\n"
     ]
    },
    {
     "name": "stderr",
     "output_type": "stream",
     "text": [
      "/var/folders/dp/1z2xwn7516q1b4n5t3nlr0500000gn/T/ipykernel_11419/2679907221.py:19: SettingWithCopyWarning: \n",
      "A value is trying to be set on a copy of a slice from a DataFrame.\n",
      "Try using .loc[row_indexer,col_indexer] = value instead\n",
      "\n",
      "See the caveats in the documentation: https://pandas.pydata.org/pandas-docs/stable/user_guide/indexing.html#returning-a-view-versus-a-copy\n",
      "  df_new[\"TurbulenceCategory\"] = df_new[\"wake_vortex\"].map(WAKE_VORTEX_TRANSLATION).fillna(np.nan)\n",
      "/var/folders/dp/1z2xwn7516q1b4n5t3nlr0500000gn/T/ipykernel_11419/2679907221.py:19: SettingWithCopyWarning: \n",
      "A value is trying to be set on a copy of a slice from a DataFrame.\n",
      "Try using .loc[row_indexer,col_indexer] = value instead\n",
      "\n",
      "See the caveats in the documentation: https://pandas.pydata.org/pandas-docs/stable/user_guide/indexing.html#returning-a-view-versus-a-copy\n",
      "  df_new[\"TurbulenceCategory\"] = df_new[\"wake_vortex\"].map(WAKE_VORTEX_TRANSLATION).fillna(np.nan)\n"
     ]
    },
    {
     "name": "stdout",
     "output_type": "stream",
     "text": [
      "Guardado en ../data/final_scenarios/clean/scenario_114.parquet\n",
      "Procesando scenario_104.parquet\n",
      "Guardado en ../data/final_scenarios/clean/scenario_104.parquet\n",
      "Procesando scenario_088.parquet\n"
     ]
    },
    {
     "name": "stderr",
     "output_type": "stream",
     "text": [
      "/var/folders/dp/1z2xwn7516q1b4n5t3nlr0500000gn/T/ipykernel_11419/2679907221.py:19: SettingWithCopyWarning: \n",
      "A value is trying to be set on a copy of a slice from a DataFrame.\n",
      "Try using .loc[row_indexer,col_indexer] = value instead\n",
      "\n",
      "See the caveats in the documentation: https://pandas.pydata.org/pandas-docs/stable/user_guide/indexing.html#returning-a-view-versus-a-copy\n",
      "  df_new[\"TurbulenceCategory\"] = df_new[\"wake_vortex\"].map(WAKE_VORTEX_TRANSLATION).fillna(np.nan)\n"
     ]
    },
    {
     "name": "stdout",
     "output_type": "stream",
     "text": [
      "Guardado en ../data/final_scenarios/clean/scenario_088.parquet\n",
      "Procesando scenario_098.parquet\n"
     ]
    },
    {
     "name": "stderr",
     "output_type": "stream",
     "text": [
      "/var/folders/dp/1z2xwn7516q1b4n5t3nlr0500000gn/T/ipykernel_11419/2679907221.py:19: SettingWithCopyWarning: \n",
      "A value is trying to be set on a copy of a slice from a DataFrame.\n",
      "Try using .loc[row_indexer,col_indexer] = value instead\n",
      "\n",
      "See the caveats in the documentation: https://pandas.pydata.org/pandas-docs/stable/user_guide/indexing.html#returning-a-view-versus-a-copy\n",
      "  df_new[\"TurbulenceCategory\"] = df_new[\"wake_vortex\"].map(WAKE_VORTEX_TRANSLATION).fillna(np.nan)\n"
     ]
    },
    {
     "name": "stdout",
     "output_type": "stream",
     "text": [
      "Guardado en ../data/final_scenarios/clean/scenario_098.parquet\n",
      "Procesando scenario_149.parquet\n"
     ]
    },
    {
     "name": "stderr",
     "output_type": "stream",
     "text": [
      "/var/folders/dp/1z2xwn7516q1b4n5t3nlr0500000gn/T/ipykernel_11419/2679907221.py:19: SettingWithCopyWarning: \n",
      "A value is trying to be set on a copy of a slice from a DataFrame.\n",
      "Try using .loc[row_indexer,col_indexer] = value instead\n",
      "\n",
      "See the caveats in the documentation: https://pandas.pydata.org/pandas-docs/stable/user_guide/indexing.html#returning-a-view-versus-a-copy\n",
      "  df_new[\"TurbulenceCategory\"] = df_new[\"wake_vortex\"].map(WAKE_VORTEX_TRANSLATION).fillna(np.nan)\n",
      "/var/folders/dp/1z2xwn7516q1b4n5t3nlr0500000gn/T/ipykernel_11419/2679907221.py:19: SettingWithCopyWarning: \n",
      "A value is trying to be set on a copy of a slice from a DataFrame.\n",
      "Try using .loc[row_indexer,col_indexer] = value instead\n",
      "\n",
      "See the caveats in the documentation: https://pandas.pydata.org/pandas-docs/stable/user_guide/indexing.html#returning-a-view-versus-a-copy\n",
      "  df_new[\"TurbulenceCategory\"] = df_new[\"wake_vortex\"].map(WAKE_VORTEX_TRANSLATION).fillna(np.nan)\n"
     ]
    },
    {
     "name": "stdout",
     "output_type": "stream",
     "text": [
      "Guardado en ../data/final_scenarios/clean/scenario_149.parquet\n",
      "Procesando scenario_031.parquet\n",
      "Guardado en ../data/final_scenarios/clean/scenario_031.parquet\n",
      "Procesando scenario_159.parquet\n"
     ]
    },
    {
     "name": "stderr",
     "output_type": "stream",
     "text": [
      "/var/folders/dp/1z2xwn7516q1b4n5t3nlr0500000gn/T/ipykernel_11419/2679907221.py:19: SettingWithCopyWarning: \n",
      "A value is trying to be set on a copy of a slice from a DataFrame.\n",
      "Try using .loc[row_indexer,col_indexer] = value instead\n",
      "\n",
      "See the caveats in the documentation: https://pandas.pydata.org/pandas-docs/stable/user_guide/indexing.html#returning-a-view-versus-a-copy\n",
      "  df_new[\"TurbulenceCategory\"] = df_new[\"wake_vortex\"].map(WAKE_VORTEX_TRANSLATION).fillna(np.nan)\n"
     ]
    },
    {
     "name": "stdout",
     "output_type": "stream",
     "text": [
      "Guardado en ../data/final_scenarios/clean/scenario_159.parquet\n",
      "Procesando scenario_021.parquet\n"
     ]
    },
    {
     "name": "stderr",
     "output_type": "stream",
     "text": [
      "/var/folders/dp/1z2xwn7516q1b4n5t3nlr0500000gn/T/ipykernel_11419/2679907221.py:19: SettingWithCopyWarning: \n",
      "A value is trying to be set on a copy of a slice from a DataFrame.\n",
      "Try using .loc[row_indexer,col_indexer] = value instead\n",
      "\n",
      "See the caveats in the documentation: https://pandas.pydata.org/pandas-docs/stable/user_guide/indexing.html#returning-a-view-versus-a-copy\n",
      "  df_new[\"TurbulenceCategory\"] = df_new[\"wake_vortex\"].map(WAKE_VORTEX_TRANSLATION).fillna(np.nan)\n",
      "/var/folders/dp/1z2xwn7516q1b4n5t3nlr0500000gn/T/ipykernel_11419/2679907221.py:19: SettingWithCopyWarning: \n",
      "A value is trying to be set on a copy of a slice from a DataFrame.\n",
      "Try using .loc[row_indexer,col_indexer] = value instead\n",
      "\n",
      "See the caveats in the documentation: https://pandas.pydata.org/pandas-docs/stable/user_guide/indexing.html#returning-a-view-versus-a-copy\n",
      "  df_new[\"TurbulenceCategory\"] = df_new[\"wake_vortex\"].map(WAKE_VORTEX_TRANSLATION).fillna(np.nan)\n"
     ]
    },
    {
     "name": "stdout",
     "output_type": "stream",
     "text": [
      "Guardado en ../data/final_scenarios/clean/scenario_021.parquet\n",
      "Procesando scenario_053.parquet\n",
      "Guardado en ../data/final_scenarios/clean/scenario_053.parquet\n",
      "Procesando scenario_043.parquet\n"
     ]
    },
    {
     "name": "stderr",
     "output_type": "stream",
     "text": [
      "/var/folders/dp/1z2xwn7516q1b4n5t3nlr0500000gn/T/ipykernel_11419/2679907221.py:19: SettingWithCopyWarning: \n",
      "A value is trying to be set on a copy of a slice from a DataFrame.\n",
      "Try using .loc[row_indexer,col_indexer] = value instead\n",
      "\n",
      "See the caveats in the documentation: https://pandas.pydata.org/pandas-docs/stable/user_guide/indexing.html#returning-a-view-versus-a-copy\n",
      "  df_new[\"TurbulenceCategory\"] = df_new[\"wake_vortex\"].map(WAKE_VORTEX_TRANSLATION).fillna(np.nan)\n"
     ]
    },
    {
     "name": "stdout",
     "output_type": "stream",
     "text": [
      "Guardado en ../data/final_scenarios/clean/scenario_043.parquet\n",
      "Procesando scenario_192.parquet\n"
     ]
    },
    {
     "name": "stderr",
     "output_type": "stream",
     "text": [
      "/var/folders/dp/1z2xwn7516q1b4n5t3nlr0500000gn/T/ipykernel_11419/2679907221.py:19: SettingWithCopyWarning: \n",
      "A value is trying to be set on a copy of a slice from a DataFrame.\n",
      "Try using .loc[row_indexer,col_indexer] = value instead\n",
      "\n",
      "See the caveats in the documentation: https://pandas.pydata.org/pandas-docs/stable/user_guide/indexing.html#returning-a-view-versus-a-copy\n",
      "  df_new[\"TurbulenceCategory\"] = df_new[\"wake_vortex\"].map(WAKE_VORTEX_TRANSLATION).fillna(np.nan)\n",
      "/var/folders/dp/1z2xwn7516q1b4n5t3nlr0500000gn/T/ipykernel_11419/2679907221.py:19: SettingWithCopyWarning: \n",
      "A value is trying to be set on a copy of a slice from a DataFrame.\n",
      "Try using .loc[row_indexer,col_indexer] = value instead\n",
      "\n",
      "See the caveats in the documentation: https://pandas.pydata.org/pandas-docs/stable/user_guide/indexing.html#returning-a-view-versus-a-copy\n",
      "  df_new[\"TurbulenceCategory\"] = df_new[\"wake_vortex\"].map(WAKE_VORTEX_TRANSLATION).fillna(np.nan)\n"
     ]
    },
    {
     "name": "stdout",
     "output_type": "stream",
     "text": [
      "Guardado en ../data/final_scenarios/clean/scenario_192.parquet\n",
      "Procesando scenario_182.parquet\n",
      "Guardado en ../data/final_scenarios/clean/scenario_182.parquet\n",
      "Procesando scenario_075.parquet\n"
     ]
    },
    {
     "name": "stderr",
     "output_type": "stream",
     "text": [
      "/var/folders/dp/1z2xwn7516q1b4n5t3nlr0500000gn/T/ipykernel_11419/2679907221.py:19: SettingWithCopyWarning: \n",
      "A value is trying to be set on a copy of a slice from a DataFrame.\n",
      "Try using .loc[row_indexer,col_indexer] = value instead\n",
      "\n",
      "See the caveats in the documentation: https://pandas.pydata.org/pandas-docs/stable/user_guide/indexing.html#returning-a-view-versus-a-copy\n",
      "  df_new[\"TurbulenceCategory\"] = df_new[\"wake_vortex\"].map(WAKE_VORTEX_TRANSLATION).fillna(np.nan)\n"
     ]
    },
    {
     "name": "stdout",
     "output_type": "stream",
     "text": [
      "Guardado en ../data/final_scenarios/clean/scenario_075.parquet\n",
      "Procesando scenario_065.parquet\n"
     ]
    },
    {
     "name": "stderr",
     "output_type": "stream",
     "text": [
      "/var/folders/dp/1z2xwn7516q1b4n5t3nlr0500000gn/T/ipykernel_11419/2679907221.py:19: SettingWithCopyWarning: \n",
      "A value is trying to be set on a copy of a slice from a DataFrame.\n",
      "Try using .loc[row_indexer,col_indexer] = value instead\n",
      "\n",
      "See the caveats in the documentation: https://pandas.pydata.org/pandas-docs/stable/user_guide/indexing.html#returning-a-view-versus-a-copy\n",
      "  df_new[\"TurbulenceCategory\"] = df_new[\"wake_vortex\"].map(WAKE_VORTEX_TRANSLATION).fillna(np.nan)\n"
     ]
    },
    {
     "name": "stdout",
     "output_type": "stream",
     "text": [
      "Guardado en ../data/final_scenarios/clean/scenario_065.parquet\n",
      "Procesando scenario_017.parquet\n"
     ]
    },
    {
     "name": "stderr",
     "output_type": "stream",
     "text": [
      "/var/folders/dp/1z2xwn7516q1b4n5t3nlr0500000gn/T/ipykernel_11419/2679907221.py:19: SettingWithCopyWarning: \n",
      "A value is trying to be set on a copy of a slice from a DataFrame.\n",
      "Try using .loc[row_indexer,col_indexer] = value instead\n",
      "\n",
      "See the caveats in the documentation: https://pandas.pydata.org/pandas-docs/stable/user_guide/indexing.html#returning-a-view-versus-a-copy\n",
      "  df_new[\"TurbulenceCategory\"] = df_new[\"wake_vortex\"].map(WAKE_VORTEX_TRANSLATION).fillna(np.nan)\n"
     ]
    },
    {
     "name": "stdout",
     "output_type": "stream",
     "text": [
      "Guardado en ../data/final_scenarios/clean/scenario_017.parquet\n",
      "Procesando scenario_007.parquet\n"
     ]
    },
    {
     "name": "stderr",
     "output_type": "stream",
     "text": [
      "/var/folders/dp/1z2xwn7516q1b4n5t3nlr0500000gn/T/ipykernel_11419/2679907221.py:19: SettingWithCopyWarning: \n",
      "A value is trying to be set on a copy of a slice from a DataFrame.\n",
      "Try using .loc[row_indexer,col_indexer] = value instead\n",
      "\n",
      "See the caveats in the documentation: https://pandas.pydata.org/pandas-docs/stable/user_guide/indexing.html#returning-a-view-versus-a-copy\n",
      "  df_new[\"TurbulenceCategory\"] = df_new[\"wake_vortex\"].map(WAKE_VORTEX_TRANSLATION).fillna(np.nan)\n",
      "/var/folders/dp/1z2xwn7516q1b4n5t3nlr0500000gn/T/ipykernel_11419/2679907221.py:19: SettingWithCopyWarning: \n",
      "A value is trying to be set on a copy of a slice from a DataFrame.\n",
      "Try using .loc[row_indexer,col_indexer] = value instead\n",
      "\n",
      "See the caveats in the documentation: https://pandas.pydata.org/pandas-docs/stable/user_guide/indexing.html#returning-a-view-versus-a-copy\n",
      "  df_new[\"TurbulenceCategory\"] = df_new[\"wake_vortex\"].map(WAKE_VORTEX_TRANSLATION).fillna(np.nan)\n"
     ]
    },
    {
     "name": "stdout",
     "output_type": "stream",
     "text": [
      "Guardado en ../data/final_scenarios/clean/scenario_007.parquet\n",
      "Procesando scenario_132.parquet\n",
      "Guardado en ../data/final_scenarios/clean/scenario_132.parquet\n",
      "Procesando scenario_122.parquet\n"
     ]
    },
    {
     "name": "stderr",
     "output_type": "stream",
     "text": [
      "/var/folders/dp/1z2xwn7516q1b4n5t3nlr0500000gn/T/ipykernel_11419/2679907221.py:19: SettingWithCopyWarning: \n",
      "A value is trying to be set on a copy of a slice from a DataFrame.\n",
      "Try using .loc[row_indexer,col_indexer] = value instead\n",
      "\n",
      "See the caveats in the documentation: https://pandas.pydata.org/pandas-docs/stable/user_guide/indexing.html#returning-a-view-versus-a-copy\n",
      "  df_new[\"TurbulenceCategory\"] = df_new[\"wake_vortex\"].map(WAKE_VORTEX_TRANSLATION).fillna(np.nan)\n"
     ]
    },
    {
     "name": "stdout",
     "output_type": "stream",
     "text": [
      "Guardado en ../data/final_scenarios/clean/scenario_122.parquet\n",
      "Procesando scenario_091.parquet\n"
     ]
    },
    {
     "name": "stderr",
     "output_type": "stream",
     "text": [
      "/var/folders/dp/1z2xwn7516q1b4n5t3nlr0500000gn/T/ipykernel_11419/2679907221.py:19: SettingWithCopyWarning: \n",
      "A value is trying to be set on a copy of a slice from a DataFrame.\n",
      "Try using .loc[row_indexer,col_indexer] = value instead\n",
      "\n",
      "See the caveats in the documentation: https://pandas.pydata.org/pandas-docs/stable/user_guide/indexing.html#returning-a-view-versus-a-copy\n",
      "  df_new[\"TurbulenceCategory\"] = df_new[\"wake_vortex\"].map(WAKE_VORTEX_TRANSLATION).fillna(np.nan)\n"
     ]
    },
    {
     "name": "stdout",
     "output_type": "stream",
     "text": [
      "Guardado en ../data/final_scenarios/clean/scenario_091.parquet\n",
      "Procesando scenario_081.parquet\n"
     ]
    },
    {
     "name": "stderr",
     "output_type": "stream",
     "text": [
      "/var/folders/dp/1z2xwn7516q1b4n5t3nlr0500000gn/T/ipykernel_11419/2679907221.py:19: SettingWithCopyWarning: \n",
      "A value is trying to be set on a copy of a slice from a DataFrame.\n",
      "Try using .loc[row_indexer,col_indexer] = value instead\n",
      "\n",
      "See the caveats in the documentation: https://pandas.pydata.org/pandas-docs/stable/user_guide/indexing.html#returning-a-view-versus-a-copy\n",
      "  df_new[\"TurbulenceCategory\"] = df_new[\"wake_vortex\"].map(WAKE_VORTEX_TRANSLATION).fillna(np.nan)\n",
      "/var/folders/dp/1z2xwn7516q1b4n5t3nlr0500000gn/T/ipykernel_11419/2679907221.py:19: SettingWithCopyWarning: \n",
      "A value is trying to be set on a copy of a slice from a DataFrame.\n",
      "Try using .loc[row_indexer,col_indexer] = value instead\n",
      "\n",
      "See the caveats in the documentation: https://pandas.pydata.org/pandas-docs/stable/user_guide/indexing.html#returning-a-view-versus-a-copy\n",
      "  df_new[\"TurbulenceCategory\"] = df_new[\"wake_vortex\"].map(WAKE_VORTEX_TRANSLATION).fillna(np.nan)\n"
     ]
    },
    {
     "name": "stdout",
     "output_type": "stream",
     "text": [
      "Guardado en ../data/final_scenarios/clean/scenario_081.parquet\n",
      "Procesando scenario_150.parquet\n",
      "Guardado en ../data/final_scenarios/clean/scenario_150.parquet\n",
      "Procesando scenario_028.parquet\n",
      "Guardado en ../data/final_scenarios/clean/scenario_028.parquet\n",
      "Procesando scenario_140.parquet\n"
     ]
    },
    {
     "name": "stderr",
     "output_type": "stream",
     "text": [
      "/var/folders/dp/1z2xwn7516q1b4n5t3nlr0500000gn/T/ipykernel_11419/2679907221.py:19: SettingWithCopyWarning: \n",
      "A value is trying to be set on a copy of a slice from a DataFrame.\n",
      "Try using .loc[row_indexer,col_indexer] = value instead\n",
      "\n",
      "See the caveats in the documentation: https://pandas.pydata.org/pandas-docs/stable/user_guide/indexing.html#returning-a-view-versus-a-copy\n",
      "  df_new[\"TurbulenceCategory\"] = df_new[\"wake_vortex\"].map(WAKE_VORTEX_TRANSLATION).fillna(np.nan)\n",
      "/var/folders/dp/1z2xwn7516q1b4n5t3nlr0500000gn/T/ipykernel_11419/2679907221.py:19: SettingWithCopyWarning: \n",
      "A value is trying to be set on a copy of a slice from a DataFrame.\n",
      "Try using .loc[row_indexer,col_indexer] = value instead\n",
      "\n",
      "See the caveats in the documentation: https://pandas.pydata.org/pandas-docs/stable/user_guide/indexing.html#returning-a-view-versus-a-copy\n",
      "  df_new[\"TurbulenceCategory\"] = df_new[\"wake_vortex\"].map(WAKE_VORTEX_TRANSLATION).fillna(np.nan)\n"
     ]
    },
    {
     "name": "stdout",
     "output_type": "stream",
     "text": [
      "Guardado en ../data/final_scenarios/clean/scenario_140.parquet\n",
      "Procesando scenario_038.parquet\n"
     ]
    },
    {
     "name": "stderr",
     "output_type": "stream",
     "text": [
      "/var/folders/dp/1z2xwn7516q1b4n5t3nlr0500000gn/T/ipykernel_11419/2679907221.py:19: SettingWithCopyWarning: \n",
      "A value is trying to be set on a copy of a slice from a DataFrame.\n",
      "Try using .loc[row_indexer,col_indexer] = value instead\n",
      "\n",
      "See the caveats in the documentation: https://pandas.pydata.org/pandas-docs/stable/user_guide/indexing.html#returning-a-view-versus-a-copy\n",
      "  df_new[\"TurbulenceCategory\"] = df_new[\"wake_vortex\"].map(WAKE_VORTEX_TRANSLATION).fillna(np.nan)\n",
      "/var/folders/dp/1z2xwn7516q1b4n5t3nlr0500000gn/T/ipykernel_11419/2679907221.py:19: SettingWithCopyWarning: \n",
      "A value is trying to be set on a copy of a slice from a DataFrame.\n",
      "Try using .loc[row_indexer,col_indexer] = value instead\n",
      "\n",
      "See the caveats in the documentation: https://pandas.pydata.org/pandas-docs/stable/user_guide/indexing.html#returning-a-view-versus-a-copy\n",
      "  df_new[\"TurbulenceCategory\"] = df_new[\"wake_vortex\"].map(WAKE_VORTEX_TRANSLATION).fillna(np.nan)\n"
     ]
    },
    {
     "name": "stdout",
     "output_type": "stream",
     "text": [
      "Guardado en ../data/final_scenarios/clean/scenario_038.parquet\n",
      "Procesando scenario_106.parquet\n",
      "Guardado en ../data/final_scenarios/clean/scenario_106.parquet\n",
      "Procesando scenario_116.parquet\n"
     ]
    },
    {
     "name": "stderr",
     "output_type": "stream",
     "text": [
      "/var/folders/dp/1z2xwn7516q1b4n5t3nlr0500000gn/T/ipykernel_11419/2679907221.py:19: SettingWithCopyWarning: \n",
      "A value is trying to be set on a copy of a slice from a DataFrame.\n",
      "Try using .loc[row_indexer,col_indexer] = value instead\n",
      "\n",
      "See the caveats in the documentation: https://pandas.pydata.org/pandas-docs/stable/user_guide/indexing.html#returning-a-view-versus-a-copy\n",
      "  df_new[\"TurbulenceCategory\"] = df_new[\"wake_vortex\"].map(WAKE_VORTEX_TRANSLATION).fillna(np.nan)\n"
     ]
    },
    {
     "name": "stdout",
     "output_type": "stream",
     "text": [
      "Guardado en ../data/final_scenarios/clean/scenario_116.parquet\n",
      "Procesando scenario_164.parquet\n"
     ]
    },
    {
     "name": "stderr",
     "output_type": "stream",
     "text": [
      "/var/folders/dp/1z2xwn7516q1b4n5t3nlr0500000gn/T/ipykernel_11419/2679907221.py:19: SettingWithCopyWarning: \n",
      "A value is trying to be set on a copy of a slice from a DataFrame.\n",
      "Try using .loc[row_indexer,col_indexer] = value instead\n",
      "\n",
      "See the caveats in the documentation: https://pandas.pydata.org/pandas-docs/stable/user_guide/indexing.html#returning-a-view-versus-a-copy\n",
      "  df_new[\"TurbulenceCategory\"] = df_new[\"wake_vortex\"].map(WAKE_VORTEX_TRANSLATION).fillna(np.nan)\n"
     ]
    },
    {
     "name": "stdout",
     "output_type": "stream",
     "text": [
      "Guardado en ../data/final_scenarios/clean/scenario_164.parquet\n",
      "Procesando scenario_174.parquet\n"
     ]
    },
    {
     "name": "stderr",
     "output_type": "stream",
     "text": [
      "/var/folders/dp/1z2xwn7516q1b4n5t3nlr0500000gn/T/ipykernel_11419/2679907221.py:19: SettingWithCopyWarning: \n",
      "A value is trying to be set on a copy of a slice from a DataFrame.\n",
      "Try using .loc[row_indexer,col_indexer] = value instead\n",
      "\n",
      "See the caveats in the documentation: https://pandas.pydata.org/pandas-docs/stable/user_guide/indexing.html#returning-a-view-versus-a-copy\n",
      "  df_new[\"TurbulenceCategory\"] = df_new[\"wake_vortex\"].map(WAKE_VORTEX_TRANSLATION).fillna(np.nan)\n"
     ]
    },
    {
     "name": "stdout",
     "output_type": "stream",
     "text": [
      "Guardado en ../data/final_scenarios/clean/scenario_174.parquet\n",
      "Procesando scenario_139.parquet\n"
     ]
    },
    {
     "name": "stderr",
     "output_type": "stream",
     "text": [
      "/var/folders/dp/1z2xwn7516q1b4n5t3nlr0500000gn/T/ipykernel_11419/2679907221.py:19: SettingWithCopyWarning: \n",
      "A value is trying to be set on a copy of a slice from a DataFrame.\n",
      "Try using .loc[row_indexer,col_indexer] = value instead\n",
      "\n",
      "See the caveats in the documentation: https://pandas.pydata.org/pandas-docs/stable/user_guide/indexing.html#returning-a-view-versus-a-copy\n",
      "  df_new[\"TurbulenceCategory\"] = df_new[\"wake_vortex\"].map(WAKE_VORTEX_TRANSLATION).fillna(np.nan)\n",
      "/var/folders/dp/1z2xwn7516q1b4n5t3nlr0500000gn/T/ipykernel_11419/2679907221.py:19: SettingWithCopyWarning: \n",
      "A value is trying to be set on a copy of a slice from a DataFrame.\n",
      "Try using .loc[row_indexer,col_indexer] = value instead\n",
      "\n",
      "See the caveats in the documentation: https://pandas.pydata.org/pandas-docs/stable/user_guide/indexing.html#returning-a-view-versus-a-copy\n",
      "  df_new[\"TurbulenceCategory\"] = df_new[\"wake_vortex\"].map(WAKE_VORTEX_TRANSLATION).fillna(np.nan)\n"
     ]
    },
    {
     "name": "stdout",
     "output_type": "stream",
     "text": [
      "Guardado en ../data/final_scenarios/clean/scenario_139.parquet\n",
      "Procesando scenario_041.parquet\n",
      "Guardado en ../data/final_scenarios/clean/scenario_041.parquet\n",
      "Procesando scenario_129.parquet\n"
     ]
    },
    {
     "name": "stderr",
     "output_type": "stream",
     "text": [
      "/var/folders/dp/1z2xwn7516q1b4n5t3nlr0500000gn/T/ipykernel_11419/2679907221.py:19: SettingWithCopyWarning: \n",
      "A value is trying to be set on a copy of a slice from a DataFrame.\n",
      "Try using .loc[row_indexer,col_indexer] = value instead\n",
      "\n",
      "See the caveats in the documentation: https://pandas.pydata.org/pandas-docs/stable/user_guide/indexing.html#returning-a-view-versus-a-copy\n",
      "  df_new[\"TurbulenceCategory\"] = df_new[\"wake_vortex\"].map(WAKE_VORTEX_TRANSLATION).fillna(np.nan)\n"
     ]
    },
    {
     "name": "stdout",
     "output_type": "stream",
     "text": [
      "Guardado en ../data/final_scenarios/clean/scenario_129.parquet\n",
      "Procesando scenario_051.parquet\n"
     ]
    },
    {
     "name": "stderr",
     "output_type": "stream",
     "text": [
      "/var/folders/dp/1z2xwn7516q1b4n5t3nlr0500000gn/T/ipykernel_11419/2679907221.py:19: SettingWithCopyWarning: \n",
      "A value is trying to be set on a copy of a slice from a DataFrame.\n",
      "Try using .loc[row_indexer,col_indexer] = value instead\n",
      "\n",
      "See the caveats in the documentation: https://pandas.pydata.org/pandas-docs/stable/user_guide/indexing.html#returning-a-view-versus-a-copy\n",
      "  df_new[\"TurbulenceCategory\"] = df_new[\"wake_vortex\"].map(WAKE_VORTEX_TRANSLATION).fillna(np.nan)\n",
      "/var/folders/dp/1z2xwn7516q1b4n5t3nlr0500000gn/T/ipykernel_11419/2679907221.py:19: SettingWithCopyWarning: \n",
      "A value is trying to be set on a copy of a slice from a DataFrame.\n",
      "Try using .loc[row_indexer,col_indexer] = value instead\n",
      "\n",
      "See the caveats in the documentation: https://pandas.pydata.org/pandas-docs/stable/user_guide/indexing.html#returning-a-view-versus-a-copy\n",
      "  df_new[\"TurbulenceCategory\"] = df_new[\"wake_vortex\"].map(WAKE_VORTEX_TRANSLATION).fillna(np.nan)\n"
     ]
    },
    {
     "name": "stdout",
     "output_type": "stream",
     "text": [
      "Guardado en ../data/final_scenarios/clean/scenario_051.parquet\n",
      "Procesando scenario_180.parquet\n",
      "Guardado en ../data/final_scenarios/clean/scenario_180.parquet\n",
      "Procesando scenario_190.parquet\n"
     ]
    },
    {
     "name": "stderr",
     "output_type": "stream",
     "text": [
      "/var/folders/dp/1z2xwn7516q1b4n5t3nlr0500000gn/T/ipykernel_11419/2679907221.py:19: SettingWithCopyWarning: \n",
      "A value is trying to be set on a copy of a slice from a DataFrame.\n",
      "Try using .loc[row_indexer,col_indexer] = value instead\n",
      "\n",
      "See the caveats in the documentation: https://pandas.pydata.org/pandas-docs/stable/user_guide/indexing.html#returning-a-view-versus-a-copy\n",
      "  df_new[\"TurbulenceCategory\"] = df_new[\"wake_vortex\"].map(WAKE_VORTEX_TRANSLATION).fillna(np.nan)\n",
      "/var/folders/dp/1z2xwn7516q1b4n5t3nlr0500000gn/T/ipykernel_11419/2679907221.py:19: SettingWithCopyWarning: \n",
      "A value is trying to be set on a copy of a slice from a DataFrame.\n",
      "Try using .loc[row_indexer,col_indexer] = value instead\n",
      "\n",
      "See the caveats in the documentation: https://pandas.pydata.org/pandas-docs/stable/user_guide/indexing.html#returning-a-view-versus-a-copy\n",
      "  df_new[\"TurbulenceCategory\"] = df_new[\"wake_vortex\"].map(WAKE_VORTEX_TRANSLATION).fillna(np.nan)\n"
     ]
    },
    {
     "name": "stdout",
     "output_type": "stream",
     "text": [
      "Guardado en ../data/final_scenarios/clean/scenario_190.parquet\n",
      "Procesando scenario_023.parquet\n",
      "Guardado en ../data/final_scenarios/clean/scenario_023.parquet\n",
      "Procesando scenario_033.parquet\n"
     ]
    },
    {
     "name": "stderr",
     "output_type": "stream",
     "text": [
      "/var/folders/dp/1z2xwn7516q1b4n5t3nlr0500000gn/T/ipykernel_11419/2679907221.py:19: SettingWithCopyWarning: \n",
      "A value is trying to be set on a copy of a slice from a DataFrame.\n",
      "Try using .loc[row_indexer,col_indexer] = value instead\n",
      "\n",
      "See the caveats in the documentation: https://pandas.pydata.org/pandas-docs/stable/user_guide/indexing.html#returning-a-view-versus-a-copy\n",
      "  df_new[\"TurbulenceCategory\"] = df_new[\"wake_vortex\"].map(WAKE_VORTEX_TRANSLATION).fillna(np.nan)\n"
     ]
    },
    {
     "name": "stdout",
     "output_type": "stream",
     "text": [
      "Guardado en ../data/final_scenarios/clean/scenario_033.parquet\n",
      "Procesando scenario_005.parquet\n"
     ]
    },
    {
     "name": "stderr",
     "output_type": "stream",
     "text": [
      "/var/folders/dp/1z2xwn7516q1b4n5t3nlr0500000gn/T/ipykernel_11419/2679907221.py:19: SettingWithCopyWarning: \n",
      "A value is trying to be set on a copy of a slice from a DataFrame.\n",
      "Try using .loc[row_indexer,col_indexer] = value instead\n",
      "\n",
      "See the caveats in the documentation: https://pandas.pydata.org/pandas-docs/stable/user_guide/indexing.html#returning-a-view-versus-a-copy\n",
      "  df_new[\"TurbulenceCategory\"] = df_new[\"wake_vortex\"].map(WAKE_VORTEX_TRANSLATION).fillna(np.nan)\n"
     ]
    },
    {
     "name": "stdout",
     "output_type": "stream",
     "text": [
      "Guardado en ../data/final_scenarios/clean/scenario_005.parquet\n",
      "Procesando scenario_015.parquet\n"
     ]
    },
    {
     "name": "stderr",
     "output_type": "stream",
     "text": [
      "/var/folders/dp/1z2xwn7516q1b4n5t3nlr0500000gn/T/ipykernel_11419/2679907221.py:19: SettingWithCopyWarning: \n",
      "A value is trying to be set on a copy of a slice from a DataFrame.\n",
      "Try using .loc[row_indexer,col_indexer] = value instead\n",
      "\n",
      "See the caveats in the documentation: https://pandas.pydata.org/pandas-docs/stable/user_guide/indexing.html#returning-a-view-versus-a-copy\n",
      "  df_new[\"TurbulenceCategory\"] = df_new[\"wake_vortex\"].map(WAKE_VORTEX_TRANSLATION).fillna(np.nan)\n"
     ]
    },
    {
     "name": "stdout",
     "output_type": "stream",
     "text": [
      "Guardado en ../data/final_scenarios/clean/scenario_015.parquet\n",
      "Procesando scenario_067.parquet\n"
     ]
    },
    {
     "name": "stderr",
     "output_type": "stream",
     "text": [
      "/var/folders/dp/1z2xwn7516q1b4n5t3nlr0500000gn/T/ipykernel_11419/2679907221.py:19: SettingWithCopyWarning: \n",
      "A value is trying to be set on a copy of a slice from a DataFrame.\n",
      "Try using .loc[row_indexer,col_indexer] = value instead\n",
      "\n",
      "See the caveats in the documentation: https://pandas.pydata.org/pandas-docs/stable/user_guide/indexing.html#returning-a-view-versus-a-copy\n",
      "  df_new[\"TurbulenceCategory\"] = df_new[\"wake_vortex\"].map(WAKE_VORTEX_TRANSLATION).fillna(np.nan)\n"
     ]
    },
    {
     "name": "stdout",
     "output_type": "stream",
     "text": [
      "Guardado en ../data/final_scenarios/clean/scenario_067.parquet\n",
      "Procesando scenario_077.parquet\n",
      "Guardado en ../data/final_scenarios/clean/scenario_077.parquet\n",
      "Procesando scenario_083.parquet\n"
     ]
    },
    {
     "name": "stderr",
     "output_type": "stream",
     "text": [
      "/var/folders/dp/1z2xwn7516q1b4n5t3nlr0500000gn/T/ipykernel_11419/2679907221.py:19: SettingWithCopyWarning: \n",
      "A value is trying to be set on a copy of a slice from a DataFrame.\n",
      "Try using .loc[row_indexer,col_indexer] = value instead\n",
      "\n",
      "See the caveats in the documentation: https://pandas.pydata.org/pandas-docs/stable/user_guide/indexing.html#returning-a-view-versus-a-copy\n",
      "  df_new[\"TurbulenceCategory\"] = df_new[\"wake_vortex\"].map(WAKE_VORTEX_TRANSLATION).fillna(np.nan)\n",
      "/var/folders/dp/1z2xwn7516q1b4n5t3nlr0500000gn/T/ipykernel_11419/2679907221.py:19: SettingWithCopyWarning: \n",
      "A value is trying to be set on a copy of a slice from a DataFrame.\n",
      "Try using .loc[row_indexer,col_indexer] = value instead\n",
      "\n",
      "See the caveats in the documentation: https://pandas.pydata.org/pandas-docs/stable/user_guide/indexing.html#returning-a-view-versus-a-copy\n",
      "  df_new[\"TurbulenceCategory\"] = df_new[\"wake_vortex\"].map(WAKE_VORTEX_TRANSLATION).fillna(np.nan)\n"
     ]
    },
    {
     "name": "stdout",
     "output_type": "stream",
     "text": [
      "Guardado en ../data/final_scenarios/clean/scenario_083.parquet\n",
      "Procesando scenario_093.parquet\n"
     ]
    },
    {
     "name": "stderr",
     "output_type": "stream",
     "text": [
      "/var/folders/dp/1z2xwn7516q1b4n5t3nlr0500000gn/T/ipykernel_11419/2679907221.py:19: SettingWithCopyWarning: \n",
      "A value is trying to be set on a copy of a slice from a DataFrame.\n",
      "Try using .loc[row_indexer,col_indexer] = value instead\n",
      "\n",
      "See the caveats in the documentation: https://pandas.pydata.org/pandas-docs/stable/user_guide/indexing.html#returning-a-view-versus-a-copy\n",
      "  df_new[\"TurbulenceCategory\"] = df_new[\"wake_vortex\"].map(WAKE_VORTEX_TRANSLATION).fillna(np.nan)\n",
      "/var/folders/dp/1z2xwn7516q1b4n5t3nlr0500000gn/T/ipykernel_11419/2679907221.py:19: SettingWithCopyWarning: \n",
      "A value is trying to be set on a copy of a slice from a DataFrame.\n",
      "Try using .loc[row_indexer,col_indexer] = value instead\n",
      "\n",
      "See the caveats in the documentation: https://pandas.pydata.org/pandas-docs/stable/user_guide/indexing.html#returning-a-view-versus-a-copy\n",
      "  df_new[\"TurbulenceCategory\"] = df_new[\"wake_vortex\"].map(WAKE_VORTEX_TRANSLATION).fillna(np.nan)\n",
      "/var/folders/dp/1z2xwn7516q1b4n5t3nlr0500000gn/T/ipykernel_11419/2679907221.py:19: SettingWithCopyWarning: \n",
      "A value is trying to be set on a copy of a slice from a DataFrame.\n",
      "Try using .loc[row_indexer,col_indexer] = value instead\n",
      "\n",
      "See the caveats in the documentation: https://pandas.pydata.org/pandas-docs/stable/user_guide/indexing.html#returning-a-view-versus-a-copy\n",
      "  df_new[\"TurbulenceCategory\"] = df_new[\"wake_vortex\"].map(WAKE_VORTEX_TRANSLATION).fillna(np.nan)\n"
     ]
    },
    {
     "name": "stdout",
     "output_type": "stream",
     "text": [
      "Guardado en ../data/final_scenarios/clean/scenario_093.parquet\n",
      "Procesando scenario_142.parquet\n",
      "Guardado en ../data/final_scenarios/clean/scenario_142.parquet\n",
      "Procesando scenario_152.parquet\n",
      "Guardado en ../data/final_scenarios/clean/scenario_152.parquet\n",
      "Procesando scenario_120.parquet\n"
     ]
    },
    {
     "name": "stderr",
     "output_type": "stream",
     "text": [
      "/var/folders/dp/1z2xwn7516q1b4n5t3nlr0500000gn/T/ipykernel_11419/2679907221.py:19: SettingWithCopyWarning: \n",
      "A value is trying to be set on a copy of a slice from a DataFrame.\n",
      "Try using .loc[row_indexer,col_indexer] = value instead\n",
      "\n",
      "See the caveats in the documentation: https://pandas.pydata.org/pandas-docs/stable/user_guide/indexing.html#returning-a-view-versus-a-copy\n",
      "  df_new[\"TurbulenceCategory\"] = df_new[\"wake_vortex\"].map(WAKE_VORTEX_TRANSLATION).fillna(np.nan)\n"
     ]
    },
    {
     "name": "stdout",
     "output_type": "stream",
     "text": [
      "Guardado en ../data/final_scenarios/clean/scenario_120.parquet\n",
      "Procesando scenario_058.parquet\n",
      "Guardado en ../data/final_scenarios/clean/scenario_058.parquet\n",
      "Procesando scenario_130.parquet\n"
     ]
    },
    {
     "name": "stderr",
     "output_type": "stream",
     "text": [
      "/var/folders/dp/1z2xwn7516q1b4n5t3nlr0500000gn/T/ipykernel_11419/2679907221.py:19: SettingWithCopyWarning: \n",
      "A value is trying to be set on a copy of a slice from a DataFrame.\n",
      "Try using .loc[row_indexer,col_indexer] = value instead\n",
      "\n",
      "See the caveats in the documentation: https://pandas.pydata.org/pandas-docs/stable/user_guide/indexing.html#returning-a-view-versus-a-copy\n",
      "  df_new[\"TurbulenceCategory\"] = df_new[\"wake_vortex\"].map(WAKE_VORTEX_TRANSLATION).fillna(np.nan)\n",
      "/var/folders/dp/1z2xwn7516q1b4n5t3nlr0500000gn/T/ipykernel_11419/2679907221.py:19: SettingWithCopyWarning: \n",
      "A value is trying to be set on a copy of a slice from a DataFrame.\n",
      "Try using .loc[row_indexer,col_indexer] = value instead\n",
      "\n",
      "See the caveats in the documentation: https://pandas.pydata.org/pandas-docs/stable/user_guide/indexing.html#returning-a-view-versus-a-copy\n",
      "  df_new[\"TurbulenceCategory\"] = df_new[\"wake_vortex\"].map(WAKE_VORTEX_TRANSLATION).fillna(np.nan)\n",
      "/var/folders/dp/1z2xwn7516q1b4n5t3nlr0500000gn/T/ipykernel_11419/2679907221.py:19: SettingWithCopyWarning: \n",
      "A value is trying to be set on a copy of a slice from a DataFrame.\n",
      "Try using .loc[row_indexer,col_indexer] = value instead\n",
      "\n",
      "See the caveats in the documentation: https://pandas.pydata.org/pandas-docs/stable/user_guide/indexing.html#returning-a-view-versus-a-copy\n",
      "  df_new[\"TurbulenceCategory\"] = df_new[\"wake_vortex\"].map(WAKE_VORTEX_TRANSLATION).fillna(np.nan)\n"
     ]
    },
    {
     "name": "stdout",
     "output_type": "stream",
     "text": [
      "Guardado en ../data/final_scenarios/clean/scenario_130.parquet\n",
      "Procesando scenario_048.parquet\n",
      "Guardado en ../data/final_scenarios/clean/scenario_048.parquet\n",
      "Procesando scenario_189.parquet\n"
     ]
    },
    {
     "name": "stderr",
     "output_type": "stream",
     "text": [
      "/var/folders/dp/1z2xwn7516q1b4n5t3nlr0500000gn/T/ipykernel_11419/2679907221.py:19: SettingWithCopyWarning: \n",
      "A value is trying to be set on a copy of a slice from a DataFrame.\n",
      "Try using .loc[row_indexer,col_indexer] = value instead\n",
      "\n",
      "See the caveats in the documentation: https://pandas.pydata.org/pandas-docs/stable/user_guide/indexing.html#returning-a-view-versus-a-copy\n",
      "  df_new[\"TurbulenceCategory\"] = df_new[\"wake_vortex\"].map(WAKE_VORTEX_TRANSLATION).fillna(np.nan)\n"
     ]
    },
    {
     "name": "stdout",
     "output_type": "stream",
     "text": [
      "Guardado en ../data/final_scenarios/clean/scenario_189.parquet\n",
      "Procesando scenario_014.parquet\n"
     ]
    },
    {
     "name": "stderr",
     "output_type": "stream",
     "text": [
      "/var/folders/dp/1z2xwn7516q1b4n5t3nlr0500000gn/T/ipykernel_11419/2679907221.py:19: SettingWithCopyWarning: \n",
      "A value is trying to be set on a copy of a slice from a DataFrame.\n",
      "Try using .loc[row_indexer,col_indexer] = value instead\n",
      "\n",
      "See the caveats in the documentation: https://pandas.pydata.org/pandas-docs/stable/user_guide/indexing.html#returning-a-view-versus-a-copy\n",
      "  df_new[\"TurbulenceCategory\"] = df_new[\"wake_vortex\"].map(WAKE_VORTEX_TRANSLATION).fillna(np.nan)\n"
     ]
    },
    {
     "name": "stdout",
     "output_type": "stream",
     "text": [
      "Guardado en ../data/final_scenarios/clean/scenario_014.parquet\n",
      "Procesando scenario_004.parquet\n"
     ]
    },
    {
     "name": "stderr",
     "output_type": "stream",
     "text": [
      "/var/folders/dp/1z2xwn7516q1b4n5t3nlr0500000gn/T/ipykernel_11419/2679907221.py:19: SettingWithCopyWarning: \n",
      "A value is trying to be set on a copy of a slice from a DataFrame.\n",
      "Try using .loc[row_indexer,col_indexer] = value instead\n",
      "\n",
      "See the caveats in the documentation: https://pandas.pydata.org/pandas-docs/stable/user_guide/indexing.html#returning-a-view-versus-a-copy\n",
      "  df_new[\"TurbulenceCategory\"] = df_new[\"wake_vortex\"].map(WAKE_VORTEX_TRANSLATION).fillna(np.nan)\n",
      "/var/folders/dp/1z2xwn7516q1b4n5t3nlr0500000gn/T/ipykernel_11419/2679907221.py:19: SettingWithCopyWarning: \n",
      "A value is trying to be set on a copy of a slice from a DataFrame.\n",
      "Try using .loc[row_indexer,col_indexer] = value instead\n",
      "\n",
      "See the caveats in the documentation: https://pandas.pydata.org/pandas-docs/stable/user_guide/indexing.html#returning-a-view-versus-a-copy\n",
      "  df_new[\"TurbulenceCategory\"] = df_new[\"wake_vortex\"].map(WAKE_VORTEX_TRANSLATION).fillna(np.nan)\n"
     ]
    },
    {
     "name": "stdout",
     "output_type": "stream",
     "text": [
      "Guardado en ../data/final_scenarios/clean/scenario_004.parquet\n",
      "Procesando scenario_076.parquet\n",
      "Guardado en ../data/final_scenarios/clean/scenario_076.parquet\n",
      "Procesando scenario_066.parquet\n"
     ]
    },
    {
     "name": "stderr",
     "output_type": "stream",
     "text": [
      "/var/folders/dp/1z2xwn7516q1b4n5t3nlr0500000gn/T/ipykernel_11419/2679907221.py:19: SettingWithCopyWarning: \n",
      "A value is trying to be set on a copy of a slice from a DataFrame.\n",
      "Try using .loc[row_indexer,col_indexer] = value instead\n",
      "\n",
      "See the caveats in the documentation: https://pandas.pydata.org/pandas-docs/stable/user_guide/indexing.html#returning-a-view-versus-a-copy\n",
      "  df_new[\"TurbulenceCategory\"] = df_new[\"wake_vortex\"].map(WAKE_VORTEX_TRANSLATION).fillna(np.nan)\n"
     ]
    },
    {
     "name": "stdout",
     "output_type": "stream",
     "text": [
      "Guardado en ../data/final_scenarios/clean/scenario_066.parquet\n",
      "Procesando scenario_153.parquet\n"
     ]
    },
    {
     "name": "stderr",
     "output_type": "stream",
     "text": [
      "/var/folders/dp/1z2xwn7516q1b4n5t3nlr0500000gn/T/ipykernel_11419/2679907221.py:19: SettingWithCopyWarning: \n",
      "A value is trying to be set on a copy of a slice from a DataFrame.\n",
      "Try using .loc[row_indexer,col_indexer] = value instead\n",
      "\n",
      "See the caveats in the documentation: https://pandas.pydata.org/pandas-docs/stable/user_guide/indexing.html#returning-a-view-versus-a-copy\n",
      "  df_new[\"TurbulenceCategory\"] = df_new[\"wake_vortex\"].map(WAKE_VORTEX_TRANSLATION).fillna(np.nan)\n"
     ]
    },
    {
     "name": "stdout",
     "output_type": "stream",
     "text": [
      "Guardado en ../data/final_scenarios/clean/scenario_153.parquet\n",
      "Procesando scenario_143.parquet\n"
     ]
    },
    {
     "name": "stderr",
     "output_type": "stream",
     "text": [
      "/var/folders/dp/1z2xwn7516q1b4n5t3nlr0500000gn/T/ipykernel_11419/2679907221.py:19: SettingWithCopyWarning: \n",
      "A value is trying to be set on a copy of a slice from a DataFrame.\n",
      "Try using .loc[row_indexer,col_indexer] = value instead\n",
      "\n",
      "See the caveats in the documentation: https://pandas.pydata.org/pandas-docs/stable/user_guide/indexing.html#returning-a-view-versus-a-copy\n",
      "  df_new[\"TurbulenceCategory\"] = df_new[\"wake_vortex\"].map(WAKE_VORTEX_TRANSLATION).fillna(np.nan)\n",
      "/var/folders/dp/1z2xwn7516q1b4n5t3nlr0500000gn/T/ipykernel_11419/2679907221.py:19: SettingWithCopyWarning: \n",
      "A value is trying to be set on a copy of a slice from a DataFrame.\n",
      "Try using .loc[row_indexer,col_indexer] = value instead\n",
      "\n",
      "See the caveats in the documentation: https://pandas.pydata.org/pandas-docs/stable/user_guide/indexing.html#returning-a-view-versus-a-copy\n",
      "  df_new[\"TurbulenceCategory\"] = df_new[\"wake_vortex\"].map(WAKE_VORTEX_TRANSLATION).fillna(np.nan)\n"
     ]
    },
    {
     "name": "stdout",
     "output_type": "stream",
     "text": [
      "Guardado en ../data/final_scenarios/clean/scenario_143.parquet\n",
      "Procesando scenario_092.parquet\n",
      "Guardado en ../data/final_scenarios/clean/scenario_092.parquet\n",
      "Procesando scenario_082.parquet\n"
     ]
    },
    {
     "name": "stderr",
     "output_type": "stream",
     "text": [
      "/var/folders/dp/1z2xwn7516q1b4n5t3nlr0500000gn/T/ipykernel_11419/2679907221.py:19: SettingWithCopyWarning: \n",
      "A value is trying to be set on a copy of a slice from a DataFrame.\n",
      "Try using .loc[row_indexer,col_indexer] = value instead\n",
      "\n",
      "See the caveats in the documentation: https://pandas.pydata.org/pandas-docs/stable/user_guide/indexing.html#returning-a-view-versus-a-copy\n",
      "  df_new[\"TurbulenceCategory\"] = df_new[\"wake_vortex\"].map(WAKE_VORTEX_TRANSLATION).fillna(np.nan)\n"
     ]
    },
    {
     "name": "stdout",
     "output_type": "stream",
     "text": [
      "Guardado en ../data/final_scenarios/clean/scenario_082.parquet\n",
      "Procesando scenario_188.parquet\n"
     ]
    },
    {
     "name": "stderr",
     "output_type": "stream",
     "text": [
      "/var/folders/dp/1z2xwn7516q1b4n5t3nlr0500000gn/T/ipykernel_11419/2679907221.py:19: SettingWithCopyWarning: \n",
      "A value is trying to be set on a copy of a slice from a DataFrame.\n",
      "Try using .loc[row_indexer,col_indexer] = value instead\n",
      "\n",
      "See the caveats in the documentation: https://pandas.pydata.org/pandas-docs/stable/user_guide/indexing.html#returning-a-view-versus-a-copy\n",
      "  df_new[\"TurbulenceCategory\"] = df_new[\"wake_vortex\"].map(WAKE_VORTEX_TRANSLATION).fillna(np.nan)\n",
      "/var/folders/dp/1z2xwn7516q1b4n5t3nlr0500000gn/T/ipykernel_11419/2679907221.py:19: SettingWithCopyWarning: \n",
      "A value is trying to be set on a copy of a slice from a DataFrame.\n",
      "Try using .loc[row_indexer,col_indexer] = value instead\n",
      "\n",
      "See the caveats in the documentation: https://pandas.pydata.org/pandas-docs/stable/user_guide/indexing.html#returning-a-view-versus-a-copy\n",
      "  df_new[\"TurbulenceCategory\"] = df_new[\"wake_vortex\"].map(WAKE_VORTEX_TRANSLATION).fillna(np.nan)\n"
     ]
    },
    {
     "name": "stdout",
     "output_type": "stream",
     "text": [
      "Guardado en ../data/final_scenarios/clean/scenario_188.parquet\n",
      "Procesando scenario_049.parquet\n",
      "Guardado en ../data/final_scenarios/clean/scenario_049.parquet\n",
      "Procesando scenario_131.parquet\n"
     ]
    },
    {
     "name": "stderr",
     "output_type": "stream",
     "text": [
      "/var/folders/dp/1z2xwn7516q1b4n5t3nlr0500000gn/T/ipykernel_11419/2679907221.py:19: SettingWithCopyWarning: \n",
      "A value is trying to be set on a copy of a slice from a DataFrame.\n",
      "Try using .loc[row_indexer,col_indexer] = value instead\n",
      "\n",
      "See the caveats in the documentation: https://pandas.pydata.org/pandas-docs/stable/user_guide/indexing.html#returning-a-view-versus-a-copy\n",
      "  df_new[\"TurbulenceCategory\"] = df_new[\"wake_vortex\"].map(WAKE_VORTEX_TRANSLATION).fillna(np.nan)\n"
     ]
    },
    {
     "name": "stdout",
     "output_type": "stream",
     "text": [
      "Guardado en ../data/final_scenarios/clean/scenario_131.parquet\n",
      "Procesando scenario_059.parquet\n"
     ]
    },
    {
     "name": "stderr",
     "output_type": "stream",
     "text": [
      "/var/folders/dp/1z2xwn7516q1b4n5t3nlr0500000gn/T/ipykernel_11419/2679907221.py:19: SettingWithCopyWarning: \n",
      "A value is trying to be set on a copy of a slice from a DataFrame.\n",
      "Try using .loc[row_indexer,col_indexer] = value instead\n",
      "\n",
      "See the caveats in the documentation: https://pandas.pydata.org/pandas-docs/stable/user_guide/indexing.html#returning-a-view-versus-a-copy\n",
      "  df_new[\"TurbulenceCategory\"] = df_new[\"wake_vortex\"].map(WAKE_VORTEX_TRANSLATION).fillna(np.nan)\n",
      "/var/folders/dp/1z2xwn7516q1b4n5t3nlr0500000gn/T/ipykernel_11419/2679907221.py:19: SettingWithCopyWarning: \n",
      "A value is trying to be set on a copy of a slice from a DataFrame.\n",
      "Try using .loc[row_indexer,col_indexer] = value instead\n",
      "\n",
      "See the caveats in the documentation: https://pandas.pydata.org/pandas-docs/stable/user_guide/indexing.html#returning-a-view-versus-a-copy\n",
      "  df_new[\"TurbulenceCategory\"] = df_new[\"wake_vortex\"].map(WAKE_VORTEX_TRANSLATION).fillna(np.nan)\n"
     ]
    },
    {
     "name": "stdout",
     "output_type": "stream",
     "text": [
      "Guardado en ../data/final_scenarios/clean/scenario_059.parquet\n",
      "Procesando scenario_121.parquet\n",
      "Guardado en ../data/final_scenarios/clean/scenario_121.parquet\n",
      "Procesando scenario_117.parquet\n"
     ]
    },
    {
     "name": "stderr",
     "output_type": "stream",
     "text": [
      "/var/folders/dp/1z2xwn7516q1b4n5t3nlr0500000gn/T/ipykernel_11419/2679907221.py:19: SettingWithCopyWarning: \n",
      "A value is trying to be set on a copy of a slice from a DataFrame.\n",
      "Try using .loc[row_indexer,col_indexer] = value instead\n",
      "\n",
      "See the caveats in the documentation: https://pandas.pydata.org/pandas-docs/stable/user_guide/indexing.html#returning-a-view-versus-a-copy\n",
      "  df_new[\"TurbulenceCategory\"] = df_new[\"wake_vortex\"].map(WAKE_VORTEX_TRANSLATION).fillna(np.nan)\n"
     ]
    },
    {
     "name": "stdout",
     "output_type": "stream",
     "text": [
      "Guardado en ../data/final_scenarios/clean/scenario_117.parquet\n",
      "Procesando scenario_107.parquet\n"
     ]
    },
    {
     "name": "stderr",
     "output_type": "stream",
     "text": [
      "/var/folders/dp/1z2xwn7516q1b4n5t3nlr0500000gn/T/ipykernel_11419/2679907221.py:19: SettingWithCopyWarning: \n",
      "A value is trying to be set on a copy of a slice from a DataFrame.\n",
      "Try using .loc[row_indexer,col_indexer] = value instead\n",
      "\n",
      "See the caveats in the documentation: https://pandas.pydata.org/pandas-docs/stable/user_guide/indexing.html#returning-a-view-versus-a-copy\n",
      "  df_new[\"TurbulenceCategory\"] = df_new[\"wake_vortex\"].map(WAKE_VORTEX_TRANSLATION).fillna(np.nan)\n"
     ]
    },
    {
     "name": "stdout",
     "output_type": "stream",
     "text": [
      "Guardado en ../data/final_scenarios/clean/scenario_107.parquet\n",
      "Procesando scenario_175.parquet\n"
     ]
    },
    {
     "name": "stderr",
     "output_type": "stream",
     "text": [
      "/var/folders/dp/1z2xwn7516q1b4n5t3nlr0500000gn/T/ipykernel_11419/2679907221.py:19: SettingWithCopyWarning: \n",
      "A value is trying to be set on a copy of a slice from a DataFrame.\n",
      "Try using .loc[row_indexer,col_indexer] = value instead\n",
      "\n",
      "See the caveats in the documentation: https://pandas.pydata.org/pandas-docs/stable/user_guide/indexing.html#returning-a-view-versus-a-copy\n",
      "  df_new[\"TurbulenceCategory\"] = df_new[\"wake_vortex\"].map(WAKE_VORTEX_TRANSLATION).fillna(np.nan)\n"
     ]
    },
    {
     "name": "stdout",
     "output_type": "stream",
     "text": [
      "Guardado en ../data/final_scenarios/clean/scenario_175.parquet\n",
      "Procesando scenario_165.parquet\n"
     ]
    },
    {
     "name": "stderr",
     "output_type": "stream",
     "text": [
      "/var/folders/dp/1z2xwn7516q1b4n5t3nlr0500000gn/T/ipykernel_11419/2679907221.py:19: SettingWithCopyWarning: \n",
      "A value is trying to be set on a copy of a slice from a DataFrame.\n",
      "Try using .loc[row_indexer,col_indexer] = value instead\n",
      "\n",
      "See the caveats in the documentation: https://pandas.pydata.org/pandas-docs/stable/user_guide/indexing.html#returning-a-view-versus-a-copy\n",
      "  df_new[\"TurbulenceCategory\"] = df_new[\"wake_vortex\"].map(WAKE_VORTEX_TRANSLATION).fillna(np.nan)\n",
      "/var/folders/dp/1z2xwn7516q1b4n5t3nlr0500000gn/T/ipykernel_11419/2679907221.py:19: SettingWithCopyWarning: \n",
      "A value is trying to be set on a copy of a slice from a DataFrame.\n",
      "Try using .loc[row_indexer,col_indexer] = value instead\n",
      "\n",
      "See the caveats in the documentation: https://pandas.pydata.org/pandas-docs/stable/user_guide/indexing.html#returning-a-view-versus-a-copy\n",
      "  df_new[\"TurbulenceCategory\"] = df_new[\"wake_vortex\"].map(WAKE_VORTEX_TRANSLATION).fillna(np.nan)\n"
     ]
    },
    {
     "name": "stdout",
     "output_type": "stream",
     "text": [
      "Guardado en ../data/final_scenarios/clean/scenario_165.parquet\n",
      "Procesando scenario_191.parquet\n",
      "Guardado en ../data/final_scenarios/clean/scenario_191.parquet\n",
      "Procesando scenario_181.parquet\n"
     ]
    },
    {
     "name": "stderr",
     "output_type": "stream",
     "text": [
      "/var/folders/dp/1z2xwn7516q1b4n5t3nlr0500000gn/T/ipykernel_11419/2679907221.py:19: SettingWithCopyWarning: \n",
      "A value is trying to be set on a copy of a slice from a DataFrame.\n",
      "Try using .loc[row_indexer,col_indexer] = value instead\n",
      "\n",
      "See the caveats in the documentation: https://pandas.pydata.org/pandas-docs/stable/user_guide/indexing.html#returning-a-view-versus-a-copy\n",
      "  df_new[\"TurbulenceCategory\"] = df_new[\"wake_vortex\"].map(WAKE_VORTEX_TRANSLATION).fillna(np.nan)\n",
      "/var/folders/dp/1z2xwn7516q1b4n5t3nlr0500000gn/T/ipykernel_11419/2679907221.py:19: SettingWithCopyWarning: \n",
      "A value is trying to be set on a copy of a slice from a DataFrame.\n",
      "Try using .loc[row_indexer,col_indexer] = value instead\n",
      "\n",
      "See the caveats in the documentation: https://pandas.pydata.org/pandas-docs/stable/user_guide/indexing.html#returning-a-view-versus-a-copy\n",
      "  df_new[\"TurbulenceCategory\"] = df_new[\"wake_vortex\"].map(WAKE_VORTEX_TRANSLATION).fillna(np.nan)\n"
     ]
    },
    {
     "name": "stdout",
     "output_type": "stream",
     "text": [
      "Guardado en ../data/final_scenarios/clean/scenario_181.parquet\n",
      "Procesando scenario_050.parquet\n",
      "Guardado en ../data/final_scenarios/clean/scenario_050.parquet\n",
      "Procesando scenario_128.parquet\n"
     ]
    },
    {
     "name": "stderr",
     "output_type": "stream",
     "text": [
      "/var/folders/dp/1z2xwn7516q1b4n5t3nlr0500000gn/T/ipykernel_11419/2679907221.py:19: SettingWithCopyWarning: \n",
      "A value is trying to be set on a copy of a slice from a DataFrame.\n",
      "Try using .loc[row_indexer,col_indexer] = value instead\n",
      "\n",
      "See the caveats in the documentation: https://pandas.pydata.org/pandas-docs/stable/user_guide/indexing.html#returning-a-view-versus-a-copy\n",
      "  df_new[\"TurbulenceCategory\"] = df_new[\"wake_vortex\"].map(WAKE_VORTEX_TRANSLATION).fillna(np.nan)\n",
      "/var/folders/dp/1z2xwn7516q1b4n5t3nlr0500000gn/T/ipykernel_11419/2679907221.py:19: SettingWithCopyWarning: \n",
      "A value is trying to be set on a copy of a slice from a DataFrame.\n",
      "Try using .loc[row_indexer,col_indexer] = value instead\n",
      "\n",
      "See the caveats in the documentation: https://pandas.pydata.org/pandas-docs/stable/user_guide/indexing.html#returning-a-view-versus-a-copy\n",
      "  df_new[\"TurbulenceCategory\"] = df_new[\"wake_vortex\"].map(WAKE_VORTEX_TRANSLATION).fillna(np.nan)\n"
     ]
    },
    {
     "name": "stdout",
     "output_type": "stream",
     "text": [
      "Guardado en ../data/final_scenarios/clean/scenario_128.parquet\n",
      "Procesando scenario_040.parquet\n",
      "Guardado en ../data/final_scenarios/clean/scenario_040.parquet\n",
      "Procesando scenario_138.parquet\n"
     ]
    },
    {
     "name": "stderr",
     "output_type": "stream",
     "text": [
      "/var/folders/dp/1z2xwn7516q1b4n5t3nlr0500000gn/T/ipykernel_11419/2679907221.py:19: SettingWithCopyWarning: \n",
      "A value is trying to be set on a copy of a slice from a DataFrame.\n",
      "Try using .loc[row_indexer,col_indexer] = value instead\n",
      "\n",
      "See the caveats in the documentation: https://pandas.pydata.org/pandas-docs/stable/user_guide/indexing.html#returning-a-view-versus-a-copy\n",
      "  df_new[\"TurbulenceCategory\"] = df_new[\"wake_vortex\"].map(WAKE_VORTEX_TRANSLATION).fillna(np.nan)\n",
      "/var/folders/dp/1z2xwn7516q1b4n5t3nlr0500000gn/T/ipykernel_11419/2679907221.py:19: SettingWithCopyWarning: \n",
      "A value is trying to be set on a copy of a slice from a DataFrame.\n",
      "Try using .loc[row_indexer,col_indexer] = value instead\n",
      "\n",
      "See the caveats in the documentation: https://pandas.pydata.org/pandas-docs/stable/user_guide/indexing.html#returning-a-view-versus-a-copy\n",
      "  df_new[\"TurbulenceCategory\"] = df_new[\"wake_vortex\"].map(WAKE_VORTEX_TRANSLATION).fillna(np.nan)\n"
     ]
    },
    {
     "name": "stdout",
     "output_type": "stream",
     "text": [
      "Guardado en ../data/final_scenarios/clean/scenario_138.parquet\n",
      "Procesando scenario_032.parquet\n",
      "Guardado en ../data/final_scenarios/clean/scenario_032.parquet\n",
      "Procesando scenario_022.parquet\n"
     ]
    },
    {
     "name": "stderr",
     "output_type": "stream",
     "text": [
      "/var/folders/dp/1z2xwn7516q1b4n5t3nlr0500000gn/T/ipykernel_11419/2679907221.py:19: SettingWithCopyWarning: \n",
      "A value is trying to be set on a copy of a slice from a DataFrame.\n",
      "Try using .loc[row_indexer,col_indexer] = value instead\n",
      "\n",
      "See the caveats in the documentation: https://pandas.pydata.org/pandas-docs/stable/user_guide/indexing.html#returning-a-view-versus-a-copy\n",
      "  df_new[\"TurbulenceCategory\"] = df_new[\"wake_vortex\"].map(WAKE_VORTEX_TRANSLATION).fillna(np.nan)\n",
      "/var/folders/dp/1z2xwn7516q1b4n5t3nlr0500000gn/T/ipykernel_11419/2679907221.py:19: SettingWithCopyWarning: \n",
      "A value is trying to be set on a copy of a slice from a DataFrame.\n",
      "Try using .loc[row_indexer,col_indexer] = value instead\n",
      "\n",
      "See the caveats in the documentation: https://pandas.pydata.org/pandas-docs/stable/user_guide/indexing.html#returning-a-view-versus-a-copy\n",
      "  df_new[\"TurbulenceCategory\"] = df_new[\"wake_vortex\"].map(WAKE_VORTEX_TRANSLATION).fillna(np.nan)\n"
     ]
    },
    {
     "name": "stdout",
     "output_type": "stream",
     "text": [
      "Guardado en ../data/final_scenarios/clean/scenario_022.parquet\n",
      "Procesando scenario_184.parquet\n",
      "Guardado en ../data/final_scenarios/clean/scenario_184.parquet\n",
      "Procesando scenario_045.parquet\n",
      "Guardado en ../data/final_scenarios/clean/scenario_045.parquet\n",
      "Procesando scenario_055.parquet\n",
      "Guardado en ../data/final_scenarios/clean/scenario_055.parquet\n",
      "Procesando scenario_027.parquet\n"
     ]
    },
    {
     "name": "stderr",
     "output_type": "stream",
     "text": [
      "/var/folders/dp/1z2xwn7516q1b4n5t3nlr0500000gn/T/ipykernel_11419/2679907221.py:19: SettingWithCopyWarning: \n",
      "A value is trying to be set on a copy of a slice from a DataFrame.\n",
      "Try using .loc[row_indexer,col_indexer] = value instead\n",
      "\n",
      "See the caveats in the documentation: https://pandas.pydata.org/pandas-docs/stable/user_guide/indexing.html#returning-a-view-versus-a-copy\n",
      "  df_new[\"TurbulenceCategory\"] = df_new[\"wake_vortex\"].map(WAKE_VORTEX_TRANSLATION).fillna(np.nan)\n",
      "/var/folders/dp/1z2xwn7516q1b4n5t3nlr0500000gn/T/ipykernel_11419/2679907221.py:19: SettingWithCopyWarning: \n",
      "A value is trying to be set on a copy of a slice from a DataFrame.\n",
      "Try using .loc[row_indexer,col_indexer] = value instead\n",
      "\n",
      "See the caveats in the documentation: https://pandas.pydata.org/pandas-docs/stable/user_guide/indexing.html#returning-a-view-versus-a-copy\n",
      "  df_new[\"TurbulenceCategory\"] = df_new[\"wake_vortex\"].map(WAKE_VORTEX_TRANSLATION).fillna(np.nan)\n",
      "/var/folders/dp/1z2xwn7516q1b4n5t3nlr0500000gn/T/ipykernel_11419/2679907221.py:19: SettingWithCopyWarning: \n",
      "A value is trying to be set on a copy of a slice from a DataFrame.\n",
      "Try using .loc[row_indexer,col_indexer] = value instead\n",
      "\n",
      "See the caveats in the documentation: https://pandas.pydata.org/pandas-docs/stable/user_guide/indexing.html#returning-a-view-versus-a-copy\n",
      "  df_new[\"TurbulenceCategory\"] = df_new[\"wake_vortex\"].map(WAKE_VORTEX_TRANSLATION).fillna(np.nan)\n"
     ]
    },
    {
     "name": "stdout",
     "output_type": "stream",
     "text": [
      "Guardado en ../data/final_scenarios/clean/scenario_027.parquet\n",
      "Procesando scenario_037.parquet\n"
     ]
    },
    {
     "name": "stderr",
     "output_type": "stream",
     "text": [
      "/var/folders/dp/1z2xwn7516q1b4n5t3nlr0500000gn/T/ipykernel_11419/2679907221.py:19: SettingWithCopyWarning: \n",
      "A value is trying to be set on a copy of a slice from a DataFrame.\n",
      "Try using .loc[row_indexer,col_indexer] = value instead\n",
      "\n",
      "See the caveats in the documentation: https://pandas.pydata.org/pandas-docs/stable/user_guide/indexing.html#returning-a-view-versus-a-copy\n",
      "  df_new[\"TurbulenceCategory\"] = df_new[\"wake_vortex\"].map(WAKE_VORTEX_TRANSLATION).fillna(np.nan)\n",
      "/var/folders/dp/1z2xwn7516q1b4n5t3nlr0500000gn/T/ipykernel_11419/2679907221.py:19: SettingWithCopyWarning: \n",
      "A value is trying to be set on a copy of a slice from a DataFrame.\n",
      "Try using .loc[row_indexer,col_indexer] = value instead\n",
      "\n",
      "See the caveats in the documentation: https://pandas.pydata.org/pandas-docs/stable/user_guide/indexing.html#returning-a-view-versus-a-copy\n",
      "  df_new[\"TurbulenceCategory\"] = df_new[\"wake_vortex\"].map(WAKE_VORTEX_TRANSLATION).fillna(np.nan)\n"
     ]
    },
    {
     "name": "stdout",
     "output_type": "stream",
     "text": [
      "Guardado en ../data/final_scenarios/clean/scenario_037.parquet\n",
      "Procesando scenario_102.parquet\n",
      "Guardado en ../data/final_scenarios/clean/scenario_102.parquet\n",
      "Procesando scenario_112.parquet\n"
     ]
    },
    {
     "name": "stderr",
     "output_type": "stream",
     "text": [
      "/var/folders/dp/1z2xwn7516q1b4n5t3nlr0500000gn/T/ipykernel_11419/2679907221.py:19: SettingWithCopyWarning: \n",
      "A value is trying to be set on a copy of a slice from a DataFrame.\n",
      "Try using .loc[row_indexer,col_indexer] = value instead\n",
      "\n",
      "See the caveats in the documentation: https://pandas.pydata.org/pandas-docs/stable/user_guide/indexing.html#returning-a-view-versus-a-copy\n",
      "  df_new[\"TurbulenceCategory\"] = df_new[\"wake_vortex\"].map(WAKE_VORTEX_TRANSLATION).fillna(np.nan)\n",
      "/var/folders/dp/1z2xwn7516q1b4n5t3nlr0500000gn/T/ipykernel_11419/2679907221.py:19: SettingWithCopyWarning: \n",
      "A value is trying to be set on a copy of a slice from a DataFrame.\n",
      "Try using .loc[row_indexer,col_indexer] = value instead\n",
      "\n",
      "See the caveats in the documentation: https://pandas.pydata.org/pandas-docs/stable/user_guide/indexing.html#returning-a-view-versus-a-copy\n",
      "  df_new[\"TurbulenceCategory\"] = df_new[\"wake_vortex\"].map(WAKE_VORTEX_TRANSLATION).fillna(np.nan)\n"
     ]
    },
    {
     "name": "stdout",
     "output_type": "stream",
     "text": [
      "Guardado en ../data/final_scenarios/clean/scenario_112.parquet\n",
      "Procesando scenario_018.parquet\n",
      "Guardado en ../data/final_scenarios/clean/scenario_018.parquet\n",
      "Procesando scenario_160.parquet\n"
     ]
    },
    {
     "name": "stderr",
     "output_type": "stream",
     "text": [
      "/var/folders/dp/1z2xwn7516q1b4n5t3nlr0500000gn/T/ipykernel_11419/2679907221.py:19: SettingWithCopyWarning: \n",
      "A value is trying to be set on a copy of a slice from a DataFrame.\n",
      "Try using .loc[row_indexer,col_indexer] = value instead\n",
      "\n",
      "See the caveats in the documentation: https://pandas.pydata.org/pandas-docs/stable/user_guide/indexing.html#returning-a-view-versus-a-copy\n",
      "  df_new[\"TurbulenceCategory\"] = df_new[\"wake_vortex\"].map(WAKE_VORTEX_TRANSLATION).fillna(np.nan)\n"
     ]
    },
    {
     "name": "stdout",
     "output_type": "stream",
     "text": [
      "Guardado en ../data/final_scenarios/clean/scenario_160.parquet\n",
      "Procesando scenario_008.parquet\n"
     ]
    },
    {
     "name": "stderr",
     "output_type": "stream",
     "text": [
      "/var/folders/dp/1z2xwn7516q1b4n5t3nlr0500000gn/T/ipykernel_11419/2679907221.py:19: SettingWithCopyWarning: \n",
      "A value is trying to be set on a copy of a slice from a DataFrame.\n",
      "Try using .loc[row_indexer,col_indexer] = value instead\n",
      "\n",
      "See the caveats in the documentation: https://pandas.pydata.org/pandas-docs/stable/user_guide/indexing.html#returning-a-view-versus-a-copy\n",
      "  df_new[\"TurbulenceCategory\"] = df_new[\"wake_vortex\"].map(WAKE_VORTEX_TRANSLATION).fillna(np.nan)\n"
     ]
    },
    {
     "name": "stdout",
     "output_type": "stream",
     "text": [
      "Guardado en ../data/final_scenarios/clean/scenario_008.parquet\n",
      "Procesando scenario_170.parquet\n"
     ]
    },
    {
     "name": "stderr",
     "output_type": "stream",
     "text": [
      "/var/folders/dp/1z2xwn7516q1b4n5t3nlr0500000gn/T/ipykernel_11419/2679907221.py:19: SettingWithCopyWarning: \n",
      "A value is trying to be set on a copy of a slice from a DataFrame.\n",
      "Try using .loc[row_indexer,col_indexer] = value instead\n",
      "\n",
      "See the caveats in the documentation: https://pandas.pydata.org/pandas-docs/stable/user_guide/indexing.html#returning-a-view-versus-a-copy\n",
      "  df_new[\"TurbulenceCategory\"] = df_new[\"wake_vortex\"].map(WAKE_VORTEX_TRANSLATION).fillna(np.nan)\n"
     ]
    },
    {
     "name": "stdout",
     "output_type": "stream",
     "text": [
      "Guardado en ../data/final_scenarios/clean/scenario_170.parquet\n",
      "Procesando scenario_146.parquet\n"
     ]
    },
    {
     "name": "stderr",
     "output_type": "stream",
     "text": [
      "/var/folders/dp/1z2xwn7516q1b4n5t3nlr0500000gn/T/ipykernel_11419/2679907221.py:19: SettingWithCopyWarning: \n",
      "A value is trying to be set on a copy of a slice from a DataFrame.\n",
      "Try using .loc[row_indexer,col_indexer] = value instead\n",
      "\n",
      "See the caveats in the documentation: https://pandas.pydata.org/pandas-docs/stable/user_guide/indexing.html#returning-a-view-versus-a-copy\n",
      "  df_new[\"TurbulenceCategory\"] = df_new[\"wake_vortex\"].map(WAKE_VORTEX_TRANSLATION).fillna(np.nan)\n"
     ]
    },
    {
     "name": "stdout",
     "output_type": "stream",
     "text": [
      "Guardado en ../data/final_scenarios/clean/scenario_146.parquet\n",
      "Procesando scenario_156.parquet\n"
     ]
    },
    {
     "name": "stderr",
     "output_type": "stream",
     "text": [
      "/var/folders/dp/1z2xwn7516q1b4n5t3nlr0500000gn/T/ipykernel_11419/2679907221.py:19: SettingWithCopyWarning: \n",
      "A value is trying to be set on a copy of a slice from a DataFrame.\n",
      "Try using .loc[row_indexer,col_indexer] = value instead\n",
      "\n",
      "See the caveats in the documentation: https://pandas.pydata.org/pandas-docs/stable/user_guide/indexing.html#returning-a-view-versus-a-copy\n",
      "  df_new[\"TurbulenceCategory\"] = df_new[\"wake_vortex\"].map(WAKE_VORTEX_TRANSLATION).fillna(np.nan)\n",
      "/var/folders/dp/1z2xwn7516q1b4n5t3nlr0500000gn/T/ipykernel_11419/2679907221.py:19: SettingWithCopyWarning: \n",
      "A value is trying to be set on a copy of a slice from a DataFrame.\n",
      "Try using .loc[row_indexer,col_indexer] = value instead\n",
      "\n",
      "See the caveats in the documentation: https://pandas.pydata.org/pandas-docs/stable/user_guide/indexing.html#returning-a-view-versus-a-copy\n",
      "  df_new[\"TurbulenceCategory\"] = df_new[\"wake_vortex\"].map(WAKE_VORTEX_TRANSLATION).fillna(np.nan)\n"
     ]
    },
    {
     "name": "stdout",
     "output_type": "stream",
     "text": [
      "Guardado en ../data/final_scenarios/clean/scenario_156.parquet\n",
      "Procesando scenario_087.parquet\n",
      "Guardado en ../data/final_scenarios/clean/scenario_087.parquet\n",
      "Procesando scenario_097.parquet\n"
     ]
    },
    {
     "name": "stderr",
     "output_type": "stream",
     "text": [
      "/var/folders/dp/1z2xwn7516q1b4n5t3nlr0500000gn/T/ipykernel_11419/2679907221.py:19: SettingWithCopyWarning: \n",
      "A value is trying to be set on a copy of a slice from a DataFrame.\n",
      "Try using .loc[row_indexer,col_indexer] = value instead\n",
      "\n",
      "See the caveats in the documentation: https://pandas.pydata.org/pandas-docs/stable/user_guide/indexing.html#returning-a-view-versus-a-copy\n",
      "  df_new[\"TurbulenceCategory\"] = df_new[\"wake_vortex\"].map(WAKE_VORTEX_TRANSLATION).fillna(np.nan)\n"
     ]
    },
    {
     "name": "stdout",
     "output_type": "stream",
     "text": [
      "Guardado en ../data/final_scenarios/clean/scenario_097.parquet\n",
      "Procesando scenario_124.parquet\n"
     ]
    },
    {
     "name": "stderr",
     "output_type": "stream",
     "text": [
      "/var/folders/dp/1z2xwn7516q1b4n5t3nlr0500000gn/T/ipykernel_11419/2679907221.py:19: SettingWithCopyWarning: \n",
      "A value is trying to be set on a copy of a slice from a DataFrame.\n",
      "Try using .loc[row_indexer,col_indexer] = value instead\n",
      "\n",
      "See the caveats in the documentation: https://pandas.pydata.org/pandas-docs/stable/user_guide/indexing.html#returning-a-view-versus-a-copy\n",
      "  df_new[\"TurbulenceCategory\"] = df_new[\"wake_vortex\"].map(WAKE_VORTEX_TRANSLATION).fillna(np.nan)\n"
     ]
    },
    {
     "name": "stdout",
     "output_type": "stream",
     "text": [
      "Guardado en ../data/final_scenarios/clean/scenario_124.parquet\n",
      "Procesando scenario_134.parquet\n"
     ]
    },
    {
     "name": "stderr",
     "output_type": "stream",
     "text": [
      "/var/folders/dp/1z2xwn7516q1b4n5t3nlr0500000gn/T/ipykernel_11419/2679907221.py:19: SettingWithCopyWarning: \n",
      "A value is trying to be set on a copy of a slice from a DataFrame.\n",
      "Try using .loc[row_indexer,col_indexer] = value instead\n",
      "\n",
      "See the caveats in the documentation: https://pandas.pydata.org/pandas-docs/stable/user_guide/indexing.html#returning-a-view-versus-a-copy\n",
      "  df_new[\"TurbulenceCategory\"] = df_new[\"wake_vortex\"].map(WAKE_VORTEX_TRANSLATION).fillna(np.nan)\n"
     ]
    },
    {
     "name": "stdout",
     "output_type": "stream",
     "text": [
      "Guardado en ../data/final_scenarios/clean/scenario_134.parquet\n",
      "Procesando scenario_001.parquet\n"
     ]
    },
    {
     "name": "stderr",
     "output_type": "stream",
     "text": [
      "/var/folders/dp/1z2xwn7516q1b4n5t3nlr0500000gn/T/ipykernel_11419/2679907221.py:19: SettingWithCopyWarning: \n",
      "A value is trying to be set on a copy of a slice from a DataFrame.\n",
      "Try using .loc[row_indexer,col_indexer] = value instead\n",
      "\n",
      "See the caveats in the documentation: https://pandas.pydata.org/pandas-docs/stable/user_guide/indexing.html#returning-a-view-versus-a-copy\n",
      "  df_new[\"TurbulenceCategory\"] = df_new[\"wake_vortex\"].map(WAKE_VORTEX_TRANSLATION).fillna(np.nan)\n"
     ]
    },
    {
     "name": "stdout",
     "output_type": "stream",
     "text": [
      "Guardado en ../data/final_scenarios/clean/scenario_001.parquet\n",
      "Procesando scenario_179.parquet\n"
     ]
    },
    {
     "name": "stderr",
     "output_type": "stream",
     "text": [
      "/var/folders/dp/1z2xwn7516q1b4n5t3nlr0500000gn/T/ipykernel_11419/2679907221.py:19: SettingWithCopyWarning: \n",
      "A value is trying to be set on a copy of a slice from a DataFrame.\n",
      "Try using .loc[row_indexer,col_indexer] = value instead\n",
      "\n",
      "See the caveats in the documentation: https://pandas.pydata.org/pandas-docs/stable/user_guide/indexing.html#returning-a-view-versus-a-copy\n",
      "  df_new[\"TurbulenceCategory\"] = df_new[\"wake_vortex\"].map(WAKE_VORTEX_TRANSLATION).fillna(np.nan)\n"
     ]
    },
    {
     "name": "stdout",
     "output_type": "stream",
     "text": [
      "Guardado en ../data/final_scenarios/clean/scenario_179.parquet\n",
      "Procesando scenario_011.parquet\n"
     ]
    },
    {
     "name": "stderr",
     "output_type": "stream",
     "text": [
      "/var/folders/dp/1z2xwn7516q1b4n5t3nlr0500000gn/T/ipykernel_11419/2679907221.py:19: SettingWithCopyWarning: \n",
      "A value is trying to be set on a copy of a slice from a DataFrame.\n",
      "Try using .loc[row_indexer,col_indexer] = value instead\n",
      "\n",
      "See the caveats in the documentation: https://pandas.pydata.org/pandas-docs/stable/user_guide/indexing.html#returning-a-view-versus-a-copy\n",
      "  df_new[\"TurbulenceCategory\"] = df_new[\"wake_vortex\"].map(WAKE_VORTEX_TRANSLATION).fillna(np.nan)\n"
     ]
    },
    {
     "name": "stdout",
     "output_type": "stream",
     "text": [
      "Guardado en ../data/final_scenarios/clean/scenario_011.parquet\n",
      "Procesando scenario_169.parquet\n"
     ]
    },
    {
     "name": "stderr",
     "output_type": "stream",
     "text": [
      "/var/folders/dp/1z2xwn7516q1b4n5t3nlr0500000gn/T/ipykernel_11419/2679907221.py:19: SettingWithCopyWarning: \n",
      "A value is trying to be set on a copy of a slice from a DataFrame.\n",
      "Try using .loc[row_indexer,col_indexer] = value instead\n",
      "\n",
      "See the caveats in the documentation: https://pandas.pydata.org/pandas-docs/stable/user_guide/indexing.html#returning-a-view-versus-a-copy\n",
      "  df_new[\"TurbulenceCategory\"] = df_new[\"wake_vortex\"].map(WAKE_VORTEX_TRANSLATION).fillna(np.nan)\n"
     ]
    },
    {
     "name": "stdout",
     "output_type": "stream",
     "text": [
      "Guardado en ../data/final_scenarios/clean/scenario_169.parquet\n",
      "Procesando scenario_063.parquet\n"
     ]
    },
    {
     "name": "stderr",
     "output_type": "stream",
     "text": [
      "/var/folders/dp/1z2xwn7516q1b4n5t3nlr0500000gn/T/ipykernel_11419/2679907221.py:19: SettingWithCopyWarning: \n",
      "A value is trying to be set on a copy of a slice from a DataFrame.\n",
      "Try using .loc[row_indexer,col_indexer] = value instead\n",
      "\n",
      "See the caveats in the documentation: https://pandas.pydata.org/pandas-docs/stable/user_guide/indexing.html#returning-a-view-versus-a-copy\n",
      "  df_new[\"TurbulenceCategory\"] = df_new[\"wake_vortex\"].map(WAKE_VORTEX_TRANSLATION).fillna(np.nan)\n"
     ]
    },
    {
     "name": "stdout",
     "output_type": "stream",
     "text": [
      "Guardado en ../data/final_scenarios/clean/scenario_063.parquet\n",
      "Procesando scenario_073.parquet\n"
     ]
    },
    {
     "name": "stderr",
     "output_type": "stream",
     "text": [
      "/var/folders/dp/1z2xwn7516q1b4n5t3nlr0500000gn/T/ipykernel_11419/2679907221.py:19: SettingWithCopyWarning: \n",
      "A value is trying to be set on a copy of a slice from a DataFrame.\n",
      "Try using .loc[row_indexer,col_indexer] = value instead\n",
      "\n",
      "See the caveats in the documentation: https://pandas.pydata.org/pandas-docs/stable/user_guide/indexing.html#returning-a-view-versus-a-copy\n",
      "  df_new[\"TurbulenceCategory\"] = df_new[\"wake_vortex\"].map(WAKE_VORTEX_TRANSLATION).fillna(np.nan)\n",
      "/var/folders/dp/1z2xwn7516q1b4n5t3nlr0500000gn/T/ipykernel_11419/2679907221.py:19: SettingWithCopyWarning: \n",
      "A value is trying to be set on a copy of a slice from a DataFrame.\n",
      "Try using .loc[row_indexer,col_indexer] = value instead\n",
      "\n",
      "See the caveats in the documentation: https://pandas.pydata.org/pandas-docs/stable/user_guide/indexing.html#returning-a-view-versus-a-copy\n",
      "  df_new[\"TurbulenceCategory\"] = df_new[\"wake_vortex\"].map(WAKE_VORTEX_TRANSLATION).fillna(np.nan)\n"
     ]
    },
    {
     "name": "stdout",
     "output_type": "stream",
     "text": [
      "Guardado en ../data/final_scenarios/clean/scenario_073.parquet\n",
      "Procesando scenario_096.parquet\n",
      "Guardado en ../data/final_scenarios/clean/scenario_096.parquet\n",
      "Procesando scenario_086.parquet\n"
     ]
    },
    {
     "name": "stderr",
     "output_type": "stream",
     "text": [
      "/var/folders/dp/1z2xwn7516q1b4n5t3nlr0500000gn/T/ipykernel_11419/2679907221.py:19: SettingWithCopyWarning: \n",
      "A value is trying to be set on a copy of a slice from a DataFrame.\n",
      "Try using .loc[row_indexer,col_indexer] = value instead\n",
      "\n",
      "See the caveats in the documentation: https://pandas.pydata.org/pandas-docs/stable/user_guide/indexing.html#returning-a-view-versus-a-copy\n",
      "  df_new[\"TurbulenceCategory\"] = df_new[\"wake_vortex\"].map(WAKE_VORTEX_TRANSLATION).fillna(np.nan)\n",
      "/var/folders/dp/1z2xwn7516q1b4n5t3nlr0500000gn/T/ipykernel_11419/2679907221.py:19: SettingWithCopyWarning: \n",
      "A value is trying to be set on a copy of a slice from a DataFrame.\n",
      "Try using .loc[row_indexer,col_indexer] = value instead\n",
      "\n",
      "See the caveats in the documentation: https://pandas.pydata.org/pandas-docs/stable/user_guide/indexing.html#returning-a-view-versus-a-copy\n",
      "  df_new[\"TurbulenceCategory\"] = df_new[\"wake_vortex\"].map(WAKE_VORTEX_TRANSLATION).fillna(np.nan)\n"
     ]
    },
    {
     "name": "stdout",
     "output_type": "stream",
     "text": [
      "Guardado en ../data/final_scenarios/clean/scenario_086.parquet\n",
      "Procesando scenario_157.parquet\n",
      "Guardado en ../data/final_scenarios/clean/scenario_157.parquet\n",
      "Procesando scenario_147.parquet\n"
     ]
    },
    {
     "name": "stderr",
     "output_type": "stream",
     "text": [
      "/var/folders/dp/1z2xwn7516q1b4n5t3nlr0500000gn/T/ipykernel_11419/2679907221.py:19: SettingWithCopyWarning: \n",
      "A value is trying to be set on a copy of a slice from a DataFrame.\n",
      "Try using .loc[row_indexer,col_indexer] = value instead\n",
      "\n",
      "See the caveats in the documentation: https://pandas.pydata.org/pandas-docs/stable/user_guide/indexing.html#returning-a-view-versus-a-copy\n",
      "  df_new[\"TurbulenceCategory\"] = df_new[\"wake_vortex\"].map(WAKE_VORTEX_TRANSLATION).fillna(np.nan)\n"
     ]
    },
    {
     "name": "stdout",
     "output_type": "stream",
     "text": [
      "Guardado en ../data/final_scenarios/clean/scenario_147.parquet\n",
      "Procesando scenario_135.parquet\n"
     ]
    },
    {
     "name": "stderr",
     "output_type": "stream",
     "text": [
      "/var/folders/dp/1z2xwn7516q1b4n5t3nlr0500000gn/T/ipykernel_11419/2679907221.py:19: SettingWithCopyWarning: \n",
      "A value is trying to be set on a copy of a slice from a DataFrame.\n",
      "Try using .loc[row_indexer,col_indexer] = value instead\n",
      "\n",
      "See the caveats in the documentation: https://pandas.pydata.org/pandas-docs/stable/user_guide/indexing.html#returning-a-view-versus-a-copy\n",
      "  df_new[\"TurbulenceCategory\"] = df_new[\"wake_vortex\"].map(WAKE_VORTEX_TRANSLATION).fillna(np.nan)\n"
     ]
    },
    {
     "name": "stdout",
     "output_type": "stream",
     "text": [
      "Guardado en ../data/final_scenarios/clean/scenario_135.parquet\n",
      "Procesando scenario_125.parquet\n",
      "Guardado en ../data/final_scenarios/clean/scenario_125.parquet\n",
      "Procesando scenario_168.parquet\n"
     ]
    },
    {
     "name": "stderr",
     "output_type": "stream",
     "text": [
      "/var/folders/dp/1z2xwn7516q1b4n5t3nlr0500000gn/T/ipykernel_11419/2679907221.py:19: SettingWithCopyWarning: \n",
      "A value is trying to be set on a copy of a slice from a DataFrame.\n",
      "Try using .loc[row_indexer,col_indexer] = value instead\n",
      "\n",
      "See the caveats in the documentation: https://pandas.pydata.org/pandas-docs/stable/user_guide/indexing.html#returning-a-view-versus-a-copy\n",
      "  df_new[\"TurbulenceCategory\"] = df_new[\"wake_vortex\"].map(WAKE_VORTEX_TRANSLATION).fillna(np.nan)\n",
      "/var/folders/dp/1z2xwn7516q1b4n5t3nlr0500000gn/T/ipykernel_11419/2679907221.py:19: SettingWithCopyWarning: \n",
      "A value is trying to be set on a copy of a slice from a DataFrame.\n",
      "Try using .loc[row_indexer,col_indexer] = value instead\n",
      "\n",
      "See the caveats in the documentation: https://pandas.pydata.org/pandas-docs/stable/user_guide/indexing.html#returning-a-view-versus-a-copy\n",
      "  df_new[\"TurbulenceCategory\"] = df_new[\"wake_vortex\"].map(WAKE_VORTEX_TRANSLATION).fillna(np.nan)\n"
     ]
    },
    {
     "name": "stdout",
     "output_type": "stream",
     "text": [
      "Guardado en ../data/final_scenarios/clean/scenario_168.parquet\n",
      "Procesando scenario_010.parquet\n"
     ]
    },
    {
     "name": "stderr",
     "output_type": "stream",
     "text": [
      "/var/folders/dp/1z2xwn7516q1b4n5t3nlr0500000gn/T/ipykernel_11419/2679907221.py:19: SettingWithCopyWarning: \n",
      "A value is trying to be set on a copy of a slice from a DataFrame.\n",
      "Try using .loc[row_indexer,col_indexer] = value instead\n",
      "\n",
      "See the caveats in the documentation: https://pandas.pydata.org/pandas-docs/stable/user_guide/indexing.html#returning-a-view-versus-a-copy\n",
      "  df_new[\"TurbulenceCategory\"] = df_new[\"wake_vortex\"].map(WAKE_VORTEX_TRANSLATION).fillna(np.nan)\n",
      "/var/folders/dp/1z2xwn7516q1b4n5t3nlr0500000gn/T/ipykernel_11419/2679907221.py:19: SettingWithCopyWarning: \n",
      "A value is trying to be set on a copy of a slice from a DataFrame.\n",
      "Try using .loc[row_indexer,col_indexer] = value instead\n",
      "\n",
      "See the caveats in the documentation: https://pandas.pydata.org/pandas-docs/stable/user_guide/indexing.html#returning-a-view-versus-a-copy\n",
      "  df_new[\"TurbulenceCategory\"] = df_new[\"wake_vortex\"].map(WAKE_VORTEX_TRANSLATION).fillna(np.nan)\n"
     ]
    },
    {
     "name": "stdout",
     "output_type": "stream",
     "text": [
      "Guardado en ../data/final_scenarios/clean/scenario_010.parquet\n",
      "Procesando scenario_178.parquet\n",
      "Guardado en ../data/final_scenarios/clean/scenario_178.parquet\n",
      "Procesando scenario_072.parquet\n"
     ]
    },
    {
     "name": "stderr",
     "output_type": "stream",
     "text": [
      "/var/folders/dp/1z2xwn7516q1b4n5t3nlr0500000gn/T/ipykernel_11419/2679907221.py:19: SettingWithCopyWarning: \n",
      "A value is trying to be set on a copy of a slice from a DataFrame.\n",
      "Try using .loc[row_indexer,col_indexer] = value instead\n",
      "\n",
      "See the caveats in the documentation: https://pandas.pydata.org/pandas-docs/stable/user_guide/indexing.html#returning-a-view-versus-a-copy\n",
      "  df_new[\"TurbulenceCategory\"] = df_new[\"wake_vortex\"].map(WAKE_VORTEX_TRANSLATION).fillna(np.nan)\n"
     ]
    },
    {
     "name": "stdout",
     "output_type": "stream",
     "text": [
      "Guardado en ../data/final_scenarios/clean/scenario_072.parquet\n",
      "Procesando scenario_062.parquet\n"
     ]
    },
    {
     "name": "stderr",
     "output_type": "stream",
     "text": [
      "/var/folders/dp/1z2xwn7516q1b4n5t3nlr0500000gn/T/ipykernel_11419/2679907221.py:19: SettingWithCopyWarning: \n",
      "A value is trying to be set on a copy of a slice from a DataFrame.\n",
      "Try using .loc[row_indexer,col_indexer] = value instead\n",
      "\n",
      "See the caveats in the documentation: https://pandas.pydata.org/pandas-docs/stable/user_guide/indexing.html#returning-a-view-versus-a-copy\n",
      "  df_new[\"TurbulenceCategory\"] = df_new[\"wake_vortex\"].map(WAKE_VORTEX_TRANSLATION).fillna(np.nan)\n"
     ]
    },
    {
     "name": "stdout",
     "output_type": "stream",
     "text": [
      "Guardado en ../data/final_scenarios/clean/scenario_062.parquet\n",
      "Procesando scenario_054.parquet\n"
     ]
    },
    {
     "name": "stderr",
     "output_type": "stream",
     "text": [
      "/var/folders/dp/1z2xwn7516q1b4n5t3nlr0500000gn/T/ipykernel_11419/2679907221.py:19: SettingWithCopyWarning: \n",
      "A value is trying to be set on a copy of a slice from a DataFrame.\n",
      "Try using .loc[row_indexer,col_indexer] = value instead\n",
      "\n",
      "See the caveats in the documentation: https://pandas.pydata.org/pandas-docs/stable/user_guide/indexing.html#returning-a-view-versus-a-copy\n",
      "  df_new[\"TurbulenceCategory\"] = df_new[\"wake_vortex\"].map(WAKE_VORTEX_TRANSLATION).fillna(np.nan)\n"
     ]
    },
    {
     "name": "stdout",
     "output_type": "stream",
     "text": [
      "Guardado en ../data/final_scenarios/clean/scenario_054.parquet\n",
      "Procesando scenario_044.parquet\n"
     ]
    },
    {
     "name": "stderr",
     "output_type": "stream",
     "text": [
      "/var/folders/dp/1z2xwn7516q1b4n5t3nlr0500000gn/T/ipykernel_11419/2679907221.py:19: SettingWithCopyWarning: \n",
      "A value is trying to be set on a copy of a slice from a DataFrame.\n",
      "Try using .loc[row_indexer,col_indexer] = value instead\n",
      "\n",
      "See the caveats in the documentation: https://pandas.pydata.org/pandas-docs/stable/user_guide/indexing.html#returning-a-view-versus-a-copy\n",
      "  df_new[\"TurbulenceCategory\"] = df_new[\"wake_vortex\"].map(WAKE_VORTEX_TRANSLATION).fillna(np.nan)\n",
      "/var/folders/dp/1z2xwn7516q1b4n5t3nlr0500000gn/T/ipykernel_11419/2679907221.py:19: SettingWithCopyWarning: \n",
      "A value is trying to be set on a copy of a slice from a DataFrame.\n",
      "Try using .loc[row_indexer,col_indexer] = value instead\n",
      "\n",
      "See the caveats in the documentation: https://pandas.pydata.org/pandas-docs/stable/user_guide/indexing.html#returning-a-view-versus-a-copy\n",
      "  df_new[\"TurbulenceCategory\"] = df_new[\"wake_vortex\"].map(WAKE_VORTEX_TRANSLATION).fillna(np.nan)\n"
     ]
    },
    {
     "name": "stdout",
     "output_type": "stream",
     "text": [
      "Guardado en ../data/final_scenarios/clean/scenario_044.parquet\n",
      "Procesando scenario_185.parquet\n",
      "Guardado en ../data/final_scenarios/clean/scenario_185.parquet\n",
      "Procesando scenario_036.parquet\n"
     ]
    },
    {
     "name": "stderr",
     "output_type": "stream",
     "text": [
      "/var/folders/dp/1z2xwn7516q1b4n5t3nlr0500000gn/T/ipykernel_11419/2679907221.py:19: SettingWithCopyWarning: \n",
      "A value is trying to be set on a copy of a slice from a DataFrame.\n",
      "Try using .loc[row_indexer,col_indexer] = value instead\n",
      "\n",
      "See the caveats in the documentation: https://pandas.pydata.org/pandas-docs/stable/user_guide/indexing.html#returning-a-view-versus-a-copy\n",
      "  df_new[\"TurbulenceCategory\"] = df_new[\"wake_vortex\"].map(WAKE_VORTEX_TRANSLATION).fillna(np.nan)\n",
      "/var/folders/dp/1z2xwn7516q1b4n5t3nlr0500000gn/T/ipykernel_11419/2679907221.py:19: SettingWithCopyWarning: \n",
      "A value is trying to be set on a copy of a slice from a DataFrame.\n",
      "Try using .loc[row_indexer,col_indexer] = value instead\n",
      "\n",
      "See the caveats in the documentation: https://pandas.pydata.org/pandas-docs/stable/user_guide/indexing.html#returning-a-view-versus-a-copy\n",
      "  df_new[\"TurbulenceCategory\"] = df_new[\"wake_vortex\"].map(WAKE_VORTEX_TRANSLATION).fillna(np.nan)\n"
     ]
    },
    {
     "name": "stdout",
     "output_type": "stream",
     "text": [
      "Guardado en ../data/final_scenarios/clean/scenario_036.parquet\n",
      "Procesando scenario_026.parquet\n",
      "Guardado en ../data/final_scenarios/clean/scenario_026.parquet\n",
      "Procesando scenario_113.parquet\n"
     ]
    },
    {
     "name": "stderr",
     "output_type": "stream",
     "text": [
      "/var/folders/dp/1z2xwn7516q1b4n5t3nlr0500000gn/T/ipykernel_11419/2679907221.py:19: SettingWithCopyWarning: \n",
      "A value is trying to be set on a copy of a slice from a DataFrame.\n",
      "Try using .loc[row_indexer,col_indexer] = value instead\n",
      "\n",
      "See the caveats in the documentation: https://pandas.pydata.org/pandas-docs/stable/user_guide/indexing.html#returning-a-view-versus-a-copy\n",
      "  df_new[\"TurbulenceCategory\"] = df_new[\"wake_vortex\"].map(WAKE_VORTEX_TRANSLATION).fillna(np.nan)\n"
     ]
    },
    {
     "name": "stdout",
     "output_type": "stream",
     "text": [
      "Guardado en ../data/final_scenarios/clean/scenario_113.parquet\n",
      "Procesando scenario_103.parquet\n"
     ]
    },
    {
     "name": "stderr",
     "output_type": "stream",
     "text": [
      "/var/folders/dp/1z2xwn7516q1b4n5t3nlr0500000gn/T/ipykernel_11419/2679907221.py:19: SettingWithCopyWarning: \n",
      "A value is trying to be set on a copy of a slice from a DataFrame.\n",
      "Try using .loc[row_indexer,col_indexer] = value instead\n",
      "\n",
      "See the caveats in the documentation: https://pandas.pydata.org/pandas-docs/stable/user_guide/indexing.html#returning-a-view-versus-a-copy\n",
      "  df_new[\"TurbulenceCategory\"] = df_new[\"wake_vortex\"].map(WAKE_VORTEX_TRANSLATION).fillna(np.nan)\n"
     ]
    },
    {
     "name": "stdout",
     "output_type": "stream",
     "text": [
      "Guardado en ../data/final_scenarios/clean/scenario_103.parquet\n",
      "Procesando scenario_171.parquet\n"
     ]
    },
    {
     "name": "stderr",
     "output_type": "stream",
     "text": [
      "/var/folders/dp/1z2xwn7516q1b4n5t3nlr0500000gn/T/ipykernel_11419/2679907221.py:19: SettingWithCopyWarning: \n",
      "A value is trying to be set on a copy of a slice from a DataFrame.\n",
      "Try using .loc[row_indexer,col_indexer] = value instead\n",
      "\n",
      "See the caveats in the documentation: https://pandas.pydata.org/pandas-docs/stable/user_guide/indexing.html#returning-a-view-versus-a-copy\n",
      "  df_new[\"TurbulenceCategory\"] = df_new[\"wake_vortex\"].map(WAKE_VORTEX_TRANSLATION).fillna(np.nan)\n"
     ]
    },
    {
     "name": "stdout",
     "output_type": "stream",
     "text": [
      "Guardado en ../data/final_scenarios/clean/scenario_171.parquet\n",
      "Procesando scenario_009.parquet\n"
     ]
    },
    {
     "name": "stderr",
     "output_type": "stream",
     "text": [
      "/var/folders/dp/1z2xwn7516q1b4n5t3nlr0500000gn/T/ipykernel_11419/2679907221.py:19: SettingWithCopyWarning: \n",
      "A value is trying to be set on a copy of a slice from a DataFrame.\n",
      "Try using .loc[row_indexer,col_indexer] = value instead\n",
      "\n",
      "See the caveats in the documentation: https://pandas.pydata.org/pandas-docs/stable/user_guide/indexing.html#returning-a-view-versus-a-copy\n",
      "  df_new[\"TurbulenceCategory\"] = df_new[\"wake_vortex\"].map(WAKE_VORTEX_TRANSLATION).fillna(np.nan)\n"
     ]
    },
    {
     "name": "stdout",
     "output_type": "stream",
     "text": [
      "Guardado en ../data/final_scenarios/clean/scenario_009.parquet\n",
      "Procesando scenario_161.parquet\n"
     ]
    },
    {
     "name": "stderr",
     "output_type": "stream",
     "text": [
      "/var/folders/dp/1z2xwn7516q1b4n5t3nlr0500000gn/T/ipykernel_11419/2679907221.py:19: SettingWithCopyWarning: \n",
      "A value is trying to be set on a copy of a slice from a DataFrame.\n",
      "Try using .loc[row_indexer,col_indexer] = value instead\n",
      "\n",
      "See the caveats in the documentation: https://pandas.pydata.org/pandas-docs/stable/user_guide/indexing.html#returning-a-view-versus-a-copy\n",
      "  df_new[\"TurbulenceCategory\"] = df_new[\"wake_vortex\"].map(WAKE_VORTEX_TRANSLATION).fillna(np.nan)\n"
     ]
    },
    {
     "name": "stdout",
     "output_type": "stream",
     "text": [
      "Guardado en ../data/final_scenarios/clean/scenario_161.parquet\n",
      "Procesando scenario_019.parquet\n"
     ]
    },
    {
     "name": "stderr",
     "output_type": "stream",
     "text": [
      "/var/folders/dp/1z2xwn7516q1b4n5t3nlr0500000gn/T/ipykernel_11419/2679907221.py:19: SettingWithCopyWarning: \n",
      "A value is trying to be set on a copy of a slice from a DataFrame.\n",
      "Try using .loc[row_indexer,col_indexer] = value instead\n",
      "\n",
      "See the caveats in the documentation: https://pandas.pydata.org/pandas-docs/stable/user_guide/indexing.html#returning-a-view-versus-a-copy\n",
      "  df_new[\"TurbulenceCategory\"] = df_new[\"wake_vortex\"].map(WAKE_VORTEX_TRANSLATION).fillna(np.nan)\n",
      "/var/folders/dp/1z2xwn7516q1b4n5t3nlr0500000gn/T/ipykernel_11419/2679907221.py:19: SettingWithCopyWarning: \n",
      "A value is trying to be set on a copy of a slice from a DataFrame.\n",
      "Try using .loc[row_indexer,col_indexer] = value instead\n",
      "\n",
      "See the caveats in the documentation: https://pandas.pydata.org/pandas-docs/stable/user_guide/indexing.html#returning-a-view-versus-a-copy\n",
      "  df_new[\"TurbulenceCategory\"] = df_new[\"wake_vortex\"].map(WAKE_VORTEX_TRANSLATION).fillna(np.nan)\n"
     ]
    },
    {
     "name": "stdout",
     "output_type": "stream",
     "text": [
      "Guardado en ../data/final_scenarios/clean/scenario_019.parquet\n",
      "Procesando scenario_127.parquet\n",
      "Guardado en ../data/final_scenarios/clean/scenario_127.parquet\n",
      "Procesando scenario_137.parquet\n"
     ]
    },
    {
     "name": "stderr",
     "output_type": "stream",
     "text": [
      "/var/folders/dp/1z2xwn7516q1b4n5t3nlr0500000gn/T/ipykernel_11419/2679907221.py:19: SettingWithCopyWarning: \n",
      "A value is trying to be set on a copy of a slice from a DataFrame.\n",
      "Try using .loc[row_indexer,col_indexer] = value instead\n",
      "\n",
      "See the caveats in the documentation: https://pandas.pydata.org/pandas-docs/stable/user_guide/indexing.html#returning-a-view-versus-a-copy\n",
      "  df_new[\"TurbulenceCategory\"] = df_new[\"wake_vortex\"].map(WAKE_VORTEX_TRANSLATION).fillna(np.nan)\n"
     ]
    },
    {
     "name": "stdout",
     "output_type": "stream",
     "text": [
      "Guardado en ../data/final_scenarios/clean/scenario_137.parquet\n",
      "Procesando scenario_084.parquet\n"
     ]
    },
    {
     "name": "stderr",
     "output_type": "stream",
     "text": [
      "/var/folders/dp/1z2xwn7516q1b4n5t3nlr0500000gn/T/ipykernel_11419/2679907221.py:19: SettingWithCopyWarning: \n",
      "A value is trying to be set on a copy of a slice from a DataFrame.\n",
      "Try using .loc[row_indexer,col_indexer] = value instead\n",
      "\n",
      "See the caveats in the documentation: https://pandas.pydata.org/pandas-docs/stable/user_guide/indexing.html#returning-a-view-versus-a-copy\n",
      "  df_new[\"TurbulenceCategory\"] = df_new[\"wake_vortex\"].map(WAKE_VORTEX_TRANSLATION).fillna(np.nan)\n"
     ]
    },
    {
     "name": "stdout",
     "output_type": "stream",
     "text": [
      "Guardado en ../data/final_scenarios/clean/scenario_084.parquet\n",
      "Procesando scenario_094.parquet\n"
     ]
    },
    {
     "name": "stderr",
     "output_type": "stream",
     "text": [
      "/var/folders/dp/1z2xwn7516q1b4n5t3nlr0500000gn/T/ipykernel_11419/2679907221.py:19: SettingWithCopyWarning: \n",
      "A value is trying to be set on a copy of a slice from a DataFrame.\n",
      "Try using .loc[row_indexer,col_indexer] = value instead\n",
      "\n",
      "See the caveats in the documentation: https://pandas.pydata.org/pandas-docs/stable/user_guide/indexing.html#returning-a-view-versus-a-copy\n",
      "  df_new[\"TurbulenceCategory\"] = df_new[\"wake_vortex\"].map(WAKE_VORTEX_TRANSLATION).fillna(np.nan)\n"
     ]
    },
    {
     "name": "stdout",
     "output_type": "stream",
     "text": [
      "Guardado en ../data/final_scenarios/clean/scenario_094.parquet\n",
      "Procesando scenario_145.parquet\n"
     ]
    },
    {
     "name": "stderr",
     "output_type": "stream",
     "text": [
      "/var/folders/dp/1z2xwn7516q1b4n5t3nlr0500000gn/T/ipykernel_11419/2679907221.py:19: SettingWithCopyWarning: \n",
      "A value is trying to be set on a copy of a slice from a DataFrame.\n",
      "Try using .loc[row_indexer,col_indexer] = value instead\n",
      "\n",
      "See the caveats in the documentation: https://pandas.pydata.org/pandas-docs/stable/user_guide/indexing.html#returning-a-view-versus-a-copy\n",
      "  df_new[\"TurbulenceCategory\"] = df_new[\"wake_vortex\"].map(WAKE_VORTEX_TRANSLATION).fillna(np.nan)\n",
      "/var/folders/dp/1z2xwn7516q1b4n5t3nlr0500000gn/T/ipykernel_11419/2679907221.py:19: SettingWithCopyWarning: \n",
      "A value is trying to be set on a copy of a slice from a DataFrame.\n",
      "Try using .loc[row_indexer,col_indexer] = value instead\n",
      "\n",
      "See the caveats in the documentation: https://pandas.pydata.org/pandas-docs/stable/user_guide/indexing.html#returning-a-view-versus-a-copy\n",
      "  df_new[\"TurbulenceCategory\"] = df_new[\"wake_vortex\"].map(WAKE_VORTEX_TRANSLATION).fillna(np.nan)\n"
     ]
    },
    {
     "name": "stdout",
     "output_type": "stream",
     "text": [
      "Guardado en ../data/final_scenarios/clean/scenario_145.parquet\n",
      "Procesando scenario_155.parquet\n",
      "Guardado en ../data/final_scenarios/clean/scenario_155.parquet\n",
      "Procesando scenario_118.parquet\n"
     ]
    },
    {
     "name": "stderr",
     "output_type": "stream",
     "text": [
      "/var/folders/dp/1z2xwn7516q1b4n5t3nlr0500000gn/T/ipykernel_11419/2679907221.py:19: SettingWithCopyWarning: \n",
      "A value is trying to be set on a copy of a slice from a DataFrame.\n",
      "Try using .loc[row_indexer,col_indexer] = value instead\n",
      "\n",
      "See the caveats in the documentation: https://pandas.pydata.org/pandas-docs/stable/user_guide/indexing.html#returning-a-view-versus-a-copy\n",
      "  df_new[\"TurbulenceCategory\"] = df_new[\"wake_vortex\"].map(WAKE_VORTEX_TRANSLATION).fillna(np.nan)\n",
      "/var/folders/dp/1z2xwn7516q1b4n5t3nlr0500000gn/T/ipykernel_11419/2679907221.py:19: SettingWithCopyWarning: \n",
      "A value is trying to be set on a copy of a slice from a DataFrame.\n",
      "Try using .loc[row_indexer,col_indexer] = value instead\n",
      "\n",
      "See the caveats in the documentation: https://pandas.pydata.org/pandas-docs/stable/user_guide/indexing.html#returning-a-view-versus-a-copy\n",
      "  df_new[\"TurbulenceCategory\"] = df_new[\"wake_vortex\"].map(WAKE_VORTEX_TRANSLATION).fillna(np.nan)\n"
     ]
    },
    {
     "name": "stdout",
     "output_type": "stream",
     "text": [
      "Guardado en ../data/final_scenarios/clean/scenario_118.parquet\n",
      "Procesando scenario_060.parquet\n",
      "Guardado en ../data/final_scenarios/clean/scenario_060.parquet\n",
      "Procesando scenario_108.parquet\n"
     ]
    },
    {
     "name": "stderr",
     "output_type": "stream",
     "text": [
      "/var/folders/dp/1z2xwn7516q1b4n5t3nlr0500000gn/T/ipykernel_11419/2679907221.py:19: SettingWithCopyWarning: \n",
      "A value is trying to be set on a copy of a slice from a DataFrame.\n",
      "Try using .loc[row_indexer,col_indexer] = value instead\n",
      "\n",
      "See the caveats in the documentation: https://pandas.pydata.org/pandas-docs/stable/user_guide/indexing.html#returning-a-view-versus-a-copy\n",
      "  df_new[\"TurbulenceCategory\"] = df_new[\"wake_vortex\"].map(WAKE_VORTEX_TRANSLATION).fillna(np.nan)\n",
      "/var/folders/dp/1z2xwn7516q1b4n5t3nlr0500000gn/T/ipykernel_11419/2679907221.py:19: SettingWithCopyWarning: \n",
      "A value is trying to be set on a copy of a slice from a DataFrame.\n",
      "Try using .loc[row_indexer,col_indexer] = value instead\n",
      "\n",
      "See the caveats in the documentation: https://pandas.pydata.org/pandas-docs/stable/user_guide/indexing.html#returning-a-view-versus-a-copy\n",
      "  df_new[\"TurbulenceCategory\"] = df_new[\"wake_vortex\"].map(WAKE_VORTEX_TRANSLATION).fillna(np.nan)\n"
     ]
    },
    {
     "name": "stdout",
     "output_type": "stream",
     "text": [
      "Guardado en ../data/final_scenarios/clean/scenario_108.parquet\n",
      "Procesando scenario_070.parquet\n",
      "Guardado en ../data/final_scenarios/clean/scenario_070.parquet\n",
      "Procesando scenario_002.parquet\n"
     ]
    },
    {
     "name": "stderr",
     "output_type": "stream",
     "text": [
      "/var/folders/dp/1z2xwn7516q1b4n5t3nlr0500000gn/T/ipykernel_11419/2679907221.py:19: SettingWithCopyWarning: \n",
      "A value is trying to be set on a copy of a slice from a DataFrame.\n",
      "Try using .loc[row_indexer,col_indexer] = value instead\n",
      "\n",
      "See the caveats in the documentation: https://pandas.pydata.org/pandas-docs/stable/user_guide/indexing.html#returning-a-view-versus-a-copy\n",
      "  df_new[\"TurbulenceCategory\"] = df_new[\"wake_vortex\"].map(WAKE_VORTEX_TRANSLATION).fillna(np.nan)\n"
     ]
    },
    {
     "name": "stdout",
     "output_type": "stream",
     "text": [
      "Guardado en ../data/final_scenarios/clean/scenario_002.parquet\n",
      "Procesando scenario_012.parquet\n"
     ]
    },
    {
     "name": "stderr",
     "output_type": "stream",
     "text": [
      "/var/folders/dp/1z2xwn7516q1b4n5t3nlr0500000gn/T/ipykernel_11419/2679907221.py:19: SettingWithCopyWarning: \n",
      "A value is trying to be set on a copy of a slice from a DataFrame.\n",
      "Try using .loc[row_indexer,col_indexer] = value instead\n",
      "\n",
      "See the caveats in the documentation: https://pandas.pydata.org/pandas-docs/stable/user_guide/indexing.html#returning-a-view-versus-a-copy\n",
      "  df_new[\"TurbulenceCategory\"] = df_new[\"wake_vortex\"].map(WAKE_VORTEX_TRANSLATION).fillna(np.nan)\n",
      "/var/folders/dp/1z2xwn7516q1b4n5t3nlr0500000gn/T/ipykernel_11419/2679907221.py:19: SettingWithCopyWarning: \n",
      "A value is trying to be set on a copy of a slice from a DataFrame.\n",
      "Try using .loc[row_indexer,col_indexer] = value instead\n",
      "\n",
      "See the caveats in the documentation: https://pandas.pydata.org/pandas-docs/stable/user_guide/indexing.html#returning-a-view-versus-a-copy\n",
      "  df_new[\"TurbulenceCategory\"] = df_new[\"wake_vortex\"].map(WAKE_VORTEX_TRANSLATION).fillna(np.nan)\n"
     ]
    },
    {
     "name": "stdout",
     "output_type": "stream",
     "text": [
      "Guardado en ../data/final_scenarios/clean/scenario_012.parquet\n",
      "Procesando scenario_024.parquet\n",
      "Guardado en ../data/final_scenarios/clean/scenario_024.parquet\n",
      "Procesando scenario_034.parquet\n"
     ]
    },
    {
     "name": "stderr",
     "output_type": "stream",
     "text": [
      "/var/folders/dp/1z2xwn7516q1b4n5t3nlr0500000gn/T/ipykernel_11419/2679907221.py:19: SettingWithCopyWarning: \n",
      "A value is trying to be set on a copy of a slice from a DataFrame.\n",
      "Try using .loc[row_indexer,col_indexer] = value instead\n",
      "\n",
      "See the caveats in the documentation: https://pandas.pydata.org/pandas-docs/stable/user_guide/indexing.html#returning-a-view-versus-a-copy\n",
      "  df_new[\"TurbulenceCategory\"] = df_new[\"wake_vortex\"].map(WAKE_VORTEX_TRANSLATION).fillna(np.nan)\n",
      "/var/folders/dp/1z2xwn7516q1b4n5t3nlr0500000gn/T/ipykernel_11419/2679907221.py:19: SettingWithCopyWarning: \n",
      "A value is trying to be set on a copy of a slice from a DataFrame.\n",
      "Try using .loc[row_indexer,col_indexer] = value instead\n",
      "\n",
      "See the caveats in the documentation: https://pandas.pydata.org/pandas-docs/stable/user_guide/indexing.html#returning-a-view-versus-a-copy\n",
      "  df_new[\"TurbulenceCategory\"] = df_new[\"wake_vortex\"].map(WAKE_VORTEX_TRANSLATION).fillna(np.nan)\n"
     ]
    },
    {
     "name": "stdout",
     "output_type": "stream",
     "text": [
      "Guardado en ../data/final_scenarios/clean/scenario_034.parquet\n",
      "Procesando scenario_046.parquet\n",
      "Guardado en ../data/final_scenarios/clean/scenario_046.parquet\n",
      "Procesando scenario_056.parquet\n"
     ]
    },
    {
     "name": "stderr",
     "output_type": "stream",
     "text": [
      "/var/folders/dp/1z2xwn7516q1b4n5t3nlr0500000gn/T/ipykernel_11419/2679907221.py:19: SettingWithCopyWarning: \n",
      "A value is trying to be set on a copy of a slice from a DataFrame.\n",
      "Try using .loc[row_indexer,col_indexer] = value instead\n",
      "\n",
      "See the caveats in the documentation: https://pandas.pydata.org/pandas-docs/stable/user_guide/indexing.html#returning-a-view-versus-a-copy\n",
      "  df_new[\"TurbulenceCategory\"] = df_new[\"wake_vortex\"].map(WAKE_VORTEX_TRANSLATION).fillna(np.nan)\n",
      "/var/folders/dp/1z2xwn7516q1b4n5t3nlr0500000gn/T/ipykernel_11419/2679907221.py:19: SettingWithCopyWarning: \n",
      "A value is trying to be set on a copy of a slice from a DataFrame.\n",
      "Try using .loc[row_indexer,col_indexer] = value instead\n",
      "\n",
      "See the caveats in the documentation: https://pandas.pydata.org/pandas-docs/stable/user_guide/indexing.html#returning-a-view-versus-a-copy\n",
      "  df_new[\"TurbulenceCategory\"] = df_new[\"wake_vortex\"].map(WAKE_VORTEX_TRANSLATION).fillna(np.nan)\n"
     ]
    },
    {
     "name": "stdout",
     "output_type": "stream",
     "text": [
      "Guardado en ../data/final_scenarios/clean/scenario_056.parquet\n",
      "Procesando scenario_187.parquet\n",
      "Guardado en ../data/final_scenarios/clean/scenario_187.parquet\n",
      "Procesando scenario_163.parquet\n"
     ]
    },
    {
     "name": "stderr",
     "output_type": "stream",
     "text": [
      "/var/folders/dp/1z2xwn7516q1b4n5t3nlr0500000gn/T/ipykernel_11419/2679907221.py:19: SettingWithCopyWarning: \n",
      "A value is trying to be set on a copy of a slice from a DataFrame.\n",
      "Try using .loc[row_indexer,col_indexer] = value instead\n",
      "\n",
      "See the caveats in the documentation: https://pandas.pydata.org/pandas-docs/stable/user_guide/indexing.html#returning-a-view-versus-a-copy\n",
      "  df_new[\"TurbulenceCategory\"] = df_new[\"wake_vortex\"].map(WAKE_VORTEX_TRANSLATION).fillna(np.nan)\n",
      "/var/folders/dp/1z2xwn7516q1b4n5t3nlr0500000gn/T/ipykernel_11419/2679907221.py:19: SettingWithCopyWarning: \n",
      "A value is trying to be set on a copy of a slice from a DataFrame.\n",
      "Try using .loc[row_indexer,col_indexer] = value instead\n",
      "\n",
      "See the caveats in the documentation: https://pandas.pydata.org/pandas-docs/stable/user_guide/indexing.html#returning-a-view-versus-a-copy\n",
      "  df_new[\"TurbulenceCategory\"] = df_new[\"wake_vortex\"].map(WAKE_VORTEX_TRANSLATION).fillna(np.nan)\n"
     ]
    },
    {
     "name": "stdout",
     "output_type": "stream",
     "text": [
      "Guardado en ../data/final_scenarios/clean/scenario_163.parquet\n",
      "Procesando scenario_173.parquet\n",
      "Guardado en ../data/final_scenarios/clean/scenario_173.parquet\n",
      "Procesando scenario_101.parquet\n"
     ]
    },
    {
     "name": "stderr",
     "output_type": "stream",
     "text": [
      "/var/folders/dp/1z2xwn7516q1b4n5t3nlr0500000gn/T/ipykernel_11419/2679907221.py:19: SettingWithCopyWarning: \n",
      "A value is trying to be set on a copy of a slice from a DataFrame.\n",
      "Try using .loc[row_indexer,col_indexer] = value instead\n",
      "\n",
      "See the caveats in the documentation: https://pandas.pydata.org/pandas-docs/stable/user_guide/indexing.html#returning-a-view-versus-a-copy\n",
      "  df_new[\"TurbulenceCategory\"] = df_new[\"wake_vortex\"].map(WAKE_VORTEX_TRANSLATION).fillna(np.nan)\n",
      "/var/folders/dp/1z2xwn7516q1b4n5t3nlr0500000gn/T/ipykernel_11419/2679907221.py:19: SettingWithCopyWarning: \n",
      "A value is trying to be set on a copy of a slice from a DataFrame.\n",
      "Try using .loc[row_indexer,col_indexer] = value instead\n",
      "\n",
      "See the caveats in the documentation: https://pandas.pydata.org/pandas-docs/stable/user_guide/indexing.html#returning-a-view-versus-a-copy\n",
      "  df_new[\"TurbulenceCategory\"] = df_new[\"wake_vortex\"].map(WAKE_VORTEX_TRANSLATION).fillna(np.nan)\n"
     ]
    },
    {
     "name": "stdout",
     "output_type": "stream",
     "text": [
      "Guardado en ../data/final_scenarios/clean/scenario_101.parquet\n",
      "Procesando scenario_079.parquet\n",
      "Guardado en ../data/final_scenarios/clean/scenario_079.parquet\n",
      "Procesando scenario_111.parquet\n"
     ]
    },
    {
     "name": "stderr",
     "output_type": "stream",
     "text": [
      "/var/folders/dp/1z2xwn7516q1b4n5t3nlr0500000gn/T/ipykernel_11419/2679907221.py:19: SettingWithCopyWarning: \n",
      "A value is trying to be set on a copy of a slice from a DataFrame.\n",
      "Try using .loc[row_indexer,col_indexer] = value instead\n",
      "\n",
      "See the caveats in the documentation: https://pandas.pydata.org/pandas-docs/stable/user_guide/indexing.html#returning-a-view-versus-a-copy\n",
      "  df_new[\"TurbulenceCategory\"] = df_new[\"wake_vortex\"].map(WAKE_VORTEX_TRANSLATION).fillna(np.nan)\n",
      "/var/folders/dp/1z2xwn7516q1b4n5t3nlr0500000gn/T/ipykernel_11419/2679907221.py:19: SettingWithCopyWarning: \n",
      "A value is trying to be set on a copy of a slice from a DataFrame.\n",
      "Try using .loc[row_indexer,col_indexer] = value instead\n",
      "\n",
      "See the caveats in the documentation: https://pandas.pydata.org/pandas-docs/stable/user_guide/indexing.html#returning-a-view-versus-a-copy\n",
      "  df_new[\"TurbulenceCategory\"] = df_new[\"wake_vortex\"].map(WAKE_VORTEX_TRANSLATION).fillna(np.nan)\n"
     ]
    },
    {
     "name": "stdout",
     "output_type": "stream",
     "text": [
      "Guardado en ../data/final_scenarios/clean/scenario_111.parquet\n",
      "Procesando scenario_069.parquet\n",
      "Guardado en ../data/final_scenarios/clean/scenario_069.parquet\n",
      "Procesando scenario_035.parquet\n"
     ]
    },
    {
     "name": "stderr",
     "output_type": "stream",
     "text": [
      "/var/folders/dp/1z2xwn7516q1b4n5t3nlr0500000gn/T/ipykernel_11419/2679907221.py:19: SettingWithCopyWarning: \n",
      "A value is trying to be set on a copy of a slice from a DataFrame.\n",
      "Try using .loc[row_indexer,col_indexer] = value instead\n",
      "\n",
      "See the caveats in the documentation: https://pandas.pydata.org/pandas-docs/stable/user_guide/indexing.html#returning-a-view-versus-a-copy\n",
      "  df_new[\"TurbulenceCategory\"] = df_new[\"wake_vortex\"].map(WAKE_VORTEX_TRANSLATION).fillna(np.nan)\n"
     ]
    },
    {
     "name": "stdout",
     "output_type": "stream",
     "text": [
      "Guardado en ../data/final_scenarios/clean/scenario_035.parquet\n",
      "Procesando scenario_025.parquet\n"
     ]
    },
    {
     "name": "stderr",
     "output_type": "stream",
     "text": [
      "/var/folders/dp/1z2xwn7516q1b4n5t3nlr0500000gn/T/ipykernel_11419/2679907221.py:19: SettingWithCopyWarning: \n",
      "A value is trying to be set on a copy of a slice from a DataFrame.\n",
      "Try using .loc[row_indexer,col_indexer] = value instead\n",
      "\n",
      "See the caveats in the documentation: https://pandas.pydata.org/pandas-docs/stable/user_guide/indexing.html#returning-a-view-versus-a-copy\n",
      "  df_new[\"TurbulenceCategory\"] = df_new[\"wake_vortex\"].map(WAKE_VORTEX_TRANSLATION).fillna(np.nan)\n",
      "/var/folders/dp/1z2xwn7516q1b4n5t3nlr0500000gn/T/ipykernel_11419/2679907221.py:19: SettingWithCopyWarning: \n",
      "A value is trying to be set on a copy of a slice from a DataFrame.\n",
      "Try using .loc[row_indexer,col_indexer] = value instead\n",
      "\n",
      "See the caveats in the documentation: https://pandas.pydata.org/pandas-docs/stable/user_guide/indexing.html#returning-a-view-versus-a-copy\n",
      "  df_new[\"TurbulenceCategory\"] = df_new[\"wake_vortex\"].map(WAKE_VORTEX_TRANSLATION).fillna(np.nan)\n"
     ]
    },
    {
     "name": "stdout",
     "output_type": "stream",
     "text": [
      "Guardado en ../data/final_scenarios/clean/scenario_025.parquet\n",
      "Procesando scenario_186.parquet\n",
      "Guardado en ../data/final_scenarios/clean/scenario_186.parquet\n",
      "Procesando scenario_057.parquet\n"
     ]
    },
    {
     "name": "stderr",
     "output_type": "stream",
     "text": [
      "/var/folders/dp/1z2xwn7516q1b4n5t3nlr0500000gn/T/ipykernel_11419/2679907221.py:19: SettingWithCopyWarning: \n",
      "A value is trying to be set on a copy of a slice from a DataFrame.\n",
      "Try using .loc[row_indexer,col_indexer] = value instead\n",
      "\n",
      "See the caveats in the documentation: https://pandas.pydata.org/pandas-docs/stable/user_guide/indexing.html#returning-a-view-versus-a-copy\n",
      "  df_new[\"TurbulenceCategory\"] = df_new[\"wake_vortex\"].map(WAKE_VORTEX_TRANSLATION).fillna(np.nan)\n"
     ]
    },
    {
     "name": "stdout",
     "output_type": "stream",
     "text": [
      "Guardado en ../data/final_scenarios/clean/scenario_057.parquet\n",
      "Procesando scenario_047.parquet\n"
     ]
    },
    {
     "name": "stderr",
     "output_type": "stream",
     "text": [
      "/var/folders/dp/1z2xwn7516q1b4n5t3nlr0500000gn/T/ipykernel_11419/2679907221.py:19: SettingWithCopyWarning: \n",
      "A value is trying to be set on a copy of a slice from a DataFrame.\n",
      "Try using .loc[row_indexer,col_indexer] = value instead\n",
      "\n",
      "See the caveats in the documentation: https://pandas.pydata.org/pandas-docs/stable/user_guide/indexing.html#returning-a-view-versus-a-copy\n",
      "  df_new[\"TurbulenceCategory\"] = df_new[\"wake_vortex\"].map(WAKE_VORTEX_TRANSLATION).fillna(np.nan)\n",
      "/var/folders/dp/1z2xwn7516q1b4n5t3nlr0500000gn/T/ipykernel_11419/2679907221.py:19: SettingWithCopyWarning: \n",
      "A value is trying to be set on a copy of a slice from a DataFrame.\n",
      "Try using .loc[row_indexer,col_indexer] = value instead\n",
      "\n",
      "See the caveats in the documentation: https://pandas.pydata.org/pandas-docs/stable/user_guide/indexing.html#returning-a-view-versus-a-copy\n",
      "  df_new[\"TurbulenceCategory\"] = df_new[\"wake_vortex\"].map(WAKE_VORTEX_TRANSLATION).fillna(np.nan)\n"
     ]
    },
    {
     "name": "stdout",
     "output_type": "stream",
     "text": [
      "Guardado en ../data/final_scenarios/clean/scenario_047.parquet\n",
      "Procesando scenario_172.parquet\n",
      "Guardado en ../data/final_scenarios/clean/scenario_172.parquet\n",
      "Procesando scenario_162.parquet\n"
     ]
    },
    {
     "name": "stderr",
     "output_type": "stream",
     "text": [
      "/var/folders/dp/1z2xwn7516q1b4n5t3nlr0500000gn/T/ipykernel_11419/2679907221.py:19: SettingWithCopyWarning: \n",
      "A value is trying to be set on a copy of a slice from a DataFrame.\n",
      "Try using .loc[row_indexer,col_indexer] = value instead\n",
      "\n",
      "See the caveats in the documentation: https://pandas.pydata.org/pandas-docs/stable/user_guide/indexing.html#returning-a-view-versus-a-copy\n",
      "  df_new[\"TurbulenceCategory\"] = df_new[\"wake_vortex\"].map(WAKE_VORTEX_TRANSLATION).fillna(np.nan)\n",
      "/var/folders/dp/1z2xwn7516q1b4n5t3nlr0500000gn/T/ipykernel_11419/2679907221.py:19: SettingWithCopyWarning: \n",
      "A value is trying to be set on a copy of a slice from a DataFrame.\n",
      "Try using .loc[row_indexer,col_indexer] = value instead\n",
      "\n",
      "See the caveats in the documentation: https://pandas.pydata.org/pandas-docs/stable/user_guide/indexing.html#returning-a-view-versus-a-copy\n",
      "  df_new[\"TurbulenceCategory\"] = df_new[\"wake_vortex\"].map(WAKE_VORTEX_TRANSLATION).fillna(np.nan)\n"
     ]
    },
    {
     "name": "stdout",
     "output_type": "stream",
     "text": [
      "Guardado en ../data/final_scenarios/clean/scenario_162.parquet\n",
      "Procesando scenario_068.parquet\n",
      "Guardado en ../data/final_scenarios/clean/scenario_068.parquet\n",
      "Procesando scenario_110.parquet\n"
     ]
    },
    {
     "name": "stderr",
     "output_type": "stream",
     "text": [
      "/var/folders/dp/1z2xwn7516q1b4n5t3nlr0500000gn/T/ipykernel_11419/2679907221.py:19: SettingWithCopyWarning: \n",
      "A value is trying to be set on a copy of a slice from a DataFrame.\n",
      "Try using .loc[row_indexer,col_indexer] = value instead\n",
      "\n",
      "See the caveats in the documentation: https://pandas.pydata.org/pandas-docs/stable/user_guide/indexing.html#returning-a-view-versus-a-copy\n",
      "  df_new[\"TurbulenceCategory\"] = df_new[\"wake_vortex\"].map(WAKE_VORTEX_TRANSLATION).fillna(np.nan)\n"
     ]
    },
    {
     "name": "stdout",
     "output_type": "stream",
     "text": [
      "Guardado en ../data/final_scenarios/clean/scenario_110.parquet\n",
      "Procesando scenario_078.parquet\n"
     ]
    },
    {
     "name": "stderr",
     "output_type": "stream",
     "text": [
      "/var/folders/dp/1z2xwn7516q1b4n5t3nlr0500000gn/T/ipykernel_11419/2679907221.py:19: SettingWithCopyWarning: \n",
      "A value is trying to be set on a copy of a slice from a DataFrame.\n",
      "Try using .loc[row_indexer,col_indexer] = value instead\n",
      "\n",
      "See the caveats in the documentation: https://pandas.pydata.org/pandas-docs/stable/user_guide/indexing.html#returning-a-view-versus-a-copy\n",
      "  df_new[\"TurbulenceCategory\"] = df_new[\"wake_vortex\"].map(WAKE_VORTEX_TRANSLATION).fillna(np.nan)\n"
     ]
    },
    {
     "name": "stdout",
     "output_type": "stream",
     "text": [
      "Guardado en ../data/final_scenarios/clean/scenario_078.parquet\n",
      "Procesando scenario_100.parquet\n"
     ]
    },
    {
     "name": "stderr",
     "output_type": "stream",
     "text": [
      "/var/folders/dp/1z2xwn7516q1b4n5t3nlr0500000gn/T/ipykernel_11419/2679907221.py:19: SettingWithCopyWarning: \n",
      "A value is trying to be set on a copy of a slice from a DataFrame.\n",
      "Try using .loc[row_indexer,col_indexer] = value instead\n",
      "\n",
      "See the caveats in the documentation: https://pandas.pydata.org/pandas-docs/stable/user_guide/indexing.html#returning-a-view-versus-a-copy\n",
      "  df_new[\"TurbulenceCategory\"] = df_new[\"wake_vortex\"].map(WAKE_VORTEX_TRANSLATION).fillna(np.nan)\n",
      "/var/folders/dp/1z2xwn7516q1b4n5t3nlr0500000gn/T/ipykernel_11419/2679907221.py:19: SettingWithCopyWarning: \n",
      "A value is trying to be set on a copy of a slice from a DataFrame.\n",
      "Try using .loc[row_indexer,col_indexer] = value instead\n",
      "\n",
      "See the caveats in the documentation: https://pandas.pydata.org/pandas-docs/stable/user_guide/indexing.html#returning-a-view-versus-a-copy\n",
      "  df_new[\"TurbulenceCategory\"] = df_new[\"wake_vortex\"].map(WAKE_VORTEX_TRANSLATION).fillna(np.nan)\n",
      "/var/folders/dp/1z2xwn7516q1b4n5t3nlr0500000gn/T/ipykernel_11419/2679907221.py:19: SettingWithCopyWarning: \n",
      "A value is trying to be set on a copy of a slice from a DataFrame.\n",
      "Try using .loc[row_indexer,col_indexer] = value instead\n",
      "\n",
      "See the caveats in the documentation: https://pandas.pydata.org/pandas-docs/stable/user_guide/indexing.html#returning-a-view-versus-a-copy\n",
      "  df_new[\"TurbulenceCategory\"] = df_new[\"wake_vortex\"].map(WAKE_VORTEX_TRANSLATION).fillna(np.nan)\n"
     ]
    },
    {
     "name": "stdout",
     "output_type": "stream",
     "text": [
      "Guardado en ../data/final_scenarios/clean/scenario_100.parquet\n",
      "Procesando scenario_136.parquet\n",
      "Guardado en ../data/final_scenarios/clean/scenario_136.parquet\n",
      "Procesando scenario_126.parquet\n",
      "Guardado en ../data/final_scenarios/clean/scenario_126.parquet\n",
      "Procesando scenario_154.parquet\n"
     ]
    },
    {
     "name": "stderr",
     "output_type": "stream",
     "text": [
      "/var/folders/dp/1z2xwn7516q1b4n5t3nlr0500000gn/T/ipykernel_11419/2679907221.py:19: SettingWithCopyWarning: \n",
      "A value is trying to be set on a copy of a slice from a DataFrame.\n",
      "Try using .loc[row_indexer,col_indexer] = value instead\n",
      "\n",
      "See the caveats in the documentation: https://pandas.pydata.org/pandas-docs/stable/user_guide/indexing.html#returning-a-view-versus-a-copy\n",
      "  df_new[\"TurbulenceCategory\"] = df_new[\"wake_vortex\"].map(WAKE_VORTEX_TRANSLATION).fillna(np.nan)\n"
     ]
    },
    {
     "name": "stdout",
     "output_type": "stream",
     "text": [
      "Guardado en ../data/final_scenarios/clean/scenario_154.parquet\n",
      "Procesando scenario_144.parquet\n",
      "Guardado en ../data/final_scenarios/clean/scenario_144.parquet\n",
      "Procesando scenario_095.parquet\n"
     ]
    },
    {
     "name": "stderr",
     "output_type": "stream",
     "text": [
      "/var/folders/dp/1z2xwn7516q1b4n5t3nlr0500000gn/T/ipykernel_11419/2679907221.py:19: SettingWithCopyWarning: \n",
      "A value is trying to be set on a copy of a slice from a DataFrame.\n",
      "Try using .loc[row_indexer,col_indexer] = value instead\n",
      "\n",
      "See the caveats in the documentation: https://pandas.pydata.org/pandas-docs/stable/user_guide/indexing.html#returning-a-view-versus-a-copy\n",
      "  df_new[\"TurbulenceCategory\"] = df_new[\"wake_vortex\"].map(WAKE_VORTEX_TRANSLATION).fillna(np.nan)\n",
      "/var/folders/dp/1z2xwn7516q1b4n5t3nlr0500000gn/T/ipykernel_11419/2679907221.py:19: SettingWithCopyWarning: \n",
      "A value is trying to be set on a copy of a slice from a DataFrame.\n",
      "Try using .loc[row_indexer,col_indexer] = value instead\n",
      "\n",
      "See the caveats in the documentation: https://pandas.pydata.org/pandas-docs/stable/user_guide/indexing.html#returning-a-view-versus-a-copy\n",
      "  df_new[\"TurbulenceCategory\"] = df_new[\"wake_vortex\"].map(WAKE_VORTEX_TRANSLATION).fillna(np.nan)\n"
     ]
    },
    {
     "name": "stdout",
     "output_type": "stream",
     "text": [
      "Guardado en ../data/final_scenarios/clean/scenario_095.parquet\n",
      "Procesando scenario_085.parquet\n"
     ]
    },
    {
     "name": "stderr",
     "output_type": "stream",
     "text": [
      "/var/folders/dp/1z2xwn7516q1b4n5t3nlr0500000gn/T/ipykernel_11419/2679907221.py:19: SettingWithCopyWarning: \n",
      "A value is trying to be set on a copy of a slice from a DataFrame.\n",
      "Try using .loc[row_indexer,col_indexer] = value instead\n",
      "\n",
      "See the caveats in the documentation: https://pandas.pydata.org/pandas-docs/stable/user_guide/indexing.html#returning-a-view-versus-a-copy\n",
      "  df_new[\"TurbulenceCategory\"] = df_new[\"wake_vortex\"].map(WAKE_VORTEX_TRANSLATION).fillna(np.nan)\n"
     ]
    },
    {
     "name": "stdout",
     "output_type": "stream",
     "text": [
      "Guardado en ../data/final_scenarios/clean/scenario_085.parquet\n",
      "Procesando scenario_071.parquet\n"
     ]
    },
    {
     "name": "stderr",
     "output_type": "stream",
     "text": [
      "/var/folders/dp/1z2xwn7516q1b4n5t3nlr0500000gn/T/ipykernel_11419/2679907221.py:19: SettingWithCopyWarning: \n",
      "A value is trying to be set on a copy of a slice from a DataFrame.\n",
      "Try using .loc[row_indexer,col_indexer] = value instead\n",
      "\n",
      "See the caveats in the documentation: https://pandas.pydata.org/pandas-docs/stable/user_guide/indexing.html#returning-a-view-versus-a-copy\n",
      "  df_new[\"TurbulenceCategory\"] = df_new[\"wake_vortex\"].map(WAKE_VORTEX_TRANSLATION).fillna(np.nan)\n"
     ]
    },
    {
     "name": "stdout",
     "output_type": "stream",
     "text": [
      "Guardado en ../data/final_scenarios/clean/scenario_071.parquet\n",
      "Procesando scenario_109.parquet\n"
     ]
    },
    {
     "name": "stderr",
     "output_type": "stream",
     "text": [
      "/var/folders/dp/1z2xwn7516q1b4n5t3nlr0500000gn/T/ipykernel_11419/2679907221.py:19: SettingWithCopyWarning: \n",
      "A value is trying to be set on a copy of a slice from a DataFrame.\n",
      "Try using .loc[row_indexer,col_indexer] = value instead\n",
      "\n",
      "See the caveats in the documentation: https://pandas.pydata.org/pandas-docs/stable/user_guide/indexing.html#returning-a-view-versus-a-copy\n",
      "  df_new[\"TurbulenceCategory\"] = df_new[\"wake_vortex\"].map(WAKE_VORTEX_TRANSLATION).fillna(np.nan)\n"
     ]
    },
    {
     "name": "stdout",
     "output_type": "stream",
     "text": [
      "Guardado en ../data/final_scenarios/clean/scenario_109.parquet\n",
      "Procesando scenario_061.parquet\n"
     ]
    },
    {
     "name": "stderr",
     "output_type": "stream",
     "text": [
      "/var/folders/dp/1z2xwn7516q1b4n5t3nlr0500000gn/T/ipykernel_11419/2679907221.py:19: SettingWithCopyWarning: \n",
      "A value is trying to be set on a copy of a slice from a DataFrame.\n",
      "Try using .loc[row_indexer,col_indexer] = value instead\n",
      "\n",
      "See the caveats in the documentation: https://pandas.pydata.org/pandas-docs/stable/user_guide/indexing.html#returning-a-view-versus-a-copy\n",
      "  df_new[\"TurbulenceCategory\"] = df_new[\"wake_vortex\"].map(WAKE_VORTEX_TRANSLATION).fillna(np.nan)\n"
     ]
    },
    {
     "name": "stdout",
     "output_type": "stream",
     "text": [
      "Guardado en ../data/final_scenarios/clean/scenario_061.parquet\n",
      "Procesando scenario_119.parquet\n"
     ]
    },
    {
     "name": "stderr",
     "output_type": "stream",
     "text": [
      "/var/folders/dp/1z2xwn7516q1b4n5t3nlr0500000gn/T/ipykernel_11419/2679907221.py:19: SettingWithCopyWarning: \n",
      "A value is trying to be set on a copy of a slice from a DataFrame.\n",
      "Try using .loc[row_indexer,col_indexer] = value instead\n",
      "\n",
      "See the caveats in the documentation: https://pandas.pydata.org/pandas-docs/stable/user_guide/indexing.html#returning-a-view-versus-a-copy\n",
      "  df_new[\"TurbulenceCategory\"] = df_new[\"wake_vortex\"].map(WAKE_VORTEX_TRANSLATION).fillna(np.nan)\n"
     ]
    },
    {
     "name": "stdout",
     "output_type": "stream",
     "text": [
      "Guardado en ../data/final_scenarios/clean/scenario_119.parquet\n",
      "Procesando scenario_013.parquet\n"
     ]
    },
    {
     "name": "stderr",
     "output_type": "stream",
     "text": [
      "/var/folders/dp/1z2xwn7516q1b4n5t3nlr0500000gn/T/ipykernel_11419/2679907221.py:19: SettingWithCopyWarning: \n",
      "A value is trying to be set on a copy of a slice from a DataFrame.\n",
      "Try using .loc[row_indexer,col_indexer] = value instead\n",
      "\n",
      "See the caveats in the documentation: https://pandas.pydata.org/pandas-docs/stable/user_guide/indexing.html#returning-a-view-versus-a-copy\n",
      "  df_new[\"TurbulenceCategory\"] = df_new[\"wake_vortex\"].map(WAKE_VORTEX_TRANSLATION).fillna(np.nan)\n",
      "/var/folders/dp/1z2xwn7516q1b4n5t3nlr0500000gn/T/ipykernel_11419/2679907221.py:19: SettingWithCopyWarning: \n",
      "A value is trying to be set on a copy of a slice from a DataFrame.\n",
      "Try using .loc[row_indexer,col_indexer] = value instead\n",
      "\n",
      "See the caveats in the documentation: https://pandas.pydata.org/pandas-docs/stable/user_guide/indexing.html#returning-a-view-versus-a-copy\n",
      "  df_new[\"TurbulenceCategory\"] = df_new[\"wake_vortex\"].map(WAKE_VORTEX_TRANSLATION).fillna(np.nan)\n"
     ]
    },
    {
     "name": "stdout",
     "output_type": "stream",
     "text": [
      "Guardado en ../data/final_scenarios/clean/scenario_013.parquet\n",
      "Procesando scenario_003.parquet\n",
      "Guardado en ../data/final_scenarios/clean/scenario_003.parquet\n"
     ]
    }
   ],
   "source": [
    "import pandas as pd\n",
    "import os\n",
    "from pathlib import Path\n",
    "\n",
    "# Configurar para mostrar todas las columnas\n",
    "pd.set_option('display.max_columns', None)\n",
    "\n",
    "# Ruta sde entrada y salida\n",
    "ruta_escenarios_raw = Path(\"../data/final_scenarios/raw\")\n",
    "ruta_escenarios_clean = Path(\"../data/final_scenarios/clean\")\n",
    "ruta_escenarios_clean.mkdir(parents=True, exist_ok=True)\n",
    "\n",
    "# Iterar sobre todos los archivos .parquet en la carpeta raw\n",
    "for parquet_file in ruta_escenarios_raw.glob(\"*.parquet\"):\n",
    "    print(f\"Procesando {parquet_file.name}\")\n",
    "    df = pd.read_parquet(parquet_file)\n",
    "    df_clean = cleanScenario(df)\n",
    "    output_path = ruta_escenarios_clean / parquet_file.name\n",
    "    df_clean.to_parquet(output_path, index=False)\n",
    "    print(f\"Guardado en {output_path}\")\n"
   ]
  },
  {
   "cell_type": "code",
   "execution_count": null,
   "id": "ca20d35e-fa24-41b2-a8de-2d890887045f",
   "metadata": {},
   "outputs": [],
   "source": []
  }
 ],
 "metadata": {
  "kernelspec": {
   "display_name": "Python [conda env:base] *",
   "language": "python",
   "name": "conda-base-py"
  },
  "language_info": {
   "codemirror_mode": {
    "name": "ipython",
    "version": 3
   },
   "file_extension": ".py",
   "mimetype": "text/x-python",
   "name": "python",
   "nbconvert_exporter": "python",
   "pygments_lexer": "ipython3",
   "version": "3.12.7"
  }
 },
 "nbformat": 4,
 "nbformat_minor": 5
}
