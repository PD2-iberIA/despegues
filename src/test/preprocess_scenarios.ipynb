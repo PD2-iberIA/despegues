{
 "cells": [
  {
   "cell_type": "code",
   "execution_count": 35,
   "id": "20e00d84-aef8-4f4c-b92e-21b73ebb8475",
   "metadata": {},
   "outputs": [],
   "source": [
    "holding_points = [\n",
    "            (\"Z1\", \"36L/18R\", -3.573093114831562, 40.490653160130186),\n",
    "            (\"KA6\", \"32R/14L\", -3.537524367869231, 40.472076292010001),\n",
    "            (\"KA8\", \"32R/14L\", -3.536653485337274, 40.466622566754253),\n",
    "            (\"K3\", \"32R/14L\", -3.558959606954449, 40.494122669084419),\n",
    "            (\"K2\", \"32R/14L\", -3.559326044131887, 40.4945961819448),\n",
    "            (\"K1\", \"32R/14L\", -3.560411408421098, 40.495554592925956),\n",
    "            (\"Y1\", \"36R/18L\", -3.560656492186808, 40.499431092287409),\n",
    "            (\"Y2\", \"36R/18L\", -3.560645785166937, 40.500298406173002),\n",
    "            (\"Y3\", \"36R/18L\", -3.560660061193443, 40.501183565039504),\n",
    "            (\"Y7\", \"36R/18L\", -3.560800449906033, 40.533391949745102),\n",
    "            (\"Z6\", \"36L/18R\", -3.576129307304151, 40.495184843931881),\n",
    "            (\"Z4\", \"36L/18R\", -3.576034129003182, 40.492555539298088),\n",
    "            (\"Z2\", \"36L/18R\", -3.575903257941006, 40.491865496230126),\n",
    "            (\"Z3\", \"36L/18R\", -3.57319305240692, 40.491819096186241),\n",
    "            (\"LF\", \"32L/14R\", -3.572566658955927, 40.479721203031424),\n",
    "            (\"L1\", \"32L/14R\", -3.57652786733783, 40.483565816902733),\n",
    "            (\"LA\", \"32L/14R\", -3.577181028787666, 40.484251101106899),\n",
    "            (\"LB\", \"32L/14R\", -3.577553413710587, 40.484873329796898),\n",
    "            (\"LC\", \"32L/14R\", -3.575750378154376, 40.486690643924192),\n",
    "            (\"LD\", \"32L/14R\", -3.575150753600524, 40.486522892072891),\n",
    "            (\"LE\", \"32L/14R\", -3.574915186586964, 40.485580625293494)\n",
    "        ]"
   ]
  },
  {
   "cell_type": "code",
   "execution_count": 47,
   "id": "28c6bf3b-74f3-47c5-8754-6f00bd7d2ee8",
   "metadata": {},
   "outputs": [],
   "source": [
    "def cleanScenario(df, df_answers, scenario_name):\n",
    "    import pandas as pd\n",
    "    import numpy as np\n",
    "\n",
    "    df_new = df[[\"ts\", \"icao24\", \"df\", \"tc\", \"callsign\", \"bds20_callsign\", \"lat_deg\", \"lon_deg\", \"altitude\", \"bds05_altitude\", \"groundspeed\", \"bds50_groundspeed\", \"wake_vortex\"]].copy()\n",
    "\n",
    "    WAKE_VORTEX_TRANSLATION = {\n",
    "        '<7000kg': 'Light (less than 7000 kg)',\n",
    "        '<34,000kg': 'Medium 1 (between 7000 kg and 34000 kg)',\n",
    "        '<136,000kg': 'Medium 2 (between 34000 kg to 136000 kg)',\n",
    "        'Heavy': 'Heavy (larger than 136000 kg)',\n",
    "        'High vortex': 'High vortex aircraft',\n",
    "        'Rotorcraft': 'Rotorcraft',\n",
    "        'Obstruction': 'Ground obstruction',\n",
    "        'Surface emergency vehicle': 'Surface emergency vehicle',\n",
    "    }\n",
    "\n",
    "    df_new[\"TurbulenceCategory\"] = df_new[\"wake_vortex\"].map(WAKE_VORTEX_TRANSLATION).fillna(np.nan)\n",
    "    df_new = df_new.drop(columns=[\"wake_vortex\"])\n",
    "    df_new[\"ts\"] = pd.to_datetime(df_new[\"ts\"], unit='ms')\n",
    "    df_new[\"tc\"] = df_new[\"tc\"].astype(\"Int64\")\n",
    "    df_new[\"df\"] = df_new[\"df\"].astype(\"Int64\")\n",
    "    df_new[\"Callsign\"] = df_new[\"callsign\"].fillna(df_new[\"bds20_callsign\"])\n",
    "    df_new = df_new.drop(columns=[\"callsign\", \"bds20_callsign\"])\n",
    "    df_new[\"Speed\"] = df_new[\"groundspeed\"].fillna(df_new[\"bds50_groundspeed\"])\n",
    "    df_new = df_new.drop(columns=[\"groundspeed\", \"bds50_groundspeed\"])\n",
    "    df_new[\"Altitude (ft)\"] = df_new[\"altitude\"].fillna(df_new[\"bds05_altitude\"])\n",
    "    df_new = df_new.drop(columns=[\"altitude\", \"bds05_altitude\"])\n",
    "\n",
    "    df_new = df_new.rename(columns={\n",
    "        \"ts\": \"Timestamp (date)\",\n",
    "        \"icao24\": \"ICAO\",\n",
    "        \"df\": \"Downlink Format\",\n",
    "        \"tc\": \"Typecode\",\n",
    "        \"lat_deg\": \"lat\",\n",
    "        \"lon_deg\": \"lon\"\n",
    "    })\n",
    "\n",
    "    conditions_fs = [\n",
    "        (df_new[\"Downlink Format\"].isin([17, 18])) & (df_new[\"Typecode\"].isin(range(5, 9))),\n",
    "        (df_new[\"Downlink Format\"].isin([17, 18])) & (df_new[\"Typecode\"].isin(range(9, 23))),\n",
    "    ]\n",
    "    results_fs = ['on-ground', 'airborne']\n",
    "    df_new[\"Flight status\"] = np.select(conditions_fs, results_fs, default='NaN')\n",
    "\n",
    "    # Agregar mensajes adicionales\n",
    "    row = df_answers[df_answers[\"scenario_name\"] == scenario_name].iloc[0]\n",
    "    icao = row[\"icao\"]\n",
    "    holding_point = row[\"holding_point\"]\n",
    "    runway = row[\"runway\"]\n",
    "\n",
    "    # Buscar el punto de espera\n",
    "    point_info = [p for p in holding_points if p[0] == holding_point]\n",
    "    point_name, point_runway, point_lon, point_lat = point_info[0]\n",
    "\n",
    "    df_icao = df_new[df_new[\"ICAO\"] == icao].copy()\n",
    "    df_icao[\"Timestamp (date)\"] = pd.to_datetime(df_icao[\"Timestamp (date)\"])  # aseguramos datetime\n",
    "    last_msg = df_icao.sort_values(\"Timestamp (date)\").iloc[-1]\n",
    "\n",
    "    # Mensaje con velocidad cero\n",
    "    msg_zero_speed = last_msg.copy()\n",
    "    msg_zero_speed[\"Speed\"] = 0\n",
    "    msg_zero_speed[\"Timestamp (date)\"] += pd.Timedelta(milliseconds=1)\n",
    "    msg_zero_speed[\"Flight status\"] = \"on-ground\"\n",
    "    msg_zero_speed[\"lat\"] = None\n",
    "    msg_zero_speed[\"lon\"] = None\n",
    "    \n",
    "\n",
    "    # Mensaje en punto de espera\n",
    "    msg_holding = msg_zero_speed.copy()\n",
    "    msg_holding[\"lat\"] = point_lat\n",
    "    msg_holding[\"lon\"] = point_lon\n",
    "    msg_holding[\"Speed\"] = None\n",
    "    msg_holding[\"Flight status\"] = \"on-ground\"\n",
    "    msg_holding[\"Timestamp (date)\"] += pd.Timedelta(milliseconds=1)\n",
    "\n",
    "    # Añadir los mensajes al DataFrame\n",
    "    df_new = pd.concat([df_new, pd.DataFrame([msg_zero_speed, msg_holding])], ignore_index=True)\n",
    "\n",
    "    df_new[\"Timestamp (date)\"] = df_new[\"Timestamp (date)\"].astype(str)\n",
    "\n",
    "    print(f\"Se añadieron dos mensajes sintéticos para el avión {icao} en el escenario {scenario_name}\")\n",
    "\n",
    "    return df_new\n"
   ]
  },
  {
   "cell_type": "code",
   "execution_count": 49,
   "id": "3d7b8f69-e8a4-460a-8444-e486741aba6f",
   "metadata": {},
   "outputs": [
    {
     "name": "stdout",
     "output_type": "stream",
     "text": [
      "Procesando scenario_064.parquet\n"
     ]
    },
    {
     "name": "stderr",
     "output_type": "stream",
     "text": [
      "/var/folders/dp/1z2xwn7516q1b4n5t3nlr0500000gn/T/ipykernel_3467/924166058.py:78: FutureWarning: The behavior of DataFrame concatenation with empty or all-NA entries is deprecated. In a future version, this will no longer exclude empty or all-NA columns when determining the result dtypes. To retain the old behavior, exclude the relevant entries before the concat operation.\n",
      "  df_new = pd.concat([df_new, pd.DataFrame([msg_zero_speed, msg_holding])], ignore_index=True)\n",
      "/var/folders/dp/1z2xwn7516q1b4n5t3nlr0500000gn/T/ipykernel_3467/924166058.py:78: FutureWarning: The behavior of DataFrame concatenation with empty or all-NA entries is deprecated. In a future version, this will no longer exclude empty or all-NA columns when determining the result dtypes. To retain the old behavior, exclude the relevant entries before the concat operation.\n",
      "  df_new = pd.concat([df_new, pd.DataFrame([msg_zero_speed, msg_holding])], ignore_index=True)\n"
     ]
    },
    {
     "name": "stdout",
     "output_type": "stream",
     "text": [
      "Se añadieron dos mensajes sintéticos para el avión 34324e en el escenario scenario_064.parquet\n",
      "Guardado en ../../data/final_scenarios/clean/scenario_064.parquet\n",
      "Procesando scenario_074.parquet\n",
      "Se añadieron dos mensajes sintéticos para el avión e8043a en el escenario scenario_074.parquet\n",
      "Guardado en ../../data/final_scenarios/clean/scenario_074.parquet\n",
      "Procesando scenario_006.parquet\n"
     ]
    },
    {
     "name": "stderr",
     "output_type": "stream",
     "text": [
      "/var/folders/dp/1z2xwn7516q1b4n5t3nlr0500000gn/T/ipykernel_3467/924166058.py:78: FutureWarning: The behavior of DataFrame concatenation with empty or all-NA entries is deprecated. In a future version, this will no longer exclude empty or all-NA columns when determining the result dtypes. To retain the old behavior, exclude the relevant entries before the concat operation.\n",
      "  df_new = pd.concat([df_new, pd.DataFrame([msg_zero_speed, msg_holding])], ignore_index=True)\n"
     ]
    },
    {
     "name": "stdout",
     "output_type": "stream",
     "text": [
      "Se añadieron dos mensajes sintéticos para el avión 345698 en el escenario scenario_006.parquet\n",
      "Guardado en ../../data/final_scenarios/clean/scenario_006.parquet\n",
      "Procesando scenario_016.parquet\n"
     ]
    },
    {
     "name": "stderr",
     "output_type": "stream",
     "text": [
      "/var/folders/dp/1z2xwn7516q1b4n5t3nlr0500000gn/T/ipykernel_3467/924166058.py:78: FutureWarning: The behavior of DataFrame concatenation with empty or all-NA entries is deprecated. In a future version, this will no longer exclude empty or all-NA columns when determining the result dtypes. To retain the old behavior, exclude the relevant entries before the concat operation.\n",
      "  df_new = pd.concat([df_new, pd.DataFrame([msg_zero_speed, msg_holding])], ignore_index=True)\n",
      "/var/folders/dp/1z2xwn7516q1b4n5t3nlr0500000gn/T/ipykernel_3467/924166058.py:78: FutureWarning: The behavior of DataFrame concatenation with empty or all-NA entries is deprecated. In a future version, this will no longer exclude empty or all-NA columns when determining the result dtypes. To retain the old behavior, exclude the relevant entries before the concat operation.\n",
      "  df_new = pd.concat([df_new, pd.DataFrame([msg_zero_speed, msg_holding])], ignore_index=True)\n"
     ]
    },
    {
     "name": "stdout",
     "output_type": "stream",
     "text": [
      "Se añadieron dos mensajes sintéticos para el avión 345353 en el escenario scenario_016.parquet\n",
      "Guardado en ../../data/final_scenarios/clean/scenario_016.parquet\n",
      "Procesando scenario_123.parquet\n",
      "Se añadieron dos mensajes sintéticos para el avión e80448 en el escenario scenario_123.parquet\n",
      "Guardado en ../../data/final_scenarios/clean/scenario_123.parquet\n",
      "Procesando scenario_133.parquet\n"
     ]
    },
    {
     "name": "stderr",
     "output_type": "stream",
     "text": [
      "/var/folders/dp/1z2xwn7516q1b4n5t3nlr0500000gn/T/ipykernel_3467/924166058.py:78: FutureWarning: The behavior of DataFrame concatenation with empty or all-NA entries is deprecated. In a future version, this will no longer exclude empty or all-NA columns when determining the result dtypes. To retain the old behavior, exclude the relevant entries before the concat operation.\n",
      "  df_new = pd.concat([df_new, pd.DataFrame([msg_zero_speed, msg_holding])], ignore_index=True)\n"
     ]
    },
    {
     "name": "stdout",
     "output_type": "stream",
     "text": [
      "Se añadieron dos mensajes sintéticos para el avión 8960f7 en el escenario scenario_133.parquet\n",
      "Guardado en ../../data/final_scenarios/clean/scenario_133.parquet\n",
      "Procesando scenario_039.parquet\n"
     ]
    },
    {
     "name": "stderr",
     "output_type": "stream",
     "text": [
      "/var/folders/dp/1z2xwn7516q1b4n5t3nlr0500000gn/T/ipykernel_3467/924166058.py:78: FutureWarning: The behavior of DataFrame concatenation with empty or all-NA entries is deprecated. In a future version, this will no longer exclude empty or all-NA columns when determining the result dtypes. To retain the old behavior, exclude the relevant entries before the concat operation.\n",
      "  df_new = pd.concat([df_new, pd.DataFrame([msg_zero_speed, msg_holding])], ignore_index=True)\n",
      "/var/folders/dp/1z2xwn7516q1b4n5t3nlr0500000gn/T/ipykernel_3467/924166058.py:78: FutureWarning: The behavior of DataFrame concatenation with empty or all-NA entries is deprecated. In a future version, this will no longer exclude empty or all-NA columns when determining the result dtypes. To retain the old behavior, exclude the relevant entries before the concat operation.\n",
      "  df_new = pd.concat([df_new, pd.DataFrame([msg_zero_speed, msg_holding])], ignore_index=True)\n"
     ]
    },
    {
     "name": "stdout",
     "output_type": "stream",
     "text": [
      "Se añadieron dos mensajes sintéticos para el avión 495279 en el escenario scenario_039.parquet\n",
      "Guardado en ../../data/final_scenarios/clean/scenario_039.parquet\n",
      "Procesando scenario_141.parquet\n",
      "Se añadieron dos mensajes sintéticos para el avión 345319 en el escenario scenario_141.parquet\n",
      "Guardado en ../../data/final_scenarios/clean/scenario_141.parquet\n",
      "Procesando scenario_029.parquet\n"
     ]
    },
    {
     "name": "stderr",
     "output_type": "stream",
     "text": [
      "/var/folders/dp/1z2xwn7516q1b4n5t3nlr0500000gn/T/ipykernel_3467/924166058.py:78: FutureWarning: The behavior of DataFrame concatenation with empty or all-NA entries is deprecated. In a future version, this will no longer exclude empty or all-NA columns when determining the result dtypes. To retain the old behavior, exclude the relevant entries before the concat operation.\n",
      "  df_new = pd.concat([df_new, pd.DataFrame([msg_zero_speed, msg_holding])], ignore_index=True)\n",
      "/var/folders/dp/1z2xwn7516q1b4n5t3nlr0500000gn/T/ipykernel_3467/924166058.py:78: FutureWarning: The behavior of DataFrame concatenation with empty or all-NA entries is deprecated. In a future version, this will no longer exclude empty or all-NA columns when determining the result dtypes. To retain the old behavior, exclude the relevant entries before the concat operation.\n",
      "  df_new = pd.concat([df_new, pd.DataFrame([msg_zero_speed, msg_holding])], ignore_index=True)\n"
     ]
    },
    {
     "name": "stdout",
     "output_type": "stream",
     "text": [
      "Se añadieron dos mensajes sintéticos para el avión 4bb289 en el escenario scenario_029.parquet\n",
      "Guardado en ../../data/final_scenarios/clean/scenario_029.parquet\n",
      "Procesando scenario_151.parquet\n",
      "Se añadieron dos mensajes sintéticos para el avión 346057 en el escenario scenario_151.parquet\n",
      "Guardado en ../../data/final_scenarios/clean/scenario_151.parquet\n",
      "Procesando scenario_080.parquet\n"
     ]
    },
    {
     "name": "stderr",
     "output_type": "stream",
     "text": [
      "/var/folders/dp/1z2xwn7516q1b4n5t3nlr0500000gn/T/ipykernel_3467/924166058.py:78: FutureWarning: The behavior of DataFrame concatenation with empty or all-NA entries is deprecated. In a future version, this will no longer exclude empty or all-NA columns when determining the result dtypes. To retain the old behavior, exclude the relevant entries before the concat operation.\n",
      "  df_new = pd.concat([df_new, pd.DataFrame([msg_zero_speed, msg_holding])], ignore_index=True)\n"
     ]
    },
    {
     "name": "stdout",
     "output_type": "stream",
     "text": [
      "Se añadieron dos mensajes sintéticos para el avión 440062 en el escenario scenario_080.parquet\n",
      "Guardado en ../../data/final_scenarios/clean/scenario_080.parquet\n",
      "Procesando scenario_090.parquet\n"
     ]
    },
    {
     "name": "stderr",
     "output_type": "stream",
     "text": [
      "/var/folders/dp/1z2xwn7516q1b4n5t3nlr0500000gn/T/ipykernel_3467/924166058.py:78: FutureWarning: The behavior of DataFrame concatenation with empty or all-NA entries is deprecated. In a future version, this will no longer exclude empty or all-NA columns when determining the result dtypes. To retain the old behavior, exclude the relevant entries before the concat operation.\n",
      "  df_new = pd.concat([df_new, pd.DataFrame([msg_zero_speed, msg_holding])], ignore_index=True)\n"
     ]
    },
    {
     "name": "stdout",
     "output_type": "stream",
     "text": [
      "Se añadieron dos mensajes sintéticos para el avión 34640e en el escenario scenario_090.parquet\n",
      "Guardado en ../../data/final_scenarios/clean/scenario_090.parquet\n",
      "Procesando scenario_167.parquet\n"
     ]
    },
    {
     "name": "stderr",
     "output_type": "stream",
     "text": [
      "/var/folders/dp/1z2xwn7516q1b4n5t3nlr0500000gn/T/ipykernel_3467/924166058.py:78: FutureWarning: The behavior of DataFrame concatenation with empty or all-NA entries is deprecated. In a future version, this will no longer exclude empty or all-NA columns when determining the result dtypes. To retain the old behavior, exclude the relevant entries before the concat operation.\n",
      "  df_new = pd.concat([df_new, pd.DataFrame([msg_zero_speed, msg_holding])], ignore_index=True)\n",
      "/var/folders/dp/1z2xwn7516q1b4n5t3nlr0500000gn/T/ipykernel_3467/924166058.py:78: FutureWarning: The behavior of DataFrame concatenation with empty or all-NA entries is deprecated. In a future version, this will no longer exclude empty or all-NA columns when determining the result dtypes. To retain the old behavior, exclude the relevant entries before the concat operation.\n",
      "  df_new = pd.concat([df_new, pd.DataFrame([msg_zero_speed, msg_holding])], ignore_index=True)\n"
     ]
    },
    {
     "name": "stdout",
     "output_type": "stream",
     "text": [
      "Se añadieron dos mensajes sintéticos para el avión 3444c4 en el escenario scenario_167.parquet\n",
      "Guardado en ../../data/final_scenarios/clean/scenario_167.parquet\n",
      "Procesando scenario_177.parquet\n",
      "Se añadieron dos mensajes sintéticos para el avión 344416 en el escenario scenario_177.parquet\n",
      "Guardado en ../../data/final_scenarios/clean/scenario_177.parquet\n",
      "Procesando scenario_105.parquet\n"
     ]
    },
    {
     "name": "stderr",
     "output_type": "stream",
     "text": [
      "/var/folders/dp/1z2xwn7516q1b4n5t3nlr0500000gn/T/ipykernel_3467/924166058.py:78: FutureWarning: The behavior of DataFrame concatenation with empty or all-NA entries is deprecated. In a future version, this will no longer exclude empty or all-NA columns when determining the result dtypes. To retain the old behavior, exclude the relevant entries before the concat operation.\n",
      "  df_new = pd.concat([df_new, pd.DataFrame([msg_zero_speed, msg_holding])], ignore_index=True)\n"
     ]
    },
    {
     "name": "stdout",
     "output_type": "stream",
     "text": [
      "Se añadieron dos mensajes sintéticos para el avión 347311 en el escenario scenario_105.parquet\n",
      "Guardado en ../../data/final_scenarios/clean/scenario_105.parquet\n",
      "Procesando scenario_115.parquet\n"
     ]
    },
    {
     "name": "stderr",
     "output_type": "stream",
     "text": [
      "/var/folders/dp/1z2xwn7516q1b4n5t3nlr0500000gn/T/ipykernel_3467/924166058.py:78: FutureWarning: The behavior of DataFrame concatenation with empty or all-NA entries is deprecated. In a future version, this will no longer exclude empty or all-NA columns when determining the result dtypes. To retain the old behavior, exclude the relevant entries before the concat operation.\n",
      "  df_new = pd.concat([df_new, pd.DataFrame([msg_zero_speed, msg_holding])], ignore_index=True)\n"
     ]
    },
    {
     "name": "stdout",
     "output_type": "stream",
     "text": [
      "Se añadieron dos mensajes sintéticos para el avión 4cadbe en el escenario scenario_115.parquet\n",
      "Guardado en ../../data/final_scenarios/clean/scenario_115.parquet\n",
      "Procesando scenario_020.parquet\n"
     ]
    },
    {
     "name": "stderr",
     "output_type": "stream",
     "text": [
      "/var/folders/dp/1z2xwn7516q1b4n5t3nlr0500000gn/T/ipykernel_3467/924166058.py:78: FutureWarning: The behavior of DataFrame concatenation with empty or all-NA entries is deprecated. In a future version, this will no longer exclude empty or all-NA columns when determining the result dtypes. To retain the old behavior, exclude the relevant entries before the concat operation.\n",
      "  df_new = pd.concat([df_new, pd.DataFrame([msg_zero_speed, msg_holding])], ignore_index=True)\n"
     ]
    },
    {
     "name": "stdout",
     "output_type": "stream",
     "text": [
      "Se añadieron dos mensajes sintéticos para el avión 3451d9 en el escenario scenario_020.parquet\n",
      "Guardado en ../../data/final_scenarios/clean/scenario_020.parquet\n",
      "Procesando scenario_158.parquet\n"
     ]
    },
    {
     "name": "stderr",
     "output_type": "stream",
     "text": [
      "/var/folders/dp/1z2xwn7516q1b4n5t3nlr0500000gn/T/ipykernel_3467/924166058.py:78: FutureWarning: The behavior of DataFrame concatenation with empty or all-NA entries is deprecated. In a future version, this will no longer exclude empty or all-NA columns when determining the result dtypes. To retain the old behavior, exclude the relevant entries before the concat operation.\n",
      "  df_new = pd.concat([df_new, pd.DataFrame([msg_zero_speed, msg_holding])], ignore_index=True)\n"
     ]
    },
    {
     "name": "stdout",
     "output_type": "stream",
     "text": [
      "Se añadieron dos mensajes sintéticos para el avión 347648 en el escenario scenario_158.parquet\n",
      "Guardado en ../../data/final_scenarios/clean/scenario_158.parquet\n",
      "Procesando scenario_030.parquet\n"
     ]
    },
    {
     "name": "stderr",
     "output_type": "stream",
     "text": [
      "/var/folders/dp/1z2xwn7516q1b4n5t3nlr0500000gn/T/ipykernel_3467/924166058.py:78: FutureWarning: The behavior of DataFrame concatenation with empty or all-NA entries is deprecated. In a future version, this will no longer exclude empty or all-NA columns when determining the result dtypes. To retain the old behavior, exclude the relevant entries before the concat operation.\n",
      "  df_new = pd.concat([df_new, pd.DataFrame([msg_zero_speed, msg_holding])], ignore_index=True)\n"
     ]
    },
    {
     "name": "stdout",
     "output_type": "stream",
     "text": [
      "Se añadieron dos mensajes sintéticos para el avión 34659a en el escenario scenario_030.parquet\n",
      "Guardado en ../../data/final_scenarios/clean/scenario_030.parquet\n",
      "Procesando scenario_148.parquet\n"
     ]
    },
    {
     "name": "stderr",
     "output_type": "stream",
     "text": [
      "/var/folders/dp/1z2xwn7516q1b4n5t3nlr0500000gn/T/ipykernel_3467/924166058.py:78: FutureWarning: The behavior of DataFrame concatenation with empty or all-NA entries is deprecated. In a future version, this will no longer exclude empty or all-NA columns when determining the result dtypes. To retain the old behavior, exclude the relevant entries before the concat operation.\n",
      "  df_new = pd.concat([df_new, pd.DataFrame([msg_zero_speed, msg_holding])], ignore_index=True)\n",
      "/var/folders/dp/1z2xwn7516q1b4n5t3nlr0500000gn/T/ipykernel_3467/924166058.py:78: FutureWarning: The behavior of DataFrame concatenation with empty or all-NA entries is deprecated. In a future version, this will no longer exclude empty or all-NA columns when determining the result dtypes. To retain the old behavior, exclude the relevant entries before the concat operation.\n",
      "  df_new = pd.concat([df_new, pd.DataFrame([msg_zero_speed, msg_holding])], ignore_index=True)\n"
     ]
    },
    {
     "name": "stdout",
     "output_type": "stream",
     "text": [
      "Se añadieron dos mensajes sintéticos para el avión 34628d en el escenario scenario_148.parquet\n",
      "Guardado en ../../data/final_scenarios/clean/scenario_148.parquet\n",
      "Procesando scenario_099.parquet\n",
      "Se añadieron dos mensajes sintéticos para el avión 3450d8 en el escenario scenario_099.parquet\n",
      "Guardado en ../../data/final_scenarios/clean/scenario_099.parquet\n",
      "Procesando scenario_089.parquet\n",
      "Se añadieron dos mensajes sintéticos para el avión 34448d en el escenario scenario_089.parquet\n"
     ]
    },
    {
     "name": "stderr",
     "output_type": "stream",
     "text": [
      "/var/folders/dp/1z2xwn7516q1b4n5t3nlr0500000gn/T/ipykernel_3467/924166058.py:78: FutureWarning: The behavior of DataFrame concatenation with empty or all-NA entries is deprecated. In a future version, this will no longer exclude empty or all-NA columns when determining the result dtypes. To retain the old behavior, exclude the relevant entries before the concat operation.\n",
      "  df_new = pd.concat([df_new, pd.DataFrame([msg_zero_speed, msg_holding])], ignore_index=True)\n"
     ]
    },
    {
     "name": "stdout",
     "output_type": "stream",
     "text": [
      "Guardado en ../../data/final_scenarios/clean/scenario_089.parquet\n",
      "Procesando scenario_183.parquet\n"
     ]
    },
    {
     "name": "stderr",
     "output_type": "stream",
     "text": [
      "/var/folders/dp/1z2xwn7516q1b4n5t3nlr0500000gn/T/ipykernel_3467/924166058.py:78: FutureWarning: The behavior of DataFrame concatenation with empty or all-NA entries is deprecated. In a future version, this will no longer exclude empty or all-NA columns when determining the result dtypes. To retain the old behavior, exclude the relevant entries before the concat operation.\n",
      "  df_new = pd.concat([df_new, pd.DataFrame([msg_zero_speed, msg_holding])], ignore_index=True)\n"
     ]
    },
    {
     "name": "stdout",
     "output_type": "stream",
     "text": [
      "Se añadieron dos mensajes sintéticos para el avión 34250a en el escenario scenario_183.parquet\n",
      "Guardado en ../../data/final_scenarios/clean/scenario_183.parquet\n",
      "Procesando scenario_193.parquet\n"
     ]
    },
    {
     "name": "stderr",
     "output_type": "stream",
     "text": [
      "/var/folders/dp/1z2xwn7516q1b4n5t3nlr0500000gn/T/ipykernel_3467/924166058.py:78: FutureWarning: The behavior of DataFrame concatenation with empty or all-NA entries is deprecated. In a future version, this will no longer exclude empty or all-NA columns when determining the result dtypes. To retain the old behavior, exclude the relevant entries before the concat operation.\n",
      "  df_new = pd.concat([df_new, pd.DataFrame([msg_zero_speed, msg_holding])], ignore_index=True)\n"
     ]
    },
    {
     "name": "stdout",
     "output_type": "stream",
     "text": [
      "Se añadieron dos mensajes sintéticos para el avión 344416 en el escenario scenario_193.parquet\n",
      "Guardado en ../../data/final_scenarios/clean/scenario_193.parquet\n",
      "Procesando scenario_042.parquet\n"
     ]
    },
    {
     "name": "stderr",
     "output_type": "stream",
     "text": [
      "/var/folders/dp/1z2xwn7516q1b4n5t3nlr0500000gn/T/ipykernel_3467/924166058.py:78: FutureWarning: The behavior of DataFrame concatenation with empty or all-NA entries is deprecated. In a future version, this will no longer exclude empty or all-NA columns when determining the result dtypes. To retain the old behavior, exclude the relevant entries before the concat operation.\n",
      "  df_new = pd.concat([df_new, pd.DataFrame([msg_zero_speed, msg_holding])], ignore_index=True)\n"
     ]
    },
    {
     "name": "stdout",
     "output_type": "stream",
     "text": [
      "Se añadieron dos mensajes sintéticos para el avión 346385 en el escenario scenario_042.parquet\n",
      "Guardado en ../../data/final_scenarios/clean/scenario_042.parquet\n",
      "Procesando scenario_052.parquet\n"
     ]
    },
    {
     "name": "stderr",
     "output_type": "stream",
     "text": [
      "/var/folders/dp/1z2xwn7516q1b4n5t3nlr0500000gn/T/ipykernel_3467/924166058.py:78: FutureWarning: The behavior of DataFrame concatenation with empty or all-NA entries is deprecated. In a future version, this will no longer exclude empty or all-NA columns when determining the result dtypes. To retain the old behavior, exclude the relevant entries before the concat operation.\n",
      "  df_new = pd.concat([df_new, pd.DataFrame([msg_zero_speed, msg_holding])], ignore_index=True)\n"
     ]
    },
    {
     "name": "stdout",
     "output_type": "stream",
     "text": [
      "Se añadieron dos mensajes sintéticos para el avión 344416 en el escenario scenario_052.parquet\n",
      "Guardado en ../../data/final_scenarios/clean/scenario_052.parquet\n",
      "Procesando scenario_176.parquet\n"
     ]
    },
    {
     "name": "stderr",
     "output_type": "stream",
     "text": [
      "/var/folders/dp/1z2xwn7516q1b4n5t3nlr0500000gn/T/ipykernel_3467/924166058.py:78: FutureWarning: The behavior of DataFrame concatenation with empty or all-NA entries is deprecated. In a future version, this will no longer exclude empty or all-NA columns when determining the result dtypes. To retain the old behavior, exclude the relevant entries before the concat operation.\n",
      "  df_new = pd.concat([df_new, pd.DataFrame([msg_zero_speed, msg_holding])], ignore_index=True)\n"
     ]
    },
    {
     "name": "stdout",
     "output_type": "stream",
     "text": [
      "Se añadieron dos mensajes sintéticos para el avión 3420cb en el escenario scenario_176.parquet\n",
      "Guardado en ../../data/final_scenarios/clean/scenario_176.parquet\n",
      "Procesando scenario_166.parquet\n"
     ]
    },
    {
     "name": "stderr",
     "output_type": "stream",
     "text": [
      "/var/folders/dp/1z2xwn7516q1b4n5t3nlr0500000gn/T/ipykernel_3467/924166058.py:78: FutureWarning: The behavior of DataFrame concatenation with empty or all-NA entries is deprecated. In a future version, this will no longer exclude empty or all-NA columns when determining the result dtypes. To retain the old behavior, exclude the relevant entries before the concat operation.\n",
      "  df_new = pd.concat([df_new, pd.DataFrame([msg_zero_speed, msg_holding])], ignore_index=True)\n"
     ]
    },
    {
     "name": "stdout",
     "output_type": "stream",
     "text": [
      "Se añadieron dos mensajes sintéticos para el avión 345687 en el escenario scenario_166.parquet\n",
      "Guardado en ../../data/final_scenarios/clean/scenario_166.parquet\n",
      "Procesando scenario_114.parquet\n"
     ]
    },
    {
     "name": "stderr",
     "output_type": "stream",
     "text": [
      "/var/folders/dp/1z2xwn7516q1b4n5t3nlr0500000gn/T/ipykernel_3467/924166058.py:78: FutureWarning: The behavior of DataFrame concatenation with empty or all-NA entries is deprecated. In a future version, this will no longer exclude empty or all-NA columns when determining the result dtypes. To retain the old behavior, exclude the relevant entries before the concat operation.\n",
      "  df_new = pd.concat([df_new, pd.DataFrame([msg_zero_speed, msg_holding])], ignore_index=True)\n"
     ]
    },
    {
     "name": "stdout",
     "output_type": "stream",
     "text": [
      "Se añadieron dos mensajes sintéticos para el avión 3453cc en el escenario scenario_114.parquet\n",
      "Guardado en ../../data/final_scenarios/clean/scenario_114.parquet\n",
      "Procesando scenario_104.parquet\n",
      "Se añadieron dos mensajes sintéticos para el avión 48c224 en el escenario scenario_104.parquet\n"
     ]
    },
    {
     "name": "stderr",
     "output_type": "stream",
     "text": [
      "/var/folders/dp/1z2xwn7516q1b4n5t3nlr0500000gn/T/ipykernel_3467/924166058.py:78: FutureWarning: The behavior of DataFrame concatenation with empty or all-NA entries is deprecated. In a future version, this will no longer exclude empty or all-NA columns when determining the result dtypes. To retain the old behavior, exclude the relevant entries before the concat operation.\n",
      "  df_new = pd.concat([df_new, pd.DataFrame([msg_zero_speed, msg_holding])], ignore_index=True)\n",
      "/var/folders/dp/1z2xwn7516q1b4n5t3nlr0500000gn/T/ipykernel_3467/924166058.py:78: FutureWarning: The behavior of DataFrame concatenation with empty or all-NA entries is deprecated. In a future version, this will no longer exclude empty or all-NA columns when determining the result dtypes. To retain the old behavior, exclude the relevant entries before the concat operation.\n",
      "  df_new = pd.concat([df_new, pd.DataFrame([msg_zero_speed, msg_holding])], ignore_index=True)\n"
     ]
    },
    {
     "name": "stdout",
     "output_type": "stream",
     "text": [
      "Guardado en ../../data/final_scenarios/clean/scenario_104.parquet\n",
      "Procesando scenario_088.parquet\n",
      "Se añadieron dos mensajes sintéticos para el avión 4d221a en el escenario scenario_088.parquet\n",
      "Guardado en ../../data/final_scenarios/clean/scenario_088.parquet\n",
      "Procesando scenario_098.parquet\n"
     ]
    },
    {
     "name": "stderr",
     "output_type": "stream",
     "text": [
      "/var/folders/dp/1z2xwn7516q1b4n5t3nlr0500000gn/T/ipykernel_3467/924166058.py:78: FutureWarning: The behavior of DataFrame concatenation with empty or all-NA entries is deprecated. In a future version, this will no longer exclude empty or all-NA columns when determining the result dtypes. To retain the old behavior, exclude the relevant entries before the concat operation.\n",
      "  df_new = pd.concat([df_new, pd.DataFrame([msg_zero_speed, msg_holding])], ignore_index=True)\n"
     ]
    },
    {
     "name": "stdout",
     "output_type": "stream",
     "text": [
      "Se añadieron dos mensajes sintéticos para el avión 34635a en el escenario scenario_098.parquet\n",
      "Guardado en ../../data/final_scenarios/clean/scenario_098.parquet\n",
      "Procesando scenario_149.parquet\n"
     ]
    },
    {
     "name": "stderr",
     "output_type": "stream",
     "text": [
      "/var/folders/dp/1z2xwn7516q1b4n5t3nlr0500000gn/T/ipykernel_3467/924166058.py:78: FutureWarning: The behavior of DataFrame concatenation with empty or all-NA entries is deprecated. In a future version, this will no longer exclude empty or all-NA columns when determining the result dtypes. To retain the old behavior, exclude the relevant entries before the concat operation.\n",
      "  df_new = pd.concat([df_new, pd.DataFrame([msg_zero_speed, msg_holding])], ignore_index=True)\n",
      "/var/folders/dp/1z2xwn7516q1b4n5t3nlr0500000gn/T/ipykernel_3467/924166058.py:78: FutureWarning: The behavior of DataFrame concatenation with empty or all-NA entries is deprecated. In a future version, this will no longer exclude empty or all-NA columns when determining the result dtypes. To retain the old behavior, exclude the relevant entries before the concat operation.\n",
      "  df_new = pd.concat([df_new, pd.DataFrame([msg_zero_speed, msg_holding])], ignore_index=True)\n"
     ]
    },
    {
     "name": "stdout",
     "output_type": "stream",
     "text": [
      "Se añadieron dos mensajes sintéticos para el avión 345691 en el escenario scenario_149.parquet\n",
      "Guardado en ../../data/final_scenarios/clean/scenario_149.parquet\n",
      "Procesando scenario_031.parquet\n",
      "Se añadieron dos mensajes sintéticos para el avión 484556 en el escenario scenario_031.parquet\n",
      "Guardado en ../../data/final_scenarios/clean/scenario_031.parquet\n",
      "Procesando scenario_159.parquet\n"
     ]
    },
    {
     "name": "stderr",
     "output_type": "stream",
     "text": [
      "/var/folders/dp/1z2xwn7516q1b4n5t3nlr0500000gn/T/ipykernel_3467/924166058.py:78: FutureWarning: The behavior of DataFrame concatenation with empty or all-NA entries is deprecated. In a future version, this will no longer exclude empty or all-NA columns when determining the result dtypes. To retain the old behavior, exclude the relevant entries before the concat operation.\n",
      "  df_new = pd.concat([df_new, pd.DataFrame([msg_zero_speed, msg_holding])], ignore_index=True)\n"
     ]
    },
    {
     "name": "stdout",
     "output_type": "stream",
     "text": [
      "Se añadieron dos mensajes sintéticos para el avión 3452c8 en el escenario scenario_159.parquet\n",
      "Guardado en ../../data/final_scenarios/clean/scenario_159.parquet\n",
      "Procesando scenario_021.parquet\n"
     ]
    },
    {
     "name": "stderr",
     "output_type": "stream",
     "text": [
      "/var/folders/dp/1z2xwn7516q1b4n5t3nlr0500000gn/T/ipykernel_3467/924166058.py:78: FutureWarning: The behavior of DataFrame concatenation with empty or all-NA entries is deprecated. In a future version, this will no longer exclude empty or all-NA columns when determining the result dtypes. To retain the old behavior, exclude the relevant entries before the concat operation.\n",
      "  df_new = pd.concat([df_new, pd.DataFrame([msg_zero_speed, msg_holding])], ignore_index=True)\n",
      "/var/folders/dp/1z2xwn7516q1b4n5t3nlr0500000gn/T/ipykernel_3467/924166058.py:78: FutureWarning: The behavior of DataFrame concatenation with empty or all-NA entries is deprecated. In a future version, this will no longer exclude empty or all-NA columns when determining the result dtypes. To retain the old behavior, exclude the relevant entries before the concat operation.\n",
      "  df_new = pd.concat([df_new, pd.DataFrame([msg_zero_speed, msg_holding])], ignore_index=True)\n"
     ]
    },
    {
     "name": "stdout",
     "output_type": "stream",
     "text": [
      "Se añadieron dos mensajes sintéticos para el avión 342213 en el escenario scenario_021.parquet\n",
      "Guardado en ../../data/final_scenarios/clean/scenario_021.parquet\n",
      "Procesando scenario_053.parquet\n",
      "Se añadieron dos mensajes sintéticos para el avión 8963dc en el escenario scenario_053.parquet\n",
      "Guardado en ../../data/final_scenarios/clean/scenario_053.parquet\n",
      "Procesando scenario_043.parquet\n"
     ]
    },
    {
     "name": "stderr",
     "output_type": "stream",
     "text": [
      "/var/folders/dp/1z2xwn7516q1b4n5t3nlr0500000gn/T/ipykernel_3467/924166058.py:78: FutureWarning: The behavior of DataFrame concatenation with empty or all-NA entries is deprecated. In a future version, this will no longer exclude empty or all-NA columns when determining the result dtypes. To retain the old behavior, exclude the relevant entries before the concat operation.\n",
      "  df_new = pd.concat([df_new, pd.DataFrame([msg_zero_speed, msg_holding])], ignore_index=True)\n"
     ]
    },
    {
     "name": "stdout",
     "output_type": "stream",
     "text": [
      "Se añadieron dos mensajes sintéticos para el avión 344487 en el escenario scenario_043.parquet\n",
      "Guardado en ../../data/final_scenarios/clean/scenario_043.parquet\n",
      "Procesando scenario_192.parquet\n"
     ]
    },
    {
     "name": "stderr",
     "output_type": "stream",
     "text": [
      "/var/folders/dp/1z2xwn7516q1b4n5t3nlr0500000gn/T/ipykernel_3467/924166058.py:78: FutureWarning: The behavior of DataFrame concatenation with empty or all-NA entries is deprecated. In a future version, this will no longer exclude empty or all-NA columns when determining the result dtypes. To retain the old behavior, exclude the relevant entries before the concat operation.\n",
      "  df_new = pd.concat([df_new, pd.DataFrame([msg_zero_speed, msg_holding])], ignore_index=True)\n"
     ]
    },
    {
     "name": "stdout",
     "output_type": "stream",
     "text": [
      "Se añadieron dos mensajes sintéticos para el avión 342107 en el escenario scenario_192.parquet\n",
      "Guardado en ../../data/final_scenarios/clean/scenario_192.parquet\n",
      "Procesando scenario_182.parquet\n",
      "Se añadieron dos mensajes sintéticos para el avión 4cae97 en el escenario scenario_182.parquet\n"
     ]
    },
    {
     "name": "stderr",
     "output_type": "stream",
     "text": [
      "/var/folders/dp/1z2xwn7516q1b4n5t3nlr0500000gn/T/ipykernel_3467/924166058.py:78: FutureWarning: The behavior of DataFrame concatenation with empty or all-NA entries is deprecated. In a future version, this will no longer exclude empty or all-NA columns when determining the result dtypes. To retain the old behavior, exclude the relevant entries before the concat operation.\n",
      "  df_new = pd.concat([df_new, pd.DataFrame([msg_zero_speed, msg_holding])], ignore_index=True)\n"
     ]
    },
    {
     "name": "stdout",
     "output_type": "stream",
     "text": [
      "Guardado en ../../data/final_scenarios/clean/scenario_182.parquet\n",
      "Procesando scenario_075.parquet\n"
     ]
    },
    {
     "name": "stderr",
     "output_type": "stream",
     "text": [
      "/var/folders/dp/1z2xwn7516q1b4n5t3nlr0500000gn/T/ipykernel_3467/924166058.py:78: FutureWarning: The behavior of DataFrame concatenation with empty or all-NA entries is deprecated. In a future version, this will no longer exclude empty or all-NA columns when determining the result dtypes. To retain the old behavior, exclude the relevant entries before the concat operation.\n",
      "  df_new = pd.concat([df_new, pd.DataFrame([msg_zero_speed, msg_holding])], ignore_index=True)\n"
     ]
    },
    {
     "name": "stdout",
     "output_type": "stream",
     "text": [
      "Se añadieron dos mensajes sintéticos para el avión 346057 en el escenario scenario_075.parquet\n",
      "Guardado en ../../data/final_scenarios/clean/scenario_075.parquet\n",
      "Procesando scenario_065.parquet\n"
     ]
    },
    {
     "name": "stderr",
     "output_type": "stream",
     "text": [
      "/var/folders/dp/1z2xwn7516q1b4n5t3nlr0500000gn/T/ipykernel_3467/924166058.py:78: FutureWarning: The behavior of DataFrame concatenation with empty or all-NA entries is deprecated. In a future version, this will no longer exclude empty or all-NA columns when determining the result dtypes. To retain the old behavior, exclude the relevant entries before the concat operation.\n",
      "  df_new = pd.concat([df_new, pd.DataFrame([msg_zero_speed, msg_holding])], ignore_index=True)\n"
     ]
    },
    {
     "name": "stdout",
     "output_type": "stream",
     "text": [
      "Se añadieron dos mensajes sintéticos para el avión 347481 en el escenario scenario_065.parquet\n",
      "Guardado en ../../data/final_scenarios/clean/scenario_065.parquet\n",
      "Procesando scenario_017.parquet\n"
     ]
    },
    {
     "name": "stderr",
     "output_type": "stream",
     "text": [
      "/var/folders/dp/1z2xwn7516q1b4n5t3nlr0500000gn/T/ipykernel_3467/924166058.py:78: FutureWarning: The behavior of DataFrame concatenation with empty or all-NA entries is deprecated. In a future version, this will no longer exclude empty or all-NA columns when determining the result dtypes. To retain the old behavior, exclude the relevant entries before the concat operation.\n",
      "  df_new = pd.concat([df_new, pd.DataFrame([msg_zero_speed, msg_holding])], ignore_index=True)\n"
     ]
    },
    {
     "name": "stdout",
     "output_type": "stream",
     "text": [
      "Se añadieron dos mensajes sintéticos para el avión 3420cb en el escenario scenario_017.parquet\n",
      "Guardado en ../../data/final_scenarios/clean/scenario_017.parquet\n",
      "Procesando scenario_007.parquet\n"
     ]
    },
    {
     "name": "stderr",
     "output_type": "stream",
     "text": [
      "/var/folders/dp/1z2xwn7516q1b4n5t3nlr0500000gn/T/ipykernel_3467/924166058.py:78: FutureWarning: The behavior of DataFrame concatenation with empty or all-NA entries is deprecated. In a future version, this will no longer exclude empty or all-NA columns when determining the result dtypes. To retain the old behavior, exclude the relevant entries before the concat operation.\n",
      "  df_new = pd.concat([df_new, pd.DataFrame([msg_zero_speed, msg_holding])], ignore_index=True)\n",
      "/var/folders/dp/1z2xwn7516q1b4n5t3nlr0500000gn/T/ipykernel_3467/924166058.py:78: FutureWarning: The behavior of DataFrame concatenation with empty or all-NA entries is deprecated. In a future version, this will no longer exclude empty or all-NA columns when determining the result dtypes. To retain the old behavior, exclude the relevant entries before the concat operation.\n",
      "  df_new = pd.concat([df_new, pd.DataFrame([msg_zero_speed, msg_holding])], ignore_index=True)\n"
     ]
    },
    {
     "name": "stdout",
     "output_type": "stream",
     "text": [
      "Se añadieron dos mensajes sintéticos para el avión 3465c5 en el escenario scenario_007.parquet\n",
      "Guardado en ../../data/final_scenarios/clean/scenario_007.parquet\n",
      "Procesando scenario_132.parquet\n",
      "Se añadieron dos mensajes sintéticos para el avión 3461cb en el escenario scenario_132.parquet\n",
      "Guardado en ../../data/final_scenarios/clean/scenario_132.parquet\n",
      "Procesando scenario_122.parquet\n"
     ]
    },
    {
     "name": "stderr",
     "output_type": "stream",
     "text": [
      "/var/folders/dp/1z2xwn7516q1b4n5t3nlr0500000gn/T/ipykernel_3467/924166058.py:78: FutureWarning: The behavior of DataFrame concatenation with empty or all-NA entries is deprecated. In a future version, this will no longer exclude empty or all-NA columns when determining the result dtypes. To retain the old behavior, exclude the relevant entries before the concat operation.\n",
      "  df_new = pd.concat([df_new, pd.DataFrame([msg_zero_speed, msg_holding])], ignore_index=True)\n"
     ]
    },
    {
     "name": "stdout",
     "output_type": "stream",
     "text": [
      "Se añadieron dos mensajes sintéticos para el avión 3415ce en el escenario scenario_122.parquet\n",
      "Guardado en ../../data/final_scenarios/clean/scenario_122.parquet\n",
      "Procesando scenario_091.parquet\n"
     ]
    },
    {
     "name": "stderr",
     "output_type": "stream",
     "text": [
      "/var/folders/dp/1z2xwn7516q1b4n5t3nlr0500000gn/T/ipykernel_3467/924166058.py:78: FutureWarning: The behavior of DataFrame concatenation with empty or all-NA entries is deprecated. In a future version, this will no longer exclude empty or all-NA columns when determining the result dtypes. To retain the old behavior, exclude the relevant entries before the concat operation.\n",
      "  df_new = pd.concat([df_new, pd.DataFrame([msg_zero_speed, msg_holding])], ignore_index=True)\n"
     ]
    },
    {
     "name": "stdout",
     "output_type": "stream",
     "text": [
      "Se añadieron dos mensajes sintéticos para el avión 44cdd0 en el escenario scenario_091.parquet\n",
      "Guardado en ../../data/final_scenarios/clean/scenario_091.parquet\n",
      "Procesando scenario_081.parquet\n"
     ]
    },
    {
     "name": "stderr",
     "output_type": "stream",
     "text": [
      "/var/folders/dp/1z2xwn7516q1b4n5t3nlr0500000gn/T/ipykernel_3467/924166058.py:78: FutureWarning: The behavior of DataFrame concatenation with empty or all-NA entries is deprecated. In a future version, this will no longer exclude empty or all-NA columns when determining the result dtypes. To retain the old behavior, exclude the relevant entries before the concat operation.\n",
      "  df_new = pd.concat([df_new, pd.DataFrame([msg_zero_speed, msg_holding])], ignore_index=True)\n",
      "/var/folders/dp/1z2xwn7516q1b4n5t3nlr0500000gn/T/ipykernel_3467/924166058.py:78: FutureWarning: The behavior of DataFrame concatenation with empty or all-NA entries is deprecated. In a future version, this will no longer exclude empty or all-NA columns when determining the result dtypes. To retain the old behavior, exclude the relevant entries before the concat operation.\n",
      "  df_new = pd.concat([df_new, pd.DataFrame([msg_zero_speed, msg_holding])], ignore_index=True)\n"
     ]
    },
    {
     "name": "stdout",
     "output_type": "stream",
     "text": [
      "Se añadieron dos mensajes sintéticos para el avión 39ceaa en el escenario scenario_081.parquet\n",
      "Guardado en ../../data/final_scenarios/clean/scenario_081.parquet\n",
      "Procesando scenario_150.parquet\n",
      "Se añadieron dos mensajes sintéticos para el avión 34754c en el escenario scenario_150.parquet\n",
      "Guardado en ../../data/final_scenarios/clean/scenario_150.parquet\n",
      "Procesando scenario_028.parquet\n"
     ]
    },
    {
     "name": "stderr",
     "output_type": "stream",
     "text": [
      "/var/folders/dp/1z2xwn7516q1b4n5t3nlr0500000gn/T/ipykernel_3467/924166058.py:78: FutureWarning: The behavior of DataFrame concatenation with empty or all-NA entries is deprecated. In a future version, this will no longer exclude empty or all-NA columns when determining the result dtypes. To retain the old behavior, exclude the relevant entries before the concat operation.\n",
      "  df_new = pd.concat([df_new, pd.DataFrame([msg_zero_speed, msg_holding])], ignore_index=True)\n",
      "/var/folders/dp/1z2xwn7516q1b4n5t3nlr0500000gn/T/ipykernel_3467/924166058.py:78: FutureWarning: The behavior of DataFrame concatenation with empty or all-NA entries is deprecated. In a future version, this will no longer exclude empty or all-NA columns when determining the result dtypes. To retain the old behavior, exclude the relevant entries before the concat operation.\n",
      "  df_new = pd.concat([df_new, pd.DataFrame([msg_zero_speed, msg_holding])], ignore_index=True)\n"
     ]
    },
    {
     "name": "stdout",
     "output_type": "stream",
     "text": [
      "Se añadieron dos mensajes sintéticos para el avión 34644c en el escenario scenario_028.parquet\n",
      "Guardado en ../../data/final_scenarios/clean/scenario_028.parquet\n",
      "Procesando scenario_140.parquet\n",
      "Se añadieron dos mensajes sintéticos para el avión 342091 en el escenario scenario_140.parquet\n",
      "Guardado en ../../data/final_scenarios/clean/scenario_140.parquet\n",
      "Procesando scenario_038.parquet\n"
     ]
    },
    {
     "name": "stderr",
     "output_type": "stream",
     "text": [
      "/var/folders/dp/1z2xwn7516q1b4n5t3nlr0500000gn/T/ipykernel_3467/924166058.py:78: FutureWarning: The behavior of DataFrame concatenation with empty or all-NA entries is deprecated. In a future version, this will no longer exclude empty or all-NA columns when determining the result dtypes. To retain the old behavior, exclude the relevant entries before the concat operation.\n",
      "  df_new = pd.concat([df_new, pd.DataFrame([msg_zero_speed, msg_holding])], ignore_index=True)\n"
     ]
    },
    {
     "name": "stdout",
     "output_type": "stream",
     "text": [
      "Se añadieron dos mensajes sintéticos para el avión 34224e en el escenario scenario_038.parquet\n",
      "Guardado en ../../data/final_scenarios/clean/scenario_038.parquet\n",
      "Procesando scenario_106.parquet\n"
     ]
    },
    {
     "name": "stderr",
     "output_type": "stream",
     "text": [
      "/var/folders/dp/1z2xwn7516q1b4n5t3nlr0500000gn/T/ipykernel_3467/924166058.py:78: FutureWarning: The behavior of DataFrame concatenation with empty or all-NA entries is deprecated. In a future version, this will no longer exclude empty or all-NA columns when determining the result dtypes. To retain the old behavior, exclude the relevant entries before the concat operation.\n",
      "  df_new = pd.concat([df_new, pd.DataFrame([msg_zero_speed, msg_holding])], ignore_index=True)\n"
     ]
    },
    {
     "name": "stdout",
     "output_type": "stream",
     "text": [
      "Se añadieron dos mensajes sintéticos para el avión 4cae90 en el escenario scenario_106.parquet\n",
      "Guardado en ../../data/final_scenarios/clean/scenario_106.parquet\n",
      "Procesando scenario_116.parquet\n"
     ]
    },
    {
     "name": "stderr",
     "output_type": "stream",
     "text": [
      "/var/folders/dp/1z2xwn7516q1b4n5t3nlr0500000gn/T/ipykernel_3467/924166058.py:78: FutureWarning: The behavior of DataFrame concatenation with empty or all-NA entries is deprecated. In a future version, this will no longer exclude empty or all-NA columns when determining the result dtypes. To retain the old behavior, exclude the relevant entries before the concat operation.\n",
      "  df_new = pd.concat([df_new, pd.DataFrame([msg_zero_speed, msg_holding])], ignore_index=True)\n"
     ]
    },
    {
     "name": "stdout",
     "output_type": "stream",
     "text": [
      "Se añadieron dos mensajes sintéticos para el avión 346204 en el escenario scenario_116.parquet\n",
      "Guardado en ../../data/final_scenarios/clean/scenario_116.parquet\n",
      "Procesando scenario_164.parquet\n"
     ]
    },
    {
     "name": "stderr",
     "output_type": "stream",
     "text": [
      "/var/folders/dp/1z2xwn7516q1b4n5t3nlr0500000gn/T/ipykernel_3467/924166058.py:78: FutureWarning: The behavior of DataFrame concatenation with empty or all-NA entries is deprecated. In a future version, this will no longer exclude empty or all-NA columns when determining the result dtypes. To retain the old behavior, exclude the relevant entries before the concat operation.\n",
      "  df_new = pd.concat([df_new, pd.DataFrame([msg_zero_speed, msg_holding])], ignore_index=True)\n"
     ]
    },
    {
     "name": "stdout",
     "output_type": "stream",
     "text": [
      "Se añadieron dos mensajes sintéticos para el avión 0d09ec en el escenario scenario_164.parquet\n",
      "Guardado en ../../data/final_scenarios/clean/scenario_164.parquet\n",
      "Procesando scenario_174.parquet\n"
     ]
    },
    {
     "name": "stderr",
     "output_type": "stream",
     "text": [
      "/var/folders/dp/1z2xwn7516q1b4n5t3nlr0500000gn/T/ipykernel_3467/924166058.py:78: FutureWarning: The behavior of DataFrame concatenation with empty or all-NA entries is deprecated. In a future version, this will no longer exclude empty or all-NA columns when determining the result dtypes. To retain the old behavior, exclude the relevant entries before the concat operation.\n",
      "  df_new = pd.concat([df_new, pd.DataFrame([msg_zero_speed, msg_holding])], ignore_index=True)\n"
     ]
    },
    {
     "name": "stdout",
     "output_type": "stream",
     "text": [
      "Se añadieron dos mensajes sintéticos para el avión 020176 en el escenario scenario_174.parquet\n",
      "Guardado en ../../data/final_scenarios/clean/scenario_174.parquet\n",
      "Procesando scenario_139.parquet\n"
     ]
    },
    {
     "name": "stderr",
     "output_type": "stream",
     "text": [
      "/var/folders/dp/1z2xwn7516q1b4n5t3nlr0500000gn/T/ipykernel_3467/924166058.py:78: FutureWarning: The behavior of DataFrame concatenation with empty or all-NA entries is deprecated. In a future version, this will no longer exclude empty or all-NA columns when determining the result dtypes. To retain the old behavior, exclude the relevant entries before the concat operation.\n",
      "  df_new = pd.concat([df_new, pd.DataFrame([msg_zero_speed, msg_holding])], ignore_index=True)\n",
      "/var/folders/dp/1z2xwn7516q1b4n5t3nlr0500000gn/T/ipykernel_3467/924166058.py:78: FutureWarning: The behavior of DataFrame concatenation with empty or all-NA entries is deprecated. In a future version, this will no longer exclude empty or all-NA columns when determining the result dtypes. To retain the old behavior, exclude the relevant entries before the concat operation.\n",
      "  df_new = pd.concat([df_new, pd.DataFrame([msg_zero_speed, msg_holding])], ignore_index=True)\n"
     ]
    },
    {
     "name": "stdout",
     "output_type": "stream",
     "text": [
      "Se añadieron dos mensajes sintéticos para el avión 34644c en el escenario scenario_139.parquet\n",
      "Guardado en ../../data/final_scenarios/clean/scenario_139.parquet\n",
      "Procesando scenario_041.parquet\n",
      "Se añadieron dos mensajes sintéticos para el avión 3415cf en el escenario scenario_041.parquet\n",
      "Guardado en ../../data/final_scenarios/clean/scenario_041.parquet\n",
      "Procesando scenario_129.parquet\n"
     ]
    },
    {
     "name": "stderr",
     "output_type": "stream",
     "text": [
      "/var/folders/dp/1z2xwn7516q1b4n5t3nlr0500000gn/T/ipykernel_3467/924166058.py:78: FutureWarning: The behavior of DataFrame concatenation with empty or all-NA entries is deprecated. In a future version, this will no longer exclude empty or all-NA columns when determining the result dtypes. To retain the old behavior, exclude the relevant entries before the concat operation.\n",
      "  df_new = pd.concat([df_new, pd.DataFrame([msg_zero_speed, msg_holding])], ignore_index=True)\n"
     ]
    },
    {
     "name": "stdout",
     "output_type": "stream",
     "text": [
      "Se añadieron dos mensajes sintéticos para el avión 34224e en el escenario scenario_129.parquet\n",
      "Guardado en ../../data/final_scenarios/clean/scenario_129.parquet\n",
      "Procesando scenario_051.parquet\n"
     ]
    },
    {
     "name": "stderr",
     "output_type": "stream",
     "text": [
      "/var/folders/dp/1z2xwn7516q1b4n5t3nlr0500000gn/T/ipykernel_3467/924166058.py:78: FutureWarning: The behavior of DataFrame concatenation with empty or all-NA entries is deprecated. In a future version, this will no longer exclude empty or all-NA columns when determining the result dtypes. To retain the old behavior, exclude the relevant entries before the concat operation.\n",
      "  df_new = pd.concat([df_new, pd.DataFrame([msg_zero_speed, msg_holding])], ignore_index=True)\n",
      "/var/folders/dp/1z2xwn7516q1b4n5t3nlr0500000gn/T/ipykernel_3467/924166058.py:78: FutureWarning: The behavior of DataFrame concatenation with empty or all-NA entries is deprecated. In a future version, this will no longer exclude empty or all-NA columns when determining the result dtypes. To retain the old behavior, exclude the relevant entries before the concat operation.\n",
      "  df_new = pd.concat([df_new, pd.DataFrame([msg_zero_speed, msg_holding])], ignore_index=True)\n"
     ]
    },
    {
     "name": "stdout",
     "output_type": "stream",
     "text": [
      "Se añadieron dos mensajes sintéticos para el avión 346083 en el escenario scenario_051.parquet\n",
      "Guardado en ../../data/final_scenarios/clean/scenario_051.parquet\n",
      "Procesando scenario_180.parquet\n",
      "Se añadieron dos mensajes sintéticos para el avión 344487 en el escenario scenario_180.parquet\n",
      "Guardado en ../../data/final_scenarios/clean/scenario_180.parquet\n",
      "Procesando scenario_190.parquet\n"
     ]
    },
    {
     "name": "stderr",
     "output_type": "stream",
     "text": [
      "/var/folders/dp/1z2xwn7516q1b4n5t3nlr0500000gn/T/ipykernel_3467/924166058.py:78: FutureWarning: The behavior of DataFrame concatenation with empty or all-NA entries is deprecated. In a future version, this will no longer exclude empty or all-NA columns when determining the result dtypes. To retain the old behavior, exclude the relevant entries before the concat operation.\n",
      "  df_new = pd.concat([df_new, pd.DataFrame([msg_zero_speed, msg_holding])], ignore_index=True)\n",
      "/var/folders/dp/1z2xwn7516q1b4n5t3nlr0500000gn/T/ipykernel_3467/924166058.py:78: FutureWarning: The behavior of DataFrame concatenation with empty or all-NA entries is deprecated. In a future version, this will no longer exclude empty or all-NA columns when determining the result dtypes. To retain the old behavior, exclude the relevant entries before the concat operation.\n",
      "  df_new = pd.concat([df_new, pd.DataFrame([msg_zero_speed, msg_holding])], ignore_index=True)\n"
     ]
    },
    {
     "name": "stdout",
     "output_type": "stream",
     "text": [
      "Se añadieron dos mensajes sintéticos para el avión 4d251c en el escenario scenario_190.parquet\n",
      "Guardado en ../../data/final_scenarios/clean/scenario_190.parquet\n",
      "Procesando scenario_023.parquet\n",
      "Se añadieron dos mensajes sintéticos para el avión 0a0018 en el escenario scenario_023.parquet\n",
      "Guardado en ../../data/final_scenarios/clean/scenario_023.parquet\n",
      "Procesando scenario_033.parquet\n"
     ]
    },
    {
     "name": "stderr",
     "output_type": "stream",
     "text": [
      "/var/folders/dp/1z2xwn7516q1b4n5t3nlr0500000gn/T/ipykernel_3467/924166058.py:78: FutureWarning: The behavior of DataFrame concatenation with empty or all-NA entries is deprecated. In a future version, this will no longer exclude empty or all-NA columns when determining the result dtypes. To retain the old behavior, exclude the relevant entries before the concat operation.\n",
      "  df_new = pd.concat([df_new, pd.DataFrame([msg_zero_speed, msg_holding])], ignore_index=True)\n"
     ]
    },
    {
     "name": "stdout",
     "output_type": "stream",
     "text": [
      "Se añadieron dos mensajes sintéticos para el avión 346303 en el escenario scenario_033.parquet\n",
      "Guardado en ../../data/final_scenarios/clean/scenario_033.parquet\n",
      "Procesando scenario_005.parquet\n"
     ]
    },
    {
     "name": "stderr",
     "output_type": "stream",
     "text": [
      "/var/folders/dp/1z2xwn7516q1b4n5t3nlr0500000gn/T/ipykernel_3467/924166058.py:78: FutureWarning: The behavior of DataFrame concatenation with empty or all-NA entries is deprecated. In a future version, this will no longer exclude empty or all-NA columns when determining the result dtypes. To retain the old behavior, exclude the relevant entries before the concat operation.\n",
      "  df_new = pd.concat([df_new, pd.DataFrame([msg_zero_speed, msg_holding])], ignore_index=True)\n"
     ]
    },
    {
     "name": "stdout",
     "output_type": "stream",
     "text": [
      "Se añadieron dos mensajes sintéticos para el avión 344416 en el escenario scenario_005.parquet\n",
      "Guardado en ../../data/final_scenarios/clean/scenario_005.parquet\n",
      "Procesando scenario_015.parquet\n"
     ]
    },
    {
     "name": "stderr",
     "output_type": "stream",
     "text": [
      "/var/folders/dp/1z2xwn7516q1b4n5t3nlr0500000gn/T/ipykernel_3467/924166058.py:78: FutureWarning: The behavior of DataFrame concatenation with empty or all-NA entries is deprecated. In a future version, this will no longer exclude empty or all-NA columns when determining the result dtypes. To retain the old behavior, exclude the relevant entries before the concat operation.\n",
      "  df_new = pd.concat([df_new, pd.DataFrame([msg_zero_speed, msg_holding])], ignore_index=True)\n"
     ]
    },
    {
     "name": "stdout",
     "output_type": "stream",
     "text": [
      "Se añadieron dos mensajes sintéticos para el avión 4ca770 en el escenario scenario_015.parquet\n",
      "Guardado en ../../data/final_scenarios/clean/scenario_015.parquet\n",
      "Procesando scenario_067.parquet\n"
     ]
    },
    {
     "name": "stderr",
     "output_type": "stream",
     "text": [
      "/var/folders/dp/1z2xwn7516q1b4n5t3nlr0500000gn/T/ipykernel_3467/924166058.py:78: FutureWarning: The behavior of DataFrame concatenation with empty or all-NA entries is deprecated. In a future version, this will no longer exclude empty or all-NA columns when determining the result dtypes. To retain the old behavior, exclude the relevant entries before the concat operation.\n",
      "  df_new = pd.concat([df_new, pd.DataFrame([msg_zero_speed, msg_holding])], ignore_index=True)\n"
     ]
    },
    {
     "name": "stdout",
     "output_type": "stream",
     "text": [
      "Se añadieron dos mensajes sintéticos para el avión 347645 en el escenario scenario_067.parquet\n",
      "Guardado en ../../data/final_scenarios/clean/scenario_067.parquet\n",
      "Procesando scenario_077.parquet\n"
     ]
    },
    {
     "name": "stderr",
     "output_type": "stream",
     "text": [
      "/var/folders/dp/1z2xwn7516q1b4n5t3nlr0500000gn/T/ipykernel_3467/924166058.py:78: FutureWarning: The behavior of DataFrame concatenation with empty or all-NA entries is deprecated. In a future version, this will no longer exclude empty or all-NA columns when determining the result dtypes. To retain the old behavior, exclude the relevant entries before the concat operation.\n",
      "  df_new = pd.concat([df_new, pd.DataFrame([msg_zero_speed, msg_holding])], ignore_index=True)\n"
     ]
    },
    {
     "name": "stdout",
     "output_type": "stream",
     "text": [
      "Se añadieron dos mensajes sintéticos para el avión 4cadbc en el escenario scenario_077.parquet\n",
      "Guardado en ../../data/final_scenarios/clean/scenario_077.parquet\n",
      "Procesando scenario_083.parquet\n"
     ]
    },
    {
     "name": "stderr",
     "output_type": "stream",
     "text": [
      "/var/folders/dp/1z2xwn7516q1b4n5t3nlr0500000gn/T/ipykernel_3467/924166058.py:78: FutureWarning: The behavior of DataFrame concatenation with empty or all-NA entries is deprecated. In a future version, this will no longer exclude empty or all-NA columns when determining the result dtypes. To retain the old behavior, exclude the relevant entries before the concat operation.\n",
      "  df_new = pd.concat([df_new, pd.DataFrame([msg_zero_speed, msg_holding])], ignore_index=True)\n"
     ]
    },
    {
     "name": "stdout",
     "output_type": "stream",
     "text": [
      "Se añadieron dos mensajes sintéticos para el avión 34604c en el escenario scenario_083.parquet\n",
      "Guardado en ../../data/final_scenarios/clean/scenario_083.parquet\n",
      "Procesando scenario_093.parquet\n"
     ]
    },
    {
     "name": "stderr",
     "output_type": "stream",
     "text": [
      "/var/folders/dp/1z2xwn7516q1b4n5t3nlr0500000gn/T/ipykernel_3467/924166058.py:78: FutureWarning: The behavior of DataFrame concatenation with empty or all-NA entries is deprecated. In a future version, this will no longer exclude empty or all-NA columns when determining the result dtypes. To retain the old behavior, exclude the relevant entries before the concat operation.\n",
      "  df_new = pd.concat([df_new, pd.DataFrame([msg_zero_speed, msg_holding])], ignore_index=True)\n",
      "/var/folders/dp/1z2xwn7516q1b4n5t3nlr0500000gn/T/ipykernel_3467/924166058.py:78: FutureWarning: The behavior of DataFrame concatenation with empty or all-NA entries is deprecated. In a future version, this will no longer exclude empty or all-NA columns when determining the result dtypes. To retain the old behavior, exclude the relevant entries before the concat operation.\n",
      "  df_new = pd.concat([df_new, pd.DataFrame([msg_zero_speed, msg_holding])], ignore_index=True)\n",
      "/var/folders/dp/1z2xwn7516q1b4n5t3nlr0500000gn/T/ipykernel_3467/924166058.py:78: FutureWarning: The behavior of DataFrame concatenation with empty or all-NA entries is deprecated. In a future version, this will no longer exclude empty or all-NA columns when determining the result dtypes. To retain the old behavior, exclude the relevant entries before the concat operation.\n",
      "  df_new = pd.concat([df_new, pd.DataFrame([msg_zero_speed, msg_holding])], ignore_index=True)\n"
     ]
    },
    {
     "name": "stdout",
     "output_type": "stream",
     "text": [
      "Se añadieron dos mensajes sintéticos para el avión 347219 en el escenario scenario_093.parquet\n",
      "Guardado en ../../data/final_scenarios/clean/scenario_093.parquet\n",
      "Procesando scenario_142.parquet\n",
      "Se añadieron dos mensajes sintéticos para el avión 345251 en el escenario scenario_142.parquet\n",
      "Guardado en ../../data/final_scenarios/clean/scenario_142.parquet\n",
      "Procesando scenario_152.parquet\n",
      "Se añadieron dos mensajes sintéticos para el avión 342091 en el escenario scenario_152.parquet\n",
      "Guardado en ../../data/final_scenarios/clean/scenario_152.parquet\n",
      "Procesando scenario_120.parquet\n"
     ]
    },
    {
     "name": "stderr",
     "output_type": "stream",
     "text": [
      "/var/folders/dp/1z2xwn7516q1b4n5t3nlr0500000gn/T/ipykernel_3467/924166058.py:78: FutureWarning: The behavior of DataFrame concatenation with empty or all-NA entries is deprecated. In a future version, this will no longer exclude empty or all-NA columns when determining the result dtypes. To retain the old behavior, exclude the relevant entries before the concat operation.\n",
      "  df_new = pd.concat([df_new, pd.DataFrame([msg_zero_speed, msg_holding])], ignore_index=True)\n"
     ]
    },
    {
     "name": "stdout",
     "output_type": "stream",
     "text": [
      "Se añadieron dos mensajes sintéticos para el avión 345685 en el escenario scenario_120.parquet\n",
      "Guardado en ../../data/final_scenarios/clean/scenario_120.parquet\n",
      "Procesando scenario_058.parquet\n"
     ]
    },
    {
     "name": "stderr",
     "output_type": "stream",
     "text": [
      "/var/folders/dp/1z2xwn7516q1b4n5t3nlr0500000gn/T/ipykernel_3467/924166058.py:78: FutureWarning: The behavior of DataFrame concatenation with empty or all-NA entries is deprecated. In a future version, this will no longer exclude empty or all-NA columns when determining the result dtypes. To retain the old behavior, exclude the relevant entries before the concat operation.\n",
      "  df_new = pd.concat([df_new, pd.DataFrame([msg_zero_speed, msg_holding])], ignore_index=True)\n",
      "/var/folders/dp/1z2xwn7516q1b4n5t3nlr0500000gn/T/ipykernel_3467/924166058.py:78: FutureWarning: The behavior of DataFrame concatenation with empty or all-NA entries is deprecated. In a future version, this will no longer exclude empty or all-NA columns when determining the result dtypes. To retain the old behavior, exclude the relevant entries before the concat operation.\n",
      "  df_new = pd.concat([df_new, pd.DataFrame([msg_zero_speed, msg_holding])], ignore_index=True)\n",
      "/var/folders/dp/1z2xwn7516q1b4n5t3nlr0500000gn/T/ipykernel_3467/924166058.py:78: FutureWarning: The behavior of DataFrame concatenation with empty or all-NA entries is deprecated. In a future version, this will no longer exclude empty or all-NA columns when determining the result dtypes. To retain the old behavior, exclude the relevant entries before the concat operation.\n",
      "  df_new = pd.concat([df_new, pd.DataFrame([msg_zero_speed, msg_holding])], ignore_index=True)\n"
     ]
    },
    {
     "name": "stdout",
     "output_type": "stream",
     "text": [
      "Se añadieron dos mensajes sintéticos para el avión 4d2422 en el escenario scenario_058.parquet\n",
      "Guardado en ../../data/final_scenarios/clean/scenario_058.parquet\n",
      "Procesando scenario_130.parquet\n",
      "Se añadieron dos mensajes sintéticos para el avión 4d2223 en el escenario scenario_130.parquet\n",
      "Guardado en ../../data/final_scenarios/clean/scenario_130.parquet\n",
      "Procesando scenario_048.parquet\n",
      "Se añadieron dos mensajes sintéticos para el avión 4d02c7 en el escenario scenario_048.parquet\n",
      "Guardado en ../../data/final_scenarios/clean/scenario_048.parquet\n",
      "Procesando scenario_189.parquet\n"
     ]
    },
    {
     "name": "stderr",
     "output_type": "stream",
     "text": [
      "/var/folders/dp/1z2xwn7516q1b4n5t3nlr0500000gn/T/ipykernel_3467/924166058.py:78: FutureWarning: The behavior of DataFrame concatenation with empty or all-NA entries is deprecated. In a future version, this will no longer exclude empty or all-NA columns when determining the result dtypes. To retain the old behavior, exclude the relevant entries before the concat operation.\n",
      "  df_new = pd.concat([df_new, pd.DataFrame([msg_zero_speed, msg_holding])], ignore_index=True)\n"
     ]
    },
    {
     "name": "stdout",
     "output_type": "stream",
     "text": [
      "Se añadieron dos mensajes sintéticos para el avión 3445d4 en el escenario scenario_189.parquet\n",
      "Guardado en ../../data/final_scenarios/clean/scenario_189.parquet\n",
      "Procesando scenario_014.parquet\n"
     ]
    },
    {
     "name": "stderr",
     "output_type": "stream",
     "text": [
      "/var/folders/dp/1z2xwn7516q1b4n5t3nlr0500000gn/T/ipykernel_3467/924166058.py:78: FutureWarning: The behavior of DataFrame concatenation with empty or all-NA entries is deprecated. In a future version, this will no longer exclude empty or all-NA columns when determining the result dtypes. To retain the old behavior, exclude the relevant entries before the concat operation.\n",
      "  df_new = pd.concat([df_new, pd.DataFrame([msg_zero_speed, msg_holding])], ignore_index=True)\n"
     ]
    },
    {
     "name": "stdout",
     "output_type": "stream",
     "text": [
      "Se añadieron dos mensajes sintéticos para el avión 344498 en el escenario scenario_014.parquet\n",
      "Guardado en ../../data/final_scenarios/clean/scenario_014.parquet\n",
      "Procesando scenario_004.parquet\n"
     ]
    },
    {
     "name": "stderr",
     "output_type": "stream",
     "text": [
      "/var/folders/dp/1z2xwn7516q1b4n5t3nlr0500000gn/T/ipykernel_3467/924166058.py:78: FutureWarning: The behavior of DataFrame concatenation with empty or all-NA entries is deprecated. In a future version, this will no longer exclude empty or all-NA columns when determining the result dtypes. To retain the old behavior, exclude the relevant entries before the concat operation.\n",
      "  df_new = pd.concat([df_new, pd.DataFrame([msg_zero_speed, msg_holding])], ignore_index=True)\n",
      "/var/folders/dp/1z2xwn7516q1b4n5t3nlr0500000gn/T/ipykernel_3467/924166058.py:78: FutureWarning: The behavior of DataFrame concatenation with empty or all-NA entries is deprecated. In a future version, this will no longer exclude empty or all-NA columns when determining the result dtypes. To retain the old behavior, exclude the relevant entries before the concat operation.\n",
      "  df_new = pd.concat([df_new, pd.DataFrame([msg_zero_speed, msg_holding])], ignore_index=True)\n"
     ]
    },
    {
     "name": "stdout",
     "output_type": "stream",
     "text": [
      "Se añadieron dos mensajes sintéticos para el avión 3420ca en el escenario scenario_004.parquet\n",
      "Guardado en ../../data/final_scenarios/clean/scenario_004.parquet\n",
      "Procesando scenario_076.parquet\n",
      "Se añadieron dos mensajes sintéticos para el avión 344485 en el escenario scenario_076.parquet\n",
      "Guardado en ../../data/final_scenarios/clean/scenario_076.parquet\n",
      "Procesando scenario_066.parquet\n"
     ]
    },
    {
     "name": "stderr",
     "output_type": "stream",
     "text": [
      "/var/folders/dp/1z2xwn7516q1b4n5t3nlr0500000gn/T/ipykernel_3467/924166058.py:78: FutureWarning: The behavior of DataFrame concatenation with empty or all-NA entries is deprecated. In a future version, this will no longer exclude empty or all-NA columns when determining the result dtypes. To retain the old behavior, exclude the relevant entries before the concat operation.\n",
      "  df_new = pd.concat([df_new, pd.DataFrame([msg_zero_speed, msg_holding])], ignore_index=True)\n"
     ]
    },
    {
     "name": "stdout",
     "output_type": "stream",
     "text": [
      "Se añadieron dos mensajes sintéticos para el avión 34510a en el escenario scenario_066.parquet\n",
      "Guardado en ../../data/final_scenarios/clean/scenario_066.parquet\n",
      "Procesando scenario_153.parquet\n"
     ]
    },
    {
     "name": "stderr",
     "output_type": "stream",
     "text": [
      "/var/folders/dp/1z2xwn7516q1b4n5t3nlr0500000gn/T/ipykernel_3467/924166058.py:78: FutureWarning: The behavior of DataFrame concatenation with empty or all-NA entries is deprecated. In a future version, this will no longer exclude empty or all-NA columns when determining the result dtypes. To retain the old behavior, exclude the relevant entries before the concat operation.\n",
      "  df_new = pd.concat([df_new, pd.DataFrame([msg_zero_speed, msg_holding])], ignore_index=True)\n"
     ]
    },
    {
     "name": "stdout",
     "output_type": "stream",
     "text": [
      "Se añadieron dos mensajes sintéticos para el avión 4cadfc en el escenario scenario_153.parquet\n",
      "Guardado en ../../data/final_scenarios/clean/scenario_153.parquet\n",
      "Procesando scenario_143.parquet\n"
     ]
    },
    {
     "name": "stderr",
     "output_type": "stream",
     "text": [
      "/var/folders/dp/1z2xwn7516q1b4n5t3nlr0500000gn/T/ipykernel_3467/924166058.py:78: FutureWarning: The behavior of DataFrame concatenation with empty or all-NA entries is deprecated. In a future version, this will no longer exclude empty or all-NA columns when determining the result dtypes. To retain the old behavior, exclude the relevant entries before the concat operation.\n",
      "  df_new = pd.concat([df_new, pd.DataFrame([msg_zero_speed, msg_holding])], ignore_index=True)\n",
      "/var/folders/dp/1z2xwn7516q1b4n5t3nlr0500000gn/T/ipykernel_3467/924166058.py:78: FutureWarning: The behavior of DataFrame concatenation with empty or all-NA entries is deprecated. In a future version, this will no longer exclude empty or all-NA columns when determining the result dtypes. To retain the old behavior, exclude the relevant entries before the concat operation.\n",
      "  df_new = pd.concat([df_new, pd.DataFrame([msg_zero_speed, msg_holding])], ignore_index=True)\n"
     ]
    },
    {
     "name": "stdout",
     "output_type": "stream",
     "text": [
      "Se añadieron dos mensajes sintéticos para el avión 39bdae en el escenario scenario_143.parquet\n",
      "Guardado en ../../data/final_scenarios/clean/scenario_143.parquet\n",
      "Procesando scenario_092.parquet\n",
      "Se añadieron dos mensajes sintéticos para el avión 3462c9 en el escenario scenario_092.parquet\n",
      "Guardado en ../../data/final_scenarios/clean/scenario_092.parquet\n",
      "Procesando scenario_082.parquet\n"
     ]
    },
    {
     "name": "stderr",
     "output_type": "stream",
     "text": [
      "/var/folders/dp/1z2xwn7516q1b4n5t3nlr0500000gn/T/ipykernel_3467/924166058.py:78: FutureWarning: The behavior of DataFrame concatenation with empty or all-NA entries is deprecated. In a future version, this will no longer exclude empty or all-NA columns when determining the result dtypes. To retain the old behavior, exclude the relevant entries before the concat operation.\n",
      "  df_new = pd.concat([df_new, pd.DataFrame([msg_zero_speed, msg_holding])], ignore_index=True)\n"
     ]
    },
    {
     "name": "stdout",
     "output_type": "stream",
     "text": [
      "Se añadieron dos mensajes sintéticos para el avión 4d2273 en el escenario scenario_082.parquet\n",
      "Guardado en ../../data/final_scenarios/clean/scenario_082.parquet\n",
      "Procesando scenario_188.parquet\n"
     ]
    },
    {
     "name": "stderr",
     "output_type": "stream",
     "text": [
      "/var/folders/dp/1z2xwn7516q1b4n5t3nlr0500000gn/T/ipykernel_3467/924166058.py:78: FutureWarning: The behavior of DataFrame concatenation with empty or all-NA entries is deprecated. In a future version, this will no longer exclude empty or all-NA columns when determining the result dtypes. To retain the old behavior, exclude the relevant entries before the concat operation.\n",
      "  df_new = pd.concat([df_new, pd.DataFrame([msg_zero_speed, msg_holding])], ignore_index=True)\n",
      "/var/folders/dp/1z2xwn7516q1b4n5t3nlr0500000gn/T/ipykernel_3467/924166058.py:78: FutureWarning: The behavior of DataFrame concatenation with empty or all-NA entries is deprecated. In a future version, this will no longer exclude empty or all-NA columns when determining the result dtypes. To retain the old behavior, exclude the relevant entries before the concat operation.\n",
      "  df_new = pd.concat([df_new, pd.DataFrame([msg_zero_speed, msg_holding])], ignore_index=True)\n"
     ]
    },
    {
     "name": "stdout",
     "output_type": "stream",
     "text": [
      "Se añadieron dos mensajes sintéticos para el avión 346083 en el escenario scenario_188.parquet\n",
      "Guardado en ../../data/final_scenarios/clean/scenario_188.parquet\n",
      "Procesando scenario_049.parquet\n",
      "Se añadieron dos mensajes sintéticos para el avión 7811a2 en el escenario scenario_049.parquet\n",
      "Guardado en ../../data/final_scenarios/clean/scenario_049.parquet\n",
      "Procesando scenario_131.parquet\n"
     ]
    },
    {
     "name": "stderr",
     "output_type": "stream",
     "text": [
      "/var/folders/dp/1z2xwn7516q1b4n5t3nlr0500000gn/T/ipykernel_3467/924166058.py:78: FutureWarning: The behavior of DataFrame concatenation with empty or all-NA entries is deprecated. In a future version, this will no longer exclude empty or all-NA columns when determining the result dtypes. To retain the old behavior, exclude the relevant entries before the concat operation.\n",
      "  df_new = pd.concat([df_new, pd.DataFrame([msg_zero_speed, msg_holding])], ignore_index=True)\n"
     ]
    },
    {
     "name": "stdout",
     "output_type": "stream",
     "text": [
      "Se añadieron dos mensajes sintéticos para el avión 347454 en el escenario scenario_131.parquet\n",
      "Guardado en ../../data/final_scenarios/clean/scenario_131.parquet\n",
      "Procesando scenario_059.parquet\n"
     ]
    },
    {
     "name": "stderr",
     "output_type": "stream",
     "text": [
      "/var/folders/dp/1z2xwn7516q1b4n5t3nlr0500000gn/T/ipykernel_3467/924166058.py:78: FutureWarning: The behavior of DataFrame concatenation with empty or all-NA entries is deprecated. In a future version, this will no longer exclude empty or all-NA columns when determining the result dtypes. To retain the old behavior, exclude the relevant entries before the concat operation.\n",
      "  df_new = pd.concat([df_new, pd.DataFrame([msg_zero_speed, msg_holding])], ignore_index=True)\n",
      "/var/folders/dp/1z2xwn7516q1b4n5t3nlr0500000gn/T/ipykernel_3467/924166058.py:78: FutureWarning: The behavior of DataFrame concatenation with empty or all-NA entries is deprecated. In a future version, this will no longer exclude empty or all-NA columns when determining the result dtypes. To retain the old behavior, exclude the relevant entries before the concat operation.\n",
      "  df_new = pd.concat([df_new, pd.DataFrame([msg_zero_speed, msg_holding])], ignore_index=True)\n"
     ]
    },
    {
     "name": "stdout",
     "output_type": "stream",
     "text": [
      "Se añadieron dos mensajes sintéticos para el avión 345543 en el escenario scenario_059.parquet\n",
      "Guardado en ../../data/final_scenarios/clean/scenario_059.parquet\n",
      "Procesando scenario_121.parquet\n",
      "Se añadieron dos mensajes sintéticos para el avión a14bdd en el escenario scenario_121.parquet\n",
      "Guardado en ../../data/final_scenarios/clean/scenario_121.parquet\n",
      "Procesando scenario_117.parquet\n"
     ]
    },
    {
     "name": "stderr",
     "output_type": "stream",
     "text": [
      "/var/folders/dp/1z2xwn7516q1b4n5t3nlr0500000gn/T/ipykernel_3467/924166058.py:78: FutureWarning: The behavior of DataFrame concatenation with empty or all-NA entries is deprecated. In a future version, this will no longer exclude empty or all-NA columns when determining the result dtypes. To retain the old behavior, exclude the relevant entries before the concat operation.\n",
      "  df_new = pd.concat([df_new, pd.DataFrame([msg_zero_speed, msg_holding])], ignore_index=True)\n"
     ]
    },
    {
     "name": "stdout",
     "output_type": "stream",
     "text": [
      "Se añadieron dos mensajes sintéticos para el avión 4cae49 en el escenario scenario_117.parquet\n",
      "Guardado en ../../data/final_scenarios/clean/scenario_117.parquet\n",
      "Procesando scenario_107.parquet\n"
     ]
    },
    {
     "name": "stderr",
     "output_type": "stream",
     "text": [
      "/var/folders/dp/1z2xwn7516q1b4n5t3nlr0500000gn/T/ipykernel_3467/924166058.py:78: FutureWarning: The behavior of DataFrame concatenation with empty or all-NA entries is deprecated. In a future version, this will no longer exclude empty or all-NA columns when determining the result dtypes. To retain the old behavior, exclude the relevant entries before the concat operation.\n",
      "  df_new = pd.concat([df_new, pd.DataFrame([msg_zero_speed, msg_holding])], ignore_index=True)\n"
     ]
    },
    {
     "name": "stdout",
     "output_type": "stream",
     "text": [
      "Se añadieron dos mensajes sintéticos para el avión 34324f en el escenario scenario_107.parquet\n",
      "Guardado en ../../data/final_scenarios/clean/scenario_107.parquet\n",
      "Procesando scenario_175.parquet\n"
     ]
    },
    {
     "name": "stderr",
     "output_type": "stream",
     "text": [
      "/var/folders/dp/1z2xwn7516q1b4n5t3nlr0500000gn/T/ipykernel_3467/924166058.py:78: FutureWarning: The behavior of DataFrame concatenation with empty or all-NA entries is deprecated. In a future version, this will no longer exclude empty or all-NA columns when determining the result dtypes. To retain the old behavior, exclude the relevant entries before the concat operation.\n",
      "  df_new = pd.concat([df_new, pd.DataFrame([msg_zero_speed, msg_holding])], ignore_index=True)\n"
     ]
    },
    {
     "name": "stdout",
     "output_type": "stream",
     "text": [
      "Se añadieron dos mensajes sintéticos para el avión 34604c en el escenario scenario_175.parquet\n",
      "Guardado en ../../data/final_scenarios/clean/scenario_175.parquet\n",
      "Procesando scenario_165.parquet\n"
     ]
    },
    {
     "name": "stderr",
     "output_type": "stream",
     "text": [
      "/var/folders/dp/1z2xwn7516q1b4n5t3nlr0500000gn/T/ipykernel_3467/924166058.py:78: FutureWarning: The behavior of DataFrame concatenation with empty or all-NA entries is deprecated. In a future version, this will no longer exclude empty or all-NA columns when determining the result dtypes. To retain the old behavior, exclude the relevant entries before the concat operation.\n",
      "  df_new = pd.concat([df_new, pd.DataFrame([msg_zero_speed, msg_holding])], ignore_index=True)\n",
      "/var/folders/dp/1z2xwn7516q1b4n5t3nlr0500000gn/T/ipykernel_3467/924166058.py:78: FutureWarning: The behavior of DataFrame concatenation with empty or all-NA entries is deprecated. In a future version, this will no longer exclude empty or all-NA columns when determining the result dtypes. To retain the old behavior, exclude the relevant entries before the concat operation.\n",
      "  df_new = pd.concat([df_new, pd.DataFrame([msg_zero_speed, msg_holding])], ignore_index=True)\n"
     ]
    },
    {
     "name": "stdout",
     "output_type": "stream",
     "text": [
      "Se añadieron dos mensajes sintéticos para el avión 896535 en el escenario scenario_165.parquet\n",
      "Guardado en ../../data/final_scenarios/clean/scenario_165.parquet\n",
      "Procesando scenario_191.parquet\n",
      "Se añadieron dos mensajes sintéticos para el avión 34628d en el escenario scenario_191.parquet\n",
      "Guardado en ../../data/final_scenarios/clean/scenario_191.parquet\n",
      "Procesando scenario_181.parquet\n"
     ]
    },
    {
     "name": "stderr",
     "output_type": "stream",
     "text": [
      "/var/folders/dp/1z2xwn7516q1b4n5t3nlr0500000gn/T/ipykernel_3467/924166058.py:78: FutureWarning: The behavior of DataFrame concatenation with empty or all-NA entries is deprecated. In a future version, this will no longer exclude empty or all-NA columns when determining the result dtypes. To retain the old behavior, exclude the relevant entries before the concat operation.\n",
      "  df_new = pd.concat([df_new, pd.DataFrame([msg_zero_speed, msg_holding])], ignore_index=True)\n"
     ]
    },
    {
     "name": "stdout",
     "output_type": "stream",
     "text": [
      "Se añadieron dos mensajes sintéticos para el avión 344459 en el escenario scenario_181.parquet\n",
      "Guardado en ../../data/final_scenarios/clean/scenario_181.parquet\n",
      "Procesando scenario_050.parquet\n"
     ]
    },
    {
     "name": "stderr",
     "output_type": "stream",
     "text": [
      "/var/folders/dp/1z2xwn7516q1b4n5t3nlr0500000gn/T/ipykernel_3467/924166058.py:78: FutureWarning: The behavior of DataFrame concatenation with empty or all-NA entries is deprecated. In a future version, this will no longer exclude empty or all-NA columns when determining the result dtypes. To retain the old behavior, exclude the relevant entries before the concat operation.\n",
      "  df_new = pd.concat([df_new, pd.DataFrame([msg_zero_speed, msg_holding])], ignore_index=True)\n",
      "/var/folders/dp/1z2xwn7516q1b4n5t3nlr0500000gn/T/ipykernel_3467/924166058.py:78: FutureWarning: The behavior of DataFrame concatenation with empty or all-NA entries is deprecated. In a future version, this will no longer exclude empty or all-NA columns when determining the result dtypes. To retain the old behavior, exclude the relevant entries before the concat operation.\n",
      "  df_new = pd.concat([df_new, pd.DataFrame([msg_zero_speed, msg_holding])], ignore_index=True)\n"
     ]
    },
    {
     "name": "stdout",
     "output_type": "stream",
     "text": [
      "Se añadieron dos mensajes sintéticos para el avión 347588 en el escenario scenario_050.parquet\n",
      "Guardado en ../../data/final_scenarios/clean/scenario_050.parquet\n",
      "Procesando scenario_128.parquet\n",
      "Se añadieron dos mensajes sintéticos para el avión 34448d en el escenario scenario_128.parquet\n",
      "Guardado en ../../data/final_scenarios/clean/scenario_128.parquet\n",
      "Procesando scenario_040.parquet\n"
     ]
    },
    {
     "name": "stderr",
     "output_type": "stream",
     "text": [
      "/var/folders/dp/1z2xwn7516q1b4n5t3nlr0500000gn/T/ipykernel_3467/924166058.py:78: FutureWarning: The behavior of DataFrame concatenation with empty or all-NA entries is deprecated. In a future version, this will no longer exclude empty or all-NA columns when determining the result dtypes. To retain the old behavior, exclude the relevant entries before the concat operation.\n",
      "  df_new = pd.concat([df_new, pd.DataFrame([msg_zero_speed, msg_holding])], ignore_index=True)\n",
      "/var/folders/dp/1z2xwn7516q1b4n5t3nlr0500000gn/T/ipykernel_3467/924166058.py:78: FutureWarning: The behavior of DataFrame concatenation with empty or all-NA entries is deprecated. In a future version, this will no longer exclude empty or all-NA columns when determining the result dtypes. To retain the old behavior, exclude the relevant entries before the concat operation.\n",
      "  df_new = pd.concat([df_new, pd.DataFrame([msg_zero_speed, msg_holding])], ignore_index=True)\n"
     ]
    },
    {
     "name": "stdout",
     "output_type": "stream",
     "text": [
      "Se añadieron dos mensajes sintéticos para el avión 347488 en el escenario scenario_040.parquet\n",
      "Guardado en ../../data/final_scenarios/clean/scenario_040.parquet\n",
      "Procesando scenario_138.parquet\n",
      "Se añadieron dos mensajes sintéticos para el avión 0a0018 en el escenario scenario_138.parquet\n",
      "Guardado en ../../data/final_scenarios/clean/scenario_138.parquet\n",
      "Procesando scenario_032.parquet\n",
      "Se añadieron dos mensajes sintéticos para el avión 3453c1 en el escenario scenario_032.parquet\n"
     ]
    },
    {
     "name": "stderr",
     "output_type": "stream",
     "text": [
      "/var/folders/dp/1z2xwn7516q1b4n5t3nlr0500000gn/T/ipykernel_3467/924166058.py:78: FutureWarning: The behavior of DataFrame concatenation with empty or all-NA entries is deprecated. In a future version, this will no longer exclude empty or all-NA columns when determining the result dtypes. To retain the old behavior, exclude the relevant entries before the concat operation.\n",
      "  df_new = pd.concat([df_new, pd.DataFrame([msg_zero_speed, msg_holding])], ignore_index=True)\n",
      "/var/folders/dp/1z2xwn7516q1b4n5t3nlr0500000gn/T/ipykernel_3467/924166058.py:78: FutureWarning: The behavior of DataFrame concatenation with empty or all-NA entries is deprecated. In a future version, this will no longer exclude empty or all-NA columns when determining the result dtypes. To retain the old behavior, exclude the relevant entries before the concat operation.\n",
      "  df_new = pd.concat([df_new, pd.DataFrame([msg_zero_speed, msg_holding])], ignore_index=True)\n"
     ]
    },
    {
     "name": "stdout",
     "output_type": "stream",
     "text": [
      "Guardado en ../../data/final_scenarios/clean/scenario_032.parquet\n",
      "Procesando scenario_022.parquet\n",
      "Se añadieron dos mensajes sintéticos para el avión 4cae56 en el escenario scenario_022.parquet\n",
      "Guardado en ../../data/final_scenarios/clean/scenario_022.parquet\n",
      "Procesando scenario_184.parquet\n"
     ]
    },
    {
     "name": "stderr",
     "output_type": "stream",
     "text": [
      "/var/folders/dp/1z2xwn7516q1b4n5t3nlr0500000gn/T/ipykernel_3467/924166058.py:78: FutureWarning: The behavior of DataFrame concatenation with empty or all-NA entries is deprecated. In a future version, this will no longer exclude empty or all-NA columns when determining the result dtypes. To retain the old behavior, exclude the relevant entries before the concat operation.\n",
      "  df_new = pd.concat([df_new, pd.DataFrame([msg_zero_speed, msg_holding])], ignore_index=True)\n",
      "/var/folders/dp/1z2xwn7516q1b4n5t3nlr0500000gn/T/ipykernel_3467/924166058.py:78: FutureWarning: The behavior of DataFrame concatenation with empty or all-NA entries is deprecated. In a future version, this will no longer exclude empty or all-NA columns when determining the result dtypes. To retain the old behavior, exclude the relevant entries before the concat operation.\n",
      "  df_new = pd.concat([df_new, pd.DataFrame([msg_zero_speed, msg_holding])], ignore_index=True)\n"
     ]
    },
    {
     "name": "stdout",
     "output_type": "stream",
     "text": [
      "Se añadieron dos mensajes sintéticos para el avión 3423c4 en el escenario scenario_184.parquet\n",
      "Guardado en ../../data/final_scenarios/clean/scenario_184.parquet\n",
      "Procesando scenario_045.parquet\n",
      "Se añadieron dos mensajes sintéticos para el avión 34530c en el escenario scenario_045.parquet\n",
      "Guardado en ../../data/final_scenarios/clean/scenario_045.parquet\n",
      "Procesando scenario_055.parquet\n",
      "Se añadieron dos mensajes sintéticos para el avión e80474 en el escenario scenario_055.parquet\n"
     ]
    },
    {
     "name": "stderr",
     "output_type": "stream",
     "text": [
      "/var/folders/dp/1z2xwn7516q1b4n5t3nlr0500000gn/T/ipykernel_3467/924166058.py:78: FutureWarning: The behavior of DataFrame concatenation with empty or all-NA entries is deprecated. In a future version, this will no longer exclude empty or all-NA columns when determining the result dtypes. To retain the old behavior, exclude the relevant entries before the concat operation.\n",
      "  df_new = pd.concat([df_new, pd.DataFrame([msg_zero_speed, msg_holding])], ignore_index=True)\n"
     ]
    },
    {
     "name": "stdout",
     "output_type": "stream",
     "text": [
      "Guardado en ../../data/final_scenarios/clean/scenario_055.parquet\n",
      "Procesando scenario_027.parquet\n"
     ]
    },
    {
     "name": "stderr",
     "output_type": "stream",
     "text": [
      "/var/folders/dp/1z2xwn7516q1b4n5t3nlr0500000gn/T/ipykernel_3467/924166058.py:78: FutureWarning: The behavior of DataFrame concatenation with empty or all-NA entries is deprecated. In a future version, this will no longer exclude empty or all-NA columns when determining the result dtypes. To retain the old behavior, exclude the relevant entries before the concat operation.\n",
      "  df_new = pd.concat([df_new, pd.DataFrame([msg_zero_speed, msg_holding])], ignore_index=True)\n"
     ]
    },
    {
     "name": "stdout",
     "output_type": "stream",
     "text": [
      "Se añadieron dos mensajes sintéticos para el avión 34529a en el escenario scenario_027.parquet\n",
      "Guardado en ../../data/final_scenarios/clean/scenario_027.parquet\n",
      "Procesando scenario_037.parquet\n"
     ]
    },
    {
     "name": "stderr",
     "output_type": "stream",
     "text": [
      "/var/folders/dp/1z2xwn7516q1b4n5t3nlr0500000gn/T/ipykernel_3467/924166058.py:78: FutureWarning: The behavior of DataFrame concatenation with empty or all-NA entries is deprecated. In a future version, this will no longer exclude empty or all-NA columns when determining the result dtypes. To retain the old behavior, exclude the relevant entries before the concat operation.\n",
      "  df_new = pd.concat([df_new, pd.DataFrame([msg_zero_speed, msg_holding])], ignore_index=True)\n"
     ]
    },
    {
     "name": "stdout",
     "output_type": "stream",
     "text": [
      "Se añadieron dos mensajes sintéticos para el avión 44cdc8 en el escenario scenario_037.parquet\n",
      "Guardado en ../../data/final_scenarios/clean/scenario_037.parquet\n",
      "Procesando scenario_102.parquet\n",
      "Se añadieron dos mensajes sintéticos para el avión 4ca56d en el escenario scenario_102.parquet\n"
     ]
    },
    {
     "name": "stderr",
     "output_type": "stream",
     "text": [
      "/var/folders/dp/1z2xwn7516q1b4n5t3nlr0500000gn/T/ipykernel_3467/924166058.py:78: FutureWarning: The behavior of DataFrame concatenation with empty or all-NA entries is deprecated. In a future version, this will no longer exclude empty or all-NA columns when determining the result dtypes. To retain the old behavior, exclude the relevant entries before the concat operation.\n",
      "  df_new = pd.concat([df_new, pd.DataFrame([msg_zero_speed, msg_holding])], ignore_index=True)\n"
     ]
    },
    {
     "name": "stdout",
     "output_type": "stream",
     "text": [
      "Guardado en ../../data/final_scenarios/clean/scenario_102.parquet\n",
      "Procesando scenario_112.parquet\n"
     ]
    },
    {
     "name": "stderr",
     "output_type": "stream",
     "text": [
      "/var/folders/dp/1z2xwn7516q1b4n5t3nlr0500000gn/T/ipykernel_3467/924166058.py:78: FutureWarning: The behavior of DataFrame concatenation with empty or all-NA entries is deprecated. In a future version, this will no longer exclude empty or all-NA columns when determining the result dtypes. To retain the old behavior, exclude the relevant entries before the concat operation.\n",
      "  df_new = pd.concat([df_new, pd.DataFrame([msg_zero_speed, msg_holding])], ignore_index=True)\n",
      "/var/folders/dp/1z2xwn7516q1b4n5t3nlr0500000gn/T/ipykernel_3467/924166058.py:78: FutureWarning: The behavior of DataFrame concatenation with empty or all-NA entries is deprecated. In a future version, this will no longer exclude empty or all-NA columns when determining the result dtypes. To retain the old behavior, exclude the relevant entries before the concat operation.\n",
      "  df_new = pd.concat([df_new, pd.DataFrame([msg_zero_speed, msg_holding])], ignore_index=True)\n"
     ]
    },
    {
     "name": "stdout",
     "output_type": "stream",
     "text": [
      "Se añadieron dos mensajes sintéticos para el avión 3415cf en el escenario scenario_112.parquet\n",
      "Guardado en ../../data/final_scenarios/clean/scenario_112.parquet\n",
      "Procesando scenario_018.parquet\n",
      "Se añadieron dos mensajes sintéticos para el avión 34740f en el escenario scenario_018.parquet\n",
      "Guardado en ../../data/final_scenarios/clean/scenario_018.parquet\n",
      "Procesando scenario_160.parquet\n"
     ]
    },
    {
     "name": "stderr",
     "output_type": "stream",
     "text": [
      "/var/folders/dp/1z2xwn7516q1b4n5t3nlr0500000gn/T/ipykernel_3467/924166058.py:78: FutureWarning: The behavior of DataFrame concatenation with empty or all-NA entries is deprecated. In a future version, this will no longer exclude empty or all-NA columns when determining the result dtypes. To retain the old behavior, exclude the relevant entries before the concat operation.\n",
      "  df_new = pd.concat([df_new, pd.DataFrame([msg_zero_speed, msg_holding])], ignore_index=True)\n"
     ]
    },
    {
     "name": "stdout",
     "output_type": "stream",
     "text": [
      "Se añadieron dos mensajes sintéticos para el avión 3445d4 en el escenario scenario_160.parquet\n",
      "Guardado en ../../data/final_scenarios/clean/scenario_160.parquet\n",
      "Procesando scenario_008.parquet\n"
     ]
    },
    {
     "name": "stderr",
     "output_type": "stream",
     "text": [
      "/var/folders/dp/1z2xwn7516q1b4n5t3nlr0500000gn/T/ipykernel_3467/924166058.py:78: FutureWarning: The behavior of DataFrame concatenation with empty or all-NA entries is deprecated. In a future version, this will no longer exclude empty or all-NA columns when determining the result dtypes. To retain the old behavior, exclude the relevant entries before the concat operation.\n",
      "  df_new = pd.concat([df_new, pd.DataFrame([msg_zero_speed, msg_holding])], ignore_index=True)\n"
     ]
    },
    {
     "name": "stdout",
     "output_type": "stream",
     "text": [
      "Se añadieron dos mensajes sintéticos para el avión 347588 en el escenario scenario_008.parquet\n",
      "Guardado en ../../data/final_scenarios/clean/scenario_008.parquet\n",
      "Procesando scenario_170.parquet\n"
     ]
    },
    {
     "name": "stderr",
     "output_type": "stream",
     "text": [
      "/var/folders/dp/1z2xwn7516q1b4n5t3nlr0500000gn/T/ipykernel_3467/924166058.py:78: FutureWarning: The behavior of DataFrame concatenation with empty or all-NA entries is deprecated. In a future version, this will no longer exclude empty or all-NA columns when determining the result dtypes. To retain the old behavior, exclude the relevant entries before the concat operation.\n",
      "  df_new = pd.concat([df_new, pd.DataFrame([msg_zero_speed, msg_holding])], ignore_index=True)\n"
     ]
    },
    {
     "name": "stdout",
     "output_type": "stream",
     "text": [
      "Se añadieron dos mensajes sintéticos para el avión 342188 en el escenario scenario_170.parquet\n",
      "Guardado en ../../data/final_scenarios/clean/scenario_170.parquet\n",
      "Procesando scenario_146.parquet\n"
     ]
    },
    {
     "name": "stderr",
     "output_type": "stream",
     "text": [
      "/var/folders/dp/1z2xwn7516q1b4n5t3nlr0500000gn/T/ipykernel_3467/924166058.py:78: FutureWarning: The behavior of DataFrame concatenation with empty or all-NA entries is deprecated. In a future version, this will no longer exclude empty or all-NA columns when determining the result dtypes. To retain the old behavior, exclude the relevant entries before the concat operation.\n",
      "  df_new = pd.concat([df_new, pd.DataFrame([msg_zero_speed, msg_holding])], ignore_index=True)\n"
     ]
    },
    {
     "name": "stdout",
     "output_type": "stream",
     "text": [
      "Se añadieron dos mensajes sintéticos para el avión 34260e en el escenario scenario_146.parquet\n",
      "Guardado en ../../data/final_scenarios/clean/scenario_146.parquet\n",
      "Procesando scenario_156.parquet\n"
     ]
    },
    {
     "name": "stderr",
     "output_type": "stream",
     "text": [
      "/var/folders/dp/1z2xwn7516q1b4n5t3nlr0500000gn/T/ipykernel_3467/924166058.py:78: FutureWarning: The behavior of DataFrame concatenation with empty or all-NA entries is deprecated. In a future version, this will no longer exclude empty or all-NA columns when determining the result dtypes. To retain the old behavior, exclude the relevant entries before the concat operation.\n",
      "  df_new = pd.concat([df_new, pd.DataFrame([msg_zero_speed, msg_holding])], ignore_index=True)\n",
      "/var/folders/dp/1z2xwn7516q1b4n5t3nlr0500000gn/T/ipykernel_3467/924166058.py:78: FutureWarning: The behavior of DataFrame concatenation with empty or all-NA entries is deprecated. In a future version, this will no longer exclude empty or all-NA columns when determining the result dtypes. To retain the old behavior, exclude the relevant entries before the concat operation.\n",
      "  df_new = pd.concat([df_new, pd.DataFrame([msg_zero_speed, msg_holding])], ignore_index=True)\n"
     ]
    },
    {
     "name": "stdout",
     "output_type": "stream",
     "text": [
      "Se añadieron dos mensajes sintéticos para el avión c0583f en el escenario scenario_156.parquet\n",
      "Guardado en ../../data/final_scenarios/clean/scenario_156.parquet\n",
      "Procesando scenario_087.parquet\n",
      "Se añadieron dos mensajes sintéticos para el avión 3461cb en el escenario scenario_087.parquet\n",
      "Guardado en ../../data/final_scenarios/clean/scenario_087.parquet\n",
      "Procesando scenario_097.parquet\n"
     ]
    },
    {
     "name": "stderr",
     "output_type": "stream",
     "text": [
      "/var/folders/dp/1z2xwn7516q1b4n5t3nlr0500000gn/T/ipykernel_3467/924166058.py:78: FutureWarning: The behavior of DataFrame concatenation with empty or all-NA entries is deprecated. In a future version, this will no longer exclude empty or all-NA columns when determining the result dtypes. To retain the old behavior, exclude the relevant entries before the concat operation.\n",
      "  df_new = pd.concat([df_new, pd.DataFrame([msg_zero_speed, msg_holding])], ignore_index=True)\n"
     ]
    },
    {
     "name": "stdout",
     "output_type": "stream",
     "text": [
      "Se añadieron dos mensajes sintéticos para el avión 347219 en el escenario scenario_097.parquet\n",
      "Guardado en ../../data/final_scenarios/clean/scenario_097.parquet\n",
      "Procesando scenario_124.parquet\n"
     ]
    },
    {
     "name": "stderr",
     "output_type": "stream",
     "text": [
      "/var/folders/dp/1z2xwn7516q1b4n5t3nlr0500000gn/T/ipykernel_3467/924166058.py:78: FutureWarning: The behavior of DataFrame concatenation with empty or all-NA entries is deprecated. In a future version, this will no longer exclude empty or all-NA columns when determining the result dtypes. To retain the old behavior, exclude the relevant entries before the concat operation.\n",
      "  df_new = pd.concat([df_new, pd.DataFrame([msg_zero_speed, msg_holding])], ignore_index=True)\n"
     ]
    },
    {
     "name": "stdout",
     "output_type": "stream",
     "text": [
      "Se añadieron dos mensajes sintéticos para el avión 0d0bba en el escenario scenario_124.parquet\n",
      "Guardado en ../../data/final_scenarios/clean/scenario_124.parquet\n",
      "Procesando scenario_134.parquet\n"
     ]
    },
    {
     "name": "stderr",
     "output_type": "stream",
     "text": [
      "/var/folders/dp/1z2xwn7516q1b4n5t3nlr0500000gn/T/ipykernel_3467/924166058.py:78: FutureWarning: The behavior of DataFrame concatenation with empty or all-NA entries is deprecated. In a future version, this will no longer exclude empty or all-NA columns when determining the result dtypes. To retain the old behavior, exclude the relevant entries before the concat operation.\n",
      "  df_new = pd.concat([df_new, pd.DataFrame([msg_zero_speed, msg_holding])], ignore_index=True)\n"
     ]
    },
    {
     "name": "stdout",
     "output_type": "stream",
     "text": [
      "Se añadieron dos mensajes sintéticos para el avión aac6f5 en el escenario scenario_134.parquet\n",
      "Guardado en ../../data/final_scenarios/clean/scenario_134.parquet\n",
      "Procesando scenario_001.parquet\n"
     ]
    },
    {
     "name": "stderr",
     "output_type": "stream",
     "text": [
      "/var/folders/dp/1z2xwn7516q1b4n5t3nlr0500000gn/T/ipykernel_3467/924166058.py:78: FutureWarning: The behavior of DataFrame concatenation with empty or all-NA entries is deprecated. In a future version, this will no longer exclude empty or all-NA columns when determining the result dtypes. To retain the old behavior, exclude the relevant entries before the concat operation.\n",
      "  df_new = pd.concat([df_new, pd.DataFrame([msg_zero_speed, msg_holding])], ignore_index=True)\n"
     ]
    },
    {
     "name": "stdout",
     "output_type": "stream",
     "text": [
      "Se añadieron dos mensajes sintéticos para el avión 34324e en el escenario scenario_001.parquet\n",
      "Guardado en ../../data/final_scenarios/clean/scenario_001.parquet\n",
      "Procesando scenario_179.parquet\n"
     ]
    },
    {
     "name": "stderr",
     "output_type": "stream",
     "text": [
      "/var/folders/dp/1z2xwn7516q1b4n5t3nlr0500000gn/T/ipykernel_3467/924166058.py:78: FutureWarning: The behavior of DataFrame concatenation with empty or all-NA entries is deprecated. In a future version, this will no longer exclude empty or all-NA columns when determining the result dtypes. To retain the old behavior, exclude the relevant entries before the concat operation.\n",
      "  df_new = pd.concat([df_new, pd.DataFrame([msg_zero_speed, msg_holding])], ignore_index=True)\n"
     ]
    },
    {
     "name": "stdout",
     "output_type": "stream",
     "text": [
      "Se añadieron dos mensajes sintéticos para el avión 347312 en el escenario scenario_179.parquet\n",
      "Guardado en ../../data/final_scenarios/clean/scenario_179.parquet\n",
      "Procesando scenario_011.parquet\n"
     ]
    },
    {
     "name": "stderr",
     "output_type": "stream",
     "text": [
      "/var/folders/dp/1z2xwn7516q1b4n5t3nlr0500000gn/T/ipykernel_3467/924166058.py:78: FutureWarning: The behavior of DataFrame concatenation with empty or all-NA entries is deprecated. In a future version, this will no longer exclude empty or all-NA columns when determining the result dtypes. To retain the old behavior, exclude the relevant entries before the concat operation.\n",
      "  df_new = pd.concat([df_new, pd.DataFrame([msg_zero_speed, msg_holding])], ignore_index=True)\n"
     ]
    },
    {
     "name": "stdout",
     "output_type": "stream",
     "text": [
      "Se añadieron dos mensajes sintéticos para el avión 346458 en el escenario scenario_011.parquet\n",
      "Guardado en ../../data/final_scenarios/clean/scenario_011.parquet\n",
      "Procesando scenario_169.parquet\n"
     ]
    },
    {
     "name": "stderr",
     "output_type": "stream",
     "text": [
      "/var/folders/dp/1z2xwn7516q1b4n5t3nlr0500000gn/T/ipykernel_3467/924166058.py:78: FutureWarning: The behavior of DataFrame concatenation with empty or all-NA entries is deprecated. In a future version, this will no longer exclude empty or all-NA columns when determining the result dtypes. To retain the old behavior, exclude the relevant entries before the concat operation.\n",
      "  df_new = pd.concat([df_new, pd.DataFrame([msg_zero_speed, msg_holding])], ignore_index=True)\n"
     ]
    },
    {
     "name": "stdout",
     "output_type": "stream",
     "text": [
      "Se añadieron dos mensajes sintéticos para el avión 34260e en el escenario scenario_169.parquet\n",
      "Guardado en ../../data/final_scenarios/clean/scenario_169.parquet\n",
      "Procesando scenario_063.parquet\n"
     ]
    },
    {
     "name": "stderr",
     "output_type": "stream",
     "text": [
      "/var/folders/dp/1z2xwn7516q1b4n5t3nlr0500000gn/T/ipykernel_3467/924166058.py:78: FutureWarning: The behavior of DataFrame concatenation with empty or all-NA entries is deprecated. In a future version, this will no longer exclude empty or all-NA columns when determining the result dtypes. To retain the old behavior, exclude the relevant entries before the concat operation.\n",
      "  df_new = pd.concat([df_new, pd.DataFrame([msg_zero_speed, msg_holding])], ignore_index=True)\n"
     ]
    },
    {
     "name": "stdout",
     "output_type": "stream",
     "text": [
      "Se añadieron dos mensajes sintéticos para el avión 34444b en el escenario scenario_063.parquet\n",
      "Guardado en ../../data/final_scenarios/clean/scenario_063.parquet\n",
      "Procesando scenario_073.parquet\n"
     ]
    },
    {
     "name": "stderr",
     "output_type": "stream",
     "text": [
      "/var/folders/dp/1z2xwn7516q1b4n5t3nlr0500000gn/T/ipykernel_3467/924166058.py:78: FutureWarning: The behavior of DataFrame concatenation with empty or all-NA entries is deprecated. In a future version, this will no longer exclude empty or all-NA columns when determining the result dtypes. To retain the old behavior, exclude the relevant entries before the concat operation.\n",
      "  df_new = pd.concat([df_new, pd.DataFrame([msg_zero_speed, msg_holding])], ignore_index=True)\n",
      "/var/folders/dp/1z2xwn7516q1b4n5t3nlr0500000gn/T/ipykernel_3467/924166058.py:78: FutureWarning: The behavior of DataFrame concatenation with empty or all-NA entries is deprecated. In a future version, this will no longer exclude empty or all-NA columns when determining the result dtypes. To retain the old behavior, exclude the relevant entries before the concat operation.\n",
      "  df_new = pd.concat([df_new, pd.DataFrame([msg_zero_speed, msg_holding])], ignore_index=True)\n"
     ]
    },
    {
     "name": "stdout",
     "output_type": "stream",
     "text": [
      "Se añadieron dos mensajes sintéticos para el avión 3451cd en el escenario scenario_073.parquet\n",
      "Guardado en ../../data/final_scenarios/clean/scenario_073.parquet\n",
      "Procesando scenario_096.parquet\n",
      "Se añadieron dos mensajes sintéticos para el avión 3444c3 en el escenario scenario_096.parquet\n",
      "Guardado en ../../data/final_scenarios/clean/scenario_096.parquet\n",
      "Procesando scenario_086.parquet\n"
     ]
    },
    {
     "name": "stderr",
     "output_type": "stream",
     "text": [
      "/var/folders/dp/1z2xwn7516q1b4n5t3nlr0500000gn/T/ipykernel_3467/924166058.py:78: FutureWarning: The behavior of DataFrame concatenation with empty or all-NA entries is deprecated. In a future version, this will no longer exclude empty or all-NA columns when determining the result dtypes. To retain the old behavior, exclude the relevant entries before the concat operation.\n",
      "  df_new = pd.concat([df_new, pd.DataFrame([msg_zero_speed, msg_holding])], ignore_index=True)\n",
      "/var/folders/dp/1z2xwn7516q1b4n5t3nlr0500000gn/T/ipykernel_3467/924166058.py:78: FutureWarning: The behavior of DataFrame concatenation with empty or all-NA entries is deprecated. In a future version, this will no longer exclude empty or all-NA columns when determining the result dtypes. To retain the old behavior, exclude the relevant entries before the concat operation.\n",
      "  df_new = pd.concat([df_new, pd.DataFrame([msg_zero_speed, msg_holding])], ignore_index=True)\n"
     ]
    },
    {
     "name": "stdout",
     "output_type": "stream",
     "text": [
      "Se añadieron dos mensajes sintéticos para el avión 3c6641 en el escenario scenario_086.parquet\n",
      "Guardado en ../../data/final_scenarios/clean/scenario_086.parquet\n",
      "Procesando scenario_157.parquet\n",
      "Se añadieron dos mensajes sintéticos para el avión 4cae97 en el escenario scenario_157.parquet\n",
      "Guardado en ../../data/final_scenarios/clean/scenario_157.parquet\n",
      "Procesando scenario_147.parquet\n"
     ]
    },
    {
     "name": "stderr",
     "output_type": "stream",
     "text": [
      "/var/folders/dp/1z2xwn7516q1b4n5t3nlr0500000gn/T/ipykernel_3467/924166058.py:78: FutureWarning: The behavior of DataFrame concatenation with empty or all-NA entries is deprecated. In a future version, this will no longer exclude empty or all-NA columns when determining the result dtypes. To retain the old behavior, exclude the relevant entries before the concat operation.\n",
      "  df_new = pd.concat([df_new, pd.DataFrame([msg_zero_speed, msg_holding])], ignore_index=True)\n"
     ]
    },
    {
     "name": "stdout",
     "output_type": "stream",
     "text": [
      "Se añadieron dos mensajes sintéticos para el avión aa2ca9 en el escenario scenario_147.parquet\n",
      "Guardado en ../../data/final_scenarios/clean/scenario_147.parquet\n",
      "Procesando scenario_135.parquet\n"
     ]
    },
    {
     "name": "stderr",
     "output_type": "stream",
     "text": [
      "/var/folders/dp/1z2xwn7516q1b4n5t3nlr0500000gn/T/ipykernel_3467/924166058.py:78: FutureWarning: The behavior of DataFrame concatenation with empty or all-NA entries is deprecated. In a future version, this will no longer exclude empty or all-NA columns when determining the result dtypes. To retain the old behavior, exclude the relevant entries before the concat operation.\n",
      "  df_new = pd.concat([df_new, pd.DataFrame([msg_zero_speed, msg_holding])], ignore_index=True)\n"
     ]
    },
    {
     "name": "stdout",
     "output_type": "stream",
     "text": [
      "Se añadieron dos mensajes sintéticos para el avión 3420cc en el escenario scenario_135.parquet\n",
      "Guardado en ../../data/final_scenarios/clean/scenario_135.parquet\n",
      "Procesando scenario_125.parquet\n"
     ]
    },
    {
     "name": "stderr",
     "output_type": "stream",
     "text": [
      "/var/folders/dp/1z2xwn7516q1b4n5t3nlr0500000gn/T/ipykernel_3467/924166058.py:78: FutureWarning: The behavior of DataFrame concatenation with empty or all-NA entries is deprecated. In a future version, this will no longer exclude empty or all-NA columns when determining the result dtypes. To retain the old behavior, exclude the relevant entries before the concat operation.\n",
      "  df_new = pd.concat([df_new, pd.DataFrame([msg_zero_speed, msg_holding])], ignore_index=True)\n"
     ]
    },
    {
     "name": "stdout",
     "output_type": "stream",
     "text": [
      "Se añadieron dos mensajes sintéticos para el avión 342189 en el escenario scenario_125.parquet\n",
      "Guardado en ../../data/final_scenarios/clean/scenario_125.parquet\n",
      "Procesando scenario_168.parquet\n"
     ]
    },
    {
     "name": "stderr",
     "output_type": "stream",
     "text": [
      "/var/folders/dp/1z2xwn7516q1b4n5t3nlr0500000gn/T/ipykernel_3467/924166058.py:78: FutureWarning: The behavior of DataFrame concatenation with empty or all-NA entries is deprecated. In a future version, this will no longer exclude empty or all-NA columns when determining the result dtypes. To retain the old behavior, exclude the relevant entries before the concat operation.\n",
      "  df_new = pd.concat([df_new, pd.DataFrame([msg_zero_speed, msg_holding])], ignore_index=True)\n"
     ]
    },
    {
     "name": "stdout",
     "output_type": "stream",
     "text": [
      "Se añadieron dos mensajes sintéticos para el avión 342107 en el escenario scenario_168.parquet\n",
      "Guardado en ../../data/final_scenarios/clean/scenario_168.parquet\n",
      "Procesando scenario_010.parquet\n"
     ]
    },
    {
     "name": "stderr",
     "output_type": "stream",
     "text": [
      "/var/folders/dp/1z2xwn7516q1b4n5t3nlr0500000gn/T/ipykernel_3467/924166058.py:78: FutureWarning: The behavior of DataFrame concatenation with empty or all-NA entries is deprecated. In a future version, this will no longer exclude empty or all-NA columns when determining the result dtypes. To retain the old behavior, exclude the relevant entries before the concat operation.\n",
      "  df_new = pd.concat([df_new, pd.DataFrame([msg_zero_speed, msg_holding])], ignore_index=True)\n"
     ]
    },
    {
     "name": "stdout",
     "output_type": "stream",
     "text": [
      "Se añadieron dos mensajes sintéticos para el avión 344297 en el escenario scenario_010.parquet\n",
      "Guardado en ../../data/final_scenarios/clean/scenario_010.parquet\n",
      "Procesando scenario_178.parquet\n",
      "Se añadieron dos mensajes sintéticos para el avión 4cadbd en el escenario scenario_178.parquet\n"
     ]
    },
    {
     "name": "stderr",
     "output_type": "stream",
     "text": [
      "/var/folders/dp/1z2xwn7516q1b4n5t3nlr0500000gn/T/ipykernel_3467/924166058.py:78: FutureWarning: The behavior of DataFrame concatenation with empty or all-NA entries is deprecated. In a future version, this will no longer exclude empty or all-NA columns when determining the result dtypes. To retain the old behavior, exclude the relevant entries before the concat operation.\n",
      "  df_new = pd.concat([df_new, pd.DataFrame([msg_zero_speed, msg_holding])], ignore_index=True)\n"
     ]
    },
    {
     "name": "stdout",
     "output_type": "stream",
     "text": [
      "Guardado en ../../data/final_scenarios/clean/scenario_178.parquet\n",
      "Procesando scenario_072.parquet\n",
      "Se añadieron dos mensajes sintéticos para el avión 4b161f en el escenario scenario_072.parquet\n"
     ]
    },
    {
     "name": "stderr",
     "output_type": "stream",
     "text": [
      "/var/folders/dp/1z2xwn7516q1b4n5t3nlr0500000gn/T/ipykernel_3467/924166058.py:78: FutureWarning: The behavior of DataFrame concatenation with empty or all-NA entries is deprecated. In a future version, this will no longer exclude empty or all-NA columns when determining the result dtypes. To retain the old behavior, exclude the relevant entries before the concat operation.\n",
      "  df_new = pd.concat([df_new, pd.DataFrame([msg_zero_speed, msg_holding])], ignore_index=True)\n"
     ]
    },
    {
     "name": "stdout",
     "output_type": "stream",
     "text": [
      "Guardado en ../../data/final_scenarios/clean/scenario_072.parquet\n",
      "Procesando scenario_062.parquet\n"
     ]
    },
    {
     "name": "stderr",
     "output_type": "stream",
     "text": [
      "/var/folders/dp/1z2xwn7516q1b4n5t3nlr0500000gn/T/ipykernel_3467/924166058.py:78: FutureWarning: The behavior of DataFrame concatenation with empty or all-NA entries is deprecated. In a future version, this will no longer exclude empty or all-NA columns when determining the result dtypes. To retain the old behavior, exclude the relevant entries before the concat operation.\n",
      "  df_new = pd.concat([df_new, pd.DataFrame([msg_zero_speed, msg_holding])], ignore_index=True)\n"
     ]
    },
    {
     "name": "stdout",
     "output_type": "stream",
     "text": [
      "Se añadieron dos mensajes sintéticos para el avión 34520e en el escenario scenario_062.parquet\n",
      "Guardado en ../../data/final_scenarios/clean/scenario_062.parquet\n",
      "Procesando scenario_054.parquet\n"
     ]
    },
    {
     "name": "stderr",
     "output_type": "stream",
     "text": [
      "/var/folders/dp/1z2xwn7516q1b4n5t3nlr0500000gn/T/ipykernel_3467/924166058.py:78: FutureWarning: The behavior of DataFrame concatenation with empty or all-NA entries is deprecated. In a future version, this will no longer exclude empty or all-NA columns when determining the result dtypes. To retain the old behavior, exclude the relevant entries before the concat operation.\n",
      "  df_new = pd.concat([df_new, pd.DataFrame([msg_zero_speed, msg_holding])], ignore_index=True)\n"
     ]
    },
    {
     "name": "stdout",
     "output_type": "stream",
     "text": [
      "Se añadieron dos mensajes sintéticos para el avión 345319 en el escenario scenario_054.parquet\n",
      "Guardado en ../../data/final_scenarios/clean/scenario_054.parquet\n",
      "Procesando scenario_044.parquet\n"
     ]
    },
    {
     "name": "stderr",
     "output_type": "stream",
     "text": [
      "/var/folders/dp/1z2xwn7516q1b4n5t3nlr0500000gn/T/ipykernel_3467/924166058.py:78: FutureWarning: The behavior of DataFrame concatenation with empty or all-NA entries is deprecated. In a future version, this will no longer exclude empty or all-NA columns when determining the result dtypes. To retain the old behavior, exclude the relevant entries before the concat operation.\n",
      "  df_new = pd.concat([df_new, pd.DataFrame([msg_zero_speed, msg_holding])], ignore_index=True)\n",
      "/var/folders/dp/1z2xwn7516q1b4n5t3nlr0500000gn/T/ipykernel_3467/924166058.py:78: FutureWarning: The behavior of DataFrame concatenation with empty or all-NA entries is deprecated. In a future version, this will no longer exclude empty or all-NA columns when determining the result dtypes. To retain the old behavior, exclude the relevant entries before the concat operation.\n",
      "  df_new = pd.concat([df_new, pd.DataFrame([msg_zero_speed, msg_holding])], ignore_index=True)\n"
     ]
    },
    {
     "name": "stdout",
     "output_type": "stream",
     "text": [
      "Se añadieron dos mensajes sintéticos para el avión 345543 en el escenario scenario_044.parquet\n",
      "Guardado en ../../data/final_scenarios/clean/scenario_044.parquet\n",
      "Procesando scenario_185.parquet\n",
      "Se añadieron dos mensajes sintéticos para el avión 3475c7 en el escenario scenario_185.parquet\n",
      "Guardado en ../../data/final_scenarios/clean/scenario_185.parquet\n",
      "Procesando scenario_036.parquet\n"
     ]
    },
    {
     "name": "stderr",
     "output_type": "stream",
     "text": [
      "/var/folders/dp/1z2xwn7516q1b4n5t3nlr0500000gn/T/ipykernel_3467/924166058.py:78: FutureWarning: The behavior of DataFrame concatenation with empty or all-NA entries is deprecated. In a future version, this will no longer exclude empty or all-NA columns when determining the result dtypes. To retain the old behavior, exclude the relevant entries before the concat operation.\n",
      "  df_new = pd.concat([df_new, pd.DataFrame([msg_zero_speed, msg_holding])], ignore_index=True)\n"
     ]
    },
    {
     "name": "stdout",
     "output_type": "stream",
     "text": [
      "Se añadieron dos mensajes sintéticos para el avión 3465c5 en el escenario scenario_036.parquet\n",
      "Guardado en ../../data/final_scenarios/clean/scenario_036.parquet\n",
      "Procesando scenario_026.parquet\n",
      "Se añadieron dos mensajes sintéticos para el avión 346303 en el escenario scenario_026.parquet\n"
     ]
    },
    {
     "name": "stderr",
     "output_type": "stream",
     "text": [
      "/var/folders/dp/1z2xwn7516q1b4n5t3nlr0500000gn/T/ipykernel_3467/924166058.py:78: FutureWarning: The behavior of DataFrame concatenation with empty or all-NA entries is deprecated. In a future version, this will no longer exclude empty or all-NA columns when determining the result dtypes. To retain the old behavior, exclude the relevant entries before the concat operation.\n",
      "  df_new = pd.concat([df_new, pd.DataFrame([msg_zero_speed, msg_holding])], ignore_index=True)\n"
     ]
    },
    {
     "name": "stdout",
     "output_type": "stream",
     "text": [
      "Guardado en ../../data/final_scenarios/clean/scenario_026.parquet\n",
      "Procesando scenario_113.parquet\n"
     ]
    },
    {
     "name": "stderr",
     "output_type": "stream",
     "text": [
      "/var/folders/dp/1z2xwn7516q1b4n5t3nlr0500000gn/T/ipykernel_3467/924166058.py:78: FutureWarning: The behavior of DataFrame concatenation with empty or all-NA entries is deprecated. In a future version, this will no longer exclude empty or all-NA columns when determining the result dtypes. To retain the old behavior, exclude the relevant entries before the concat operation.\n",
      "  df_new = pd.concat([df_new, pd.DataFrame([msg_zero_speed, msg_holding])], ignore_index=True)\n"
     ]
    },
    {
     "name": "stdout",
     "output_type": "stream",
     "text": [
      "Se añadieron dos mensajes sintéticos para el avión 345687 en el escenario scenario_113.parquet\n",
      "Guardado en ../../data/final_scenarios/clean/scenario_113.parquet\n",
      "Procesando scenario_103.parquet\n"
     ]
    },
    {
     "name": "stderr",
     "output_type": "stream",
     "text": [
      "/var/folders/dp/1z2xwn7516q1b4n5t3nlr0500000gn/T/ipykernel_3467/924166058.py:78: FutureWarning: The behavior of DataFrame concatenation with empty or all-NA entries is deprecated. In a future version, this will no longer exclude empty or all-NA columns when determining the result dtypes. To retain the old behavior, exclude the relevant entries before the concat operation.\n",
      "  df_new = pd.concat([df_new, pd.DataFrame([msg_zero_speed, msg_holding])], ignore_index=True)\n"
     ]
    },
    {
     "name": "stdout",
     "output_type": "stream",
     "text": [
      "Se añadieron dos mensajes sintéticos para el avión 346386 en el escenario scenario_103.parquet\n",
      "Guardado en ../../data/final_scenarios/clean/scenario_103.parquet\n",
      "Procesando scenario_171.parquet\n"
     ]
    },
    {
     "name": "stderr",
     "output_type": "stream",
     "text": [
      "/var/folders/dp/1z2xwn7516q1b4n5t3nlr0500000gn/T/ipykernel_3467/924166058.py:78: FutureWarning: The behavior of DataFrame concatenation with empty or all-NA entries is deprecated. In a future version, this will no longer exclude empty or all-NA columns when determining the result dtypes. To retain the old behavior, exclude the relevant entries before the concat operation.\n",
      "  df_new = pd.concat([df_new, pd.DataFrame([msg_zero_speed, msg_holding])], ignore_index=True)\n"
     ]
    },
    {
     "name": "stdout",
     "output_type": "stream",
     "text": [
      "Se añadieron dos mensajes sintéticos para el avión 344344 en el escenario scenario_171.parquet\n",
      "Guardado en ../../data/final_scenarios/clean/scenario_171.parquet\n",
      "Procesando scenario_009.parquet\n"
     ]
    },
    {
     "name": "stderr",
     "output_type": "stream",
     "text": [
      "/var/folders/dp/1z2xwn7516q1b4n5t3nlr0500000gn/T/ipykernel_3467/924166058.py:78: FutureWarning: The behavior of DataFrame concatenation with empty or all-NA entries is deprecated. In a future version, this will no longer exclude empty or all-NA columns when determining the result dtypes. To retain the old behavior, exclude the relevant entries before the concat operation.\n",
      "  df_new = pd.concat([df_new, pd.DataFrame([msg_zero_speed, msg_holding])], ignore_index=True)\n"
     ]
    },
    {
     "name": "stdout",
     "output_type": "stream",
     "text": [
      "Se añadieron dos mensajes sintéticos para el avión 4cade6 en el escenario scenario_009.parquet\n",
      "Guardado en ../../data/final_scenarios/clean/scenario_009.parquet\n",
      "Procesando scenario_161.parquet\n"
     ]
    },
    {
     "name": "stderr",
     "output_type": "stream",
     "text": [
      "/var/folders/dp/1z2xwn7516q1b4n5t3nlr0500000gn/T/ipykernel_3467/924166058.py:78: FutureWarning: The behavior of DataFrame concatenation with empty or all-NA entries is deprecated. In a future version, this will no longer exclude empty or all-NA columns when determining the result dtypes. To retain the old behavior, exclude the relevant entries before the concat operation.\n",
      "  df_new = pd.concat([df_new, pd.DataFrame([msg_zero_speed, msg_holding])], ignore_index=True)\n"
     ]
    },
    {
     "name": "stdout",
     "output_type": "stream",
     "text": [
      "Se añadieron dos mensajes sintéticos para el avión 347692 en el escenario scenario_161.parquet\n",
      "Guardado en ../../data/final_scenarios/clean/scenario_161.parquet\n",
      "Procesando scenario_019.parquet\n"
     ]
    },
    {
     "name": "stderr",
     "output_type": "stream",
     "text": [
      "/var/folders/dp/1z2xwn7516q1b4n5t3nlr0500000gn/T/ipykernel_3467/924166058.py:78: FutureWarning: The behavior of DataFrame concatenation with empty or all-NA entries is deprecated. In a future version, this will no longer exclude empty or all-NA columns when determining the result dtypes. To retain the old behavior, exclude the relevant entries before the concat operation.\n",
      "  df_new = pd.concat([df_new, pd.DataFrame([msg_zero_speed, msg_holding])], ignore_index=True)\n",
      "/var/folders/dp/1z2xwn7516q1b4n5t3nlr0500000gn/T/ipykernel_3467/924166058.py:78: FutureWarning: The behavior of DataFrame concatenation with empty or all-NA entries is deprecated. In a future version, this will no longer exclude empty or all-NA columns when determining the result dtypes. To retain the old behavior, exclude the relevant entries before the concat operation.\n",
      "  df_new = pd.concat([df_new, pd.DataFrame([msg_zero_speed, msg_holding])], ignore_index=True)\n"
     ]
    },
    {
     "name": "stdout",
     "output_type": "stream",
     "text": [
      "Se añadieron dos mensajes sintéticos para el avión 495cd0 en el escenario scenario_019.parquet\n",
      "Guardado en ../../data/final_scenarios/clean/scenario_019.parquet\n",
      "Procesando scenario_127.parquet\n",
      "Se añadieron dos mensajes sintéticos para el avión 34510f en el escenario scenario_127.parquet\n",
      "Guardado en ../../data/final_scenarios/clean/scenario_127.parquet\n",
      "Procesando scenario_137.parquet\n"
     ]
    },
    {
     "name": "stderr",
     "output_type": "stream",
     "text": [
      "/var/folders/dp/1z2xwn7516q1b4n5t3nlr0500000gn/T/ipykernel_3467/924166058.py:78: FutureWarning: The behavior of DataFrame concatenation with empty or all-NA entries is deprecated. In a future version, this will no longer exclude empty or all-NA columns when determining the result dtypes. To retain the old behavior, exclude the relevant entries before the concat operation.\n",
      "  df_new = pd.concat([df_new, pd.DataFrame([msg_zero_speed, msg_holding])], ignore_index=True)\n"
     ]
    },
    {
     "name": "stdout",
     "output_type": "stream",
     "text": [
      "Se añadieron dos mensajes sintéticos para el avión 345353 en el escenario scenario_137.parquet\n",
      "Guardado en ../../data/final_scenarios/clean/scenario_137.parquet\n",
      "Procesando scenario_084.parquet\n"
     ]
    },
    {
     "name": "stderr",
     "output_type": "stream",
     "text": [
      "/var/folders/dp/1z2xwn7516q1b4n5t3nlr0500000gn/T/ipykernel_3467/924166058.py:78: FutureWarning: The behavior of DataFrame concatenation with empty or all-NA entries is deprecated. In a future version, this will no longer exclude empty or all-NA columns when determining the result dtypes. To retain the old behavior, exclude the relevant entries before the concat operation.\n",
      "  df_new = pd.concat([df_new, pd.DataFrame([msg_zero_speed, msg_holding])], ignore_index=True)\n"
     ]
    },
    {
     "name": "stdout",
     "output_type": "stream",
     "text": [
      "Se añadieron dos mensajes sintéticos para el avión 34640e en el escenario scenario_084.parquet\n",
      "Guardado en ../../data/final_scenarios/clean/scenario_084.parquet\n",
      "Procesando scenario_094.parquet\n"
     ]
    },
    {
     "name": "stderr",
     "output_type": "stream",
     "text": [
      "/var/folders/dp/1z2xwn7516q1b4n5t3nlr0500000gn/T/ipykernel_3467/924166058.py:78: FutureWarning: The behavior of DataFrame concatenation with empty or all-NA entries is deprecated. In a future version, this will no longer exclude empty or all-NA columns when determining the result dtypes. To retain the old behavior, exclude the relevant entries before the concat operation.\n",
      "  df_new = pd.concat([df_new, pd.DataFrame([msg_zero_speed, msg_holding])], ignore_index=True)\n"
     ]
    },
    {
     "name": "stdout",
     "output_type": "stream",
     "text": [
      "Se añadieron dos mensajes sintéticos para el avión 4bc856 en el escenario scenario_094.parquet\n",
      "Guardado en ../../data/final_scenarios/clean/scenario_094.parquet\n",
      "Procesando scenario_145.parquet\n"
     ]
    },
    {
     "name": "stderr",
     "output_type": "stream",
     "text": [
      "/var/folders/dp/1z2xwn7516q1b4n5t3nlr0500000gn/T/ipykernel_3467/924166058.py:78: FutureWarning: The behavior of DataFrame concatenation with empty or all-NA entries is deprecated. In a future version, this will no longer exclude empty or all-NA columns when determining the result dtypes. To retain the old behavior, exclude the relevant entries before the concat operation.\n",
      "  df_new = pd.concat([df_new, pd.DataFrame([msg_zero_speed, msg_holding])], ignore_index=True)\n",
      "/var/folders/dp/1z2xwn7516q1b4n5t3nlr0500000gn/T/ipykernel_3467/924166058.py:78: FutureWarning: The behavior of DataFrame concatenation with empty or all-NA entries is deprecated. In a future version, this will no longer exclude empty or all-NA columns when determining the result dtypes. To retain the old behavior, exclude the relevant entries before the concat operation.\n",
      "  df_new = pd.concat([df_new, pd.DataFrame([msg_zero_speed, msg_holding])], ignore_index=True)\n"
     ]
    },
    {
     "name": "stdout",
     "output_type": "stream",
     "text": [
      "Se añadieron dos mensajes sintéticos para el avión 4952cf en el escenario scenario_145.parquet\n",
      "Guardado en ../../data/final_scenarios/clean/scenario_145.parquet\n",
      "Procesando scenario_155.parquet\n",
      "Se añadieron dos mensajes sintéticos para el avión 34530e en el escenario scenario_155.parquet\n",
      "Guardado en ../../data/final_scenarios/clean/scenario_155.parquet\n",
      "Procesando scenario_118.parquet\n"
     ]
    },
    {
     "name": "stderr",
     "output_type": "stream",
     "text": [
      "/var/folders/dp/1z2xwn7516q1b4n5t3nlr0500000gn/T/ipykernel_3467/924166058.py:78: FutureWarning: The behavior of DataFrame concatenation with empty or all-NA entries is deprecated. In a future version, this will no longer exclude empty or all-NA columns when determining the result dtypes. To retain the old behavior, exclude the relevant entries before the concat operation.\n",
      "  df_new = pd.concat([df_new, pd.DataFrame([msg_zero_speed, msg_holding])], ignore_index=True)\n"
     ]
    },
    {
     "name": "stdout",
     "output_type": "stream",
     "text": [
      "Se añadieron dos mensajes sintéticos para el avión 346303 en el escenario scenario_118.parquet\n",
      "Guardado en ../../data/final_scenarios/clean/scenario_118.parquet\n",
      "Procesando scenario_060.parquet\n",
      "Se añadieron dos mensajes sintéticos para el avión 02a260 en el escenario scenario_060.parquet\n"
     ]
    },
    {
     "name": "stderr",
     "output_type": "stream",
     "text": [
      "/var/folders/dp/1z2xwn7516q1b4n5t3nlr0500000gn/T/ipykernel_3467/924166058.py:78: FutureWarning: The behavior of DataFrame concatenation with empty or all-NA entries is deprecated. In a future version, this will no longer exclude empty or all-NA columns when determining the result dtypes. To retain the old behavior, exclude the relevant entries before the concat operation.\n",
      "  df_new = pd.concat([df_new, pd.DataFrame([msg_zero_speed, msg_holding])], ignore_index=True)\n"
     ]
    },
    {
     "name": "stdout",
     "output_type": "stream",
     "text": [
      "Guardado en ../../data/final_scenarios/clean/scenario_060.parquet\n",
      "Procesando scenario_108.parquet\n",
      "Se añadieron dos mensajes sintéticos para el avión 34324f en el escenario scenario_108.parquet\n"
     ]
    },
    {
     "name": "stderr",
     "output_type": "stream",
     "text": [
      "/var/folders/dp/1z2xwn7516q1b4n5t3nlr0500000gn/T/ipykernel_3467/924166058.py:78: FutureWarning: The behavior of DataFrame concatenation with empty or all-NA entries is deprecated. In a future version, this will no longer exclude empty or all-NA columns when determining the result dtypes. To retain the old behavior, exclude the relevant entries before the concat operation.\n",
      "  df_new = pd.concat([df_new, pd.DataFrame([msg_zero_speed, msg_holding])], ignore_index=True)\n",
      "/var/folders/dp/1z2xwn7516q1b4n5t3nlr0500000gn/T/ipykernel_3467/924166058.py:78: FutureWarning: The behavior of DataFrame concatenation with empty or all-NA entries is deprecated. In a future version, this will no longer exclude empty or all-NA columns when determining the result dtypes. To retain the old behavior, exclude the relevant entries before the concat operation.\n",
      "  df_new = pd.concat([df_new, pd.DataFrame([msg_zero_speed, msg_holding])], ignore_index=True)\n"
     ]
    },
    {
     "name": "stdout",
     "output_type": "stream",
     "text": [
      "Guardado en ../../data/final_scenarios/clean/scenario_108.parquet\n",
      "Procesando scenario_070.parquet\n",
      "Se añadieron dos mensajes sintéticos para el avión 34628d en el escenario scenario_070.parquet\n",
      "Guardado en ../../data/final_scenarios/clean/scenario_070.parquet\n",
      "Procesando scenario_002.parquet\n"
     ]
    },
    {
     "name": "stderr",
     "output_type": "stream",
     "text": [
      "/var/folders/dp/1z2xwn7516q1b4n5t3nlr0500000gn/T/ipykernel_3467/924166058.py:78: FutureWarning: The behavior of DataFrame concatenation with empty or all-NA entries is deprecated. In a future version, this will no longer exclude empty or all-NA columns when determining the result dtypes. To retain the old behavior, exclude the relevant entries before the concat operation.\n",
      "  df_new = pd.concat([df_new, pd.DataFrame([msg_zero_speed, msg_holding])], ignore_index=True)\n"
     ]
    },
    {
     "name": "stdout",
     "output_type": "stream",
     "text": [
      "Se añadieron dos mensajes sintéticos para el avión 4bb26b en el escenario scenario_002.parquet\n",
      "Guardado en ../../data/final_scenarios/clean/scenario_002.parquet\n",
      "Procesando scenario_012.parquet\n"
     ]
    },
    {
     "name": "stderr",
     "output_type": "stream",
     "text": [
      "/var/folders/dp/1z2xwn7516q1b4n5t3nlr0500000gn/T/ipykernel_3467/924166058.py:78: FutureWarning: The behavior of DataFrame concatenation with empty or all-NA entries is deprecated. In a future version, this will no longer exclude empty or all-NA columns when determining the result dtypes. To retain the old behavior, exclude the relevant entries before the concat operation.\n",
      "  df_new = pd.concat([df_new, pd.DataFrame([msg_zero_speed, msg_holding])], ignore_index=True)\n",
      "/var/folders/dp/1z2xwn7516q1b4n5t3nlr0500000gn/T/ipykernel_3467/924166058.py:78: FutureWarning: The behavior of DataFrame concatenation with empty or all-NA entries is deprecated. In a future version, this will no longer exclude empty or all-NA columns when determining the result dtypes. To retain the old behavior, exclude the relevant entries before the concat operation.\n",
      "  df_new = pd.concat([df_new, pd.DataFrame([msg_zero_speed, msg_holding])], ignore_index=True)\n"
     ]
    },
    {
     "name": "stdout",
     "output_type": "stream",
     "text": [
      "Se añadieron dos mensajes sintéticos para el avión 4d2385 en el escenario scenario_012.parquet\n",
      "Guardado en ../../data/final_scenarios/clean/scenario_012.parquet\n",
      "Procesando scenario_024.parquet\n",
      "Se añadieron dos mensajes sintéticos para el avión 34604c en el escenario scenario_024.parquet\n",
      "Guardado en ../../data/final_scenarios/clean/scenario_024.parquet\n",
      "Procesando scenario_034.parquet\n"
     ]
    },
    {
     "name": "stderr",
     "output_type": "stream",
     "text": [
      "/var/folders/dp/1z2xwn7516q1b4n5t3nlr0500000gn/T/ipykernel_3467/924166058.py:78: FutureWarning: The behavior of DataFrame concatenation with empty or all-NA entries is deprecated. In a future version, this will no longer exclude empty or all-NA columns when determining the result dtypes. To retain the old behavior, exclude the relevant entries before the concat operation.\n",
      "  df_new = pd.concat([df_new, pd.DataFrame([msg_zero_speed, msg_holding])], ignore_index=True)\n",
      "/var/folders/dp/1z2xwn7516q1b4n5t3nlr0500000gn/T/ipykernel_3467/924166058.py:78: FutureWarning: The behavior of DataFrame concatenation with empty or all-NA entries is deprecated. In a future version, this will no longer exclude empty or all-NA columns when determining the result dtypes. To retain the old behavior, exclude the relevant entries before the concat operation.\n",
      "  df_new = pd.concat([df_new, pd.DataFrame([msg_zero_speed, msg_holding])], ignore_index=True)\n"
     ]
    },
    {
     "name": "stdout",
     "output_type": "stream",
     "text": [
      "Se añadieron dos mensajes sintéticos para el avión 346458 en el escenario scenario_034.parquet\n",
      "Guardado en ../../data/final_scenarios/clean/scenario_034.parquet\n",
      "Procesando scenario_046.parquet\n",
      "Se añadieron dos mensajes sintéticos para el avión 347386 en el escenario scenario_046.parquet\n",
      "Guardado en ../../data/final_scenarios/clean/scenario_046.parquet\n",
      "Procesando scenario_056.parquet\n"
     ]
    },
    {
     "name": "stderr",
     "output_type": "stream",
     "text": [
      "/var/folders/dp/1z2xwn7516q1b4n5t3nlr0500000gn/T/ipykernel_3467/924166058.py:78: FutureWarning: The behavior of DataFrame concatenation with empty or all-NA entries is deprecated. In a future version, this will no longer exclude empty or all-NA columns when determining the result dtypes. To retain the old behavior, exclude the relevant entries before the concat operation.\n",
      "  df_new = pd.concat([df_new, pd.DataFrame([msg_zero_speed, msg_holding])], ignore_index=True)\n"
     ]
    },
    {
     "name": "stdout",
     "output_type": "stream",
     "text": [
      "Se añadieron dos mensajes sintéticos para el avión 3423c4 en el escenario scenario_056.parquet\n",
      "Guardado en ../../data/final_scenarios/clean/scenario_056.parquet\n",
      "Procesando scenario_187.parquet\n"
     ]
    },
    {
     "name": "stderr",
     "output_type": "stream",
     "text": [
      "/var/folders/dp/1z2xwn7516q1b4n5t3nlr0500000gn/T/ipykernel_3467/924166058.py:78: FutureWarning: The behavior of DataFrame concatenation with empty or all-NA entries is deprecated. In a future version, this will no longer exclude empty or all-NA columns when determining the result dtypes. To retain the old behavior, exclude the relevant entries before the concat operation.\n",
      "  df_new = pd.concat([df_new, pd.DataFrame([msg_zero_speed, msg_holding])], ignore_index=True)\n",
      "/var/folders/dp/1z2xwn7516q1b4n5t3nlr0500000gn/T/ipykernel_3467/924166058.py:78: FutureWarning: The behavior of DataFrame concatenation with empty or all-NA entries is deprecated. In a future version, this will no longer exclude empty or all-NA columns when determining the result dtypes. To retain the old behavior, exclude the relevant entries before the concat operation.\n",
      "  df_new = pd.concat([df_new, pd.DataFrame([msg_zero_speed, msg_holding])], ignore_index=True)\n"
     ]
    },
    {
     "name": "stdout",
     "output_type": "stream",
     "text": [
      "Se añadieron dos mensajes sintéticos para el avión 44cdc8 en el escenario scenario_187.parquet\n",
      "Guardado en ../../data/final_scenarios/clean/scenario_187.parquet\n",
      "Procesando scenario_163.parquet\n",
      "Se añadieron dos mensajes sintéticos para el avión 3415ce en el escenario scenario_163.parquet\n",
      "Guardado en ../../data/final_scenarios/clean/scenario_163.parquet\n",
      "Procesando scenario_173.parquet\n"
     ]
    },
    {
     "name": "stderr",
     "output_type": "stream",
     "text": [
      "/var/folders/dp/1z2xwn7516q1b4n5t3nlr0500000gn/T/ipykernel_3467/924166058.py:78: FutureWarning: The behavior of DataFrame concatenation with empty or all-NA entries is deprecated. In a future version, this will no longer exclude empty or all-NA columns when determining the result dtypes. To retain the old behavior, exclude the relevant entries before the concat operation.\n",
      "  df_new = pd.concat([df_new, pd.DataFrame([msg_zero_speed, msg_holding])], ignore_index=True)\n"
     ]
    },
    {
     "name": "stdout",
     "output_type": "stream",
     "text": [
      "Se añadieron dos mensajes sintéticos para el avión 34644d en el escenario scenario_173.parquet\n",
      "Guardado en ../../data/final_scenarios/clean/scenario_173.parquet\n",
      "Procesando scenario_101.parquet\n"
     ]
    },
    {
     "name": "stderr",
     "output_type": "stream",
     "text": [
      "/var/folders/dp/1z2xwn7516q1b4n5t3nlr0500000gn/T/ipykernel_3467/924166058.py:78: FutureWarning: The behavior of DataFrame concatenation with empty or all-NA entries is deprecated. In a future version, this will no longer exclude empty or all-NA columns when determining the result dtypes. To retain the old behavior, exclude the relevant entries before the concat operation.\n",
      "  df_new = pd.concat([df_new, pd.DataFrame([msg_zero_speed, msg_holding])], ignore_index=True)\n",
      "/var/folders/dp/1z2xwn7516q1b4n5t3nlr0500000gn/T/ipykernel_3467/924166058.py:78: FutureWarning: The behavior of DataFrame concatenation with empty or all-NA entries is deprecated. In a future version, this will no longer exclude empty or all-NA columns when determining the result dtypes. To retain the old behavior, exclude the relevant entries before the concat operation.\n",
      "  df_new = pd.concat([df_new, pd.DataFrame([msg_zero_speed, msg_holding])], ignore_index=True)\n"
     ]
    },
    {
     "name": "stdout",
     "output_type": "stream",
     "text": [
      "Se añadieron dos mensajes sintéticos para el avión 89648a en el escenario scenario_101.parquet\n",
      "Guardado en ../../data/final_scenarios/clean/scenario_101.parquet\n",
      "Procesando scenario_079.parquet\n",
      "Se añadieron dos mensajes sintéticos para el avión 39a202 en el escenario scenario_079.parquet\n",
      "Guardado en ../../data/final_scenarios/clean/scenario_079.parquet\n",
      "Procesando scenario_111.parquet\n"
     ]
    },
    {
     "name": "stderr",
     "output_type": "stream",
     "text": [
      "/var/folders/dp/1z2xwn7516q1b4n5t3nlr0500000gn/T/ipykernel_3467/924166058.py:78: FutureWarning: The behavior of DataFrame concatenation with empty or all-NA entries is deprecated. In a future version, this will no longer exclude empty or all-NA columns when determining the result dtypes. To retain the old behavior, exclude the relevant entries before the concat operation.\n",
      "  df_new = pd.concat([df_new, pd.DataFrame([msg_zero_speed, msg_holding])], ignore_index=True)\n",
      "/var/folders/dp/1z2xwn7516q1b4n5t3nlr0500000gn/T/ipykernel_3467/924166058.py:78: FutureWarning: The behavior of DataFrame concatenation with empty or all-NA entries is deprecated. In a future version, this will no longer exclude empty or all-NA columns when determining the result dtypes. To retain the old behavior, exclude the relevant entries before the concat operation.\n",
      "  df_new = pd.concat([df_new, pd.DataFrame([msg_zero_speed, msg_holding])], ignore_index=True)\n"
     ]
    },
    {
     "name": "stdout",
     "output_type": "stream",
     "text": [
      "Se añadieron dos mensajes sintéticos para el avión 3420cc en el escenario scenario_111.parquet\n",
      "Guardado en ../../data/final_scenarios/clean/scenario_111.parquet\n",
      "Procesando scenario_069.parquet\n",
      "Se añadieron dos mensajes sintéticos para el avión 344341 en el escenario scenario_069.parquet\n",
      "Guardado en ../../data/final_scenarios/clean/scenario_069.parquet\n",
      "Procesando scenario_035.parquet\n"
     ]
    },
    {
     "name": "stderr",
     "output_type": "stream",
     "text": [
      "/var/folders/dp/1z2xwn7516q1b4n5t3nlr0500000gn/T/ipykernel_3467/924166058.py:78: FutureWarning: The behavior of DataFrame concatenation with empty or all-NA entries is deprecated. In a future version, this will no longer exclude empty or all-NA columns when determining the result dtypes. To retain the old behavior, exclude the relevant entries before the concat operation.\n",
      "  df_new = pd.concat([df_new, pd.DataFrame([msg_zero_speed, msg_holding])], ignore_index=True)\n"
     ]
    },
    {
     "name": "stdout",
     "output_type": "stream",
     "text": [
      "Se añadieron dos mensajes sintéticos para el avión 344416 en el escenario scenario_035.parquet\n",
      "Guardado en ../../data/final_scenarios/clean/scenario_035.parquet\n",
      "Procesando scenario_025.parquet\n"
     ]
    },
    {
     "name": "stderr",
     "output_type": "stream",
     "text": [
      "/var/folders/dp/1z2xwn7516q1b4n5t3nlr0500000gn/T/ipykernel_3467/924166058.py:78: FutureWarning: The behavior of DataFrame concatenation with empty or all-NA entries is deprecated. In a future version, this will no longer exclude empty or all-NA columns when determining the result dtypes. To retain the old behavior, exclude the relevant entries before the concat operation.\n",
      "  df_new = pd.concat([df_new, pd.DataFrame([msg_zero_speed, msg_holding])], ignore_index=True)\n"
     ]
    },
    {
     "name": "stdout",
     "output_type": "stream",
     "text": [
      "Se añadieron dos mensajes sintéticos para el avión 347219 en el escenario scenario_025.parquet\n",
      "Guardado en ../../data/final_scenarios/clean/scenario_025.parquet\n",
      "Procesando scenario_186.parquet\n",
      "Se añadieron dos mensajes sintéticos para el avión e94c8e en el escenario scenario_186.parquet\n"
     ]
    },
    {
     "name": "stderr",
     "output_type": "stream",
     "text": [
      "/var/folders/dp/1z2xwn7516q1b4n5t3nlr0500000gn/T/ipykernel_3467/924166058.py:78: FutureWarning: The behavior of DataFrame concatenation with empty or all-NA entries is deprecated. In a future version, this will no longer exclude empty or all-NA columns when determining the result dtypes. To retain the old behavior, exclude the relevant entries before the concat operation.\n",
      "  df_new = pd.concat([df_new, pd.DataFrame([msg_zero_speed, msg_holding])], ignore_index=True)\n"
     ]
    },
    {
     "name": "stdout",
     "output_type": "stream",
     "text": [
      "Guardado en ../../data/final_scenarios/clean/scenario_186.parquet\n",
      "Procesando scenario_057.parquet\n"
     ]
    },
    {
     "name": "stderr",
     "output_type": "stream",
     "text": [
      "/var/folders/dp/1z2xwn7516q1b4n5t3nlr0500000gn/T/ipykernel_3467/924166058.py:78: FutureWarning: The behavior of DataFrame concatenation with empty or all-NA entries is deprecated. In a future version, this will no longer exclude empty or all-NA columns when determining the result dtypes. To retain the old behavior, exclude the relevant entries before the concat operation.\n",
      "  df_new = pd.concat([df_new, pd.DataFrame([msg_zero_speed, msg_holding])], ignore_index=True)\n"
     ]
    },
    {
     "name": "stdout",
     "output_type": "stream",
     "text": [
      "Se añadieron dos mensajes sintéticos para el avión 347306 en el escenario scenario_057.parquet\n",
      "Guardado en ../../data/final_scenarios/clean/scenario_057.parquet\n",
      "Procesando scenario_047.parquet\n"
     ]
    },
    {
     "name": "stderr",
     "output_type": "stream",
     "text": [
      "/var/folders/dp/1z2xwn7516q1b4n5t3nlr0500000gn/T/ipykernel_3467/924166058.py:78: FutureWarning: The behavior of DataFrame concatenation with empty or all-NA entries is deprecated. In a future version, this will no longer exclude empty or all-NA columns when determining the result dtypes. To retain the old behavior, exclude the relevant entries before the concat operation.\n",
      "  df_new = pd.concat([df_new, pd.DataFrame([msg_zero_speed, msg_holding])], ignore_index=True)\n",
      "/var/folders/dp/1z2xwn7516q1b4n5t3nlr0500000gn/T/ipykernel_3467/924166058.py:78: FutureWarning: The behavior of DataFrame concatenation with empty or all-NA entries is deprecated. In a future version, this will no longer exclude empty or all-NA columns when determining the result dtypes. To retain the old behavior, exclude the relevant entries before the concat operation.\n",
      "  df_new = pd.concat([df_new, pd.DataFrame([msg_zero_speed, msg_holding])], ignore_index=True)\n"
     ]
    },
    {
     "name": "stdout",
     "output_type": "stream",
     "text": [
      "Se añadieron dos mensajes sintéticos para el avión 3442cb en el escenario scenario_047.parquet\n",
      "Guardado en ../../data/final_scenarios/clean/scenario_047.parquet\n",
      "Procesando scenario_172.parquet\n",
      "Se añadieron dos mensajes sintéticos para el avión 342188 en el escenario scenario_172.parquet\n",
      "Guardado en ../../data/final_scenarios/clean/scenario_172.parquet\n",
      "Procesando scenario_162.parquet\n"
     ]
    },
    {
     "name": "stderr",
     "output_type": "stream",
     "text": [
      "/var/folders/dp/1z2xwn7516q1b4n5t3nlr0500000gn/T/ipykernel_3467/924166058.py:78: FutureWarning: The behavior of DataFrame concatenation with empty or all-NA entries is deprecated. In a future version, this will no longer exclude empty or all-NA columns when determining the result dtypes. To retain the old behavior, exclude the relevant entries before the concat operation.\n",
      "  df_new = pd.concat([df_new, pd.DataFrame([msg_zero_speed, msg_holding])], ignore_index=True)\n",
      "/var/folders/dp/1z2xwn7516q1b4n5t3nlr0500000gn/T/ipykernel_3467/924166058.py:78: FutureWarning: The behavior of DataFrame concatenation with empty or all-NA entries is deprecated. In a future version, this will no longer exclude empty or all-NA columns when determining the result dtypes. To retain the old behavior, exclude the relevant entries before the concat operation.\n",
      "  df_new = pd.concat([df_new, pd.DataFrame([msg_zero_speed, msg_holding])], ignore_index=True)\n"
     ]
    },
    {
     "name": "stdout",
     "output_type": "stream",
     "text": [
      "Se añadieron dos mensajes sintéticos para el avión 010236 en el escenario scenario_162.parquet\n",
      "Guardado en ../../data/final_scenarios/clean/scenario_162.parquet\n",
      "Procesando scenario_068.parquet\n",
      "Se añadieron dos mensajes sintéticos para el avión 780bb6 en el escenario scenario_068.parquet\n",
      "Guardado en ../../data/final_scenarios/clean/scenario_068.parquet\n",
      "Procesando scenario_110.parquet\n"
     ]
    },
    {
     "name": "stderr",
     "output_type": "stream",
     "text": [
      "/var/folders/dp/1z2xwn7516q1b4n5t3nlr0500000gn/T/ipykernel_3467/924166058.py:78: FutureWarning: The behavior of DataFrame concatenation with empty or all-NA entries is deprecated. In a future version, this will no longer exclude empty or all-NA columns when determining the result dtypes. To retain the old behavior, exclude the relevant entries before the concat operation.\n",
      "  df_new = pd.concat([df_new, pd.DataFrame([msg_zero_speed, msg_holding])], ignore_index=True)\n"
     ]
    },
    {
     "name": "stdout",
     "output_type": "stream",
     "text": [
      "Se añadieron dos mensajes sintéticos para el avión 400a0e en el escenario scenario_110.parquet\n",
      "Guardado en ../../data/final_scenarios/clean/scenario_110.parquet\n",
      "Procesando scenario_078.parquet\n"
     ]
    },
    {
     "name": "stderr",
     "output_type": "stream",
     "text": [
      "/var/folders/dp/1z2xwn7516q1b4n5t3nlr0500000gn/T/ipykernel_3467/924166058.py:78: FutureWarning: The behavior of DataFrame concatenation with empty or all-NA entries is deprecated. In a future version, this will no longer exclude empty or all-NA columns when determining the result dtypes. To retain the old behavior, exclude the relevant entries before the concat operation.\n",
      "  df_new = pd.concat([df_new, pd.DataFrame([msg_zero_speed, msg_holding])], ignore_index=True)\n"
     ]
    },
    {
     "name": "stdout",
     "output_type": "stream",
     "text": [
      "Se añadieron dos mensajes sintéticos para el avión 342090 en el escenario scenario_078.parquet\n",
      "Guardado en ../../data/final_scenarios/clean/scenario_078.parquet\n",
      "Procesando scenario_100.parquet\n"
     ]
    },
    {
     "name": "stderr",
     "output_type": "stream",
     "text": [
      "/var/folders/dp/1z2xwn7516q1b4n5t3nlr0500000gn/T/ipykernel_3467/924166058.py:78: FutureWarning: The behavior of DataFrame concatenation with empty or all-NA entries is deprecated. In a future version, this will no longer exclude empty or all-NA columns when determining the result dtypes. To retain the old behavior, exclude the relevant entries before the concat operation.\n",
      "  df_new = pd.concat([df_new, pd.DataFrame([msg_zero_speed, msg_holding])], ignore_index=True)\n"
     ]
    },
    {
     "name": "stdout",
     "output_type": "stream",
     "text": [
      "Se añadieron dos mensajes sintéticos para el avión 3455d5 en el escenario scenario_100.parquet\n",
      "Guardado en ../../data/final_scenarios/clean/scenario_100.parquet\n",
      "Procesando scenario_136.parquet\n",
      "Se añadieron dos mensajes sintéticos para el avión 4bab2f en el escenario scenario_136.parquet\n",
      "Guardado en ../../data/final_scenarios/clean/scenario_136.parquet\n",
      "Procesando scenario_126.parquet\n"
     ]
    },
    {
     "name": "stderr",
     "output_type": "stream",
     "text": [
      "/var/folders/dp/1z2xwn7516q1b4n5t3nlr0500000gn/T/ipykernel_3467/924166058.py:78: FutureWarning: The behavior of DataFrame concatenation with empty or all-NA entries is deprecated. In a future version, this will no longer exclude empty or all-NA columns when determining the result dtypes. To retain the old behavior, exclude the relevant entries before the concat operation.\n",
      "  df_new = pd.concat([df_new, pd.DataFrame([msg_zero_speed, msg_holding])], ignore_index=True)\n",
      "/var/folders/dp/1z2xwn7516q1b4n5t3nlr0500000gn/T/ipykernel_3467/924166058.py:78: FutureWarning: The behavior of DataFrame concatenation with empty or all-NA entries is deprecated. In a future version, this will no longer exclude empty or all-NA columns when determining the result dtypes. To retain the old behavior, exclude the relevant entries before the concat operation.\n",
      "  df_new = pd.concat([df_new, pd.DataFrame([msg_zero_speed, msg_holding])], ignore_index=True)\n"
     ]
    },
    {
     "name": "stdout",
     "output_type": "stream",
     "text": [
      "Se añadieron dos mensajes sintéticos para el avión 484133 en el escenario scenario_126.parquet\n",
      "Guardado en ../../data/final_scenarios/clean/scenario_126.parquet\n",
      "Procesando scenario_154.parquet\n"
     ]
    },
    {
     "name": "stderr",
     "output_type": "stream",
     "text": [
      "/var/folders/dp/1z2xwn7516q1b4n5t3nlr0500000gn/T/ipykernel_3467/924166058.py:78: FutureWarning: The behavior of DataFrame concatenation with empty or all-NA entries is deprecated. In a future version, this will no longer exclude empty or all-NA columns when determining the result dtypes. To retain the old behavior, exclude the relevant entries before the concat operation.\n",
      "  df_new = pd.concat([df_new, pd.DataFrame([msg_zero_speed, msg_holding])], ignore_index=True)\n"
     ]
    },
    {
     "name": "stdout",
     "output_type": "stream",
     "text": [
      "Se añadieron dos mensajes sintéticos para el avión 0d0a9b en el escenario scenario_154.parquet\n",
      "Guardado en ../../data/final_scenarios/clean/scenario_154.parquet\n",
      "Procesando scenario_144.parquet\n"
     ]
    },
    {
     "name": "stderr",
     "output_type": "stream",
     "text": [
      "/var/folders/dp/1z2xwn7516q1b4n5t3nlr0500000gn/T/ipykernel_3467/924166058.py:78: FutureWarning: The behavior of DataFrame concatenation with empty or all-NA entries is deprecated. In a future version, this will no longer exclude empty or all-NA columns when determining the result dtypes. To retain the old behavior, exclude the relevant entries before the concat operation.\n",
      "  df_new = pd.concat([df_new, pd.DataFrame([msg_zero_speed, msg_holding])], ignore_index=True)\n",
      "/var/folders/dp/1z2xwn7516q1b4n5t3nlr0500000gn/T/ipykernel_3467/924166058.py:78: FutureWarning: The behavior of DataFrame concatenation with empty or all-NA entries is deprecated. In a future version, this will no longer exclude empty or all-NA columns when determining the result dtypes. To retain the old behavior, exclude the relevant entries before the concat operation.\n",
      "  df_new = pd.concat([df_new, pd.DataFrame([msg_zero_speed, msg_holding])], ignore_index=True)\n"
     ]
    },
    {
     "name": "stdout",
     "output_type": "stream",
     "text": [
      "Se añadieron dos mensajes sintéticos para el avión 3c5430 en el escenario scenario_144.parquet\n",
      "Guardado en ../../data/final_scenarios/clean/scenario_144.parquet\n",
      "Procesando scenario_095.parquet\n",
      "Se añadieron dos mensajes sintéticos para el avión 02a263 en el escenario scenario_095.parquet\n",
      "Guardado en ../../data/final_scenarios/clean/scenario_095.parquet\n",
      "Procesando scenario_085.parquet\n"
     ]
    },
    {
     "name": "stderr",
     "output_type": "stream",
     "text": [
      "/var/folders/dp/1z2xwn7516q1b4n5t3nlr0500000gn/T/ipykernel_3467/924166058.py:78: FutureWarning: The behavior of DataFrame concatenation with empty or all-NA entries is deprecated. In a future version, this will no longer exclude empty or all-NA columns when determining the result dtypes. To retain the old behavior, exclude the relevant entries before the concat operation.\n",
      "  df_new = pd.concat([df_new, pd.DataFrame([msg_zero_speed, msg_holding])], ignore_index=True)\n"
     ]
    },
    {
     "name": "stdout",
     "output_type": "stream",
     "text": [
      "Se añadieron dos mensajes sintéticos para el avión 344346 en el escenario scenario_085.parquet\n",
      "Guardado en ../../data/final_scenarios/clean/scenario_085.parquet\n",
      "Procesando scenario_071.parquet\n"
     ]
    },
    {
     "name": "stderr",
     "output_type": "stream",
     "text": [
      "/var/folders/dp/1z2xwn7516q1b4n5t3nlr0500000gn/T/ipykernel_3467/924166058.py:78: FutureWarning: The behavior of DataFrame concatenation with empty or all-NA entries is deprecated. In a future version, this will no longer exclude empty or all-NA columns when determining the result dtypes. To retain the old behavior, exclude the relevant entries before the concat operation.\n",
      "  df_new = pd.concat([df_new, pd.DataFrame([msg_zero_speed, msg_holding])], ignore_index=True)\n"
     ]
    },
    {
     "name": "stdout",
     "output_type": "stream",
     "text": [
      "Se añadieron dos mensajes sintéticos para el avión 345698 en el escenario scenario_071.parquet\n",
      "Guardado en ../../data/final_scenarios/clean/scenario_071.parquet\n",
      "Procesando scenario_109.parquet\n"
     ]
    },
    {
     "name": "stderr",
     "output_type": "stream",
     "text": [
      "/var/folders/dp/1z2xwn7516q1b4n5t3nlr0500000gn/T/ipykernel_3467/924166058.py:78: FutureWarning: The behavior of DataFrame concatenation with empty or all-NA entries is deprecated. In a future version, this will no longer exclude empty or all-NA columns when determining the result dtypes. To retain the old behavior, exclude the relevant entries before the concat operation.\n",
      "  df_new = pd.concat([df_new, pd.DataFrame([msg_zero_speed, msg_holding])], ignore_index=True)\n"
     ]
    },
    {
     "name": "stdout",
     "output_type": "stream",
     "text": [
      "Se añadieron dos mensajes sintéticos para el avión 3420ca en el escenario scenario_109.parquet\n",
      "Guardado en ../../data/final_scenarios/clean/scenario_109.parquet\n",
      "Procesando scenario_061.parquet\n"
     ]
    },
    {
     "name": "stderr",
     "output_type": "stream",
     "text": [
      "/var/folders/dp/1z2xwn7516q1b4n5t3nlr0500000gn/T/ipykernel_3467/924166058.py:78: FutureWarning: The behavior of DataFrame concatenation with empty or all-NA entries is deprecated. In a future version, this will no longer exclude empty or all-NA columns when determining the result dtypes. To retain the old behavior, exclude the relevant entries before the concat operation.\n",
      "  df_new = pd.concat([df_new, pd.DataFrame([msg_zero_speed, msg_holding])], ignore_index=True)\n"
     ]
    },
    {
     "name": "stdout",
     "output_type": "stream",
     "text": [
      "Se añadieron dos mensajes sintéticos para el avión 345597 en el escenario scenario_061.parquet\n",
      "Guardado en ../../data/final_scenarios/clean/scenario_061.parquet\n",
      "Procesando scenario_119.parquet\n"
     ]
    },
    {
     "name": "stderr",
     "output_type": "stream",
     "text": [
      "/var/folders/dp/1z2xwn7516q1b4n5t3nlr0500000gn/T/ipykernel_3467/924166058.py:78: FutureWarning: The behavior of DataFrame concatenation with empty or all-NA entries is deprecated. In a future version, this will no longer exclude empty or all-NA columns when determining the result dtypes. To retain the old behavior, exclude the relevant entries before the concat operation.\n",
      "  df_new = pd.concat([df_new, pd.DataFrame([msg_zero_speed, msg_holding])], ignore_index=True)\n"
     ]
    },
    {
     "name": "stdout",
     "output_type": "stream",
     "text": [
      "Se añadieron dos mensajes sintéticos para el avión 344217 en el escenario scenario_119.parquet\n",
      "Guardado en ../../data/final_scenarios/clean/scenario_119.parquet\n",
      "Procesando scenario_013.parquet\n"
     ]
    },
    {
     "name": "stderr",
     "output_type": "stream",
     "text": [
      "/var/folders/dp/1z2xwn7516q1b4n5t3nlr0500000gn/T/ipykernel_3467/924166058.py:78: FutureWarning: The behavior of DataFrame concatenation with empty or all-NA entries is deprecated. In a future version, this will no longer exclude empty or all-NA columns when determining the result dtypes. To retain the old behavior, exclude the relevant entries before the concat operation.\n",
      "  df_new = pd.concat([df_new, pd.DataFrame([msg_zero_speed, msg_holding])], ignore_index=True)\n"
     ]
    },
    {
     "name": "stdout",
     "output_type": "stream",
     "text": [
      "Se añadieron dos mensajes sintéticos para el avión 344416 en el escenario scenario_013.parquet\n",
      "Guardado en ../../data/final_scenarios/clean/scenario_013.parquet\n",
      "Procesando scenario_003.parquet\n",
      "Se añadieron dos mensajes sintéticos para el avión 3451d8 en el escenario scenario_003.parquet\n",
      "Guardado en ../../data/final_scenarios/clean/scenario_003.parquet\n",
      "Total escenarios procesados: 193\n"
     ]
    },
    {
     "name": "stderr",
     "output_type": "stream",
     "text": [
      "/var/folders/dp/1z2xwn7516q1b4n5t3nlr0500000gn/T/ipykernel_3467/924166058.py:78: FutureWarning: The behavior of DataFrame concatenation with empty or all-NA entries is deprecated. In a future version, this will no longer exclude empty or all-NA columns when determining the result dtypes. To retain the old behavior, exclude the relevant entries before the concat operation.\n",
      "  df_new = pd.concat([df_new, pd.DataFrame([msg_zero_speed, msg_holding])], ignore_index=True)\n"
     ]
    }
   ],
   "source": [
    "import pandas as pd\n",
    "import os\n",
    "from pathlib import Path\n",
    "\n",
    "# Configurar para mostrar todas las columnas\n",
    "pd.set_option('display.max_columns', None)\n",
    "\n",
    "# Ruta sde entrada y salida\n",
    "ruta_escenarios_raw = Path(\"../../data/final_scenarios/raw\")\n",
    "ruta_escenarios_clean = Path(\"../../data/final_scenarios/clean\")\n",
    "ruta_escenarios_clean.mkdir(parents=True, exist_ok=True)\n",
    "\n",
    "df_answers = pd.read_csv(\"../../data/final_scenarios/answers_empty.csv\")\n",
    "\n",
    "lastI = 0\n",
    "# Iterar sobre todos los archivos .parquet en la carpeta raw\n",
    "for i, parquet_file in enumerate(ruta_escenarios_raw.glob(\"*.parquet\")):\n",
    "    print(f\"Procesando {parquet_file.name}\")\n",
    "    df = pd.read_parquet(parquet_file)\n",
    "    df_clean = cleanScenario(df, df_answers=df_answers, scenario_name=parquet_file.name)\n",
    "    output_path = ruta_escenarios_clean / parquet_file.name\n",
    "    df_clean.to_parquet(output_path, index=False)\n",
    "    print(f\"Guardado en {output_path}\")\n",
    "    lastI = i\n",
    "\n",
    "print(f\"Total escenarios procesados: {lastI + 1}\")"
   ]
  },
  {
   "cell_type": "code",
   "execution_count": 13,
   "id": "88fdfe44-25dc-4c69-a9d6-ec4b37049eb7",
   "metadata": {},
   "outputs": [
    {
     "data": {
      "text/html": [
       "<div>\n",
       "<style scoped>\n",
       "    .dataframe tbody tr th:only-of-type {\n",
       "        vertical-align: middle;\n",
       "    }\n",
       "\n",
       "    .dataframe tbody tr th {\n",
       "        vertical-align: top;\n",
       "    }\n",
       "\n",
       "    .dataframe thead th {\n",
       "        text-align: right;\n",
       "    }\n",
       "</style>\n",
       "<table border=\"1\" class=\"dataframe\">\n",
       "  <thead>\n",
       "    <tr style=\"text-align: right;\">\n",
       "      <th></th>\n",
       "      <th>scenario_name</th>\n",
       "      <th>icao</th>\n",
       "      <th>holding_point</th>\n",
       "      <th>runway</th>\n",
       "      <th>time_to_takeoff_s</th>\n",
       "    </tr>\n",
       "  </thead>\n",
       "  <tbody>\n",
       "    <tr>\n",
       "      <th>0</th>\n",
       "      <td>scenario_001.parquet</td>\n",
       "      <td>34324e</td>\n",
       "      <td>K2</td>\n",
       "      <td>14L/32R</td>\n",
       "      <td>NaN</td>\n",
       "    </tr>\n",
       "    <tr>\n",
       "      <th>1</th>\n",
       "      <td>scenario_002.parquet</td>\n",
       "      <td>4bb26b</td>\n",
       "      <td>K1</td>\n",
       "      <td>14L/32R</td>\n",
       "      <td>NaN</td>\n",
       "    </tr>\n",
       "    <tr>\n",
       "      <th>2</th>\n",
       "      <td>scenario_003.parquet</td>\n",
       "      <td>3451d8</td>\n",
       "      <td>K3</td>\n",
       "      <td>14L/32R</td>\n",
       "      <td>NaN</td>\n",
       "    </tr>\n",
       "    <tr>\n",
       "      <th>3</th>\n",
       "      <td>scenario_004.parquet</td>\n",
       "      <td>3420ca</td>\n",
       "      <td>K2</td>\n",
       "      <td>14L/32R</td>\n",
       "      <td>NaN</td>\n",
       "    </tr>\n",
       "    <tr>\n",
       "      <th>4</th>\n",
       "      <td>scenario_005.parquet</td>\n",
       "      <td>344416</td>\n",
       "      <td>Z4</td>\n",
       "      <td>18R/36L</td>\n",
       "      <td>NaN</td>\n",
       "    </tr>\n",
       "    <tr>\n",
       "      <th>...</th>\n",
       "      <td>...</td>\n",
       "      <td>...</td>\n",
       "      <td>...</td>\n",
       "      <td>...</td>\n",
       "      <td>...</td>\n",
       "    </tr>\n",
       "    <tr>\n",
       "      <th>188</th>\n",
       "      <td>scenario_189.parquet</td>\n",
       "      <td>3445d4</td>\n",
       "      <td>Z4</td>\n",
       "      <td>18R/36L</td>\n",
       "      <td>NaN</td>\n",
       "    </tr>\n",
       "    <tr>\n",
       "      <th>189</th>\n",
       "      <td>scenario_190.parquet</td>\n",
       "      <td>4d251c</td>\n",
       "      <td>Z2</td>\n",
       "      <td>18R/36L</td>\n",
       "      <td>NaN</td>\n",
       "    </tr>\n",
       "    <tr>\n",
       "      <th>190</th>\n",
       "      <td>scenario_191.parquet</td>\n",
       "      <td>34628d</td>\n",
       "      <td>Z1</td>\n",
       "      <td>18R/36L</td>\n",
       "      <td>NaN</td>\n",
       "    </tr>\n",
       "    <tr>\n",
       "      <th>191</th>\n",
       "      <td>scenario_192.parquet</td>\n",
       "      <td>342107</td>\n",
       "      <td>Z4</td>\n",
       "      <td>18R/36L</td>\n",
       "      <td>NaN</td>\n",
       "    </tr>\n",
       "    <tr>\n",
       "      <th>192</th>\n",
       "      <td>scenario_193.parquet</td>\n",
       "      <td>344416</td>\n",
       "      <td>K2</td>\n",
       "      <td>14L/32R</td>\n",
       "      <td>NaN</td>\n",
       "    </tr>\n",
       "  </tbody>\n",
       "</table>\n",
       "<p>193 rows × 5 columns</p>\n",
       "</div>"
      ],
      "text/plain": [
       "            scenario_name    icao holding_point   runway  time_to_takeoff_s\n",
       "0    scenario_001.parquet  34324e            K2  14L/32R                NaN\n",
       "1    scenario_002.parquet  4bb26b            K1  14L/32R                NaN\n",
       "2    scenario_003.parquet  3451d8            K3  14L/32R                NaN\n",
       "3    scenario_004.parquet  3420ca            K2  14L/32R                NaN\n",
       "4    scenario_005.parquet  344416            Z4  18R/36L                NaN\n",
       "..                    ...     ...           ...      ...                ...\n",
       "188  scenario_189.parquet  3445d4            Z4  18R/36L                NaN\n",
       "189  scenario_190.parquet  4d251c            Z2  18R/36L                NaN\n",
       "190  scenario_191.parquet  34628d            Z1  18R/36L                NaN\n",
       "191  scenario_192.parquet  342107            Z4  18R/36L                NaN\n",
       "192  scenario_193.parquet  344416            K2  14L/32R                NaN\n",
       "\n",
       "[193 rows x 5 columns]"
      ]
     },
     "execution_count": 13,
     "metadata": {},
     "output_type": "execute_result"
    }
   ],
   "source": [
    "df_answers"
   ]
  },
  {
   "cell_type": "code",
   "execution_count": null,
   "id": "2b29cbb2-ea72-4c8b-8e1d-63ee776f5cf5",
   "metadata": {},
   "outputs": [],
   "source": []
  }
 ],
 "metadata": {
  "kernelspec": {
   "display_name": "Python [conda env:base] *",
   "language": "python",
   "name": "conda-base-py"
  },
  "language_info": {
   "codemirror_mode": {
    "name": "ipython",
    "version": 3
   },
   "file_extension": ".py",
   "mimetype": "text/x-python",
   "name": "python",
   "nbconvert_exporter": "python",
   "pygments_lexer": "ipython3",
   "version": "3.12.7"
  }
 },
 "nbformat": 4,
 "nbformat_minor": 5
}
