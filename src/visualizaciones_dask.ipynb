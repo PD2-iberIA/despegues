{
 "cells": [
  {
   "cell_type": "code",
   "execution_count": 13,
   "id": "77184604",
   "metadata": {},
   "outputs": [],
   "source": [
    "import importlib\n",
    "import dask.dataframe as dd\n",
    "import preprocess.utilities as ut\n",
    "\n",
    "from preprocess import dataframe_processor\n",
    "importlib.reload(dataframe_processor)\n",
    "from preprocess.dataframe_processor import DataframeProcessor\n",
    "\n",
    "import visualization.graphs as g\n",
    "\n",
    "\n"
   ]
  },
  {
   "cell_type": "code",
   "execution_count": 12,
   "id": "b3692e98",
   "metadata": {},
   "outputs": [],
   "source": [
    "# Load the data efficiently using Dask\n",
    "df = dd.read_parquet(\"./data/primeraSemanaDash.parquet\", engine=\"fastparquet\")\n",
    "\n",
    "# Convert timestamp to datetime (Dask supports it natively)\n",
    "df[\"Timestamp (date)\"] = dd.to_datetime(df[\"Timestamp (date)\"])"
   ]
  },
  {
   "cell_type": "code",
   "execution_count": null,
   "id": "3c0bd06b",
   "metadata": {},
   "outputs": [],
   "source": [
    "df_status = DataframeProcessor.getFlightStatus(df)\n",
    "df_status"
   ]
  },
  {
   "cell_type": "code",
   "execution_count": null,
   "id": "d70157d5",
   "metadata": {},
   "outputs": [],
   "source": [
    "# Creamos el df para las gráficas de tiempo de espera\n",
    "df_wait_times = DataframeProcessor.getWaitTimes(df)\n",
    "df_wait_times"
   ]
  },
  {
   "cell_type": "markdown",
   "id": "afd63cdf",
   "metadata": {},
   "source": [
    "### diagrama de barras"
   ]
  },
  {
   "cell_type": "code",
   "execution_count": null,
   "id": "9096138c",
   "metadata": {},
   "outputs": [],
   "source": [
    "fig_bar = g.graph_hourly_flight_status(df_status)\n",
    "fig_bar.show()\n"
   ]
  },
  {
   "cell_type": "markdown",
   "id": "f880c373",
   "metadata": {},
   "source": [
    "### histograma"
   ]
  },
  {
   "cell_type": "code",
   "execution_count": null,
   "id": "c3f55c9b",
   "metadata": {},
   "outputs": [],
   "source": [
    "fig_hist = g.histogram_wait_times(df_wait_times)\n",
    "fig_hist.show()"
   ]
  },
  {
   "cell_type": "markdown",
   "id": "35be064a",
   "metadata": {},
   "source": [
    "### boxplot"
   ]
  },
  {
   "cell_type": "code",
   "execution_count": null,
   "id": "c21e29a5",
   "metadata": {},
   "outputs": [],
   "source": [
    "fig_box = g.boxplot_wait_times(df_wait_times)\n",
    "fig_box.show()"
   ]
  },
  {
   "cell_type": "markdown",
   "id": "151996a1",
   "metadata": {},
   "source": [
    "### heatmap"
   ]
  },
  {
   "cell_type": "code",
   "execution_count": null,
   "id": "df6b2b66",
   "metadata": {},
   "outputs": [],
   "source": [
    "figure=g.heatmap_wait_times(df_wait_times)\n",
    "figure.show()"
   ]
  },
  {
   "cell_type": "code",
   "execution_count": null,
   "id": "41f31b5e",
   "metadata": {},
   "outputs": [],
   "source": []
  }
 ],
 "metadata": {
  "kernelspec": {
   "display_name": "Python 3 (ipykernel)",
   "language": "python",
   "name": "python3"
  },
  "language_info": {
   "codemirror_mode": {
    "name": "ipython",
    "version": 3
   },
   "file_extension": ".py",
   "mimetype": "text/x-python",
   "name": "python",
   "nbconvert_exporter": "python",
   "pygments_lexer": "ipython3",
   "version": "3.11.5"
  }
 },
 "nbformat": 4,
 "nbformat_minor": 5
}
