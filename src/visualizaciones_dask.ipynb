{
 "cells": [
  {
   "cell_type": "code",
   "execution_count": 15,
   "id": "103a058e",
   "metadata": {},
   "outputs": [],
   "source": [
    "import importlib\n",
    "import dask.dataframe as dd\n",
    "import preprocess.utilities as ut\n",
    "\n",
    "from preprocess import dataframe_processor\n",
    "importlib.reload(dataframe_processor)\n",
    "from preprocess.dataframe_processor import DataframeProcessor\n",
    "\n",
    "import visualization.graphs as g\n",
    "\n",
    "\n"
   ]
  },
  {
   "cell_type": "code",
   "execution_count": 12,
   "id": "7c43b58d",
   "metadata": {},
   "outputs": [],
   "source": [
    "# Load the data efficiently using Dask\n",
    "df = dd.read_parquet(\"./data/primeraSemanaDash.parquet\", engine=\"fastparquet\")\n",
    "\n",
    "# Convert timestamp to datetime (Dask supports it natively)\n",
    "df[\"Timestamp (date)\"] = dd.to_datetime(df[\"Timestamp (date)\"])"
   ]
  },
  {
   "cell_type": "code",
   "execution_count": 16,
   "id": "436a31fe",
   "metadata": {},
   "outputs": [
    {
     "ename": "TypeError",
     "evalue": "cannot concatenate object of type '<class 'dask.dataframe.core.DataFrame'>'; only Series and DataFrame objs are valid",
     "output_type": "error",
     "traceback": [
      "\u001b[0;31m---------------------------------------------------------------------------\u001b[0m",
      "\u001b[0;31mTypeError\u001b[0m                                 Traceback (most recent call last)",
      "Cell \u001b[0;32mIn[16], line 1\u001b[0m\n\u001b[0;32m----> 1\u001b[0m df_status \u001b[38;5;241m=\u001b[39m DataframeProcessor\u001b[38;5;241m.\u001b[39mgetFlightStatus(df)\n\u001b[1;32m      2\u001b[0m df_status\n",
      "File \u001b[0;32m~/Dropbox/UCM/PD2/despegues/src/preprocess/dataframe_processor.py:21\u001b[0m, in \u001b[0;36mDataframeProcessor.getFlightStatus\u001b[0;34m(df)\u001b[0m\n\u001b[1;32m     12\u001b[0m \u001b[38;5;250m\u001b[39m\u001b[38;5;124;03m\"\"\"Crea el DataFrame para el diagrama de barras de aviones aterrizados vs en vuelo.\u001b[39;00m\n\u001b[1;32m     13\u001b[0m \n\u001b[1;32m     14\u001b[0m \u001b[38;5;124;03mParámetros:\u001b[39;00m\n\u001b[0;32m   (...)\u001b[0m\n\u001b[1;32m     18\u001b[0m \u001b[38;5;124;03m    df_status: DataFrame transformado.\u001b[39;00m\n\u001b[1;32m     19\u001b[0m \u001b[38;5;124;03m\"\"\"\u001b[39;00m\n\u001b[1;32m     20\u001b[0m \u001b[38;5;66;03m# Conseguimos el df con todos los datos necesarios->flight status en todos los callsign\u001b[39;00m\n\u001b[0;32m---> 21\u001b[0m df1 \u001b[38;5;241m=\u001b[39m DataframeProcessor\u001b[38;5;241m.\u001b[39mgetVelocities(df)\n\u001b[1;32m     22\u001b[0m df2 \u001b[38;5;241m=\u001b[39m DataframeProcessor\u001b[38;5;241m.\u001b[39mgetFlights(df)\n\u001b[1;32m     24\u001b[0m df1_s \u001b[38;5;241m=\u001b[39m df1\u001b[38;5;241m.\u001b[39msort_values([\u001b[38;5;124m\"\u001b[39m\u001b[38;5;124mTimestamp (date)\u001b[39m\u001b[38;5;124m\"\u001b[39m, \u001b[38;5;124m\"\u001b[39m\u001b[38;5;124mICAO\u001b[39m\u001b[38;5;124m\"\u001b[39m])\n",
      "File \u001b[0;32m~/Dropbox/UCM/PD2/despegues/src/preprocess/dataframe_processor.py:200\u001b[0m, in \u001b[0;36mDataframeProcessor.getVelocities\u001b[0;34m(df)\u001b[0m\n\u001b[1;32m    197\u001b[0m df_vel_air_pos \u001b[38;5;241m=\u001b[39m df_vel_air_pos[[\u001b[38;5;124m\"\u001b[39m\u001b[38;5;124mTimestamp (date)\u001b[39m\u001b[38;5;124m\"\u001b[39m, \u001b[38;5;124m\"\u001b[39m\u001b[38;5;124mICAO\u001b[39m\u001b[38;5;124m\"\u001b[39m, \u001b[38;5;124m\"\u001b[39m\u001b[38;5;124mFlight status\u001b[39m\u001b[38;5;124m\"\u001b[39m, \u001b[38;5;124m\"\u001b[39m\u001b[38;5;124mSpeed\u001b[39m\u001b[38;5;124m\"\u001b[39m, \u001b[38;5;124m\"\u001b[39m\u001b[38;5;124mlat\u001b[39m\u001b[38;5;124m\"\u001b[39m, \u001b[38;5;124m\"\u001b[39m\u001b[38;5;124mlon\u001b[39m\u001b[38;5;124m\"\u001b[39m]]\n\u001b[1;32m    199\u001b[0m \u001b[38;5;66;03m# El df que buscamos con esto tiene: velocidades de aviones en tierra y velocidades+posiciones de aviones en el aire\u001b[39;00m\n\u001b[0;32m--> 200\u001b[0m df_vel_final \u001b[38;5;241m=\u001b[39m pd\u001b[38;5;241m.\u001b[39mconcat([df_vel_ground, df_vel_air_pos])\n\u001b[1;32m    201\u001b[0m df_vel_final[\u001b[38;5;124m\"\u001b[39m\u001b[38;5;124mSpeed\u001b[39m\u001b[38;5;124m\"\u001b[39m] \u001b[38;5;241m=\u001b[39m df_vel_final[\u001b[38;5;124m\"\u001b[39m\u001b[38;5;124mSpeed\u001b[39m\u001b[38;5;124m\"\u001b[39m]\u001b[38;5;241m.\u001b[39mapply(ut\u001b[38;5;241m.\u001b[39mknots_to_kmh)\n\u001b[1;32m    203\u001b[0m \u001b[38;5;28;01mreturn\u001b[39;00m df_vel_final\n",
      "File \u001b[0;32m~/anaconda3/lib/python3.11/site-packages/pandas/core/reshape/concat.py:372\u001b[0m, in \u001b[0;36mconcat\u001b[0;34m(objs, axis, join, ignore_index, keys, levels, names, verify_integrity, sort, copy)\u001b[0m\n\u001b[1;32m    369\u001b[0m \u001b[38;5;28;01melif\u001b[39;00m copy \u001b[38;5;129;01mand\u001b[39;00m using_copy_on_write():\n\u001b[1;32m    370\u001b[0m     copy \u001b[38;5;241m=\u001b[39m \u001b[38;5;28;01mFalse\u001b[39;00m\n\u001b[0;32m--> 372\u001b[0m op \u001b[38;5;241m=\u001b[39m _Concatenator(\n\u001b[1;32m    373\u001b[0m     objs,\n\u001b[1;32m    374\u001b[0m     axis\u001b[38;5;241m=\u001b[39maxis,\n\u001b[1;32m    375\u001b[0m     ignore_index\u001b[38;5;241m=\u001b[39mignore_index,\n\u001b[1;32m    376\u001b[0m     join\u001b[38;5;241m=\u001b[39mjoin,\n\u001b[1;32m    377\u001b[0m     keys\u001b[38;5;241m=\u001b[39mkeys,\n\u001b[1;32m    378\u001b[0m     levels\u001b[38;5;241m=\u001b[39mlevels,\n\u001b[1;32m    379\u001b[0m     names\u001b[38;5;241m=\u001b[39mnames,\n\u001b[1;32m    380\u001b[0m     verify_integrity\u001b[38;5;241m=\u001b[39mverify_integrity,\n\u001b[1;32m    381\u001b[0m     copy\u001b[38;5;241m=\u001b[39mcopy,\n\u001b[1;32m    382\u001b[0m     sort\u001b[38;5;241m=\u001b[39msort,\n\u001b[1;32m    383\u001b[0m )\n\u001b[1;32m    385\u001b[0m \u001b[38;5;28;01mreturn\u001b[39;00m op\u001b[38;5;241m.\u001b[39mget_result()\n",
      "File \u001b[0;32m~/anaconda3/lib/python3.11/site-packages/pandas/core/reshape/concat.py:462\u001b[0m, in \u001b[0;36m_Concatenator.__init__\u001b[0;34m(self, objs, axis, join, keys, levels, names, ignore_index, verify_integrity, copy, sort)\u001b[0m\n\u001b[1;32m    457\u001b[0m     \u001b[38;5;28;01mif\u001b[39;00m \u001b[38;5;129;01mnot\u001b[39;00m \u001b[38;5;28misinstance\u001b[39m(obj, (ABCSeries, ABCDataFrame)):\n\u001b[1;32m    458\u001b[0m         msg \u001b[38;5;241m=\u001b[39m (\n\u001b[1;32m    459\u001b[0m             \u001b[38;5;124mf\u001b[39m\u001b[38;5;124m\"\u001b[39m\u001b[38;5;124mcannot concatenate object of type \u001b[39m\u001b[38;5;124m'\u001b[39m\u001b[38;5;132;01m{\u001b[39;00m\u001b[38;5;28mtype\u001b[39m(obj)\u001b[38;5;132;01m}\u001b[39;00m\u001b[38;5;124m'\u001b[39m\u001b[38;5;124m; \u001b[39m\u001b[38;5;124m\"\u001b[39m\n\u001b[1;32m    460\u001b[0m             \u001b[38;5;124m\"\u001b[39m\u001b[38;5;124monly Series and DataFrame objs are valid\u001b[39m\u001b[38;5;124m\"\u001b[39m\n\u001b[1;32m    461\u001b[0m         )\n\u001b[0;32m--> 462\u001b[0m         \u001b[38;5;28;01mraise\u001b[39;00m \u001b[38;5;167;01mTypeError\u001b[39;00m(msg)\n\u001b[1;32m    464\u001b[0m     ndims\u001b[38;5;241m.\u001b[39madd(obj\u001b[38;5;241m.\u001b[39mndim)\n\u001b[1;32m    466\u001b[0m \u001b[38;5;66;03m# get the sample\u001b[39;00m\n\u001b[1;32m    467\u001b[0m \u001b[38;5;66;03m# want the highest ndim that we have, and must be non-empty\u001b[39;00m\n\u001b[1;32m    468\u001b[0m \u001b[38;5;66;03m# unless all objs are empty\u001b[39;00m\n",
      "\u001b[0;31mTypeError\u001b[0m: cannot concatenate object of type '<class 'dask.dataframe.core.DataFrame'>'; only Series and DataFrame objs are valid"
     ]
    }
   ],
   "source": [
    "df_status = DataframeProcessor.getFlightStatus(df)\n",
    "df_status"
   ]
  },
  {
   "cell_type": "code",
   "execution_count": null,
   "id": "dfc729fa",
   "metadata": {},
   "outputs": [],
   "source": [
    "# Creamos el df para las gráficas de tiempo de espera\n",
    "df_wait_times = DataframeProcessor.getWaitTimes(df)\n",
    "df_wait_times"
   ]
  },
  {
   "cell_type": "markdown",
   "id": "7e6fde48",
   "metadata": {},
   "source": [
    "### diagrama de barras"
   ]
  },
  {
   "cell_type": "code",
   "execution_count": null,
   "id": "966eb5a5",
   "metadata": {},
   "outputs": [],
   "source": [
    "fig_bar = g.graph_hourly_flight_status(df_status)\n",
    "fig_bar.show()\n"
   ]
  },
  {
   "cell_type": "markdown",
   "id": "06dbbc76",
   "metadata": {},
   "source": [
    "### histograma"
   ]
  },
  {
   "cell_type": "code",
   "execution_count": null,
   "id": "e83dce0e",
   "metadata": {},
   "outputs": [],
   "source": [
    "fig_hist = g.histogram_wait_times(df_wait_times)\n",
    "fig_hist.show()"
   ]
  },
  {
   "cell_type": "markdown",
   "id": "d54f74dd",
   "metadata": {},
   "source": [
    "### boxplot"
   ]
  },
  {
   "cell_type": "code",
   "execution_count": null,
   "id": "bcd2ed86",
   "metadata": {},
   "outputs": [],
   "source": [
    "fig_box = g.boxplot_wait_times(df_wait_times)\n",
    "fig_box.show()"
   ]
  },
  {
   "cell_type": "markdown",
   "id": "d8c8796e",
   "metadata": {},
   "source": [
    "### heatmap"
   ]
  },
  {
   "cell_type": "code",
   "execution_count": null,
   "id": "527b75a4",
   "metadata": {},
   "outputs": [],
   "source": [
    "figure=g.heatmap_wait_times(df_wait_times)\n",
    "figure.show()"
   ]
  },
  {
   "cell_type": "code",
   "execution_count": null,
   "id": "2a09143d",
   "metadata": {},
   "outputs": [],
   "source": []
  }
 ],
 "metadata": {
  "kernelspec": {
   "display_name": "Python 3 (ipykernel)",
   "language": "python",
   "name": "python3"
  },
  "language_info": {
   "codemirror_mode": {
    "name": "ipython",
    "version": 3
   },
   "file_extension": ".py",
   "mimetype": "text/x-python",
   "name": "python",
   "nbconvert_exporter": "python",
   "pygments_lexer": "ipython3",
   "version": "3.11.5"
  }
 },
 "nbformat": 4,
 "nbformat_minor": 5
}
