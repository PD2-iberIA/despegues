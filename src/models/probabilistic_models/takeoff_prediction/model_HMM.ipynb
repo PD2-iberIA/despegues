{
 "cells": [
  {
   "cell_type": "markdown",
   "id": "97ea4c08-82a1-47d7-b8f5-97e13d206d1a",
   "metadata": {},
   "source": [
    "# MODELO PROBABILISTA: NAÏVE BAYES"
   ]
  },
  {
   "cell_type": "code",
   "execution_count": 1,
   "id": "initial_id",
   "metadata": {},
   "outputs": [],
   "source": [
    "import findspark\n",
    "findspark.init()\n",
    "\n",
    "import pyspark                                 # only run after findspark.init()\n",
    "from pyspark.sql import SparkSession\n",
    "spark = SparkSession.builder.getOrCreate()\n",
    "\n",
    "sc = spark.sparkContext"
   ]
  },
  {
   "cell_type": "code",
   "execution_count": 2,
   "id": "66ff75a7-3215-4dab-87d2-6d15e67da7da",
   "metadata": {},
   "outputs": [
    {
     "name": "stdout",
     "output_type": "stream",
     "text": [
      "TRAIN\n",
      "+------------+--------------------+------+--------+-------------+-------+--------+-------------------+-----------------+-----------------+-------------------+-----------------------------+-------------------------+---------------------+----+-------+----------+-----+-----+-----+-----+-----+-----+-----+-----+-----+-----+-----+----+-----+-----+-----+-----+-----+-----+-----+-----+-----+-------+-------+-------+-------+-------------------+------------------------+-----------------+------------------+-------------+-----------------------+----------------------+---------------+-------------------+-------------------+--------------------+---------+---------------------+----------------------+-----------------------+------------------------------+----------------------------------+----------------------------------+-------------------------------+-----------------+\n",
      "|takeoff_time|           timestamp|  icao|callsign|holding_point| runway|operator|turbulence_category|last_min_takeoffs|last_min_landings|last_event_turb_cat|time_since_last_event_seconds|time_before_holding_point|time_at_holding_point|hour|weekday|is_holiday|   Z1|  KA6|  KA8|   K3|   K2|   K1|   Y1|   Y2|   Y3|   Y7|   Z6|  Z4|   Z2|   Z3|   LF|   L1|   LA|   LB|   LC|   LD|   LE|36R_18L|32R_14L|36L_18R|32L_14R|temperature_2m (°C)|relative_humidity_2m (%)|dew_point_2m (°C)|precipitation (mm)|snowfall (cm)|weather_code (wmo code)|surface_pressure (hPa)|cloud_cover (%)|cloud_cover_low (%)|cloud_cover_mid (%)|cloud_cover_high (%)|is_day ()|wind_speed_10m (km/h)|wind_direction_10m (°)|wind_direction_100m (°)|soil_moisture_0_to_7cm (m³/m³)|soil_temperature_100_to_255cm (°C)|soil_moisture_100_to_255cm (m³/m³)|et0_fao_evapotranspiration (mm)|__index_level_0__|\n",
      "+------------+--------------------+------+--------+-------------+-------+--------+-------------------+-----------------+-----------------+-------------------+-----------------------------+-------------------------+---------------------+----+-------+----------+-----+-----+-----+-----+-----+-----+-----+-----+-----+-----+-----+----+-----+-----+-----+-----+-----+-----+-----+-----+-----+-------+-------+-------+-------+-------------------+------------------------+-----------------+------------------+-------------+-----------------------+----------------------+---------------+-------------------+-------------------+--------------------+---------+---------------------+----------------------+-----------------------+------------------------------+----------------------------------+----------------------------------+-------------------------------+-----------------+\n",
      "|       303.0|2024-11-07 05:02:...|4CAC23|RYR99AM_|           Z4|36L/18R|     RYR|              Light|                0|                1|           Medium 1|                          476|                    746.0|                  0.0|   5|    Thu|     false|false|false|false|false|false|false|false|false|false|false|false|true|false|false|false|false|false|false|false|false|false|  false|  false|  false|  false|                9.0|                      96|              8.4|               0.0|          0.0|                      0|                 952.7|              2|                  2|                  0|                   0|        0|                  6.0|                     3|                     41|                         0.316|                              20.4|                             0.164|                            0.0|                0|\n",
      "+------------+--------------------+------+--------+-------------+-------+--------+-------------------+-----------------+-----------------+-------------------+-----------------------------+-------------------------+---------------------+----+-------+----------+-----+-----+-----+-----+-----+-----+-----+-----+-----+-----+-----+----+-----+-----+-----+-----+-----+-----+-----+-----+-----+-------+-------+-------+-------+-------------------+------------------------+-----------------+------------------+-------------+-----------------------+----------------------+---------------+-------------------+-------------------+--------------------+---------+---------------------+----------------------+-----------------------+------------------------------+----------------------------------+----------------------------------+-------------------------------+-----------------+\n",
      "only showing top 1 row\n",
      "\n",
      "TEST\n",
      "+------------+--------------------+------+--------+-------------+-------+--------+--------------------+-----------------+-----------------+-------------------+-----------------------------+-------------------------+---------------------+----+-------+----------+-----+-----+-----+-----+-----+-----+----+-----+-----+-----+-----+-----+----+-----+-----+-----+-----+-----+-----+-----+-----+-------+-------+-------+-------+-------------------+------------------------+-----------------+------------------+-------------+-----------------------+----------------------+---------------+-------------------+-------------------+--------------------+---------+---------------------+----------------------+-----------------------+------------------------------+----------------------------------+----------------------------------+-------------------------------+-----------------+\n",
      "|takeoff_time|           timestamp|  icao|callsign|holding_point| runway|operator| turbulence_category|last_min_takeoffs|last_min_landings|last_event_turb_cat|time_since_last_event_seconds|time_before_holding_point|time_at_holding_point|hour|weekday|is_holiday|   Z1|  KA6|  KA8|   K3|   K2|   K1|  Y1|   Y2|   Y3|   Y7|   Z6|   Z4|  Z2|   Z3|   LF|   L1|   LA|   LB|   LC|   LD|   LE|36R_18L|32R_14L|36L_18R|32L_14R|temperature_2m (°C)|relative_humidity_2m (%)|dew_point_2m (°C)|precipitation (mm)|snowfall (cm)|weather_code (wmo code)|surface_pressure (hPa)|cloud_cover (%)|cloud_cover_low (%)|cloud_cover_mid (%)|cloud_cover_high (%)|is_day ()|wind_speed_10m (km/h)|wind_direction_10m (°)|wind_direction_100m (°)|soil_moisture_0_to_7cm (m³/m³)|soil_temperature_100_to_255cm (°C)|soil_moisture_100_to_255cm (m³/m³)|et0_fao_evapotranspiration (mm)|__index_level_0__|\n",
      "+------------+--------------------+------+--------+-------------+-------+--------+--------------------+-----------------+-----------------+-------------------+-----------------------------+-------------------------+---------------------+----+-------+----------+-----+-----+-----+-----+-----+-----+----+-----+-----+-----+-----+-----+----+-----+-----+-----+-----+-----+-----+-----+-----+-------+-------+-------+-------+-------------------+------------------------+-----------------+------------------+-------------+-----------------------+----------------------+---------------+-------------------+-------------------+--------------------+---------+---------------------+----------------------+-----------------------+------------------------------+----------------------------------+----------------------------------+-------------------------------+-----------------+\n",
      "|       211.0|2025-01-15 06:12:...|34750A|AEA5035_|           Z2|36L/18R|     AEA|High vortex aircraft|                1|                0|           Medium 2|                           73|                    964.0|                  0.0|   6|    Wed|     false|false|false|false|false|false|false|true|false|false|false|false|false|true|false|false|false|false|false|false|false|false|  false|  false|  false|  false|               -5.1|                      83|             -7.6|               0.0|          0.0|                      0|                 955.7|              0|                  0|                  0|                   0|        0|                  5.4|                    20|                     39|                          0.12|                              15.3|                             0.141|                            0.0|           124164|\n",
      "+------------+--------------------+------+--------+-------------+-------+--------+--------------------+-----------------+-----------------+-------------------+-----------------------------+-------------------------+---------------------+----+-------+----------+-----+-----+-----+-----+-----+-----+----+-----+-----+-----+-----+-----+----+-----+-----+-----+-----+-----+-----+-----+-----+-------+-------+-------+-------+-------------------+------------------------+-----------------+------------------+-------------+-----------------------+----------------------+---------------+-------------------+-------------------+--------------------+---------+---------------------+----------------------+-----------------------+------------------------------+----------------------------------+----------------------------------+-------------------------------+-----------------+\n",
      "only showing top 1 row\n",
      "\n"
     ]
    }
   ],
   "source": [
    "# Leemos los parquets\n",
    "train_data = spark.read.parquet(\"train_spark.parquet\")\n",
    "test_data = spark.read.parquet(\"test_spark.parquet\")\n",
    "\n",
    "# Mostramos para verificar\n",
    "print(\"TRAIN\")\n",
    "train_data.show(1, truncate=True)\n",
    "print(\"TEST\")\n",
    "test_data.show(1, truncate=True)"
   ]
  },
  {
   "cell_type": "markdown",
   "id": "05768835-1ac0-4099-b363-722f4db56967",
   "metadata": {},
   "source": [
    "## REPRESENTACIÓN GRÁFICA"
   ]
  },
  {
   "cell_type": "markdown",
   "id": "eb06881c-b019-483a-a961-016d8c73b1e5",
   "metadata": {},
   "source": [
    " 1. Agrupar por callsign y quedarte con el timestamp más reciente"
   ]
  },
  {
   "cell_type": "code",
   "execution_count": 3,
   "id": "19252099-3135-4126-9c32-d893e53182d5",
   "metadata": {},
   "outputs": [],
   "source": [
    "import pyspark.sql.functions as f\n",
    "from pyspark.sql.window import Window\n",
    "\n",
    "import pyspark.sql.functions as f\n",
    "from pyspark.sql.window import Window\n",
    "\n",
    "def get_latest_per_callsign(df):\n",
    "    \"\"\"\n",
    "    Para cada 'callsign', selecciona la fila con el timestamp más reciente.\n",
    "    \"\"\"\n",
    "    # Definir la ventana\n",
    "    window_spec = Window.partitionBy(\"callsign\").orderBy(f.col(\"timestamp\").desc())\n",
    "    \n",
    "    # Añadir columna de número de fila\n",
    "    df_with_rownum = df.withColumn(\"row_number\", f.row_number().over(window_spec))\n",
    "    \n",
    "    # Filtrar la fila más reciente de cada 'callsign'\n",
    "    latest_per_callsign = df_with_rownum.filter(f.col(\"row_number\") == 1).drop(\"row_number\")\n",
    "    \n",
    "    return latest_per_callsign"
   ]
  },
  {
   "cell_type": "code",
   "execution_count": 4,
   "id": "6759b32c-c110-4623-8a21-15dffba67ddd",
   "metadata": {},
   "outputs": [],
   "source": [
    "train_data_graph = get_latest_per_callsign(train_data)\n",
    "test_data_graph = get_latest_per_callsign(test_data)"
   ]
  },
  {
   "cell_type": "markdown",
   "id": "588a539e-f229-43bb-bf33-809362c0f713",
   "metadata": {},
   "source": [
    "2. Histograma y Boxplot (usando takeoff_time como ejemplo de variable respuesta)\n",
    "\n",
    "Para visualizar estos gráficos, lo más práctico es convertir el resultado a un pandas.DataFrame:"
   ]
  },
  {
   "cell_type": "markdown",
   "id": "ae906333-ff3b-4bfa-8d9e-ba11b2d8f872",
   "metadata": {},
   "source": [
    "Ahora puedes usar matplotlib o seaborn:"
   ]
  },
  {
   "cell_type": "code",
   "execution_count": 5,
   "id": "83d26cbb-872b-4a7c-b46e-92c5043f7118",
   "metadata": {},
   "outputs": [],
   "source": [
    "import matplotlib.pyplot as plt\n",
    "import seaborn as sns\n",
    "\n",
    "def plot_feature_distribution(df, feature_col):\n",
    "    \"\"\"\n",
    "    Dado un dataframe de Spark, selecciona una columna y genera el histograma y boxplot usando pandas + seaborn.\n",
    "    \"\"\"\n",
    "    # Convertimos a pandas (precaución: solo si no es demasiado grande)\n",
    "    feature_pd = df.select(feature_col).toPandas()\n",
    "    \n",
    "    # Histograma\n",
    "    plt.figure(figsize=(10, 4))\n",
    "    sns.histplot(feature_pd[feature_col], bins=30, kde=True)\n",
    "    plt.title(f\"Histograma de {feature_col}\")\n",
    "    plt.xlabel(feature_col)\n",
    "    plt.ylabel(\"Frecuencia\")\n",
    "    plt.show()\n",
    "\n",
    "    # Boxplot\n",
    "    plt.figure(figsize=(10, 4))\n",
    "    sns.boxplot(x=feature_pd[feature_col])\n",
    "    plt.title(f\"Boxplot de {feature_col}\")\n",
    "    plt.xlabel(feature_col)\n",
    "    plt.show()"
   ]
  },
  {
   "cell_type": "code",
   "execution_count": 6,
   "id": "bad6a729-38fe-4498-8d6d-60ea79a70f2d",
   "metadata": {},
   "outputs": [
    {
     "data": {
      "image/png": "[encoded data removed]",
      "text/plain": [
       "<Figure size 1000x400 with 1 Axes>"
      ]
     },
     "metadata": {},
     "output_type": "display_data"
    },
    {
     "data": {
      "image/png": "[encoded data removed]",
      "text/plain": [
       "<Figure size 1000x400 with 1 Axes>"
      ]
     },
     "metadata": {},
     "output_type": "display_data"
    },
    {
     "data": {
      "image/png": "[encoded data removed]",
      "text/plain": [
       "<Figure size 1000x400 with 1 Axes>"
      ]
     },
     "metadata": {},
     "output_type": "display_data"
    },
    {
     "data": {
      "image/png": "[encoded data removed]",
      "text/plain": [
       "<Figure size 1000x400 with 1 Axes>"
      ]
     },
     "metadata": {},
     "output_type": "display_data"
    }
   ],
   "source": [
    "# Graficar la distribución de la variable 'takeoff_time' en train\n",
    "plot_feature_distribution(train_data_graph, \"takeoff_time\")\n",
    "\n",
    "# Si quisieras también graficar en test\n",
    "plot_feature_distribution(test_data_graph, \"takeoff_time\")"
   ]
  },
  {
   "cell_type": "markdown",
   "id": "589a17d1-043f-4a38-a7cd-35efb6741186",
   "metadata": {},
   "source": [
    "**¿Qué representa cada barra del histograma?**\n",
    "\n",
    "Cada barra del histograma te dice cuántos aviones (últimos mensajes) tenían un determinado valor (o rango) de takeoff_time.\n",
    "Por ejemplo:\n",
    "- Una barra centrada en 100 te diría que hay varios mensajes cuyo takeoff_time era de 100 segundos antes de despegar.\n",
    "- Una barra cerca de 0 significa mensajes muy pegados al despegue.\n",
    "\n",
    "**¿Qué representa este boxplot exactamente?**\n",
    "\n",
    "El boxplot que estamos generando representa cómo se distribuye el tiempo restante hasta el despegue (takeoff_time, en segundos) justo en el último mensaje de cada callsign.\n",
    "\n",
    "- Cada punto del boxplot es un avión, representado por su último mensaje antes del despegue.\n",
    "- El valor en el eje X es el número de segundos que faltaban para el despegue en ese momento (takeoff_time).\n",
    "- Estás visualizando cómo se agrupan estos tiempos:\n",
    "    - La caja central muestra el 50% de los vuelos con tiempos más cercanos a la mediana.\n",
    "    - Las \"whiskers\" (líneas que salen de la caja) muestran el rango de valores más comunes.\n",
    "    - Los puntos fuera de las whiskers son potenciales outliers: mensajes enviados muy lejos o muy cerca del despegue comparado con el resto."
   ]
  },
  {
   "cell_type": "markdown",
   "id": "56939b58-580f-4adc-afcf-f098ab52d342",
   "metadata": {},
   "source": [
    "## VARIABLE OBJETIVO\n",
    "\n",
    "Vamos a predecir si un avión ha despegado en el siguiente estado (es decir, si despega o no tras un determinado momento, midámoslo, por ejemplo, en minutos), entonces vamos a necesitar una variable objetivo binaria que indique si el avión despegó o no después de ese instante (después de ese minuto).\n",
    "\n",
    "De momento, tenemos columnas que puedan aportar pistas, pero no son directamente una variable binaria que haga referencia a lo que queremos predecir.\n",
    "\n",
    "- 'takeoff_time' ✅ → Esta es la más prometedora, pues indica el tiempo que trascurre desde que llega a un punto de espera hasta que finalmente despega (en segundos).\n",
    "\n",
    "\n",
    "Entonces, el objetivo es predecir si un avión va a despegar o no en el estado siguiente, por lo que vamos a medir un estado entero como 30 segundos. Es decir, predeciremos si un avión va a despegar o no en los próximos 30 segundos (este dato nos lo da la variable ```takeoff_time```)\n",
    "\n",
    "La variable objetivo se llamará ```will_takeoff_afterX```, y tomará el valor:\n",
    "- ```0```: si despegará de 0 a 30 segundos\n",
    "- ```1```: si despegará de 30 a 60 segundos\n",
    "- ```2```: si despegará de 60 a 90 segundos\n",
    "- ```3```: si despegará de 90 a 120 segundos\n",
    "- ```4```: si despegará de 120 a 150 segundos\n",
    "- ```5```: si despegará de 150 a 180 segundos\n",
    "- ```6```: si despegará a partir de los 180 segundos\n",
    "\n",
    "Por tanto, se trata de una variable categórica multiclase.\n",
    "\n",
    "La decisión de los 100 segundos se escogió tras un análisis exhaustivo de los datos de los que disponemos actualmente, mostrando el histograma de distribución del tiempo de despegue de los aviones (```takeoff_time```), donde pudimos ver que el valor en el que había más frecuencia de ejemplos era a los 100 segundos, y que esa frecuencia iba menguando hasta los 400 segundos, donde dejó de ser notoria. "
   ]
  },
  {
   "cell_type": "code",
   "execution_count": 7,
   "id": "82a9e822-fcec-4267-b9fa-c3ddb88b49e7",
   "metadata": {},
   "outputs": [],
   "source": [
    "def create_target_variable(df, source_col=\"takeoff_time\", target_col=\"will_takeoff_afterX\"):\n",
    "    \"\"\"\n",
    "    Crea una variable categórica (target) basada en rangos de la columna source_col.\n",
    "    Los rangos que se crean son:\n",
    "    - < 30 --> 0\n",
    "    - < 60 --> 1\n",
    "    - < 90 --> 2\n",
    "    - < 120 --> 3\n",
    "    - < 150 --> 4\n",
    "    - < 180 --> 5\n",
    "    - >= 180 --> 6\n",
    "    \"\"\"\n",
    "    df = df.withColumn(target_col,\n",
    "        f.when(f.col(source_col) < 30, 0)\n",
    "         .when(f.col(source_col) < 60, 1)\n",
    "         .when(f.col(source_col) < 90, 2)\n",
    "         .when(f.col(source_col) < 120, 3)         \n",
    "         .when(f.col(source_col) < 150, 4)\n",
    "         .when(f.col(source_col) < 180, 5)\n",
    "         .otherwise(6)\n",
    "    )\n",
    "    return df"
   ]
  },
  {
   "cell_type": "code",
   "execution_count": 8,
   "id": "2b51b9e1-77a7-4460-8e11-9338008acc01",
   "metadata": {},
   "outputs": [
    {
     "name": "stdout",
     "output_type": "stream",
     "text": [
      "+------------+-------------------+\n",
      "|takeoff_time|will_takeoff_afterX|\n",
      "+------------+-------------------+\n",
      "|79.0        |2                  |\n",
      "|102.0       |3                  |\n",
      "|88.0        |2                  |\n",
      "|99.0        |3                  |\n",
      "|138.0       |4                  |\n",
      "+------------+-------------------+\n",
      "only showing top 5 rows\n",
      "\n",
      "+------------+-------------------+\n",
      "|takeoff_time|will_takeoff_afterX|\n",
      "+------------+-------------------+\n",
      "|71.0        |2                  |\n",
      "|121.0       |4                  |\n",
      "|134.0       |4                  |\n",
      "|125.0       |4                  |\n",
      "|146.0       |4                  |\n",
      "+------------+-------------------+\n",
      "only showing top 5 rows\n",
      "\n",
      "+-------------------+-----+\n",
      "|will_takeoff_afterX|count|\n",
      "+-------------------+-----+\n",
      "|                  1|   18|\n",
      "|                  6|  145|\n",
      "|                  3|  368|\n",
      "|                  5|  141|\n",
      "|                  4|  182|\n",
      "|                  2|  165|\n",
      "+-------------------+-----+\n",
      "\n",
      "+-------------------+-----+\n",
      "|will_takeoff_afterX|count|\n",
      "+-------------------+-----+\n",
      "|                  1|   10|\n",
      "|                  6|   64|\n",
      "|                  3|  205|\n",
      "|                  5|   75|\n",
      "|                  4|  118|\n",
      "|                  2|   83|\n",
      "+-------------------+-----+\n",
      "\n"
     ]
    }
   ],
   "source": [
    "# Aplicar sobre train y test\n",
    "train_data_with_target = create_target_variable(train_data_graph)\n",
    "test_data_with_target = create_target_variable(test_data_graph)\n",
    "\n",
    "# Verificar\n",
    "train_data_with_target.select(\"takeoff_time\", \"will_takeoff_afterX\").show(5, truncate=False)\n",
    "test_data_with_target.select(\"takeoff_time\", \"will_takeoff_afterX\").show(5, truncate=False)\n",
    "\n",
    "# Contar la distribución de clases\n",
    "train_data_with_target.groupby(\"will_takeoff_afterX\").count().show()\n",
    "test_data_with_target.groupby(\"will_takeoff_afterX\").count().show()"
   ]
  },
  {
   "cell_type": "markdown",
   "id": "2a2234f1-43bc-496d-b237-1c968d30c6be",
   "metadata": {},
   "source": [
    "## FEATURE SELECTION\n",
    "\n",
    "\n",
    "Hay varias columnas que no aportan valor predictivo o que podrían introducir fuga de información (data leakage) si las usamos para predecir si un avión va a despegar en el siguiente instante.\n",
    "\n",
    "**NOTA**: Este es el análisis teórico de las variables, aunque ya las analizamos prácticamente durante el ejercicio 1 (modelos no probabilistas), donde fueron eliminadas las que debían eliminarse.\n",
    "\n",
    "**✅ Columnas útiles o potencialmente relevantes:**\n",
    "\n",
    "Estas columnas sí podrías considerar para el modelo:\n",
    "- ```'holding_point'```, ```'runway'```, ```'operator'```, ```'turbulence_category'```\n",
    "- ```'lat'```, ```'lon'``` (posición actual del avión)\n",
    "- ```'last_min_takeoffs'```, ```'last_min_landings'```, ```'time_since_last_event_seconds'```\n",
    "- ```'time_before_holding_point'```, ```'time_at_holding_point'```\n",
    "- ```'hour'```, ```'weekday'```, ```'is_holiday'```\n",
    "- Condiciones meteorológicas: ```'temperature_2m (°C)'```, ```'rain (mm)'```, ```'wind_speed_10m (km/h)'```, etc.\n",
    "- ```'is_day ()'```, ```'weather_code (wmo code)'```\n",
    "- ```'36R_18L'```, ```'32R_14L'```, etc. (si son booleanos indicando pista activa, podrían ser útiles)\n",
    "\n",
    "------------\n",
    "\n",
    "\n",
    "**🟡 Columnas dudosas / posiblemente redundantes (pt1):**\n",
    "\n",
    "- ```'first_holding_time'```: puede reflejar un paso previo al despegue, pero si se genera después del despegue, también sería fuga.\n",
    "- ```'last_event'```, ```'last_event_turb_cat'```: cuidado, podrían tener fugas si reflejan eventos después del despegue.\n",
    "\n",
    "**🟡 Columnas dudosas / posiblemente redundantes (pt2):**\n",
    "\n",
    "- ```'Z1'```, ```'KA6'```, ```'KA8'```, etc.: no está claro qué representan (¿zonas del aeropuerto?). Si son categóricas, podrías mantenerlas si crees que influyen en el comportamiento del avión.\n",
    "\n",
    "**Recomendaciones basadas en el análisis**:\n",
    "- Eliminar columnas con frecuencia muy baja (```Z6```, ```LA```, ```LB```, ```KA6```, ```KA8```) si estás preparando datos para un modelo de ML.\n",
    "- Explorar más profundamente las relaciones entre ```K1```, ```K2```, ```K3```, ```Y1```, y las combinaciones de lados (```36R_18L```, etc.).\n",
    "- Considerar usar otra métrica para datos booleanos, como correlación de Phi o coeficiente de Jaccard, si te interesa más precisión en variables binarias.\n",
    "------------------------------\n",
    "**❌ Columnas que deberíamos quitar del modelo:**\n",
    "\n",
    "1. Variables que contienen o dependen del futuro: Estas variables contienen el resultado que estamos intentando predecir. Usarlas sería trampa (data leakage).\n",
    "- ```'takeoff_time'```\n",
    "- ```'first_airborne_time'```\n",
    "- ```'first_on_ground_time'```\n",
    "- ```'event_timestamp'``` (depende del evento registrado, podría estar ya posterior al despegue)\n",
    "Pero, en cambio, ya las hemos usado para modelar la variable objetivo.\n",
    "\n",
    "2. Variables que son ID o irrelevantes para el modelo: Estas no aportan información útil para predecir, o son identificadores únicos.\n",
    "- ```'icao'``` (identificador del avión)\n",
    "- ```'callsign'``` (también es identificador específico del vuelo)\n",
    "- ```'timestamp'``` y ```'time'``` (pueden ser redundantes o innecesarios si ya tienes 'hour', 'weekday', etc.)\n",
    "-------------------"
   ]
  },
  {
   "cell_type": "code",
   "execution_count": 9,
   "id": "4d1455c5-f7db-483b-8040-181b43403bd1",
   "metadata": {},
   "outputs": [
    {
     "name": "stdout",
     "output_type": "stream",
     "text": [
      "+-----------------------+-------------+-------+--------+-------------------+-----------------+-----------------+-------------------+-----------------------------+-------------------------+---------------------+----+-------+----------+-----+-----+-----+-----+----+-----+-----+-----+-----+-----+-----+-----+-----+-----+-----+-----+-----+-----+-----+-----+-----+-------+-------+-------+-------+-------------------+------------------------+-----------------+------------------+-------------+-----------------------+----------------------+---------------+-------------------+-------------------+--------------------+---------+---------------------+----------------------+-----------------------+------------------------------+----------------------------------+----------------------------------+-------------------------------+-------------------+\n",
      "|timestamp              |holding_point|runway |operator|turbulence_category|last_min_takeoffs|last_min_landings|last_event_turb_cat|time_since_last_event_seconds|time_before_holding_point|time_at_holding_point|hour|weekday|is_holiday|Z1   |KA6  |KA8  |K3   |K2  |K1   |Y1   |Y2   |Y3   |Y7   |Z6   |Z4   |Z2   |Z3   |LF   |L1   |LA   |LB   |LC   |LD   |LE   |36R_18L|32R_14L|36L_18R|32L_14R|temperature_2m (°C)|relative_humidity_2m (%)|dew_point_2m (°C)|precipitation (mm)|snowfall (cm)|weather_code (wmo code)|surface_pressure (hPa)|cloud_cover (%)|cloud_cover_low (%)|cloud_cover_mid (%)|cloud_cover_high (%)|is_day ()|wind_speed_10m (km/h)|wind_direction_10m (°)|wind_direction_100m (°)|soil_moisture_0_to_7cm (m³/m³)|soil_temperature_100_to_255cm (°C)|soil_moisture_100_to_255cm (m³/m³)|et0_fao_evapotranspiration (mm)|will_takeoff_afterX|\n",
      "+-----------------------+-------------+-------+--------+-------------------+-----------------+-----------------+-------------------+-----------------------------+-------------------------+---------------------+----+-------+----------+-----+-----+-----+-----+----+-----+-----+-----+-----+-----+-----+-----+-----+-----+-----+-----+-----+-----+-----+-----+-----+-------+-------+-------+-------+-------------------+------------------------+-----------------+------------------+-------------+-----------------------+----------------------+---------------+-------------------+-------------------+--------------------+---------+---------------------+----------------------+-----------------------+------------------------------+----------------------------------+----------------------------------+-------------------------------+-------------------+\n",
      "|2024-11-15 10:10:44.547|K2           |32R/14L|1WE     |Medium 2           |1                |1                |Medium 1           |61                           |544.0                    |80.0                 |10  |Fri    |false     |false|false|false|false|true|false|false|false|false|false|false|false|false|false|false|false|false|false|false|false|false|false  |false  |true   |false  |10.4               |94                      |9.4              |0.0               |0.0          |3                      |950.3                 |100            |41                 |19                 |100                 |1        |9.5                  |44                    |61                     |0.219                         |20.7                              |0.141                             |0.01                           |2                  |\n",
      "+-----------------------+-------------+-------+--------+-------------------+-----------------+-----------------+-------------------+-----------------------------+-------------------------+---------------------+----+-------+----------+-----+-----+-----+-----+----+-----+-----+-----+-----+-----+-----+-----+-----+-----+-----+-----+-----+-----+-----+-----+-----+-------+-------+-------+-------+-------------------+------------------------+-----------------+------------------+-------------+-----------------------+----------------------+---------------+-------------------+-------------------+--------------------+---------+---------------------+----------------------+-----------------------+------------------------------+----------------------------------+----------------------------------+-------------------------------+-------------------+\n",
      "only showing top 1 row\n",
      "\n",
      "+-----------------------+-------------+-------+--------+-------------------+-----------------+-----------------+-------------------+-----------------------------+-------------------------+---------------------+----+-------+----------+-----+-----+-----+-----+-----+-----+-----+-----+-----+-----+-----+-----+-----+----+-----+-----+-----+-----+-----+-----+-----+-------+-------+-------+-------+-------------------+------------------------+-----------------+------------------+-------------+-----------------------+----------------------+---------------+-------------------+-------------------+--------------------+---------+---------------------+----------------------+-----------------------+------------------------------+----------------------------------+----------------------------------+-------------------------------+-------------------+\n",
      "|timestamp              |holding_point|runway |operator|turbulence_category|last_min_takeoffs|last_min_landings|last_event_turb_cat|time_since_last_event_seconds|time_before_holding_point|time_at_holding_point|hour|weekday|is_holiday|Z1   |KA6  |KA8  |K3   |K2   |K1   |Y1   |Y2   |Y3   |Y7   |Z6   |Z4   |Z2   |Z3  |LF   |L1   |LA   |LB   |LC   |LD   |LE   |36R_18L|32R_14L|36L_18R|32L_14R|temperature_2m (°C)|relative_humidity_2m (%)|dew_point_2m (°C)|precipitation (mm)|snowfall (cm)|weather_code (wmo code)|surface_pressure (hPa)|cloud_cover (%)|cloud_cover_low (%)|cloud_cover_mid (%)|cloud_cover_high (%)|is_day ()|wind_speed_10m (km/h)|wind_direction_10m (°)|wind_direction_100m (°)|soil_moisture_0_to_7cm (m³/m³)|soil_temperature_100_to_255cm (°C)|soil_moisture_100_to_255cm (m³/m³)|et0_fao_evapotranspiration (mm)|will_takeoff_afterX|\n",
      "+-----------------------+-------------+-------+--------+-------------------+-----------------+-----------------+-------------------+-----------------------------+-------------------------+---------------------+----+-------+----------+-----+-----+-----+-----+-----+-----+-----+-----+-----+-----+-----+-----+-----+----+-----+-----+-----+-----+-----+-----+-----+-------+-------+-------+-------+-------------------+------------------------+-----------------+------------------+-------------+-----------------------+----------------------+---------------+-------------------+-------------------+--------------------+---------+---------------------+----------------------+-----------------------+------------------------------+----------------------------------+----------------------------------+-------------------------------+-------------------+\n",
      "|2025-01-19 12:33:12.666|Z3           |36L/18R|AAL     |Medium 1           |1                |0                |Medium 1           |46                           |900.0                    |2.0                  |12  |Sun    |false     |false|false|false|false|false|false|false|false|false|false|false|false|false|true|false|false|false|false|false|false|false|false  |false  |true   |false  |2.5                |64                      |-3.6             |0.0               |0.0          |0                      |951.3                 |0              |0                  |0                  |0                   |1        |1.8                  |45                    |61                     |0.11                          |14.9                              |0.141                             |0.09                           |2                  |\n",
      "+-----------------------+-------------+-------+--------+-------------------+-----------------+-----------------+-------------------+-----------------------------+-------------------------+---------------------+----+-------+----------+-----+-----+-----+-----+-----+-----+-----+-----+-----+-----+-----+-----+-----+----+-----+-----+-----+-----+-----+-----+-----+-------+-------+-------+-------+-------------------+------------------------+-----------------+------------------+-------------+-----------------------+----------------------+---------------+-------------------+-------------------+--------------------+---------+---------------------+----------------------+-----------------------+------------------------------+----------------------------------+----------------------------------+-------------------------------+-------------------+\n",
      "only showing top 1 row\n",
      "\n"
     ]
    }
   ],
   "source": [
    "cols_to_drop = [\n",
    "    'takeoff_time', 'first_airborne_time', 'first_on_ground_time', 'event_timestamp',\n",
    "    'icao', 'callsign', 'time', 'first_holding_time', '__index_level_0__'\n",
    "]\n",
    "# solo quedaría timestamp, que no lo vamos a eliminar porque lo necesitamos para ordenar\n",
    "\n",
    "train_data_with_target = train_data_with_target.drop(*cols_to_drop)\n",
    "train_data_with_target.show(1, truncate=False)\n",
    "\n",
    "test_data_with_target = test_data_with_target.drop(*cols_to_drop)\n",
    "test_data_with_target.show(1, truncate=False)"
   ]
  },
  {
   "cell_type": "markdown",
   "id": "76069c82-c689-405e-8197-8a042524c0fb",
   "metadata": {},
   "source": [
    "## VALIDACIÓN"
   ]
  },
  {
   "cell_type": "code",
   "execution_count": 10,
   "id": "80642790-50bf-4633-847b-a4b05accabd1",
   "metadata": {},
   "outputs": [
    {
     "name": "stdout",
     "output_type": "stream",
     "text": [
      "Última fecha en train_data_with_target: 2025-01-14 22:29:16.437000\n"
     ]
    }
   ],
   "source": [
    "# Obtener la última fecha en train_data_with_target\n",
    "max_timestamp = train_data_with_target.agg(f.max(\"timestamp\")).collect()[0][0]\n",
    "\n",
    "print(\"Última fecha en train_data_with_target:\", max_timestamp)"
   ]
  },
  {
   "cell_type": "code",
   "execution_count": 11,
   "id": "c3e271ff-3c98-420f-a364-4cac8f602a9d",
   "metadata": {},
   "outputs": [
    {
     "name": "stdout",
     "output_type": "stream",
     "text": [
      "+-----------------------+\n",
      "|timestamp              |\n",
      "+-----------------------+\n",
      "|2025-01-14 22:29:16.437|\n",
      "|2025-01-14 19:59:59.993|\n",
      "|2025-01-14 18:58:51.044|\n",
      "|2025-01-14 18:23:38.839|\n",
      "|2025-01-14 18:21:31.786|\n",
      "|2025-01-14 18:17:57.832|\n",
      "|2025-01-14 18:12:40.163|\n",
      "|2025-01-14 16:14:40.099|\n",
      "|2025-01-14 16:10:58.865|\n",
      "|2025-01-14 15:59:59.903|\n",
      "+-----------------------+\n",
      "only showing top 10 rows\n",
      "\n"
     ]
    }
   ],
   "source": [
    "train_data_with_target.select(\"timestamp\").orderBy(\"timestamp\", ascending=False).show(10, truncate=False)"
   ]
  },
  {
   "cell_type": "code",
   "execution_count": 12,
   "id": "e6bc91a4-5909-42e3-80a9-38d7aefacb19",
   "metadata": {},
   "outputs": [
    {
     "name": "stdout",
     "output_type": "stream",
     "text": [
      "Train fold size: 509, Validation fold size: 510\n"
     ]
    }
   ],
   "source": [
    "# -- Crear un corte temporal dentro de train_data --\n",
    "# Por ejemplo, usar como validación el x% más reciente de train_data\n",
    "# que corresponde a los días 1 a 14 de enero\n",
    "from pyspark.sql import functions as f\n",
    "\n",
    "# Definir el rango de validación: del 1 al 14 de enero de 2024\n",
    "validation_fold = train_data_with_target.filter(\n",
    "    (f.col(\"timestamp\") >= f.lit(\"2025-01-01 00:00:00.000000\")) & \n",
    "    (f.col(\"timestamp\") <= f.lit(\"2025-01-14 23:59:59.999999\"))\n",
    ")\n",
    "\n",
    "# El resto para entrenamiento\n",
    "train_fold = train_data_with_target.filter(\n",
    "    (f.col(\"timestamp\") < f.lit(\"2025-01-01 00:00:00.000000\"))\n",
    ")\n",
    "\n",
    "print(f\"Train fold size: {train_fold.count()}, Validation fold size: {validation_fold.count()}\")\n"
   ]
  },
  {
   "cell_type": "markdown",
   "id": "3e24ae09-2451-4552-b9df-2e17b5d0800d",
   "metadata": {},
   "source": [
    "## DISEÑO DEL MODELO HIDDEN MARKOV MODEL (HMM)\n",
    "\n",
    "Hacer lo mismo que Naive Bayes pero con un modelo HMM (Hidden Markov Model) en PySpark no es tan directo porque PySpark no incluye un modelo HMM por defecto como lo hace con Naive Bayes.\n",
    "\n",
    "Sin embargo, podemos simular algo similar con HMMs en Python (fuera de PySpark) usando ```hmmlearn```, que es la librería más común para esto. Aunque no es distribuido como PySpark, es útil si puedes trabajar con un subconjunto de datos o agrupar secuencias.\n",
    "\n",
    "\n",
    "Así que después de preparar los datos, haremos:\n",
    "- Pasarlos a pandas para que HMM pueda leerlos.\n",
    "- Entrenar un modelo HMM usando ```hmmlearn```.\n",
    "- Predecir sobre validation y test.\n",
    "- (Opcional) Loggear en MLflow como hacías con otros modelos."
   ]
  },
  {
   "cell_type": "code",
   "execution_count": 13,
   "id": "bf0eed37-0c00-402e-8926-f7adc1990df3",
   "metadata": {},
   "outputs": [],
   "source": [
    "#pip install hmmlearn"
   ]
  },
  {
   "cell_type": "markdown",
   "id": "a2789fdb-657f-45b3-b48d-19af5d069165",
   "metadata": {},
   "source": [
    "### Consideraciones:\n",
    "\n",
    "1. La variable a predecir es ```will_takeoff_afterX```.\n",
    "2. El modelo ```hmmlearn``` solo acepta números reales, así que hay que hacer One-hot Encoding o Label Encoding a las variables categorías. Aunque para HMM (y en general para secuencias) es mejor usar Label Encoding.\n",
    "3. El HMM espera observaciones como un array X de forma ```(n_samples, n_features)```. Y si queremos usar los datos como secuencia temporal, tenemos que respetar el orden por ```timestamp```."
   ]
  },
  {
   "cell_type": "code",
   "execution_count": 14,
   "id": "1782b1e9-46e1-47c0-b84e-af63a9a79768",
   "metadata": {},
   "outputs": [],
   "source": [
    "import pandas as pd\n",
    "\n",
    "# -- 1. PREPARAR LOS DATOS --\n",
    "# Primero pasamos de Spark a Pandas\n",
    "train_pandas = train_fold.orderBy(\"timestamp\").toPandas()\n",
    "validation_pandas = validation_fold.orderBy(\"timestamp\").toPandas()\n",
    "test_pandas = test_data_with_target.orderBy(\"timestamp\").toPandas()\n",
    "\n",
    "\n",
    "# Lista de columnas predictoras\n",
    "feature_cols = [c for c in train_data_with_target.columns if c not in [\"will_takeoff_afterX\", 'holding_point', 'runway', 'weekday', \n",
    "                                                                       'operator', 'turbulence_category', 'last_event_turb_cat', 'timestamp']]\n",
    "\n",
    "\n",
    "# -- 1. Prepara los arrays para HMM sin Label Encoding--\n",
    "X_train = train_pandas[feature_cols].values\n",
    "y_train = train_pandas[\"will_takeoff_afterX\"].values\n",
    "\n",
    "X_val = validation_pandas[feature_cols].values\n",
    "y_val = validation_pandas[\"will_takeoff_afterX\"].values\n",
    "\n",
    "X_test = test_pandas[feature_cols].values\n",
    "y_test = test_pandas[\"will_takeoff_afterX\"].values\n",
    "\n",
    "\n",
    "# Target\n",
    "target_col = 'will_takeoff_afterX'\n",
    "\n",
    "\n",
    "# -- 2. APLICAR LABEL ENCODING A LAS COLUMNAS CATEGÓRICAS -- \n",
    "from sklearn.preprocessing import LabelEncoder\n",
    "categorical_cols = ['holding_point', 'runway', 'weekday', 'operator', 'turbulence_category', 'last_event_turb_cat']\n",
    "\n",
    "label_encoders = {}\n",
    "\n",
    "# Fit usando todos los datos juntos para evitar clases desconocidas\n",
    "for col in categorical_cols:\n",
    "    le = LabelEncoder()\n",
    "    le.fit(pd.concat([train_pandas[col], validation_pandas[col], test_pandas[col]]).astype(str))\n",
    "    \n",
    "    train_pandas[col] = le.transform(train_pandas[col].astype(str))\n",
    "    validation_pandas[col] = le.transform(validation_pandas[col].astype(str))\n",
    "    test_pandas[col] = le.transform(test_pandas[col].astype(str))\n",
    "    \n",
    "    label_encoders[col] = le\n",
    "\n",
    "\n",
    "# -- 3. Prepara los arrays para HMM con Label Encoding--\n",
    "X_trainL = train_pandas[feature_cols].values\n",
    "y_trainL = train_pandas[\"will_takeoff_afterX\"].values\n",
    "\n",
    "X_valL = validation_pandas[feature_cols].values\n",
    "y_valL = validation_pandas[\"will_takeoff_afterX\"].values\n",
    "\n",
    "X_testL = test_pandas[feature_cols].values\n",
    "y_testL = test_pandas[\"will_takeoff_afterX\"].values"
   ]
  },
  {
   "cell_type": "code",
   "execution_count": 15,
   "id": "578de960-2174-41ec-9069-7c92becf4e43",
   "metadata": {},
   "outputs": [
    {
     "data": {
      "text/html": [
       "<style>#sk-container-id-1 {\n",
       "  /* Definition of color scheme common for light and dark mode */\n",
       "  --sklearn-color-text: #000;\n",
       "  --sklearn-color-text-muted: #666;\n",
       "  --sklearn-color-line: gray;\n",
       "  /* Definition of color scheme for unfitted estimators */\n",
       "  --sklearn-color-unfitted-level-0: #fff5e6;\n",
       "  --sklearn-color-unfitted-level-1: #f6e4d2;\n",
       "  --sklearn-color-unfitted-level-2: #ffe0b3;\n",
       "  --sklearn-color-unfitted-level-3: chocolate;\n",
       "  /* Definition of color scheme for fitted estimators */\n",
       "  --sklearn-color-fitted-level-0: #f0f8ff;\n",
       "  --sklearn-color-fitted-level-1: #d4ebff;\n",
       "  --sklearn-color-fitted-level-2: #b3dbfd;\n",
       "  --sklearn-color-fitted-level-3: cornflowerblue;\n",
       "\n",
       "  /* Specific color for light theme */\n",
       "  --sklearn-color-text-on-default-background: var(--sg-text-color, var(--theme-code-foreground, var(--jp-content-font-color1, black)));\n",
       "  --sklearn-color-background: var(--sg-background-color, var(--theme-background, var(--jp-layout-color0, white)));\n",
       "  --sklearn-color-border-box: var(--sg-text-color, var(--theme-code-foreground, var(--jp-content-font-color1, black)));\n",
       "  --sklearn-color-icon: #696969;\n",
       "\n",
       "  @media (prefers-color-scheme: dark) {\n",
       "    /* Redefinition of color scheme for dark theme */\n",
       "    --sklearn-color-text-on-default-background: var(--sg-text-color, var(--theme-code-foreground, var(--jp-content-font-color1, white)));\n",
       "    --sklearn-color-background: var(--sg-background-color, var(--theme-background, var(--jp-layout-color0, #111)));\n",
       "    --sklearn-color-border-box: var(--sg-text-color, var(--theme-code-foreground, var(--jp-content-font-color1, white)));\n",
       "    --sklearn-color-icon: #878787;\n",
       "  }\n",
       "}\n",
       "\n",
       "#sk-container-id-1 {\n",
       "  color: var(--sklearn-color-text);\n",
       "}\n",
       "\n",
       "#sk-container-id-1 pre {\n",
       "  padding: 0;\n",
       "}\n",
       "\n",
       "#sk-container-id-1 input.sk-hidden--visually {\n",
       "  border: 0;\n",
       "  clip: rect(1px 1px 1px 1px);\n",
       "  clip: rect(1px, 1px, 1px, 1px);\n",
       "  height: 1px;\n",
       "  margin: -1px;\n",
       "  overflow: hidden;\n",
       "  padding: 0;\n",
       "  position: absolute;\n",
       "  width: 1px;\n",
       "}\n",
       "\n",
       "#sk-container-id-1 div.sk-dashed-wrapped {\n",
       "  border: 1px dashed var(--sklearn-color-line);\n",
       "  margin: 0 0.4em 0.5em 0.4em;\n",
       "  box-sizing: border-box;\n",
       "  padding-bottom: 0.4em;\n",
       "  background-color: var(--sklearn-color-background);\n",
       "}\n",
       "\n",
       "#sk-container-id-1 div.sk-container {\n",
       "  /* jupyter's `normalize.less` sets `[hidden] { display: none; }`\n",
       "     but bootstrap.min.css set `[hidden] { display: none !important; }`\n",
       "     so we also need the `!important` here to be able to override the\n",
       "     default hidden behavior on the sphinx rendered scikit-learn.org.\n",
       "     See: https://github.com/scikit-learn/scikit-learn/issues/21755 */\n",
       "  display: inline-block !important;\n",
       "  position: relative;\n",
       "}\n",
       "\n",
       "#sk-container-id-1 div.sk-text-repr-fallback {\n",
       "  display: none;\n",
       "}\n",
       "\n",
       "div.sk-parallel-item,\n",
       "div.sk-serial,\n",
       "div.sk-item {\n",
       "  /* draw centered vertical line to link estimators */\n",
       "  background-image: linear-gradient(var(--sklearn-color-text-on-default-background), var(--sklearn-color-text-on-default-background));\n",
       "  background-size: 2px 100%;\n",
       "  background-repeat: no-repeat;\n",
       "  background-position: center center;\n",
       "}\n",
       "\n",
       "/* Parallel-specific style estimator block */\n",
       "\n",
       "#sk-container-id-1 div.sk-parallel-item::after {\n",
       "  content: \"\";\n",
       "  width: 100%;\n",
       "  border-bottom: 2px solid var(--sklearn-color-text-on-default-background);\n",
       "  flex-grow: 1;\n",
       "}\n",
       "\n",
       "#sk-container-id-1 div.sk-parallel {\n",
       "  display: flex;\n",
       "  align-items: stretch;\n",
       "  justify-content: center;\n",
       "  background-color: var(--sklearn-color-background);\n",
       "  position: relative;\n",
       "}\n",
       "\n",
       "#sk-container-id-1 div.sk-parallel-item {\n",
       "  display: flex;\n",
       "  flex-direction: column;\n",
       "}\n",
       "\n",
       "#sk-container-id-1 div.sk-parallel-item:first-child::after {\n",
       "  align-self: flex-end;\n",
       "  width: 50%;\n",
       "}\n",
       "\n",
       "#sk-container-id-1 div.sk-parallel-item:last-child::after {\n",
       "  align-self: flex-start;\n",
       "  width: 50%;\n",
       "}\n",
       "\n",
       "#sk-container-id-1 div.sk-parallel-item:only-child::after {\n",
       "  width: 0;\n",
       "}\n",
       "\n",
       "/* Serial-specific style estimator block */\n",
       "\n",
       "#sk-container-id-1 div.sk-serial {\n",
       "  display: flex;\n",
       "  flex-direction: column;\n",
       "  align-items: center;\n",
       "  background-color: var(--sklearn-color-background);\n",
       "  padding-right: 1em;\n",
       "  padding-left: 1em;\n",
       "}\n",
       "\n",
       "\n",
       "/* Toggleable style: style used for estimator/Pipeline/ColumnTransformer box that is\n",
       "clickable and can be expanded/collapsed.\n",
       "- Pipeline and ColumnTransformer use this feature and define the default style\n",
       "- Estimators will overwrite some part of the style using the `sk-estimator` class\n",
       "*/\n",
       "\n",
       "/* Pipeline and ColumnTransformer style (default) */\n",
       "\n",
       "#sk-container-id-1 div.sk-toggleable {\n",
       "  /* Default theme specific background. It is overwritten whether we have a\n",
       "  specific estimator or a Pipeline/ColumnTransformer */\n",
       "  background-color: var(--sklearn-color-background);\n",
       "}\n",
       "\n",
       "/* Toggleable label */\n",
       "#sk-container-id-1 label.sk-toggleable__label {\n",
       "  cursor: pointer;\n",
       "  display: flex;\n",
       "  width: 100%;\n",
       "  margin-bottom: 0;\n",
       "  padding: 0.5em;\n",
       "  box-sizing: border-box;\n",
       "  text-align: center;\n",
       "  align-items: start;\n",
       "  justify-content: space-between;\n",
       "  gap: 0.5em;\n",
       "}\n",
       "\n",
       "#sk-container-id-1 label.sk-toggleable__label .caption {\n",
       "  font-size: 0.6rem;\n",
       "  font-weight: lighter;\n",
       "  color: var(--sklearn-color-text-muted);\n",
       "}\n",
       "\n",
       "#sk-container-id-1 label.sk-toggleable__label-arrow:before {\n",
       "  /* Arrow on the left of the label */\n",
       "  content: \"▸\";\n",
       "  float: left;\n",
       "  margin-right: 0.25em;\n",
       "  color: var(--sklearn-color-icon);\n",
       "}\n",
       "\n",
       "#sk-container-id-1 label.sk-toggleable__label-arrow:hover:before {\n",
       "  color: var(--sklearn-color-text);\n",
       "}\n",
       "\n",
       "/* Toggleable content - dropdown */\n",
       "\n",
       "#sk-container-id-1 div.sk-toggleable__content {\n",
       "  max-height: 0;\n",
       "  max-width: 0;\n",
       "  overflow: hidden;\n",
       "  text-align: left;\n",
       "  /* unfitted */\n",
       "  background-color: var(--sklearn-color-unfitted-level-0);\n",
       "}\n",
       "\n",
       "#sk-container-id-1 div.sk-toggleable__content.fitted {\n",
       "  /* fitted */\n",
       "  background-color: var(--sklearn-color-fitted-level-0);\n",
       "}\n",
       "\n",
       "#sk-container-id-1 div.sk-toggleable__content pre {\n",
       "  margin: 0.2em;\n",
       "  border-radius: 0.25em;\n",
       "  color: var(--sklearn-color-text);\n",
       "  /* unfitted */\n",
       "  background-color: var(--sklearn-color-unfitted-level-0);\n",
       "}\n",
       "\n",
       "#sk-container-id-1 div.sk-toggleable__content.fitted pre {\n",
       "  /* unfitted */\n",
       "  background-color: var(--sklearn-color-fitted-level-0);\n",
       "}\n",
       "\n",
       "#sk-container-id-1 input.sk-toggleable__control:checked~div.sk-toggleable__content {\n",
       "  /* Expand drop-down */\n",
       "  max-height: 200px;\n",
       "  max-width: 100%;\n",
       "  overflow: auto;\n",
       "}\n",
       "\n",
       "#sk-container-id-1 input.sk-toggleable__control:checked~label.sk-toggleable__label-arrow:before {\n",
       "  content: \"▾\";\n",
       "}\n",
       "\n",
       "/* Pipeline/ColumnTransformer-specific style */\n",
       "\n",
       "#sk-container-id-1 div.sk-label input.sk-toggleable__control:checked~label.sk-toggleable__label {\n",
       "  color: var(--sklearn-color-text);\n",
       "  background-color: var(--sklearn-color-unfitted-level-2);\n",
       "}\n",
       "\n",
       "#sk-container-id-1 div.sk-label.fitted input.sk-toggleable__control:checked~label.sk-toggleable__label {\n",
       "  background-color: var(--sklearn-color-fitted-level-2);\n",
       "}\n",
       "\n",
       "/* Estimator-specific style */\n",
       "\n",
       "/* Colorize estimator box */\n",
       "#sk-container-id-1 div.sk-estimator input.sk-toggleable__control:checked~label.sk-toggleable__label {\n",
       "  /* unfitted */\n",
       "  background-color: var(--sklearn-color-unfitted-level-2);\n",
       "}\n",
       "\n",
       "#sk-container-id-1 div.sk-estimator.fitted input.sk-toggleable__control:checked~label.sk-toggleable__label {\n",
       "  /* fitted */\n",
       "  background-color: var(--sklearn-color-fitted-level-2);\n",
       "}\n",
       "\n",
       "#sk-container-id-1 div.sk-label label.sk-toggleable__label,\n",
       "#sk-container-id-1 div.sk-label label {\n",
       "  /* The background is the default theme color */\n",
       "  color: var(--sklearn-color-text-on-default-background);\n",
       "}\n",
       "\n",
       "/* On hover, darken the color of the background */\n",
       "#sk-container-id-1 div.sk-label:hover label.sk-toggleable__label {\n",
       "  color: var(--sklearn-color-text);\n",
       "  background-color: var(--sklearn-color-unfitted-level-2);\n",
       "}\n",
       "\n",
       "/* Label box, darken color on hover, fitted */\n",
       "#sk-container-id-1 div.sk-label.fitted:hover label.sk-toggleable__label.fitted {\n",
       "  color: var(--sklearn-color-text);\n",
       "  background-color: var(--sklearn-color-fitted-level-2);\n",
       "}\n",
       "\n",
       "/* Estimator label */\n",
       "\n",
       "#sk-container-id-1 div.sk-label label {\n",
       "  font-family: monospace;\n",
       "  font-weight: bold;\n",
       "  display: inline-block;\n",
       "  line-height: 1.2em;\n",
       "}\n",
       "\n",
       "#sk-container-id-1 div.sk-label-container {\n",
       "  text-align: center;\n",
       "}\n",
       "\n",
       "/* Estimator-specific */\n",
       "#sk-container-id-1 div.sk-estimator {\n",
       "  font-family: monospace;\n",
       "  border: 1px dotted var(--sklearn-color-border-box);\n",
       "  border-radius: 0.25em;\n",
       "  box-sizing: border-box;\n",
       "  margin-bottom: 0.5em;\n",
       "  /* unfitted */\n",
       "  background-color: var(--sklearn-color-unfitted-level-0);\n",
       "}\n",
       "\n",
       "#sk-container-id-1 div.sk-estimator.fitted {\n",
       "  /* fitted */\n",
       "  background-color: var(--sklearn-color-fitted-level-0);\n",
       "}\n",
       "\n",
       "/* on hover */\n",
       "#sk-container-id-1 div.sk-estimator:hover {\n",
       "  /* unfitted */\n",
       "  background-color: var(--sklearn-color-unfitted-level-2);\n",
       "}\n",
       "\n",
       "#sk-container-id-1 div.sk-estimator.fitted:hover {\n",
       "  /* fitted */\n",
       "  background-color: var(--sklearn-color-fitted-level-2);\n",
       "}\n",
       "\n",
       "/* Specification for estimator info (e.g. \"i\" and \"?\") */\n",
       "\n",
       "/* Common style for \"i\" and \"?\" */\n",
       "\n",
       ".sk-estimator-doc-link,\n",
       "a:link.sk-estimator-doc-link,\n",
       "a:visited.sk-estimator-doc-link {\n",
       "  float: right;\n",
       "  font-size: smaller;\n",
       "  line-height: 1em;\n",
       "  font-family: monospace;\n",
       "  background-color: var(--sklearn-color-background);\n",
       "  border-radius: 1em;\n",
       "  height: 1em;\n",
       "  width: 1em;\n",
       "  text-decoration: none !important;\n",
       "  margin-left: 0.5em;\n",
       "  text-align: center;\n",
       "  /* unfitted */\n",
       "  border: var(--sklearn-color-unfitted-level-1) 1pt solid;\n",
       "  color: var(--sklearn-color-unfitted-level-1);\n",
       "}\n",
       "\n",
       ".sk-estimator-doc-link.fitted,\n",
       "a:link.sk-estimator-doc-link.fitted,\n",
       "a:visited.sk-estimator-doc-link.fitted {\n",
       "  /* fitted */\n",
       "  border: var(--sklearn-color-fitted-level-1) 1pt solid;\n",
       "  color: var(--sklearn-color-fitted-level-1);\n",
       "}\n",
       "\n",
       "/* On hover */\n",
       "div.sk-estimator:hover .sk-estimator-doc-link:hover,\n",
       ".sk-estimator-doc-link:hover,\n",
       "div.sk-label-container:hover .sk-estimator-doc-link:hover,\n",
       ".sk-estimator-doc-link:hover {\n",
       "  /* unfitted */\n",
       "  background-color: var(--sklearn-color-unfitted-level-3);\n",
       "  color: var(--sklearn-color-background);\n",
       "  text-decoration: none;\n",
       "}\n",
       "\n",
       "div.sk-estimator.fitted:hover .sk-estimator-doc-link.fitted:hover,\n",
       ".sk-estimator-doc-link.fitted:hover,\n",
       "div.sk-label-container:hover .sk-estimator-doc-link.fitted:hover,\n",
       ".sk-estimator-doc-link.fitted:hover {\n",
       "  /* fitted */\n",
       "  background-color: var(--sklearn-color-fitted-level-3);\n",
       "  color: var(--sklearn-color-background);\n",
       "  text-decoration: none;\n",
       "}\n",
       "\n",
       "/* Span, style for the box shown on hovering the info icon */\n",
       ".sk-estimator-doc-link span {\n",
       "  display: none;\n",
       "  z-index: 9999;\n",
       "  position: relative;\n",
       "  font-weight: normal;\n",
       "  right: .2ex;\n",
       "  padding: .5ex;\n",
       "  margin: .5ex;\n",
       "  width: min-content;\n",
       "  min-width: 20ex;\n",
       "  max-width: 50ex;\n",
       "  color: var(--sklearn-color-text);\n",
       "  box-shadow: 2pt 2pt 4pt #999;\n",
       "  /* unfitted */\n",
       "  background: var(--sklearn-color-unfitted-level-0);\n",
       "  border: .5pt solid var(--sklearn-color-unfitted-level-3);\n",
       "}\n",
       "\n",
       ".sk-estimator-doc-link.fitted span {\n",
       "  /* fitted */\n",
       "  background: var(--sklearn-color-fitted-level-0);\n",
       "  border: var(--sklearn-color-fitted-level-3);\n",
       "}\n",
       "\n",
       ".sk-estimator-doc-link:hover span {\n",
       "  display: block;\n",
       "}\n",
       "\n",
       "/* \"?\"-specific style due to the `<a>` HTML tag */\n",
       "\n",
       "#sk-container-id-1 a.estimator_doc_link {\n",
       "  float: right;\n",
       "  font-size: 1rem;\n",
       "  line-height: 1em;\n",
       "  font-family: monospace;\n",
       "  background-color: var(--sklearn-color-background);\n",
       "  border-radius: 1rem;\n",
       "  height: 1rem;\n",
       "  width: 1rem;\n",
       "  text-decoration: none;\n",
       "  /* unfitted */\n",
       "  color: var(--sklearn-color-unfitted-level-1);\n",
       "  border: var(--sklearn-color-unfitted-level-1) 1pt solid;\n",
       "}\n",
       "\n",
       "#sk-container-id-1 a.estimator_doc_link.fitted {\n",
       "  /* fitted */\n",
       "  border: var(--sklearn-color-fitted-level-1) 1pt solid;\n",
       "  color: var(--sklearn-color-fitted-level-1);\n",
       "}\n",
       "\n",
       "/* On hover */\n",
       "#sk-container-id-1 a.estimator_doc_link:hover {\n",
       "  /* unfitted */\n",
       "  background-color: var(--sklearn-color-unfitted-level-3);\n",
       "  color: var(--sklearn-color-background);\n",
       "  text-decoration: none;\n",
       "}\n",
       "\n",
       "#sk-container-id-1 a.estimator_doc_link.fitted:hover {\n",
       "  /* fitted */\n",
       "  background-color: var(--sklearn-color-fitted-level-3);\n",
       "}\n",
       "</style><div id=\"sk-container-id-1\" class=\"sk-top-container\"><div class=\"sk-text-repr-fallback\"><pre>GaussianHMM(covariance_type=&#x27;full&#x27;, n_components=5, n_iter=100, random_state=42)</pre><b>In a Jupyter environment, please rerun this cell to show the HTML representation or trust the notebook. <br />On GitHub, the HTML representation is unable to render, please try loading this page with nbviewer.org.</b></div><div class=\"sk-container\" hidden><div class=\"sk-item\"><div class=\"sk-estimator fitted sk-toggleable\"><input class=\"sk-toggleable__control sk-hidden--visually\" id=\"sk-estimator-id-1\" type=\"checkbox\" checked><label for=\"sk-estimator-id-1\" class=\"sk-toggleable__label fitted sk-toggleable__label-arrow\"><div><div>GaussianHMM</div></div><div><span class=\"sk-estimator-doc-link fitted\">i<span>Fitted</span></span></div></label><div class=\"sk-toggleable__content fitted\"><pre>GaussianHMM(covariance_type=&#x27;full&#x27;, n_components=5, n_iter=100, random_state=42)</pre></div> </div></div></div></div>"
      ],
      "text/plain": [
       "GaussianHMM(covariance_type='full', n_components=5, n_iter=100, random_state=42)"
      ]
     },
     "execution_count": 15,
     "metadata": {},
     "output_type": "execute_result"
    }
   ],
   "source": [
    "# -- 5. ENTRENAR EL MODELO HMM -- \n",
    "\n",
    "# Ahora importamos la librería de HMM\n",
    "from hmmlearn import hmm\n",
    "import numpy as np\n",
    "\n",
    "# Definimos el modelo HMM\n",
    "hmm_model  = hmm.GaussianHMM(\n",
    "    n_components=5,           # 5 clases (0,1,2,3,4)\n",
    "    covariance_type=\"full\",   # Cada estado tiene una covarianza completa\n",
    "    n_iter=100,\n",
    "    random_state=42\n",
    ")\n",
    "\n",
    "# Entrenar el modelo\n",
    "hmm_model.fit(X_trainL)"
   ]
  },
  {
   "cell_type": "code",
   "execution_count": 16,
   "id": "309a5214-148d-4968-a125-34470ec1992f",
   "metadata": {},
   "outputs": [],
   "source": [
    "# -- 6. PREDECIR SOBRE EL SET DE VALIDACIÓN --\n",
    "predicted_states = hmm_model.predict(X_valL)\n"
   ]
  },
  {
   "cell_type": "code",
   "execution_count": 17,
   "id": "a6799f00-f161-47f6-acb6-4b653a167e6a",
   "metadata": {},
   "outputs": [
    {
     "name": "stdout",
     "output_type": "stream",
     "text": [
      "Accuracy en validación temporal: 0.0373\n"
     ]
    }
   ],
   "source": [
    "# -- 7. EVALUAR EL MODELO --\n",
    "from sklearn.metrics import accuracy_score\n",
    "\n",
    "accuracy = accuracy_score(y_valL, predicted_states)\n",
    "print(f\"Accuracy en validación temporal: {accuracy:.4f}\")"
   ]
  },
  {
   "cell_type": "markdown",
   "id": "32a96d75-a97c-4a02-bf50-ddc0f954c179",
   "metadata": {},
   "source": [
    "### MEJORANDO EL LABEL ENCODING - AUTOMATIZANDO LA CODIFICACIÓN MANUAL"
   ]
  },
  {
   "cell_type": "markdown",
   "id": "989e28a9-e199-4994-964c-08a1b7bf9e21",
   "metadata": {},
   "source": [
    "Vamos a probar a hacer un Label Encoding **manual**, esto es, un **mapping automático**:\n",
    "\n",
    "En este caso, \"mapping automático\" se refiere a que, en vez de codificar manualmente las variables categóricas (holding_point, runway, etc.), vamos a convertirlas automáticamente en números usando un Label Encoder para cada columna.\n",
    "\n",
    "El objetivo es que el HMM (que solo entiende números) pueda trabajar con las variables categóricas codificadas."
   ]
  },
  {
   "cell_type": "code",
   "execution_count": 18,
   "id": "c7a1f743-3a31-4f21-9c07-118d6439180b",
   "metadata": {},
   "outputs": [
    {
     "name": "stdout",
     "output_type": "stream",
     "text": [
      "Accuracy después del mappeo: 0.3353\n"
     ]
    }
   ],
   "source": [
    "from sklearn.metrics import confusion_matrix\n",
    "from scipy.optimize import linear_sum_assignment\n",
    "import numpy as np\n",
    "\n",
    "def best_state_class_mapping(true_labels, predicted_states):\n",
    "    cm = confusion_matrix(true_labels, predicted_states)\n",
    "    \n",
    "    # Como el assignment minimiza, ponemos los negativos\n",
    "    row_ind, col_ind = linear_sum_assignment(-cm)\n",
    "    \n",
    "    mapping = dict(zip(col_ind, row_ind))\n",
    "    return mapping\n",
    "\n",
    "# Creamos el mapping\n",
    "state_to_class_mapping = best_state_class_mapping(y_val, predicted_states)\n",
    "\n",
    "# Reasignamos los estados predichos\n",
    "mapped_predictions = np.array([state_to_class_mapping[state] for state in predicted_states])\n",
    "\n",
    "# Nuevo Accuracy\n",
    "new_accuracy = accuracy_score(y_val, mapped_predictions)\n",
    "print(f\"Accuracy después del mappeo: {new_accuracy:.4f}\")\n"
   ]
  },
  {
   "cell_type": "markdown",
   "id": "2ef60f24-d1dc-4276-9542-cf2f77ffb63f",
   "metadata": {},
   "source": [
    "## GRIDSEARCH"
   ]
  },
  {
   "cell_type": "code",
   "execution_count": 19,
   "id": "864a0981-4c04-4de9-93af-cbf09282fa9a",
   "metadata": {},
   "outputs": [
    {
     "name": "stdout",
     "output_type": "stream",
     "text": [
      "n_components=5, covariance_type=diag => Accuracy: 0.3529\n"
     ]
    },
    {
     "name": "stderr",
     "output_type": "stream",
     "text": [
      "Model is not converging.  Current: -7549.0247515930205 is not greater than -7549.022957429895. Delta is -0.0017941631258509005\n"
     ]
    },
    {
     "name": "stdout",
     "output_type": "stream",
     "text": [
      "n_components=5, covariance_type=full => Accuracy: 0.3353\n",
      "n_components=10, covariance_type=diag => Accuracy: 0.3235\n",
      "n_components=10, covariance_type=full => Accuracy: 0.3647\n",
      "n_components=15, covariance_type=diag => Accuracy: 0.0471\n"
     ]
    },
    {
     "name": "stderr",
     "output_type": "stream",
     "text": [
      "Model is not converging.  Current: 39595.41552578197 is not greater than 39595.41676201011. Delta is -0.0012362281340756454\n"
     ]
    },
    {
     "name": "stdout",
     "output_type": "stream",
     "text": [
      "n_components=15, covariance_type=full => Accuracy: 0.2549\n",
      "\n",
      "Mejores parámetros encontrados:\n",
      "n_components = 10, covariance_type = full\n",
      "Accuracy alcanzado: 0.3647\n"
     ]
    }
   ],
   "source": [
    "param_grid = {\n",
    "    'n_components': [5, 10, 15],  # pruebo 4, 5, 6 estados\n",
    "    'covariance_type': ['diag', 'full']\n",
    "}\n",
    "\n",
    "\n",
    "best_accuracy = 0\n",
    "best_params = None\n",
    "\n",
    "for n_components in param_grid['n_components']:\n",
    "    for covariance_type in param_grid['covariance_type']:\n",
    "        model = hmm.GaussianHMM(n_components=n_components, covariance_type=covariance_type, n_iter=1000, random_state=42)\n",
    "        model.fit(X_train)\n",
    "        \n",
    "        preds = model.predict(X_val)\n",
    "        mapping = best_state_class_mapping(y_val, preds)\n",
    "        \n",
    "        # Primero obtienes la clase más frecuente en y_val, para asignarla si falta\n",
    "        most_common_class = np.bincount(y_val).argmax()\n",
    "\n",
    "        # Ahora haces el mapeo, pero si no existe el estado en el mapping, usas la clase más común\n",
    "        mapped_preds = np.array([mapping.get(state, most_common_class) for state in preds])\n",
    "\n",
    "        #mapped_preds = np.array([mapping[state] for state in preds])\n",
    "        \n",
    "        acc = accuracy_score(y_val, mapped_preds)\n",
    "        \n",
    "        print(f\"n_components={n_components}, covariance_type={covariance_type} => Accuracy: {acc:.4f}\")\n",
    "        \n",
    "        if acc > best_accuracy:\n",
    "            best_accuracy = acc\n",
    "            best_params = (n_components, covariance_type)\n",
    "\n",
    "print(\"\\nMejores parámetros encontrados:\")\n",
    "print(f\"n_components = {best_params[0]}, covariance_type = {best_params[1]}\")\n",
    "print(f\"Accuracy alcanzado: {best_accuracy:.4f}\")\n"
   ]
  },
  {
   "cell_type": "code",
   "execution_count": 20,
   "id": "1731b086-ac7f-4da9-8b26-476ed96a2e4c",
   "metadata": {},
   "outputs": [
    {
     "name": "stdout",
     "output_type": "stream",
     "text": [
      "✅ Accuracy en test: 0.2126\n"
     ]
    }
   ],
   "source": [
    "# Concatenar train + validation\n",
    "X_train_full = np.concatenate([X_train, X_val], axis=0)\n",
    "y_train_full = np.concatenate([y_train, y_val], axis=0)\n",
    "\n",
    "# Entrenar el modelo final\n",
    "final_model = hmm.GaussianHMM(\n",
    "    n_components=10,\n",
    "    covariance_type='full',\n",
    "    random_state=42\n",
    ")\n",
    "\n",
    "final_model.fit(X_train_full)\n",
    "\n",
    "# Predecir en test\n",
    "preds_test = final_model.predict(X_test)\n",
    "\n",
    "# Mapping usando TODO el y_train_full\n",
    "mapping = best_state_class_mapping(y_train_full, final_model.predict(X_train_full))\n",
    "\n",
    "# Clase más común de y_train_full\n",
    "most_common_class = np.bincount(y_train_full).argmax()\n",
    "\n",
    "# Mapear las predicciones\n",
    "mapped_preds_test = np.array([mapping.get(state, most_common_class) for state in preds_test])\n",
    "\n",
    "# Calcular accuracy en el test\n",
    "test_accuracy = accuracy_score(y_test, mapped_preds_test)\n",
    "\n",
    "print(f\"✅ Accuracy en test: {test_accuracy:.4f}\")"
   ]
  },
  {
   "cell_type": "markdown",
   "id": "f2bc8bd4-0765-44dd-bddb-cab46cd8b556",
   "metadata": {},
   "source": [
    "Probemos con más parámetros ahora entonces. Aquí están los disponibles:\n",
    "\n",
    "| Hiperparámetro      | Descripción                                                                                   |\n",
    "|---------------------|-----------------------------------------------------------------------------------------------|\n",
    "| `n_components`       | Número de **estados ocultos** del modelo HMM. Cada estado puede representar una \"situación\" distinta. |\n",
    "| `covariance_type`    | Cómo modelar la **covarianza** de las variables dentro de cada estado:<br>- `'diag'`: solo varianzas (más simple).<br>- `'full'`: covarianzas completas (más flexible pero más costoso). |\n",
    "| `n_iter`             | Número **máximo de iteraciones** del algoritmo EM (Expectation-Maximization) para ajustar el modelo. (Más iteraciones = más oportunidad de converger bien). |\n",
    "| `tol`                | **Tolerancia** para considerar que el modelo ha **convergido**. Si el cambio en log-likelihood entre iteraciones es menor que `tol`, el entrenamiento se detiene. (Tolerancia pequeña = ajuste más fino). |\n"
   ]
  },
  {
   "cell_type": "code",
   "execution_count": 21,
   "id": "06dd2943-891a-4051-b08d-e9710ebadc20",
   "metadata": {},
   "outputs": [
    {
     "name": "stdout",
     "output_type": "stream",
     "text": [
      "n_components=5, covariance_type=diag, n_iter=500, tol=0.01 => Accuracy: 0.3529\n",
      "n_components=5, covariance_type=diag, n_iter=500, tol=0.001 => Accuracy: 0.3529\n",
      "n_components=5, covariance_type=full, n_iter=500, tol=0.01 => Accuracy: 0.3353\n",
      "n_components=5, covariance_type=full, n_iter=500, tol=0.001 => Accuracy: 0.3353\n",
      "n_components=6, covariance_type=diag, n_iter=500, tol=0.01 => Accuracy: 0.3373\n",
      "n_components=6, covariance_type=diag, n_iter=500, tol=0.001 => Accuracy: 0.3373\n"
     ]
    },
    {
     "name": "stderr",
     "output_type": "stream",
     "text": [
      "Model is not converging.  Current: 18714.55987601856 is not greater than 18714.560032693378. Delta is -0.00015667481784475967\n"
     ]
    },
    {
     "name": "stdout",
     "output_type": "stream",
     "text": [
      "n_components=6, covariance_type=full, n_iter=500, tol=0.01 => Accuracy: 0.3314\n"
     ]
    },
    {
     "name": "stderr",
     "output_type": "stream",
     "text": [
      "Model is not converging.  Current: 18714.55987601856 is not greater than 18714.560032693378. Delta is -0.00015667481784475967\n",
      "Model is not converging.  Current: -4887.319168999902 is not greater than -4887.234739049084. Delta is -0.08442995081804838\n"
     ]
    },
    {
     "name": "stdout",
     "output_type": "stream",
     "text": [
      "n_components=6, covariance_type=full, n_iter=500, tol=0.001 => Accuracy: 0.3314\n",
      "n_components=7, covariance_type=diag, n_iter=500, tol=0.01 => Accuracy: 0.3255\n"
     ]
    },
    {
     "name": "stderr",
     "output_type": "stream",
     "text": [
      "Model is not converging.  Current: -4887.319168999902 is not greater than -4887.234739049084. Delta is -0.08442995081804838\n"
     ]
    },
    {
     "name": "stdout",
     "output_type": "stream",
     "text": [
      "n_components=7, covariance_type=diag, n_iter=500, tol=0.001 => Accuracy: 0.3255\n",
      "n_components=7, covariance_type=full, n_iter=500, tol=0.01 => Accuracy: 0.3510\n"
     ]
    },
    {
     "name": "stderr",
     "output_type": "stream",
     "text": [
      "Model is not converging.  Current: 23752.00060030544 is not greater than 23752.000600366242. Delta is -6.08015398029238e-08\n"
     ]
    },
    {
     "name": "stdout",
     "output_type": "stream",
     "text": [
      "n_components=7, covariance_type=full, n_iter=500, tol=0.001 => Accuracy: 0.3510\n",
      "n_components=8, covariance_type=diag, n_iter=500, tol=0.01 => Accuracy: 0.2784\n",
      "n_components=8, covariance_type=diag, n_iter=500, tol=0.001 => Accuracy: 0.2784\n",
      "n_components=8, covariance_type=full, n_iter=500, tol=0.01 => Accuracy: 0.3039\n"
     ]
    },
    {
     "name": "stderr",
     "output_type": "stream",
     "text": [
      "Model is not converging.  Current: 31507.804997181487 is not greater than 31507.804997310042. Delta is -1.2855525710619986e-07\n"
     ]
    },
    {
     "name": "stdout",
     "output_type": "stream",
     "text": [
      "n_components=8, covariance_type=full, n_iter=500, tol=0.001 => Accuracy: 0.3039\n",
      "\n",
      "✅ Mejores parámetros encontrados:\n",
      "n_components = 5, covariance_type = diag, n_iter = 500, tol = 0.01\n",
      "Accuracy alcanzado: 0.3529\n"
     ]
    }
   ],
   "source": [
    "import numpy as np\n",
    "from hmmlearn import hmm\n",
    "from sklearn.metrics import accuracy_score\n",
    "\n",
    "param_grid = {\n",
    "    'n_components': [5, 6, 7, 8],\n",
    "    'covariance_type': ['diag', 'full'],   # sólo 'diag', no 'full'\n",
    "    'n_iter': [500],\n",
    "    'tol': [1e-2, 1e-3]\n",
    "}\n",
    "\n",
    "\n",
    "best_accuracy = 0\n",
    "best_params = None\n",
    "\n",
    "for n_components in param_grid['n_components']:\n",
    "    for covariance_type in param_grid['covariance_type']:\n",
    "        for n_iter in param_grid['n_iter']:\n",
    "            for tol in param_grid['tol']:\n",
    "                try:\n",
    "                    model = hmm.GaussianHMM(\n",
    "                        n_components=n_components,\n",
    "                        covariance_type=covariance_type,\n",
    "                        n_iter=n_iter,\n",
    "                        tol=tol,\n",
    "                        random_state=42\n",
    "                    )\n",
    "                    model.fit(X_train)\n",
    "                    \n",
    "                    preds = model.predict(X_val)\n",
    "\n",
    "                    # Mapping de estados a clases\n",
    "                    mapping = best_state_class_mapping(y_val, preds)\n",
    "                    most_common_class = np.bincount(y_val).argmax()\n",
    "                    mapped_preds = np.array([mapping.get(state, most_common_class) for state in preds])\n",
    "\n",
    "                    acc = accuracy_score(y_val, mapped_preds)\n",
    "\n",
    "                    print(f\"n_components={n_components}, covariance_type={covariance_type}, n_iter={n_iter}, tol={tol} => Accuracy: {acc:.4f}\")\n",
    "\n",
    "                    if acc > best_accuracy:\n",
    "                        best_accuracy = acc\n",
    "                        best_params = (n_components, covariance_type, n_iter, tol)\n",
    "                        \n",
    "                except Exception as e:\n",
    "                    print(f\"Error con n_components={n_components}, covariance_type={covariance_type}, n_iter={n_iter}, tol={tol}: {e}\")\n",
    "\n",
    "print(\"\\n✅ Mejores parámetros encontrados:\")\n",
    "print(f\"n_components = {best_params[0]}, covariance_type = {best_params[1]}, n_iter = {best_params[2]}, tol = {best_params[3]}\")\n",
    "print(f\"Accuracy alcanzado: {best_accuracy:.4f}\")\n"
   ]
  },
  {
   "cell_type": "code",
   "execution_count": 22,
   "id": "f7e6a8b4-23af-4514-a8b7-72312d79881a",
   "metadata": {},
   "outputs": [
    {
     "name": "stderr",
     "output_type": "stream",
     "text": [
      "Model is not converging.  Current: -14414.787540907262 is not greater than -14406.108781663657. Delta is -8.678759243604873\n"
     ]
    },
    {
     "name": "stdout",
     "output_type": "stream",
     "text": [
      "✅ Accuracy en test: 0.2829\n"
     ]
    }
   ],
   "source": [
    "# Concatenar train + validation\n",
    "#X_train_full = np.concatenate([X_train, X_val], axis=0)\n",
    "#y_train_full = np.concatenate([y_train, y_val], axis=0)\n",
    "\n",
    "# Entrenar el modelo final\n",
    "final_model = hmm.GaussianHMM(\n",
    "    n_components=5,\n",
    "    covariance_type='diag',\n",
    "    n_iter=500,\n",
    "    tol=0.01,\n",
    "    random_state=42\n",
    ")\n",
    "\n",
    "final_model.fit(X_train_full)\n",
    "\n",
    "# Predecir en test\n",
    "preds_test = final_model.predict(X_test)\n",
    "\n",
    "# Mapping usando TODO el y_train_full\n",
    "mapping = best_state_class_mapping(y_train_full, final_model.predict(X_train_full))\n",
    "\n",
    "# Clase más común de y_train_full\n",
    "most_common_class = np.bincount(y_train_full).argmax()\n",
    "\n",
    "# Mapear las predicciones\n",
    "mapped_preds_test = np.array([mapping.get(state, most_common_class) for state in preds_test])\n",
    "\n",
    "# Calcular accuracy en el test\n",
    "test_accuracy = accuracy_score(y_test, mapped_preds_test)\n",
    "\n",
    "print(f\"✅ Accuracy en test: {test_accuracy:.4f}\")\n"
   ]
  },
  {
   "cell_type": "markdown",
   "id": "cefd1cf6-2064-4677-9f2a-918d364a8402",
   "metadata": {},
   "source": [
    "### Siguientes pasos para investigar por qué cayó el accuracy con el test"
   ]
  },
  {
   "cell_type": "code",
   "execution_count": 23,
   "id": "876085c7-23be-4ca5-8000-aaa2d30d2516",
   "metadata": {},
   "outputs": [
    {
     "name": "stdout",
     "output_type": "stream",
     "text": [
      "Distribución de clases (train_full):\n",
      "3    0.361138\n",
      "4    0.178606\n",
      "2    0.161923\n",
      "6    0.142296\n",
      "5    0.138371\n",
      "1    0.017664\n",
      "Name: proportion, dtype: float64\n",
      "\n",
      "Distribución de clases (test):\n",
      "3    0.369369\n",
      "4    0.212613\n",
      "2    0.149550\n",
      "5    0.135135\n",
      "6    0.115315\n",
      "1    0.018018\n",
      "Name: proportion, dtype: float64\n"
     ]
    }
   ],
   "source": [
    "# DISTRIBUCIÓN DE CLASES\n",
    "import pandas as pd\n",
    "\n",
    "print(\"Distribución de clases (train_full):\")\n",
    "print(pd.Series(y_train_full).value_counts(normalize=True))\n",
    "\n",
    "print(\"\\nDistribución de clases (test):\")\n",
    "print(pd.Series(y_test).value_counts(normalize=True))"
   ]
  },
  {
   "cell_type": "code",
   "execution_count": 24,
   "id": "4d32b01a-40aa-496a-b40d-5b7ee5892a7e",
   "metadata": {},
   "outputs": [
    {
     "name": "stdout",
     "output_type": "stream",
     "text": [
      "Matriz de confusión (test):\n",
      "[[  0   5   5   0   0   0]\n",
      " [  0  20  47  16   0   0]\n",
      " [  0  33 119  52   0   1]\n",
      " [  0  19  82  17   0   0]\n",
      " [  0  11  48  15   0   1]\n",
      " [  0  16  31  16   0   1]]\n",
      "\n",
      "Classification Report (test):\n",
      "              precision    recall  f1-score   support\n",
      "\n",
      "           1       0.00      0.00      0.00        10\n",
      "           2       0.19      0.24      0.21        83\n",
      "           3       0.36      0.58      0.44       205\n",
      "           4       0.15      0.14      0.15       118\n",
      "           5       0.00      0.00      0.00        75\n",
      "           6       0.33      0.02      0.03        64\n",
      "\n",
      "    accuracy                           0.28       555\n",
      "   macro avg       0.17      0.16      0.14       555\n",
      "weighted avg       0.23      0.28      0.23       555\n",
      "\n"
     ]
    },
    {
     "name": "stderr",
     "output_type": "stream",
     "text": [
      "C:\\Users\\chase\\PycharmProjects\\TDDProject\\.venv\\Lib\\site-packages\\sklearn\\metrics\\_classification.py:1565: UndefinedMetricWarning: Precision is ill-defined and being set to 0.0 in labels with no predicted samples. Use `zero_division` parameter to control this behavior.\n",
      "  _warn_prf(average, modifier, f\"{metric.capitalize()} is\", len(result))\n",
      "C:\\Users\\chase\\PycharmProjects\\TDDProject\\.venv\\Lib\\site-packages\\sklearn\\metrics\\_classification.py:1565: UndefinedMetricWarning: Precision is ill-defined and being set to 0.0 in labels with no predicted samples. Use `zero_division` parameter to control this behavior.\n",
      "  _warn_prf(average, modifier, f\"{metric.capitalize()} is\", len(result))\n",
      "C:\\Users\\chase\\PycharmProjects\\TDDProject\\.venv\\Lib\\site-packages\\sklearn\\metrics\\_classification.py:1565: UndefinedMetricWarning: Precision is ill-defined and being set to 0.0 in labels with no predicted samples. Use `zero_division` parameter to control this behavior.\n",
      "  _warn_prf(average, modifier, f\"{metric.capitalize()} is\", len(result))\n"
     ]
    }
   ],
   "source": [
    "# MATRIZ DE CONFUSIÓN DEL TEST\n",
    "from sklearn.metrics import confusion_matrix, classification_report\n",
    "\n",
    "print(\"Matriz de confusión (test):\")\n",
    "print(confusion_matrix(y_test, mapped_preds_test))\n",
    "\n",
    "print(\"\\nClassification Report (test):\")\n",
    "print(classification_report(y_test, mapped_preds_test))\n"
   ]
  },
  {
   "cell_type": "markdown",
   "id": "435e61e7-7fad-4dd2-9872-d4bdc834042f",
   "metadata": {},
   "source": [
    "El problem es que las clases están MUY desbalanceadas: tenemos MUCHOS ejemplos de clase 1, y muy poquitos de clases 2, 3 y 4. Eso hace que el modelo tienda a predecir siempre la clase 1 (lo vimos en la matriz de confusión).\n",
    "\n",
    "Hay dos formas principales:\n",
    "\n",
    "\n",
    "|Método|\tIdea|\tCómo aplicarlo aquí |\n",
    "| --- | ----| ---|\n",
    "|Undersampling|\tQuitar ejemplos de la clase mayoritaria (por ejemplo, quitar parte de los datos de clase 1).\t|Podrías reducir los ejemplos de clase 1 en el train_full.|\n",
    "|Oversampling\t|Aumentar ejemplos de clases minoritarias (por ejemplo, duplicar registros de clase 2, 3, 4 y 5).\tPodrías duplicar o triplicar los datos de las clases 2, 3, 4 y 5.|\n",
    "\n",
    "Lo recomendable en nuestro caso es hacer oversampling, porque hay muy poquitos datos de las clases 3 y 4 (¡sólo 6 ejemplos de la clase 3 en test!), y tampoco queremos perder info de las clases importantes.\n",
    "\n",
    "Primero, balancearemos el X_train y probaremos con el X_val (Pero NO debemos balancear X_val, porque necesitamos que la validación represente el mundo real (que tiene desbalance)."
   ]
  },
  {
   "cell_type": "code",
   "execution_count": 25,
   "id": "b39098e3-f85b-454b-8d8b-31e839c52a0a",
   "metadata": {},
   "outputs": [],
   "source": [
    "# BALANCEAR X_TRAIN\n",
    "from sklearn.utils import resample\n",
    "import pandas as pd\n",
    "\n",
    "# Unir X_full_train y y_full_train en un DataFrame para trabajar\n",
    "train_data = pd.DataFrame(X_train)\n",
    "train_data['will_takeoff_afterX'] = y_train\n",
    "\n",
    "# Separar por clases\n",
    "class_0 = train_data[train_data['will_takeoff_afterX'] == 0]\n",
    "class_1 = train_data[train_data['will_takeoff_afterX'] == 1]\n",
    "class_2 = train_data[train_data['will_takeoff_afterX'] == 2]\n",
    "class_3 = train_data[train_data['will_takeoff_afterX'] == 3]\n",
    "class_4 = train_data[train_data['will_takeoff_afterX'] == 4]\n",
    "class_5 = train_data[train_data['will_takeoff_afterX'] == 5]\n",
    "class_6 = train_data[train_data['will_takeoff_afterX'] == 6]\n",
    "\n",
    "\n",
    "# Obtener el tamaño de la clase mayoritaria (clase 3)\n",
    "majority_class_size = len(class_3)\n",
    "\n",
    "# Oversample todas las clases minoritarias a ese tamaño\n",
    "class_1_oversampled = resample(class_1, replace=True, n_samples=majority_class_size, random_state=42)\n",
    "class_2_oversampled = resample(class_2, replace=True, n_samples=majority_class_size, random_state=42)\n",
    "class_4_oversampled = resample(class_4, replace=True, n_samples=majority_class_size, random_state=42)\n",
    "class_5_oversampled = resample(class_5, replace=True, n_samples=majority_class_size, random_state=42)\n",
    "class_6_oversampled = resample(class_6, replace=True, n_samples=majority_class_size, random_state=42)\n",
    "\n",
    "# La clase 0 y la clase 3 no se deben oversamplear, ya que son las clases más representadas\n",
    "class_0_oversampled = class_0  # Clase 0 no se sobresamplea\n",
    "class_3_oversampled = class_3  # Clase 3 no se sobresamplea\n",
    "\n",
    "# Juntar todas las clases balanceadas\n",
    "train_data_balanced = pd.concat([class_0_oversampled, class_1_oversampled, class_2_oversampled, class_3_oversampled, class_4_oversampled, class_5_oversampled, class_6_oversampled])\n",
    "\n",
    "# Separar de nuevo X e y\n",
    "X_train_balanced = train_data_balanced.drop(columns=['will_takeoff_afterX']).values\n",
    "y_train_balanced = train_data_balanced['will_takeoff_afterX'].values\n"
   ]
  },
  {
   "cell_type": "code",
   "execution_count": 26,
   "id": "4a1479ed-e4d7-41b5-89d3-076ed4a8041e",
   "metadata": {},
   "outputs": [
    {
     "name": "stdout",
     "output_type": "stream",
     "text": [
      "n_components=4, covariance_type=diag, n_iter=100, tol=0.01 => Accuracy: 0.3471\n",
      "n_components=4, covariance_type=diag, n_iter=100, tol=0.001 => Accuracy: 0.3471\n",
      "n_components=4, covariance_type=diag, n_iter=200, tol=0.01 => Accuracy: 0.3471\n",
      "n_components=4, covariance_type=diag, n_iter=200, tol=0.001 => Accuracy: 0.3471\n",
      "n_components=4, covariance_type=diag, n_iter=500, tol=0.01 => Accuracy: 0.3471\n",
      "n_components=4, covariance_type=diag, n_iter=500, tol=0.001 => Accuracy: 0.3471\n",
      "n_components=4, covariance_type=full, n_iter=100, tol=0.01 => Accuracy: 0.2961\n",
      "n_components=4, covariance_type=full, n_iter=100, tol=0.001 => Accuracy: 0.2961\n",
      "n_components=4, covariance_type=full, n_iter=200, tol=0.01 => Accuracy: 0.2961\n",
      "n_components=4, covariance_type=full, n_iter=200, tol=0.001 => Accuracy: 0.2961\n",
      "n_components=4, covariance_type=full, n_iter=500, tol=0.01 => Accuracy: 0.2961\n",
      "n_components=4, covariance_type=full, n_iter=500, tol=0.001 => Accuracy: 0.2961\n",
      "n_components=5, covariance_type=diag, n_iter=100, tol=0.01 => Accuracy: 0.3137\n",
      "n_components=5, covariance_type=diag, n_iter=100, tol=0.001 => Accuracy: 0.3137\n",
      "n_components=5, covariance_type=diag, n_iter=200, tol=0.01 => Accuracy: 0.3137\n",
      "n_components=5, covariance_type=diag, n_iter=200, tol=0.001 => Accuracy: 0.3137\n",
      "n_components=5, covariance_type=diag, n_iter=500, tol=0.01 => Accuracy: 0.3137\n",
      "n_components=5, covariance_type=diag, n_iter=500, tol=0.001 => Accuracy: 0.3137\n",
      "n_components=5, covariance_type=full, n_iter=100, tol=0.01 => Accuracy: 0.3667\n",
      "n_components=5, covariance_type=full, n_iter=100, tol=0.001 => Accuracy: 0.3667\n",
      "n_components=5, covariance_type=full, n_iter=200, tol=0.01 => Accuracy: 0.3667\n",
      "n_components=5, covariance_type=full, n_iter=200, tol=0.001 => Accuracy: 0.3667\n",
      "n_components=5, covariance_type=full, n_iter=500, tol=0.01 => Accuracy: 0.3667\n"
     ]
    },
    {
     "name": "stderr",
     "output_type": "stream",
     "text": [
      "Model is not converging.  Current: 979.1496451177989 is not greater than 979.1629879928395. Delta is -0.013342875040621038\n"
     ]
    },
    {
     "name": "stdout",
     "output_type": "stream",
     "text": [
      "n_components=5, covariance_type=full, n_iter=500, tol=0.001 => Accuracy: 0.3667\n"
     ]
    },
    {
     "name": "stderr",
     "output_type": "stream",
     "text": [
      "Model is not converging.  Current: 979.1496451177989 is not greater than 979.1629879928395. Delta is -0.013342875040621038\n"
     ]
    },
    {
     "name": "stdout",
     "output_type": "stream",
     "text": [
      "n_components=6, covariance_type=diag, n_iter=100, tol=0.01 => Accuracy: 0.3431\n",
      "n_components=6, covariance_type=diag, n_iter=100, tol=0.001 => Accuracy: 0.3431\n"
     ]
    },
    {
     "name": "stderr",
     "output_type": "stream",
     "text": [
      "Model is not converging.  Current: 979.1496451177989 is not greater than 979.1629879928395. Delta is -0.013342875040621038\n",
      "Model is not converging.  Current: 979.1496451177989 is not greater than 979.1629879928395. Delta is -0.013342875040621038\n"
     ]
    },
    {
     "name": "stdout",
     "output_type": "stream",
     "text": [
      "n_components=6, covariance_type=diag, n_iter=200, tol=0.01 => Accuracy: 0.3431\n"
     ]
    },
    {
     "name": "stderr",
     "output_type": "stream",
     "text": [
      "Model is not converging.  Current: 979.1496451178105 is not greater than 979.1629879928838. Delta is -0.013342875073362848\n"
     ]
    },
    {
     "name": "stdout",
     "output_type": "stream",
     "text": [
      "n_components=6, covariance_type=diag, n_iter=200, tol=0.001 => Accuracy: 0.3431\n",
      "n_components=6, covariance_type=diag, n_iter=500, tol=0.01 => Accuracy: 0.3431\n"
     ]
    },
    {
     "name": "stderr",
     "output_type": "stream",
     "text": [
      "Model is not converging.  Current: 979.1496451177989 is not greater than 979.1629879928395. Delta is -0.013342875040621038\n"
     ]
    },
    {
     "name": "stdout",
     "output_type": "stream",
     "text": [
      "n_components=6, covariance_type=diag, n_iter=500, tol=0.001 => Accuracy: 0.3431\n",
      "n_components=6, covariance_type=full, n_iter=100, tol=0.01 => Accuracy: 0.3059\n",
      "n_components=6, covariance_type=full, n_iter=100, tol=0.001 => Accuracy: 0.3059\n",
      "n_components=6, covariance_type=full, n_iter=200, tol=0.01 => Accuracy: 0.3059\n",
      "n_components=6, covariance_type=full, n_iter=200, tol=0.001 => Accuracy: 0.3059\n",
      "n_components=6, covariance_type=full, n_iter=500, tol=0.01 => Accuracy: 0.3059\n",
      "n_components=6, covariance_type=full, n_iter=500, tol=0.001 => Accuracy: 0.3059\n"
     ]
    },
    {
     "name": "stderr",
     "output_type": "stream",
     "text": [
      "Model is not converging.  Current: -3357.3049917386224 is not greater than -3352.9875877842483. Delta is -4.317403954374186\n"
     ]
    },
    {
     "name": "stdout",
     "output_type": "stream",
     "text": [
      "n_components=7, covariance_type=diag, n_iter=100, tol=0.01 => Accuracy: 0.3353\n"
     ]
    },
    {
     "name": "stderr",
     "output_type": "stream",
     "text": [
      "Model is not converging.  Current: -3357.3049917386224 is not greater than -3352.9875877842483. Delta is -4.317403954374186\n"
     ]
    },
    {
     "name": "stdout",
     "output_type": "stream",
     "text": [
      "n_components=7, covariance_type=diag, n_iter=100, tol=0.001 => Accuracy: 0.3353\n"
     ]
    },
    {
     "name": "stderr",
     "output_type": "stream",
     "text": [
      "Model is not converging.  Current: -3357.304991738677 is not greater than -3352.9875877847608. Delta is -4.317403953916255\n"
     ]
    },
    {
     "name": "stdout",
     "output_type": "stream",
     "text": [
      "n_components=7, covariance_type=diag, n_iter=200, tol=0.01 => Accuracy: 0.3353\n"
     ]
    },
    {
     "name": "stderr",
     "output_type": "stream",
     "text": [
      "Model is not converging.  Current: -3357.304991738677 is not greater than -3352.9875877847608. Delta is -4.317403953916255\n"
     ]
    },
    {
     "name": "stdout",
     "output_type": "stream",
     "text": [
      "n_components=7, covariance_type=diag, n_iter=200, tol=0.001 => Accuracy: 0.3353\n"
     ]
    },
    {
     "name": "stderr",
     "output_type": "stream",
     "text": [
      "Model is not converging.  Current: -3357.304991738677 is not greater than -3352.9875877847608. Delta is -4.317403953916255\n"
     ]
    },
    {
     "name": "stdout",
     "output_type": "stream",
     "text": [
      "n_components=7, covariance_type=diag, n_iter=500, tol=0.01 => Accuracy: 0.3353\n"
     ]
    },
    {
     "name": "stderr",
     "output_type": "stream",
     "text": [
      "Model is not converging.  Current: -3357.304991738677 is not greater than -3352.9875877847608. Delta is -4.317403953916255\n"
     ]
    },
    {
     "name": "stdout",
     "output_type": "stream",
     "text": [
      "n_components=7, covariance_type=diag, n_iter=500, tol=0.001 => Accuracy: 0.3353\n",
      "n_components=7, covariance_type=full, n_iter=100, tol=0.01 => Accuracy: 0.3039\n",
      "n_components=7, covariance_type=full, n_iter=100, tol=0.001 => Accuracy: 0.3039\n",
      "n_components=7, covariance_type=full, n_iter=200, tol=0.01 => Accuracy: 0.3039\n",
      "n_components=7, covariance_type=full, n_iter=200, tol=0.001 => Accuracy: 0.3039\n",
      "n_components=7, covariance_type=full, n_iter=500, tol=0.01 => Accuracy: 0.3039\n"
     ]
    },
    {
     "name": "stderr",
     "output_type": "stream",
     "text": [
      "Model is not converging.  Current: -8930.572913363261 is not greater than -8929.665337121121. Delta is -0.9075762421398395\n"
     ]
    },
    {
     "name": "stdout",
     "output_type": "stream",
     "text": [
      "n_components=7, covariance_type=full, n_iter=500, tol=0.001 => Accuracy: 0.3039\n",
      "n_components=8, covariance_type=diag, n_iter=100, tol=0.01 => Accuracy: 0.3529\n"
     ]
    },
    {
     "name": "stderr",
     "output_type": "stream",
     "text": [
      "Model is not converging.  Current: -8930.572913363694 is not greater than -8929.665337121469. Delta is -0.907576242225332\n",
      "Model is not converging.  Current: -8930.572913363694 is not greater than -8929.665337121469. Delta is -0.907576242225332\n"
     ]
    },
    {
     "name": "stdout",
     "output_type": "stream",
     "text": [
      "n_components=8, covariance_type=diag, n_iter=100, tol=0.001 => Accuracy: 0.3529\n",
      "n_components=8, covariance_type=diag, n_iter=200, tol=0.01 => Accuracy: 0.3529\n"
     ]
    },
    {
     "name": "stderr",
     "output_type": "stream",
     "text": [
      "Model is not converging.  Current: -8930.572913363261 is not greater than -8929.665337121121. Delta is -0.9075762421398395\n",
      "Model is not converging.  Current: -8930.572913363065 is not greater than -8929.665337121138. Delta is -0.9075762419270177\n"
     ]
    },
    {
     "name": "stdout",
     "output_type": "stream",
     "text": [
      "n_components=8, covariance_type=diag, n_iter=200, tol=0.001 => Accuracy: 0.3529\n",
      "n_components=8, covariance_type=diag, n_iter=500, tol=0.01 => Accuracy: 0.3529\n"
     ]
    },
    {
     "name": "stderr",
     "output_type": "stream",
     "text": [
      "Model is not converging.  Current: -8930.572913363065 is not greater than -8929.665337121138. Delta is -0.9075762419270177\n"
     ]
    },
    {
     "name": "stdout",
     "output_type": "stream",
     "text": [
      "n_components=8, covariance_type=diag, n_iter=500, tol=0.001 => Accuracy: 0.3529\n",
      "n_components=8, covariance_type=full, n_iter=100, tol=0.01 => Accuracy: 0.3333\n",
      "n_components=8, covariance_type=full, n_iter=100, tol=0.001 => Accuracy: 0.3333\n",
      "n_components=8, covariance_type=full, n_iter=200, tol=0.01 => Accuracy: 0.3333\n",
      "n_components=8, covariance_type=full, n_iter=200, tol=0.001 => Accuracy: 0.3333\n",
      "n_components=8, covariance_type=full, n_iter=500, tol=0.01 => Accuracy: 0.3333\n",
      "n_components=8, covariance_type=full, n_iter=500, tol=0.001 => Accuracy: 0.3333\n",
      "n_components=9, covariance_type=diag, n_iter=100, tol=0.01 => Accuracy: 0.2647\n",
      "n_components=9, covariance_type=diag, n_iter=100, tol=0.001 => Accuracy: 0.2647\n",
      "n_components=9, covariance_type=diag, n_iter=200, tol=0.01 => Accuracy: 0.2647\n",
      "n_components=9, covariance_type=diag, n_iter=200, tol=0.001 => Accuracy: 0.2647\n",
      "n_components=9, covariance_type=diag, n_iter=500, tol=0.01 => Accuracy: 0.2647\n",
      "n_components=9, covariance_type=diag, n_iter=500, tol=0.001 => Accuracy: 0.2647\n",
      "n_components=9, covariance_type=full, n_iter=100, tol=0.01 => Accuracy: 0.3529\n",
      "n_components=9, covariance_type=full, n_iter=100, tol=0.001 => Accuracy: 0.3529\n",
      "n_components=9, covariance_type=full, n_iter=200, tol=0.01 => Accuracy: 0.3529\n",
      "n_components=9, covariance_type=full, n_iter=200, tol=0.001 => Accuracy: 0.3529\n",
      "n_components=9, covariance_type=full, n_iter=500, tol=0.01 => Accuracy: 0.3529\n",
      "n_components=9, covariance_type=full, n_iter=500, tol=0.001 => Accuracy: 0.3529\n",
      "\n",
      "✅ Mejores parámetros encontrados tras el balanceo:\n",
      "n_components = 5, covariance_type = full, n_iter = 100, tol = 0.01\n",
      "Accuracy alcanzado en val: 0.3667\n"
     ]
    }
   ],
   "source": [
    "best_accuracy = 0\n",
    "best_params = None\n",
    "\n",
    "param_grid = {\n",
    "    'n_components': [4, 5, 6, 7, 8], \n",
    "    'covariance_type': ['diag', 'full'],\n",
    "    'n_iter': [100, 200, 500],\n",
    "    'tol': [1e-2, 1e-3]\n",
    "}\n",
    "\n",
    "for n_components in param_grid['n_components']:\n",
    "    for covariance_type in param_grid['covariance_type']:\n",
    "        for n_iter in param_grid['n_iter']:\n",
    "            for tol in param_grid['tol']:\n",
    "                \n",
    "                model = hmm.GaussianHMM(\n",
    "                    n_components=n_components,\n",
    "                    covariance_type=covariance_type,\n",
    "                    n_iter=n_iter,\n",
    "                    tol=tol,\n",
    "                    random_state=42\n",
    "                )\n",
    "                model.fit(X_train_balanced)\n",
    "                \n",
    "                preds = model.predict(X_val)\n",
    "                mapping = best_state_class_mapping(y_val, preds)\n",
    "\n",
    "                most_common_class = np.bincount(y_val).argmax()\n",
    "                mapped_preds = np.array([mapping.get(state, most_common_class) for state in preds])\n",
    "\n",
    "                acc = accuracy_score(y_val, mapped_preds)\n",
    "                \n",
    "                print(f\"n_components={n_components}, covariance_type={covariance_type}, n_iter={n_iter}, tol={tol} => Accuracy: {acc:.4f}\")\n",
    "                \n",
    "                if acc > best_accuracy:\n",
    "                    best_accuracy = acc\n",
    "                    best_params = (n_components, covariance_type, n_iter, tol)\n",
    "\n",
    "print(\"\\n✅ Mejores parámetros encontrados tras el balanceo:\")\n",
    "print(f\"n_components = {best_params[0]}, covariance_type = {best_params[1]}, n_iter = {best_params[2]}, tol = {best_params[3]}\")\n",
    "print(f\"Accuracy alcanzado en val: {best_accuracy:.4f}\")"
   ]
  },
  {
   "cell_type": "code",
   "execution_count": 29,
   "id": "c4ba025f-2110-4712-aff4-834317d9430d",
   "metadata": {},
   "outputs": [
    {
     "name": "stdout",
     "output_type": "stream",
     "text": [
      "✅ Accuracy en test: 0.2883\n"
     ]
    }
   ],
   "source": [
    "# Concatenar train balanceado + validation\n",
    "X_train_full_balanced = np.concatenate([X_train_balanced, X_val], axis=0)\n",
    "y_train_full_balanced = np.concatenate([y_train_balanced, y_val], axis=0)\n",
    "\n",
    "# Entrenar el modelo final\n",
    "final_model = hmm.GaussianHMM(\n",
    "    n_components=5,\n",
    "    covariance_type='full',\n",
    "    n_iter=100,\n",
    "    tol=0.01,\n",
    "    random_state=42\n",
    ")\n",
    "\n",
    "final_model.fit(X_train_full_balanced)\n",
    "\n",
    "# Predecir en test\n",
    "preds_test = final_model.predict(X_test)\n",
    "\n",
    "# Mapping usando TODO el y_train_full\n",
    "mapping = best_state_class_mapping(y_train_full_balanced, final_model.predict(X_train_full_balanced))\n",
    "\n",
    "# Clase más común de y_train_full\n",
    "most_common_class = np.bincount(y_train_full_balanced).argmax()\n",
    "\n",
    "# Mapear las predicciones\n",
    "mapped_preds_test = np.array([mapping.get(state, most_common_class) for state in preds_test])\n",
    "\n",
    "# Calcular accuracy en el test\n",
    "test_accuracy = accuracy_score(y_test, mapped_preds_test)\n",
    "\n",
    "print(f\"✅ Accuracy en test: {test_accuracy:.4f}\")\n"
   ]
  },
  {
   "cell_type": "code",
   "execution_count": 30,
   "id": "311c8bee-5007-452f-9c34-d15ba73ecbcd",
   "metadata": {},
   "outputs": [
    {
     "data": {
      "text/plain": [
       "<sklearn.metrics._plot.confusion_matrix.ConfusionMatrixDisplay at 0x23679fab890>"
      ]
     },
     "execution_count": 30,
     "metadata": {},
     "output_type": "execute_result"
    },
    {
     "data": {
      "image/png": "[encoded data removed]",
      "text/plain": [
       "<Figure size 640x480 with 2 Axes>"
      ]
     },
     "metadata": {},
     "output_type": "display_data"
    }
   ],
   "source": [
    "from sklearn.metrics import confusion_matrix, ConfusionMatrixDisplay\n",
    "\n",
    "# Matriz de confusión\n",
    "cm = confusion_matrix(y_test, mapped_preds_test)\n",
    "\n",
    "# Mostrar la matriz\n",
    "disp = ConfusionMatrixDisplay(confusion_matrix=cm)\n",
    "disp.plot(cmap=\"Blues\", values_format='d')\n"
   ]
  },
  {
   "cell_type": "code",
   "execution_count": null,
   "id": "339b8244-610a-4c18-9e59-8f8d934ae96e",
   "metadata": {},
   "outputs": [],
   "source": []
  }
 ],
 "metadata": {
  "kernelspec": {
   "display_name": "Python 3 (ipykernel)",
   "language": "python",
   "name": "python3"
  },
  "language_info": {
   "codemirror_mode": {
    "name": "ipython",
    "version": 3
   },
   "file_extension": ".py",
   "mimetype": "text/x-python",
   "name": "python",
   "nbconvert_exporter": "python",
   "pygments_lexer": "ipython3",
   "version": "3.11.9"
  }
 },
 "nbformat": 4,
 "nbformat_minor": 5
}
