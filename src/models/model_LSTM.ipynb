{
 "cells": [
  {
   "cell_type": "markdown",
   "id": "a38e49ff-48e2-4d22-8232-add20dc4cd8c",
   "metadata": {},
   "source": [
    "# MODELADO\n",
    "\n",
    "## LSTM\n",
    "\n",
    "\n",
    "<hr>\n",
    "\n",
    "<code> **Proyecto de Datos II** </code>"
   ]
  },
  {
   "cell_type": "markdown",
   "id": "db7c845b-dd88-42f7-aba6-1e2778fa821a",
   "metadata": {},
   "source": [
    "## Índice\n",
    "\n",
    "- [Importación de los datos](#importación-de-los-datos)\n",
    "- [Preprocesamiento](#preprocesamiento)\n",
    "- [Entrenamiento](#entrenamiento)\n",
    "- [Análisis del modelo](#análisis-del-modelo)\n",
    "- [Registro del modelo en MLflow](#registro-del-modelo-en-mlflow)\n"
   ]
  },
  {
   "cell_type": "code",
   "execution_count": 1,
   "id": "b2f464da-fc1a-45ba-a080-6cfde2316aa0",
   "metadata": {},
   "outputs": [],
   "source": [
    "import time\n",
    "import mlflow\n",
    "import pandas as pd\n",
    "from evaluation.evaluator import Evaluator\n",
    "\n",
    "SEED = 22 # replicabilidad\n",
    "\n",
    "# =====================================\n",
    "MODEL_NAME = \"LSTM\" \n",
    "# ====================================="
   ]
  },
  {
   "cell_type": "markdown",
   "id": "bd637b55-3e74-410d-819b-6aa19ed9c30e",
   "metadata": {},
   "source": [
    "## Importación de los datos"
   ]
  },
  {
   "cell_type": "code",
   "execution_count": 11,
   "id": "7abdb93d",
   "metadata": {},
   "outputs": [],
   "source": [
    "# Iniciamos la sesión de spark\n",
    "import findspark\n",
    "findspark.init()"
   ]
  },
  {
   "cell_type": "code",
   "execution_count": 12,
   "id": "bcbab70a",
   "metadata": {},
   "outputs": [
    {
     "name": "stderr",
     "output_type": "stream",
     "text": [
      "25/04/26 18:34:55 WARN Utils: Your hostname, neutron.local resolves to a loopback address: 127.0.0.1; using 10.8.63.80 instead (on interface en0)\n",
      "25/04/26 18:34:55 WARN Utils: Set SPARK_LOCAL_IP if you need to bind to another address\n",
      "Setting default log level to \"WARN\".\n",
      "To adjust logging level use sc.setLogLevel(newLevel). For SparkR, use setLogLevel(newLevel).\n",
      "25/04/26 18:34:55 WARN NativeCodeLoader: Unable to load native-hadoop library for your platform... using builtin-java classes where applicable\n"
     ]
    }
   ],
   "source": [
    "from pyspark.sql import SparkSession\n",
    "\n",
    "spark = SparkSession.builder \\\n",
    "    .appName(\"Spark en local\") \\\n",
    "    .config(\"spark.master\", \"local[*]\") \\\n",
    "    .config(\"spark.hadoop.fs.defaultFS\", \"file:///\") \\\n",
    "    .config(\"spark.sql.warehouse.dir\", \"file:///tmp/spark-warehouse\") \\\n",
    "    .config(\"spark.driver.extraJavaOptions\", \"-Dderby.system.home=/tmp/derby\") \\\n",
    "    .getOrCreate()\n",
    "\n",
    "sc = spark.sparkContext"
   ]
  },
  {
   "cell_type": "code",
   "execution_count": 13,
   "id": "aeffee5d-bee7-47cb-ad3a-da90737097b6",
   "metadata": {},
   "outputs": [
    {
     "name": "stderr",
     "output_type": "stream",
     "text": [
      "\r",
      "[Stage 0:>                                                          (0 + 1) / 1]\r",
      "\r",
      "                                                                                \r"
     ]
    }
   ],
   "source": [
    "df_train = spark.read.parquet(\"/Users/maria/Downloads/train_spark.parquet\")\n",
    "df_test = spark.read.parquet(\"/Users/maria/Downloads/test_spark.parquet\")\n",
    "\n",
    "# Quitamos las columnas de ICAO, Callsign y Timestamp\n",
    "col_to_drop = ['timestamp', 'icao', 'callsign']\n",
    "df_train = df_train.drop(*col_to_drop)\n",
    "df_test = df_test.drop(*col_to_drop)\n",
    "\n",
    "# Separamos las variables de la variable objetivo\n",
    "X_train, y_train = df_train.drop(\"takeoff_time\"), df_train.select(\"takeoff_time\")\n",
    "X_test, y_test = df_test.drop(\"takeoff_time\"), df_test.select(\"takeoff_time\") "
   ]
  },
  {
   "cell_type": "code",
   "execution_count": 15,
   "id": "1ea6d533-6fcb-4a43-93f9-0fccd38e6198",
   "metadata": {},
   "outputs": [
    {
     "data": {
      "text/plain": [
       "((123733, 58), (27791, 58))"
      ]
     },
     "execution_count": 15,
     "metadata": {},
     "output_type": "execute_result"
    }
   ],
   "source": [
    "(X_train.count(), len(X_train.columns)), (X_test.count(), len(X_test.columns))"
   ]
  },
  {
   "cell_type": "markdown",
   "id": "6a847e73-4ee8-4336-9efb-d74bcbc788c9",
   "metadata": {},
   "source": [
    "## Preprocesamiento"
   ]
  },
  {
   "cell_type": "code",
   "execution_count": 16,
   "id": "c64cfcc3-9d57-4491-997f-f33a70228e28",
   "metadata": {},
   "outputs": [
    {
     "name": "stderr",
     "output_type": "stream",
     "text": [
      "25/04/26 18:37:17 WARN SparkStringUtils: Truncated the string representation of a plan since it was too large. This behavior can be adjusted by setting 'spark.sql.debug.maxToStringFields'.\n",
      "                                                                                \r"
     ]
    }
   ],
   "source": [
    "# =====================================\n",
    "from pyspark.ml import Pipeline\n",
    "from pyspark.ml.feature import VectorAssembler, MinMaxScaler, StringIndexer\n",
    "\n",
    "# 1. Crear indexadores para las columnas categóricas (tipo string)\n",
    "indexers = [\n",
    "    StringIndexer(inputCol=col, outputCol=f\"{col}_index\")\n",
    "    for col in X_train.columns\n",
    "    if str(X_train.schema[col].dataType) == 'StringType()'\n",
    "]\n",
    "\n",
    "# 2. Definir columnas de entrada para el ensamblador\n",
    "# (indexadas si son categóricas, originales si son numéricas)\n",
    "assembler_inputs = [\n",
    "    f\"{col}_index\" if str(X_train.schema[col].dataType) == 'StringType()' else col\n",
    "    for col in X_train.columns\n",
    "]\n",
    "\n",
    "# 3. Construir el pipeline: indexación -> ensamblado -> escalado\n",
    "pipeline = Pipeline(stages=[\n",
    "    *indexers,\n",
    "    VectorAssembler(inputCols=assembler_inputs, outputCol=\"features_raw\"),\n",
    "    MinMaxScaler(inputCol=\"features_raw\", outputCol=\"features\")\n",
    "])\n",
    "\n",
    "# 4. Ajustar el pipeline SOLO en X_train\n",
    "pipeline_model = pipeline.fit(X_train)\n",
    "\n",
    "# 5. Transformar X_train y X_test usando el mismo pipeline\n",
    "X_train_prepared = pipeline_model.transform(X_train)\n",
    "X_test_prepared = pipeline_model.transform(X_test)\n",
    "\n",
    "# ====================================="
   ]
  },
  {
   "cell_type": "markdown",
   "id": "b25078f0-34aa-4eca-acac-646f3b819823",
   "metadata": {},
   "source": [
    "## Entrenamiento"
   ]
  },
  {
   "cell_type": "code",
   "execution_count": null,
   "id": "98e6f69a-b80b-45e9-8629-790298d53b5f",
   "metadata": {
    "scrolled": true
   },
   "outputs": [
    {
     "name": "stderr",
     "output_type": "stream",
     "text": [
      "                                                                                \r"
     ]
    },
    {
     "name": "stdout",
     "output_type": "stream",
     "text": [
      "Fitting 5 folds for each of 16 candidates, totalling 80 fits\n"
     ]
    },
    {
     "name": "stderr",
     "output_type": "stream",
     "text": [
      "/Users/maria/anaconda3/lib/python3.11/site-packages/keras/src/layers/rnn/rnn.py:200: UserWarning: Do not pass an `input_shape`/`input_dim` argument to a layer. When using Sequential models, prefer using an `Input(shape)` object as the first layer in the model instead.\n",
      "  super().__init__(**kwargs)\n",
      "/Users/maria/anaconda3/lib/python3.11/site-packages/keras/src/layers/rnn/rnn.py:200: UserWarning: Do not pass an `input_shape`/`input_dim` argument to a layer. When using Sequential models, prefer using an `Input(shape)` object as the first layer in the model instead.\n",
      "  super().__init__(**kwargs)\n",
      "/Users/maria/anaconda3/lib/python3.11/site-packages/keras/src/layers/rnn/rnn.py:200: UserWarning: Do not pass an `input_shape`/`input_dim` argument to a layer. When using Sequential models, prefer using an `Input(shape)` object as the first layer in the model instead.\n",
      "  super().__init__(**kwargs)\n",
      "/Users/maria/anaconda3/lib/python3.11/site-packages/keras/src/layers/rnn/rnn.py:200: UserWarning: Do not pass an `input_shape`/`input_dim` argument to a layer. When using Sequential models, prefer using an `Input(shape)` object as the first layer in the model instead.\n",
      "  super().__init__(**kwargs)\n",
      "/Users/maria/anaconda3/lib/python3.11/site-packages/keras/src/layers/rnn/rnn.py:200: UserWarning: Do not pass an `input_shape`/`input_dim` argument to a layer. When using Sequential models, prefer using an `Input(shape)` object as the first layer in the model instead.\n",
      "  super().__init__(**kwargs)\n",
      "/Users/maria/anaconda3/lib/python3.11/site-packages/keras/src/layers/rnn/rnn.py:200: UserWarning: Do not pass an `input_shape`/`input_dim` argument to a layer. When using Sequential models, prefer using an `Input(shape)` object as the first layer in the model instead.\n",
      "  super().__init__(**kwargs)\n",
      "/Users/maria/anaconda3/lib/python3.11/site-packages/keras/src/layers/rnn/rnn.py:200: UserWarning: Do not pass an `input_shape`/`input_dim` argument to a layer. When using Sequential models, prefer using an `Input(shape)` object as the first layer in the model instead.\n",
      "  super().__init__(**kwargs)\n",
      "/Users/maria/anaconda3/lib/python3.11/site-packages/keras/src/layers/rnn/rnn.py:200: UserWarning: Do not pass an `input_shape`/`input_dim` argument to a layer. When using Sequential models, prefer using an `Input(shape)` object as the first layer in the model instead.\n",
      "  super().__init__(**kwargs)\n",
      "/Users/maria/anaconda3/lib/python3.11/site-packages/keras/src/layers/rnn/rnn.py:200: UserWarning: Do not pass an `input_shape`/`input_dim` argument to a layer. When using Sequential models, prefer using an `Input(shape)` object as the first layer in the model instead.\n",
      "  super().__init__(**kwargs)\n",
      "/Users/maria/anaconda3/lib/python3.11/site-packages/keras/src/layers/rnn/rnn.py:200: UserWarning: Do not pass an `input_shape`/`input_dim` argument to a layer. When using Sequential models, prefer using an `Input(shape)` object as the first layer in the model instead.\n",
      "  super().__init__(**kwargs)\n",
      "/Users/maria/anaconda3/lib/python3.11/site-packages/keras/src/layers/rnn/rnn.py:200: UserWarning: Do not pass an `input_shape`/`input_dim` argument to a layer. When using Sequential models, prefer using an `Input(shape)` object as the first layer in the model instead.\n",
      "  super().__init__(**kwargs)\n",
      "/Users/maria/anaconda3/lib/python3.11/site-packages/keras/src/layers/rnn/rnn.py:200: UserWarning: Do not pass an `input_shape`/`input_dim` argument to a layer. When using Sequential models, prefer using an `Input(shape)` object as the first layer in the model instead.\n",
      "  super().__init__(**kwargs)\n",
      "/Users/maria/anaconda3/lib/python3.11/site-packages/keras/src/layers/rnn/rnn.py:200: UserWarning: Do not pass an `input_shape`/`input_dim` argument to a layer. When using Sequential models, prefer using an `Input(shape)` object as the first layer in the model instead.\n",
      "  super().__init__(**kwargs)\n",
      "/Users/maria/anaconda3/lib/python3.11/site-packages/keras/src/layers/rnn/rnn.py:200: UserWarning: Do not pass an `input_shape`/`input_dim` argument to a layer. When using Sequential models, prefer using an `Input(shape)` object as the first layer in the model instead.\n",
      "  super().__init__(**kwargs)\n",
      "/Users/maria/anaconda3/lib/python3.11/site-packages/keras/src/layers/rnn/rnn.py:200: UserWarning: Do not pass an `input_shape`/`input_dim` argument to a layer. When using Sequential models, prefer using an `Input(shape)` object as the first layer in the model instead.\n",
      "  super().__init__(**kwargs)\n",
      "/Users/maria/anaconda3/lib/python3.11/site-packages/keras/src/layers/rnn/rnn.py:200: UserWarning: Do not pass an `input_shape`/`input_dim` argument to a layer. When using Sequential models, prefer using an `Input(shape)` object as the first layer in the model instead.\n",
      "  super().__init__(**kwargs)\n",
      "/Users/maria/anaconda3/lib/python3.11/site-packages/keras/src/layers/rnn/rnn.py:200: UserWarning: Do not pass an `input_shape`/`input_dim` argument to a layer. When using Sequential models, prefer using an `Input(shape)` object as the first layer in the model instead.\n",
      "  super().__init__(**kwargs)\n",
      "/Users/maria/anaconda3/lib/python3.11/site-packages/keras/src/layers/rnn/rnn.py:200: UserWarning: Do not pass an `input_shape`/`input_dim` argument to a layer. When using Sequential models, prefer using an `Input(shape)` object as the first layer in the model instead.\n",
      "  super().__init__(**kwargs)\n",
      "/Users/maria/anaconda3/lib/python3.11/site-packages/keras/src/layers/rnn/rnn.py:200: UserWarning: Do not pass an `input_shape`/`input_dim` argument to a layer. When using Sequential models, prefer using an `Input(shape)` object as the first layer in the model instead.\n",
      "  super().__init__(**kwargs)\n",
      "/Users/maria/anaconda3/lib/python3.11/site-packages/keras/src/layers/rnn/rnn.py:200: UserWarning: Do not pass an `input_shape`/`input_dim` argument to a layer. When using Sequential models, prefer using an `Input(shape)` object as the first layer in the model instead.\n",
      "  super().__init__(**kwargs)\n",
      "/Users/maria/anaconda3/lib/python3.11/site-packages/keras/src/layers/rnn/rnn.py:200: UserWarning: Do not pass an `input_shape`/`input_dim` argument to a layer. When using Sequential models, prefer using an `Input(shape)` object as the first layer in the model instead.\n",
      "  super().__init__(**kwargs)\n",
      "/Users/maria/anaconda3/lib/python3.11/site-packages/keras/src/layers/rnn/rnn.py:200: UserWarning: Do not pass an `input_shape`/`input_dim` argument to a layer. When using Sequential models, prefer using an `Input(shape)` object as the first layer in the model instead.\n",
      "  super().__init__(**kwargs)\n",
      "/Users/maria/anaconda3/lib/python3.11/site-packages/keras/src/layers/rnn/rnn.py:200: UserWarning: Do not pass an `input_shape`/`input_dim` argument to a layer. When using Sequential models, prefer using an `Input(shape)` object as the first layer in the model instead.\n",
      "  super().__init__(**kwargs)\n",
      "/Users/maria/anaconda3/lib/python3.11/site-packages/keras/src/layers/rnn/rnn.py:200: UserWarning: Do not pass an `input_shape`/`input_dim` argument to a layer. When using Sequential models, prefer using an `Input(shape)` object as the first layer in the model instead.\n",
      "  super().__init__(**kwargs)\n",
      "/Users/maria/anaconda3/lib/python3.11/site-packages/keras/src/layers/rnn/rnn.py:200: UserWarning: Do not pass an `input_shape`/`input_dim` argument to a layer. When using Sequential models, prefer using an `Input(shape)` object as the first layer in the model instead.\n",
      "  super().__init__(**kwargs)\n",
      "/Users/maria/anaconda3/lib/python3.11/site-packages/keras/src/layers/rnn/rnn.py:200: UserWarning: Do not pass an `input_shape`/`input_dim` argument to a layer. When using Sequential models, prefer using an `Input(shape)` object as the first layer in the model instead.\n",
      "  super().__init__(**kwargs)\n",
      "/Users/maria/anaconda3/lib/python3.11/site-packages/keras/src/layers/rnn/rnn.py:200: UserWarning: Do not pass an `input_shape`/`input_dim` argument to a layer. When using Sequential models, prefer using an `Input(shape)` object as the first layer in the model instead.\n",
      "  super().__init__(**kwargs)\n",
      "/Users/maria/anaconda3/lib/python3.11/site-packages/keras/src/layers/rnn/rnn.py:200: UserWarning: Do not pass an `input_shape`/`input_dim` argument to a layer. When using Sequential models, prefer using an `Input(shape)` object as the first layer in the model instead.\n",
      "  super().__init__(**kwargs)\n"
     ]
    },
    {
     "name": "stderr",
     "output_type": "stream",
     "text": [
      "/Users/maria/anaconda3/lib/python3.11/site-packages/keras/src/layers/rnn/rnn.py:200: UserWarning: Do not pass an `input_shape`/`input_dim` argument to a layer. When using Sequential models, prefer using an `Input(shape)` object as the first layer in the model instead.\n",
      "  super().__init__(**kwargs)\n",
      "/Users/maria/anaconda3/lib/python3.11/site-packages/keras/src/layers/rnn/rnn.py:200: UserWarning: Do not pass an `input_shape`/`input_dim` argument to a layer. When using Sequential models, prefer using an `Input(shape)` object as the first layer in the model instead.\n",
      "  super().__init__(**kwargs)\n",
      "/Users/maria/anaconda3/lib/python3.11/site-packages/keras/src/layers/rnn/rnn.py:200: UserWarning: Do not pass an `input_shape`/`input_dim` argument to a layer. When using Sequential models, prefer using an `Input(shape)` object as the first layer in the model instead.\n",
      "  super().__init__(**kwargs)\n",
      "/Users/maria/anaconda3/lib/python3.11/site-packages/keras/src/layers/rnn/rnn.py:200: UserWarning: Do not pass an `input_shape`/`input_dim` argument to a layer. When using Sequential models, prefer using an `Input(shape)` object as the first layer in the model instead.\n",
      "  super().__init__(**kwargs)\n",
      "/Users/maria/anaconda3/lib/python3.11/site-packages/keras/src/layers/rnn/rnn.py:200: UserWarning: Do not pass an `input_shape`/`input_dim` argument to a layer. When using Sequential models, prefer using an `Input(shape)` object as the first layer in the model instead.\n",
      "  super().__init__(**kwargs)\n",
      "/Users/maria/anaconda3/lib/python3.11/site-packages/keras/src/layers/rnn/rnn.py:200: UserWarning: Do not pass an `input_shape`/`input_dim` argument to a layer. When using Sequential models, prefer using an `Input(shape)` object as the first layer in the model instead.\n",
      "  super().__init__(**kwargs)\n",
      "/Users/maria/anaconda3/lib/python3.11/site-packages/keras/src/layers/rnn/rnn.py:200: UserWarning: Do not pass an `input_shape`/`input_dim` argument to a layer. When using Sequential models, prefer using an `Input(shape)` object as the first layer in the model instead.\n",
      "  super().__init__(**kwargs)\n",
      "/Users/maria/anaconda3/lib/python3.11/site-packages/keras/src/layers/rnn/rnn.py:200: UserWarning: Do not pass an `input_shape`/`input_dim` argument to a layer. When using Sequential models, prefer using an `Input(shape)` object as the first layer in the model instead.\n",
      "  super().__init__(**kwargs)\n",
      "/Users/maria/anaconda3/lib/python3.11/site-packages/keras/src/layers/rnn/rnn.py:200: UserWarning: Do not pass an `input_shape`/`input_dim` argument to a layer. When using Sequential models, prefer using an `Input(shape)` object as the first layer in the model instead.\n",
      "  super().__init__(**kwargs)\n",
      "/Users/maria/anaconda3/lib/python3.11/site-packages/keras/src/layers/rnn/rnn.py:200: UserWarning: Do not pass an `input_shape`/`input_dim` argument to a layer. When using Sequential models, prefer using an `Input(shape)` object as the first layer in the model instead.\n",
      "  super().__init__(**kwargs)\n",
      "/Users/maria/anaconda3/lib/python3.11/site-packages/keras/src/layers/rnn/rnn.py:200: UserWarning: Do not pass an `input_shape`/`input_dim` argument to a layer. When using Sequential models, prefer using an `Input(shape)` object as the first layer in the model instead.\n",
      "  super().__init__(**kwargs)\n"
     ]
    }
   ],
   "source": [
    "start_time = time.time()\n",
    "\n",
    "# ========================================\n",
    "\n",
    "import numpy as np\n",
    "import joblib\n",
    "import pandas as pd\n",
    "\n",
    "from tensorflow.keras import regularizers\n",
    "from tensorflow.keras.models import Sequential\n",
    "from tensorflow.keras.layers import LSTM, Dense, Dropout\n",
    "from tensorflow.keras.layers import BatchNormalization\n",
    "from tensorflow.keras.callbacks import EarlyStopping\n",
    "\n",
    "from scikeras.wrappers import KerasRegressor\n",
    "\n",
    "from sklearn.model_selection import GridSearchCV, TimeSeriesSplit\n",
    "from sklearn.preprocessing import MinMaxScaler\n",
    "\n",
    "\n",
    "# 1. Convertir Spark DataFrame a NumPy para las características (ya preparado en X_train_prepared)\n",
    "pdf_train = X_train_prepared.select(\"features\").toPandas()\n",
    "X = np.stack(pdf_train[\"features\"].values)\n",
    "\n",
    "# 2. Escalar la variable objetivo y (takeoff_time) usando MinMaxScaler\n",
    "y_scaler = MinMaxScaler()\n",
    "y_train_scaled = y_scaler.fit_transform(y_train.toPandas().values.reshape(-1, 1)).flatten()\n",
    "\n",
    "# Redimensionar X para que coincida con la entrada de LSTM (muestras, pasos de tiempo, características)\n",
    "X = X.reshape((X.shape[0], 1, X.shape[1]))\n",
    "\n",
    "# 3. Definir el modelo LSTM\n",
    "def build_model(units=64, dropout_rate=0.2, l2_reg=0.01):\n",
    "    model = Sequential([\n",
    "        LSTM(units, input_shape=(1, X.shape[2]), \n",
    "             kernel_regularizer=regularizers.l2(l2_reg)),\n",
    "        BatchNormalization(), \n",
    "        Dropout(dropout_rate),\n",
    "        Dense(1, kernel_regularizer=regularizers.l2(l2_reg))\n",
    "    ])\n",
    "    model.compile(optimizer='adam', loss='mse')\n",
    "    return model\n",
    "\n",
    "\n",
    "# 4. Definir el regressor usando KerasRegressor\n",
    "regressor = KerasRegressor(\n",
    "    model=build_model,\n",
    "    units=64,\n",
    "    dropout_rate=0.2,\n",
    "    verbose=0\n",
    ")\n",
    "\n",
    "# 5. EarlyStopping para evitar sobreajuste\n",
    "early_stop = EarlyStopping(monitor='loss', patience=5, restore_best_weights=True)\n",
    "\n",
    "# 6. Definir el grid de hiperparámetros para la búsqueda\n",
    "param_grid = {\n",
    "    \"units\": [32, 64],\n",
    "    \"dropout_rate\": [0.2, 0.4],\n",
    "    \"epochs\": [20, 40],\n",
    "    \"batch_size\": [16, 32]\n",
    "}\n",
    "\n",
    "# 7. Definir la validación cruzada con TimeSeriesSplit\n",
    "tscv = TimeSeriesSplit(n_splits=5)\n",
    "\n",
    "grid = GridSearchCV(\n",
    "    estimator=regressor,\n",
    "    param_grid=param_grid,\n",
    "    scoring='neg_root_mean_squared_error',\n",
    "    cv=tscv,\n",
    "    verbose=1, \n",
    "    n_jobs=-1 # Usa todos los núcleos disponibles\n",
    ")\n",
    "\n",
    "# 8. Entrenar el modelo con GridSearchCV\n",
    "grid_result = grid.fit(X, y_train_scaled, callbacks=[early_stop])\n",
    "\n",
    "\n",
    "# ========================================\n",
    "\n",
    "end_time = time.time()\n",
    "execution_time = end_time - start_time"
   ]
  },
  {
   "cell_type": "code",
   "execution_count": null,
   "id": "af091c77",
   "metadata": {},
   "outputs": [],
   "source": [
    "# 1. Obtener el mejor modelo (el que tiene los mejores hiperparámetros)\n",
    "best_model = grid_result.best_estimator_\n",
    "\n",
    "# 2. Obtener los mejores hiperparámetros\n",
    "best_params = grid_result.best_params_\n",
    "\n",
    "# 3. Obtener el puntaje de validación del modelo elegido\n",
    "best_score = grid_result.best_score_"
   ]
  },
  {
   "cell_type": "code",
   "execution_count": null,
   "id": "0e58ccb3",
   "metadata": {},
   "outputs": [],
   "source": [
    "print(execution_time)"
   ]
  },
  {
   "cell_type": "markdown",
   "id": "7970bbdb-c953-4e17-8bb8-c99b1187dd03",
   "metadata": {},
   "source": [
    "## Análisis del modelo"
   ]
  },
  {
   "cell_type": "code",
   "execution_count": null,
   "id": "d6cd1f60-b05f-4ef2-b806-15ac8b31e0eb",
   "metadata": {},
   "outputs": [],
   "source": [
    "# ===============================================================\n",
    "\n",
    "from sklearn.metrics import mean_absolute_error, mean_squared_error\n",
    "import numpy as np\n",
    "\n",
    "# 1. Predicciones en el conjunto de entrenamiento\n",
    "y_train_pred_scaled = grid_result.predict(X_train)  # Predicciones en escala normalizada\n",
    "y_train_pred = y_scaler.inverse_transform(y_train_pred_scaled.reshape(-1, 1)).flatten()\n",
    "\n",
    "# 3. Calcular MAE y RMSE en el conjunto de entrenamiento\n",
    "mae_train = mean_absolute_error(y_train, y_train_pred)\n",
    "rmse_train = np.sqrt(mean_squared_error(y_train, y_train_pred))\n",
    "\n",
    "mae_val = ...\n",
    "rmse_val = ...\n",
    "# ==============================================================="
   ]
  },
  {
   "cell_type": "code",
   "execution_count": null,
   "id": "1469d262-f7d3-4167-9291-07bb4b685fd6",
   "metadata": {},
   "outputs": [],
   "source": [
    "# ===============================================================\n",
    "# Generar predicciones en test\n",
    "\n",
    "# 1. Convertir el DataFrame de Spark de test a Pandas\n",
    "pdf_test = X_test_prepared.select(\"features\").toPandas()\n",
    "X_test = np.stack(pdf_test[\"features\"].values)\n",
    "\n",
    "# 2. Redimensionar X_test para que coincida con la entrada de LSTM (muestras, pasos de tiempo, características)\n",
    "X_test = X_test.reshape((X_test.shape[0], 1, X_test.shape[1]))  # (n_samples, 1, n_features)\n",
    "\n",
    "# 3. Hacer las predicciones en el conjunto de test usando el mejor modelo\n",
    "y_test_pred_scaled = grid_result.best_estimator_.predict(X_test)  \n",
    "\n",
    "# 4. Desescalar las predicciones\n",
    "y_test_pred = y_scaler.inverse_transform(y_test_pred_scaled.reshape(-1, 1)).flatten()\n",
    "\n",
    "# ===============================================================\n",
    "\n",
    "df_test['prediction'] = y_test_pred"
   ]
  },
  {
   "cell_type": "code",
   "execution_count": null,
   "id": "18706da7-ae3b-4003-8bcb-6dc73a0194ad",
   "metadata": {},
   "outputs": [],
   "source": [
    "# Nota: df_test tiene que tener la columna 'prediction'\n",
    "ev = Evaluator(df_test, MODEL_NAME, mae_val, rmse_val)\n",
    "report = ev.getReport()\n",
    "ev.visualEvaluation()"
   ]
  },
  {
   "cell_type": "markdown",
   "id": "3225d489-96a4-4fa6-8a49-dab362089363",
   "metadata": {},
   "source": [
    "### Influencia de las variables"
   ]
  },
  {
   "cell_type": "code",
   "execution_count": null,
   "id": "0da81b3d-e480-452e-be7b-cd4aeb8f811e",
   "metadata": {},
   "outputs": [],
   "source": [
    "# ===============================================================\n",
    "# INFLUENCIA DE LAS VARIABLES\n",
    "# En el caso de el modelo LSTM no se puede saber la influencia de cada variable\n",
    "# ==============================================================="
   ]
  },
  {
   "cell_type": "markdown",
   "id": "5cc79d07-4d85-4dba-8242-331e8102d0ca",
   "metadata": {},
   "source": [
    "## Registro del modelo en MLflow"
   ]
  },
  {
   "cell_type": "code",
   "execution_count": null,
   "id": "d4654dd7-3e73-41b8-b7f8-eeb559fff34c",
   "metadata": {},
   "outputs": [],
   "source": [
    "mlflow.set_tracking_uri(\"file:./mlflow_experiments\")\n",
    "mlflow.set_experiment(\"takeoff_time_prediction\")\n",
    "\n",
    "with mlflow.start_run():\n",
    "\n",
    "    # - Datos generales -\n",
    "\n",
    "    # ========================================================================\n",
    "    mlflow.set_tag(\"model_type\", MODEL_NAME)\n",
    "    mlflow.set_tag(\"framework\", \"tensorflow.keras\") # scikit-learn, tensorflow, etc.\n",
    "    mlflow.set_tag(\"target_variable\", \"takeoff_time\") # variable respuesta\n",
    "    mlflow.set_tag(\"preprocessing\", \"StringIndexer+VectorAssembler+MinMaxScaler\") # transformaciones separadas por un +\n",
    "    mlflow.set_tag(\"dataset\", \"original\") # indicar si se ha modificado el conjunto de datos\n",
    "    mlflow.set_tag(\"seed\", SEED) # semilla para replicabilidad\n",
    "    # ========================================================================\n",
    "    \n",
    "    # - Hiperparámetros óptimos -\n",
    "    \n",
    "    # =====================================\n",
    "    # AÑADIR HIPERPARÁMETROS\n",
    "    best_params = grid_result.best_params_\n",
    "    for param_name, param_value in best_params.items():\n",
    "        mlflow.log_param(param_name, param_value)\n",
    "    mlflow.log_param(\"model\", MODEL_NAME)\n",
    "    # =====================================\n",
    "    \n",
    "    # - Métricas -\n",
    "\n",
    "    mlflow.log_metric(\"execution_time_s\", execution_time)\n",
    "\n",
    "    mlflow.log_metric(\"mae_val\", mae_val)\n",
    "    mlflow.log_metric(\"rmse_val\", rmse_val)\n",
    "\n",
    "    mlflow.log_metric(\"mae_train\", mae_train)\n",
    "    mlflow.log_metric(\"rmse_train\", rmse_train)\n",
    "\n",
    "    # Registrar métricas globales en test\n",
    "    for metric_name, value in report[\"global\"].items():\n",
    "        mlflow.log_metric(f\"{metric_name}_test\", value)\n",
    "    \n",
    "    # Registrar métricas por runway\n",
    "    for runway, metrics in report[\"by_runway\"].items():\n",
    "        for metric_name, value in metrics.items():\n",
    "            mlflow.log_metric(f\"{metric_name}_test_runway_{runway}\", value)\n",
    "    \n",
    "    # Registrar métricas por holding point\n",
    "    for hp, metrics in report[\"by_holding_point\"].items():\n",
    "        for metric_name, value in metrics.items():\n",
    "            mlflow.log_metric(f\"{metric_name}_test_hp_{hp}\", value)\n",
    "\n",
    "    # - Modelo -\n",
    "\n",
    "    # ========================================================================\n",
    "    # NOTA - Dependiendo de con qué has hecho el modelo esto hay que cambiarlo\n",
    "    mlflow.sklearn.log_model(grid_result.best_estimator_, MODEL_NAME)\n",
    "    # ========================================================================\n",
    "    "
   ]
  },
  {
   "cell_type": "code",
   "execution_count": null,
   "id": "0aa475d6-3fd2-41c8-9916-5ce17302c8f9",
   "metadata": {},
   "outputs": [],
   "source": [
    "# - Visualizar experimentos -\n",
    "# !mlflow ui --backend-store-uri ./mlflow_experiments"
   ]
  }
 ],
 "metadata": {
  "kernelspec": {
   "display_name": "Python 3 (ipykernel)",
   "language": "python",
   "name": "python3"
  },
  "language_info": {
   "codemirror_mode": {
    "name": "ipython",
    "version": 3
   },
   "file_extension": ".py",
   "mimetype": "text/x-python",
   "name": "python",
   "nbconvert_exporter": "python",
   "pygments_lexer": "ipython3",
   "version": "3.11.5"
  }
 },
 "nbformat": 4,
 "nbformat_minor": 5
}
