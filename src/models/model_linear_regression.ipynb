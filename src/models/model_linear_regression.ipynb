{
 "cells": [
  {
   "cell_type": "markdown",
   "id": "a38e49ff-48e2-4d22-8232-add20dc4cd8c",
   "metadata": {},
   "source": [
    "# MODELADO\n",
    "\n",
    "## REGRESIÓN LINEAL\n",
    "\n",
    "\n",
    "<hr>\n",
    "\n",
    "<code> **Proyecto de Datos II** </code>"
   ]
  },
  {
   "cell_type": "markdown",
   "id": "db7c845b-dd88-42f7-aba6-1e2778fa821a",
   "metadata": {},
   "source": [
    "## Índice\n",
    "\n",
    "- [Importación de los datos](#importación-de-los-datos)\n",
    "- [Preprocesamiento](#preprocesamiento)\n",
    "- [Entrenamiento](#entrenamiento)\n",
    "- [Análisis del modelo](#análisis-del-modelo)\n",
    "- [Registro del modelo en MLflow](#registro-del-modelo-en-mlflow)\n"
   ]
  },
  {
   "cell_type": "code",
   "execution_count": 36,
   "id": "b2f464da-fc1a-45ba-a080-6cfde2316aa0",
   "metadata": {},
   "outputs": [],
   "source": [
    "import time\n",
    "import mlflow\n",
    "import pandas as pd\n",
    "from evaluation.evaluator import Evaluator\n",
    "\n",
    "SEED = 22 # replicabilidad\n",
    "\n",
    "# =====================================\n",
    "MODEL_NAME = \"linear_regression\"\n",
    "# ====================================="
   ]
  },
  {
   "cell_type": "markdown",
   "id": "bd637b55-3e74-410d-819b-6aa19ed9c30e",
   "metadata": {},
   "source": [
    "## Importación de los datos"
   ]
  },
  {
   "cell_type": "code",
   "execution_count": 37,
   "id": "bcf99688",
   "metadata": {},
   "outputs": [],
   "source": [
    "from pyspark.sql import SparkSession\n",
    "\n",
    "spark = SparkSession.builder.appName(\"app\").getOrCreate()\n",
    "sc = spark.sparkContext"
   ]
  },
  {
   "cell_type": "code",
   "execution_count": 45,
   "id": "aeffee5d-bee7-47cb-ad3a-da90737097b6",
   "metadata": {},
   "outputs": [],
   "source": [
    "df_train = spark.read.parquet(\"../data/train_spark.parquet\")\n",
    "df_test = spark.read.parquet(\"../data/test_spark.parquet\")"
   ]
  },
  {
   "cell_type": "code",
   "execution_count": 39,
   "id": "893cdf03",
   "metadata": {},
   "outputs": [
    {
     "data": {
      "text/plain": [
       "(123733, 27791)"
      ]
     },
     "execution_count": 39,
     "metadata": {},
     "output_type": "execute_result"
    }
   ],
   "source": [
    "df_train.count(), df_test.count()"
   ]
  },
  {
   "cell_type": "markdown",
   "id": "6a847e73-4ee8-4336-9efb-d74bcbc788c9",
   "metadata": {},
   "source": [
    "## Preprocesamiento"
   ]
  },
  {
   "cell_type": "code",
   "execution_count": 46,
   "id": "450102fd",
   "metadata": {},
   "outputs": [],
   "source": [
    "from pyspark.sql.types import StringType, BooleanType, NumericType\n",
    "\n",
    "# Lista de columnas a excluir\n",
    "cols_to_exclude = [\"timestamp\", \"icao\", \"callsign\", \"takeoff_time\", \"__index_level_0__\"]\n",
    "\n",
    "# Separar columnas en numéricas y categóricas\n",
    "categorical_cols = [f.name for f in df_train.schema.fields \n",
    "                    if isinstance(f.dataType, StringType) and f.name not in cols_to_exclude]\n",
    "\n",
    "# Columnas numéricas puras (int, double, etc)\n",
    "numeric_cols = [f.name for f in df_train.schema.fields \n",
    "                if isinstance(f.dataType, NumericType) and f.name not in cols_to_exclude]\n",
    "\n",
    "# Columnas booleanas\n",
    "boolean_cols = [f.name for f in df_train.schema.fields \n",
    "                if isinstance(f.dataType, BooleanType) and f.name not in cols_to_exclude]"
   ]
  },
  {
   "cell_type": "code",
   "execution_count": 61,
   "id": "8684fdcf",
   "metadata": {},
   "outputs": [],
   "source": [
    "from pyspark.sql.functions import col\n",
    "\n",
    "for col_name in boolean_cols:\n",
    "    df_train = df_train.withColumn(col_name, col(col_name).cast(\"integer\"))\n",
    "    df_test = df_test.withColumn(col_name, col(col_name).cast(\"integer\"))"
   ]
  },
  {
   "cell_type": "markdown",
   "id": "e4511cc4",
   "metadata": {},
   "source": [
    "Construimos un pipeline que incluye lo siguiente:\n",
    " 1. Indexación de las variables categóricas (asigna un entero a cada clase)\n",
    " 2. One-Hot Encoding de las variables categóricas (una vez han sido indexadas)\n",
    " 3. Unión de todas las variables categóricas en una sola columna\n",
    " 4. Unión de todas las variables numéricas en una sola columna\n",
    " 5. Escalado de las variables numéricas\n",
    " 6. Unión final de todas las variables (numéricas y categóricas) en una sola columna \"features\" que será el input del modelo"
   ]
  },
  {
   "cell_type": "code",
   "execution_count": 48,
   "id": "c64cfcc3-9d57-4491-997f-f33a70228e28",
   "metadata": {},
   "outputs": [],
   "source": [
    "from pyspark.ml import Pipeline\n",
    "from pyspark.ml.feature import VectorAssembler, StringIndexer, OneHotEncoder, StandardScaler\n",
    "from pyspark.ml.regression import LinearRegression\n",
    "\n",
    "def create_pipeline(lr):\n",
    "\n",
    "    # 1. Indexamos las columnas categóricas (un StringIndexer por cada columna)\n",
    "    indexers = [\n",
    "        StringIndexer(inputCol=col, outputCol=f\"{col}_indexed\", handleInvalid=\"keep\")\n",
    "        for col in categorical_cols\n",
    "    ]\n",
    "\n",
    "    # 2. One-Hot Encoding de categóricas\n",
    "    encoders = [OneHotEncoder(inputCol=c + \"_indexed\", outputCol=c + \"_ohe\") for c in categorical_cols]\n",
    "\n",
    "    # 3. VectorAssembler para categóricas (después del OneHotEncoder)\n",
    "    categorical_assembler = VectorAssembler(inputCols=[f\"{col}_ohe\" for col in categorical_cols], outputCol=\"categorical_features\")\n",
    "\n",
    "    # 4. Indexadores de columnas booleanas (sin one-hot)\n",
    "    bool_indexers = [StringIndexer(inputCol=col, outputCol=f\"{col}_indexed\", handleInvalid=\"keep\") for col in boolean_cols]\n",
    "\n",
    "    # 5. VectorAssembler para booleanas (no se normalizan)\n",
    "    boolean_assembler = VectorAssembler(inputCols=[f\"{col}_indexed\" for col in boolean_cols], outputCol=\"boolean_features\")\n",
    "\n",
    "    # 6. VectorAssembler para numéricas\n",
    "    numeric_assembler = VectorAssembler(inputCols=numeric_cols, outputCol=\"numeric_features\")\n",
    "\n",
    "    # 7. StandardScaler para numéricas\n",
    "    scaler = StandardScaler(inputCol=\"numeric_features\", outputCol=\"scaled_numeric_features\", withMean=True, withStd=True)\n",
    "\n",
    "    # 8. VectorAssembler que junta numéricas escaladas + categóricas\n",
    "    final_assembler = VectorAssembler(\n",
    "        inputCols=[\"scaled_numeric_features\", \"categorical_features\", \"boolean_features\"],\n",
    "        outputCol=\"features\",\n",
    "        handleInvalid=\"skip\"\n",
    "    )\n",
    "\n",
    "    # Modelo de regresión lineal\n",
    "    #lr = LinearRegression(featuresCol=\"features\", labelCol=\"takeoff_time\")\n",
    "\n",
    "    # Pipeline\n",
    "    pipeline = Pipeline(stages=indexers + encoders + bool_indexers + \n",
    "                        [numeric_assembler, scaler, categorical_assembler, boolean_assembler, final_assembler, lr])\n",
    "    \n",
    "    return pipeline"
   ]
  },
  {
   "cell_type": "markdown",
   "id": "b5ed448a",
   "metadata": {},
   "source": [
    "- Definimos un grid de hiperparámetros para escoger los mejores mediante validación cruzada.\n",
    "- Utilizaremos la métrica RMSE durante el entrenamiento.\n",
    "- Definimos la instancia de CrossValidator para realizar validación cruzada."
   ]
  },
  {
   "cell_type": "code",
   "execution_count": null,
   "id": "09a8a3c4",
   "metadata": {},
   "outputs": [],
   "source": [
    "from pyspark.ml.evaluation import RegressionEvaluator\n",
    "from itertools import product\n",
    "\n",
    "# Grid de hiperparámetros manual\n",
    "reg_params = [0.01, 0.1, 1.0]\n",
    "elastic_net_params = [0.0, 0.5, 1.0]\n",
    "max_iters = [50, 100, 200]\n",
    "\n",
    "param_grid = [\n",
    "    {\"regParam\": reg, \"elasticNetParam\": enet, \"maxIter\": it}\n",
    "    for reg, enet, it in product(reg_params, elastic_net_params, max_iters)\n",
    "]\n",
    "\n",
    "# Evaluador\n",
    "evaluator_rmse = RegressionEvaluator(labelCol=\"takeoff_time\", predictionCol=\"prediction\", metricName=\"rmse\")\n",
    "evaluator_mae = RegressionEvaluator(labelCol=\"takeoff_time\", predictionCol=\"prediction\", metricName=\"mae\")"
   ]
  },
  {
   "cell_type": "markdown",
   "id": "d6bdf586",
   "metadata": {},
   "source": [
    "| Fold | Train Period             | Validation Period      |\n",
    "|------|---------------------------|-------------------------|\n",
    "| 1    | 07/11/2024 - 30/11/2024    | 01/12/2024 - 07/12/2024 |\n",
    "| 2    | 07/11/2024 - 07/12/2024    | 08/12/2024 - 14/12/2024 |\n",
    "| 3    | 07/11/2024 - 14/12/2024    | 15/12/2024 - 21/12/2024 |\n",
    "| 4    | 07/11/2024 - 21/12/2024    | 22/12/2024 - 28/12/2024 |\n",
    "| 5    | 07/11/2024 - 28/12/2024    | 29/12/2024 - 04/01/2025 |"
   ]
  },
  {
   "cell_type": "code",
   "execution_count": 50,
   "id": "86e5ca00",
   "metadata": {},
   "outputs": [],
   "source": [
    "# Definimos los folds manualmente\n",
    "folds = [\n",
    "    {\"train_end\": \"2024-11-30\", \"val_start\": \"2024-12-01\", \"val_end\": \"2024-12-07\"},\n",
    "    {\"train_end\": \"2024-12-07\", \"val_start\": \"2024-12-08\", \"val_end\": \"2024-12-14\"},\n",
    "    {\"train_end\": \"2024-12-14\", \"val_start\": \"2024-12-15\", \"val_end\": \"2024-12-21\"},\n",
    "    {\"train_end\": \"2024-12-21\", \"val_start\": \"2024-12-22\", \"val_end\": \"2024-12-28\"},\n",
    "    {\"train_end\": \"2024-12-28\", \"val_start\": \"2024-12-29\", \"val_end\": \"2025-01-04\"},\n",
    "]"
   ]
  },
  {
   "cell_type": "markdown",
   "id": "b25078f0-34aa-4eca-acac-646f3b819823",
   "metadata": {},
   "source": [
    "## Entrenamiento"
   ]
  },
  {
   "cell_type": "code",
   "execution_count": 51,
   "id": "98e6f69a-b80b-45e9-8629-790298d53b5f",
   "metadata": {},
   "outputs": [
    {
     "name": "stderr",
     "output_type": "stream",
     "text": [
      "                                                                                \r"
     ]
    },
    {
     "name": "stdout",
     "output_type": "stream",
     "text": [
      "Params: {'regParam': 0.01, 'elasticNetParam': 0.0, 'maxIter': 50}\n",
      "Train RMSE: 84.457 | Train MAE: 60.885\n",
      "Val   RMSE: 107.807 | Val   MAE: 76.113\n",
      "------------------------------------------------------------\n"
     ]
    },
    {
     "name": "stderr",
     "output_type": "stream",
     "text": [
      "                                                                                \r"
     ]
    },
    {
     "name": "stdout",
     "output_type": "stream",
     "text": [
      "Params: {'regParam': 0.01, 'elasticNetParam': 0.0, 'maxIter': 100}\n",
      "Train RMSE: 84.457 | Train MAE: 60.885\n",
      "Val   RMSE: 107.807 | Val   MAE: 76.113\n",
      "------------------------------------------------------------\n"
     ]
    },
    {
     "name": "stderr",
     "output_type": "stream",
     "text": [
      "                                                                                \r"
     ]
    },
    {
     "name": "stdout",
     "output_type": "stream",
     "text": [
      "Params: {'regParam': 0.01, 'elasticNetParam': 0.0, 'maxIter': 200}\n",
      "Train RMSE: 84.457 | Train MAE: 60.885\n",
      "Val   RMSE: 107.807 | Val   MAE: 76.113\n",
      "------------------------------------------------------------\n"
     ]
    },
    {
     "name": "stderr",
     "output_type": "stream",
     "text": [
      "                                                                                \r"
     ]
    },
    {
     "name": "stdout",
     "output_type": "stream",
     "text": [
      "Params: {'regParam': 0.01, 'elasticNetParam': 0.5, 'maxIter': 50}\n",
      "Train RMSE: 84.464 | Train MAE: 60.876\n",
      "Val   RMSE: 107.863 | Val   MAE: 76.162\n",
      "------------------------------------------------------------\n"
     ]
    },
    {
     "name": "stderr",
     "output_type": "stream",
     "text": [
      "                                                                                \r"
     ]
    },
    {
     "name": "stdout",
     "output_type": "stream",
     "text": [
      "Params: {'regParam': 0.01, 'elasticNetParam': 0.5, 'maxIter': 100}\n",
      "Train RMSE: 84.460 | Train MAE: 60.876\n",
      "Val   RMSE: 107.862 | Val   MAE: 76.153\n",
      "------------------------------------------------------------\n"
     ]
    },
    {
     "name": "stderr",
     "output_type": "stream",
     "text": [
      "                                                                                \r"
     ]
    },
    {
     "name": "stdout",
     "output_type": "stream",
     "text": [
      "Params: {'regParam': 0.01, 'elasticNetParam': 0.5, 'maxIter': 200}\n",
      "Train RMSE: 84.458 | Train MAE: 60.879\n",
      "Val   RMSE: 107.874 | Val   MAE: 76.138\n",
      "------------------------------------------------------------\n"
     ]
    },
    {
     "name": "stderr",
     "output_type": "stream",
     "text": [
      "                                                                                \r"
     ]
    },
    {
     "name": "stdout",
     "output_type": "stream",
     "text": [
      "Params: {'regParam': 0.01, 'elasticNetParam': 1.0, 'maxIter': 50}\n",
      "Train RMSE: 84.464 | Train MAE: 60.874\n",
      "Val   RMSE: 107.843 | Val   MAE: 76.166\n",
      "------------------------------------------------------------\n"
     ]
    },
    {
     "name": "stderr",
     "output_type": "stream",
     "text": [
      "                                                                                \r"
     ]
    },
    {
     "name": "stdout",
     "output_type": "stream",
     "text": [
      "Params: {'regParam': 0.01, 'elasticNetParam': 1.0, 'maxIter': 100}\n",
      "Train RMSE: 84.461 | Train MAE: 60.874\n",
      "Val   RMSE: 107.880 | Val   MAE: 76.148\n",
      "------------------------------------------------------------\n"
     ]
    },
    {
     "name": "stderr",
     "output_type": "stream",
     "text": [
      "                                                                                \r"
     ]
    },
    {
     "name": "stdout",
     "output_type": "stream",
     "text": [
      "Params: {'regParam': 0.01, 'elasticNetParam': 1.0, 'maxIter': 200}\n",
      "Train RMSE: 84.459 | Train MAE: 60.876\n",
      "Val   RMSE: 107.842 | Val   MAE: 76.109\n",
      "------------------------------------------------------------\n"
     ]
    },
    {
     "name": "stderr",
     "output_type": "stream",
     "text": [
      "                                                                                \r"
     ]
    },
    {
     "name": "stdout",
     "output_type": "stream",
     "text": [
      "Params: {'regParam': 0.1, 'elasticNetParam': 0.0, 'maxIter': 50}\n",
      "Train RMSE: 84.458 | Train MAE: 60.879\n",
      "Val   RMSE: 107.798 | Val   MAE: 76.095\n",
      "------------------------------------------------------------\n"
     ]
    },
    {
     "name": "stderr",
     "output_type": "stream",
     "text": [
      "                                                                                \r"
     ]
    },
    {
     "name": "stdout",
     "output_type": "stream",
     "text": [
      "Params: {'regParam': 0.1, 'elasticNetParam': 0.0, 'maxIter': 100}\n",
      "Train RMSE: 84.458 | Train MAE: 60.879\n",
      "Val   RMSE: 107.798 | Val   MAE: 76.095\n",
      "------------------------------------------------------------\n"
     ]
    },
    {
     "name": "stderr",
     "output_type": "stream",
     "text": [
      "                                                                                \r"
     ]
    },
    {
     "name": "stdout",
     "output_type": "stream",
     "text": [
      "Params: {'regParam': 0.1, 'elasticNetParam': 0.0, 'maxIter': 200}\n",
      "Train RMSE: 84.458 | Train MAE: 60.879\n",
      "Val   RMSE: 107.798 | Val   MAE: 76.095\n",
      "------------------------------------------------------------\n"
     ]
    },
    {
     "name": "stderr",
     "output_type": "stream",
     "text": [
      "                                                                                \r"
     ]
    },
    {
     "name": "stdout",
     "output_type": "stream",
     "text": [
      "Params: {'regParam': 0.1, 'elasticNetParam': 0.5, 'maxIter': 50}\n",
      "Train RMSE: 84.471 | Train MAE: 60.860\n",
      "Val   RMSE: 107.565 | Val   MAE: 75.980\n",
      "------------------------------------------------------------\n"
     ]
    },
    {
     "name": "stderr",
     "output_type": "stream",
     "text": [
      "                                                                                \r"
     ]
    },
    {
     "name": "stdout",
     "output_type": "stream",
     "text": [
      "Params: {'regParam': 0.1, 'elasticNetParam': 0.5, 'maxIter': 100}\n",
      "Train RMSE: 84.468 | Train MAE: 60.859\n",
      "Val   RMSE: 107.553 | Val   MAE: 75.863\n",
      "------------------------------------------------------------\n"
     ]
    },
    {
     "name": "stderr",
     "output_type": "stream",
     "text": [
      "                                                                                \r"
     ]
    },
    {
     "name": "stdout",
     "output_type": "stream",
     "text": [
      "Params: {'regParam': 0.1, 'elasticNetParam': 0.5, 'maxIter': 200}\n",
      "Train RMSE: 84.468 | Train MAE: 60.858\n",
      "Val   RMSE: 107.541 | Val   MAE: 75.862\n",
      "------------------------------------------------------------\n"
     ]
    },
    {
     "name": "stderr",
     "output_type": "stream",
     "text": [
      "                                                                                \r"
     ]
    },
    {
     "name": "stdout",
     "output_type": "stream",
     "text": [
      "Params: {'regParam': 0.1, 'elasticNetParam': 1.0, 'maxIter': 50}\n",
      "Train RMSE: 84.490 | Train MAE: 60.859\n",
      "Val   RMSE: 107.202 | Val   MAE: 75.697\n",
      "------------------------------------------------------------\n"
     ]
    },
    {
     "name": "stderr",
     "output_type": "stream",
     "text": [
      "                                                                                \r"
     ]
    },
    {
     "name": "stdout",
     "output_type": "stream",
     "text": [
      "Params: {'regParam': 0.1, 'elasticNetParam': 1.0, 'maxIter': 100}\n",
      "Train RMSE: 84.489 | Train MAE: 60.860\n",
      "Val   RMSE: 107.221 | Val   MAE: 75.702\n",
      "------------------------------------------------------------\n"
     ]
    },
    {
     "name": "stderr",
     "output_type": "stream",
     "text": [
      "                                                                                \r"
     ]
    },
    {
     "name": "stdout",
     "output_type": "stream",
     "text": [
      "Params: {'regParam': 0.1, 'elasticNetParam': 1.0, 'maxIter': 200}\n",
      "Train RMSE: 84.488 | Train MAE: 60.859\n",
      "Val   RMSE: 107.225 | Val   MAE: 75.691\n",
      "------------------------------------------------------------\n"
     ]
    },
    {
     "name": "stderr",
     "output_type": "stream",
     "text": [
      "                                                                                \r"
     ]
    },
    {
     "name": "stdout",
     "output_type": "stream",
     "text": [
      "Params: {'regParam': 1.0, 'elasticNetParam': 0.0, 'maxIter': 50}\n",
      "Train RMSE: 84.470 | Train MAE: 60.851\n",
      "Val   RMSE: 107.599 | Val   MAE: 75.820\n",
      "------------------------------------------------------------\n"
     ]
    },
    {
     "name": "stderr",
     "output_type": "stream",
     "text": [
      "                                                                                \r"
     ]
    },
    {
     "name": "stdout",
     "output_type": "stream",
     "text": [
      "Params: {'regParam': 1.0, 'elasticNetParam': 0.0, 'maxIter': 100}\n",
      "Train RMSE: 84.470 | Train MAE: 60.851\n",
      "Val   RMSE: 107.599 | Val   MAE: 75.820\n",
      "------------------------------------------------------------\n"
     ]
    },
    {
     "name": "stderr",
     "output_type": "stream",
     "text": [
      "                                                                                \r"
     ]
    },
    {
     "name": "stdout",
     "output_type": "stream",
     "text": [
      "Params: {'regParam': 1.0, 'elasticNetParam': 0.0, 'maxIter': 200}\n",
      "Train RMSE: 84.470 | Train MAE: 60.851\n",
      "Val   RMSE: 107.599 | Val   MAE: 75.820\n",
      "------------------------------------------------------------\n"
     ]
    },
    {
     "name": "stderr",
     "output_type": "stream",
     "text": [
      "                                                                                \r"
     ]
    },
    {
     "name": "stdout",
     "output_type": "stream",
     "text": [
      "Params: {'regParam': 1.0, 'elasticNetParam': 0.5, 'maxIter': 50}\n",
      "Train RMSE: 84.942 | Train MAE: 61.254\n",
      "Val   RMSE: 105.285 | Val   MAE: 74.346\n",
      "------------------------------------------------------------\n"
     ]
    },
    {
     "name": "stderr",
     "output_type": "stream",
     "text": [
      "                                                                                \r"
     ]
    },
    {
     "name": "stdout",
     "output_type": "stream",
     "text": [
      "Params: {'regParam': 1.0, 'elasticNetParam': 0.5, 'maxIter': 100}\n",
      "Train RMSE: 84.944 | Train MAE: 61.253\n",
      "Val   RMSE: 105.283 | Val   MAE: 74.332\n",
      "------------------------------------------------------------\n"
     ]
    },
    {
     "name": "stderr",
     "output_type": "stream",
     "text": [
      "                                                                                \r"
     ]
    },
    {
     "name": "stdout",
     "output_type": "stream",
     "text": [
      "Params: {'regParam': 1.0, 'elasticNetParam': 0.5, 'maxIter': 200}\n",
      "Train RMSE: 84.944 | Train MAE: 61.253\n",
      "Val   RMSE: 105.282 | Val   MAE: 74.333\n",
      "------------------------------------------------------------\n"
     ]
    },
    {
     "name": "stderr",
     "output_type": "stream",
     "text": [
      "                                                                                \r"
     ]
    },
    {
     "name": "stdout",
     "output_type": "stream",
     "text": [
      "Params: {'regParam': 1.0, 'elasticNetParam': 1.0, 'maxIter': 50}\n",
      "Train RMSE: 85.727 | Train MAE: 62.027\n",
      "Val   RMSE: 104.596 | Val   MAE: 73.289\n",
      "------------------------------------------------------------\n"
     ]
    },
    {
     "name": "stderr",
     "output_type": "stream",
     "text": [
      "                                                                                \r"
     ]
    },
    {
     "name": "stdout",
     "output_type": "stream",
     "text": [
      "Params: {'regParam': 1.0, 'elasticNetParam': 1.0, 'maxIter': 100}\n",
      "Train RMSE: 85.729 | Train MAE: 62.030\n",
      "Val   RMSE: 104.593 | Val   MAE: 73.289\n",
      "------------------------------------------------------------\n"
     ]
    },
    {
     "name": "stderr",
     "output_type": "stream",
     "text": [
      "                                                                                \r"
     ]
    },
    {
     "name": "stdout",
     "output_type": "stream",
     "text": [
      "Params: {'regParam': 1.0, 'elasticNetParam': 1.0, 'maxIter': 200}\n",
      "Train RMSE: 85.729 | Train MAE: 62.029\n",
      "Val   RMSE: 104.597 | Val   MAE: 73.290\n",
      "------------------------------------------------------------\n"
     ]
    }
   ],
   "source": [
    "start_time = time.time()\n",
    "\n",
    "# ========================================\n",
    "# ENTRENAMIENTO AQUÍ\n",
    "from pyspark.sql.functions import col\n",
    "\n",
    "results = [] # rmse y mae medios de cada modelo (con unos hiperparámetros distintos)\n",
    "\n",
    "# Loop sobre hiperparámetros\n",
    "for params in param_grid:\n",
    "    fold_metrics = [] # métricas de cada fold\n",
    "\n",
    "    for fold in folds:\n",
    "        # 1. Separar Train y Validation respetando fechas\n",
    "        train_fold = df_train.filter(col(\"timestamp\") <= fold[\"train_end\"])\n",
    "        val_fold = df_train.filter((col(\"timestamp\") >= fold[\"val_start\"]) & (col(\"timestamp\") <= fold[\"val_end\"]))\n",
    "        \n",
    "        # 2. Definir LinearRegression con hiperparámetros actuales\n",
    "        lr = LinearRegression(\n",
    "            featuresCol=\"features\",\n",
    "            labelCol=\"takeoff_time\",\n",
    "            regParam=params[\"regParam\"],\n",
    "            elasticNetParam=params[\"elasticNetParam\"],\n",
    "            maxIter=params[\"maxIter\"]\n",
    "        )\n",
    "        \n",
    "        # 3. Crear pipeline completo\n",
    "        pipeline = create_pipeline(lr)  # Esta función la defines tú (tu pipeline que indexa, escala, etc.)\n",
    "        \n",
    "        # 4. Entrenar el modelo en el train_fold\n",
    "        model = pipeline.fit(train_fold)\n",
    "\n",
    "         # --- Evaluar en TRAIN ---\n",
    "        train_preds = model.transform(train_fold)\n",
    "        train_rmse = evaluator_rmse.evaluate(train_preds)\n",
    "        train_mae = evaluator_mae.evaluate(train_preds)\n",
    "\n",
    "        # --- Evaluar en VALIDATION ---\n",
    "        val_preds = model.transform(val_fold)\n",
    "        val_rmse = evaluator_rmse.evaluate(val_preds)\n",
    "        val_mae = evaluator_mae.evaluate(val_preds)\n",
    "        \n",
    "        fold_metrics.append({\n",
    "            \"train_rmse\": train_rmse,\n",
    "            \"train_mae\": train_mae,\n",
    "            \"val_rmse\": val_rmse,\n",
    "            \"val_mae\": val_mae,\n",
    "        })\n",
    "\n",
    "    # --- Calcular métricas promedio por param_grid ---\n",
    "    avg_train_rmse = sum(f[\"train_rmse\"] for f in fold_metrics) / len(fold_metrics)\n",
    "    avg_train_mae = sum(f[\"train_mae\"] for f in fold_metrics) / len(fold_metrics)\n",
    "    avg_val_rmse = sum(f[\"val_rmse\"] for f in fold_metrics) / len(fold_metrics)\n",
    "    avg_val_mae = sum(f[\"val_mae\"] for f in fold_metrics) / len(fold_metrics)\n",
    "\n",
    "    results.append({\n",
    "        \"params\": params,\n",
    "        \"avg_train_rmse\": avg_train_rmse,\n",
    "        \"avg_train_mae\": avg_train_mae,\n",
    "        \"avg_val_rmse\": avg_val_rmse,\n",
    "        \"avg_val_mae\": avg_val_mae\n",
    "    })\n",
    "\n",
    "    print(f\"Params: {params}\")\n",
    "    print(f\"Train RMSE: {avg_train_rmse:.3f} | Train MAE: {avg_train_mae:.3f}\")\n",
    "    print(f\"Val   RMSE: {avg_val_rmse:.3f} | Val   MAE: {avg_val_mae:.3f}\")\n",
    "    print(\"-\" * 60)\n",
    "# ========================================\n",
    "\n",
    "end_time = time.time()\n",
    "execution_time = end_time - start_time"
   ]
  },
  {
   "cell_type": "code",
   "execution_count": 52,
   "id": "d3707d24",
   "metadata": {},
   "outputs": [
    {
     "name": "stdout",
     "output_type": "stream",
     "text": [
      "Mejores hiperparámetros encontrados: {'regParam': 1.0, 'elasticNetParam': 1.0, 'maxIter': 100}\n"
     ]
    }
   ],
   "source": [
    "# 8. Escoger los mejores hiperparámetros\n",
    "best_result = min(results, key=lambda x: x[\"avg_val_rmse\"])\n",
    "print(\"Mejores hiperparámetros encontrados:\", best_result[\"params\"])"
   ]
  },
  {
   "cell_type": "code",
   "execution_count": 53,
   "id": "a09fb861",
   "metadata": {},
   "outputs": [
    {
     "name": "stderr",
     "output_type": "stream",
     "text": [
      "                                                                                \r"
     ]
    }
   ],
   "source": [
    "# 1. Definir el mejor modelo (los mejores hiperparámetros encontrados)\n",
    "best_params = best_result[\"params\"]\n",
    "\n",
    "best_lr = LinearRegression(\n",
    "    featuresCol=\"features\",\n",
    "    labelCol=\"takeoff_time\",\n",
    "    regParam=best_params[\"regParam\"],\n",
    "    elasticNetParam=best_params[\"elasticNetParam\"],\n",
    "    maxIter=best_params[\"maxIter\"]\n",
    ")\n",
    "\n",
    "# 2. Crear de nuevo el pipeline completo\n",
    "final_pipeline = create_pipeline(best_lr)\n",
    "\n",
    "# 3. Entrenar el modelo sobre todo el train\n",
    "train_full = df_train.filter(col(\"timestamp\") <= \"2025-01-14\")  # hasta 14/01/2025 inclusive\n",
    "final_model = final_pipeline.fit(train_full)"
   ]
  },
  {
   "cell_type": "markdown",
   "id": "7970bbdb-c953-4e17-8bb8-c99b1187dd03",
   "metadata": {},
   "source": [
    "## Análisis del modelo"
   ]
  },
  {
   "cell_type": "code",
   "execution_count": 65,
   "id": "0a03b8a9",
   "metadata": {},
   "outputs": [
    {
     "name": "stdout",
     "output_type": "stream",
     "text": [
      "\n",
      "========== AVERAGE RESULTS OVER ALL PARAMS ==========\n",
      "Train RMSE promedio: 84.660\n",
      "Train MAE promedio:  61.041\n",
      "Val   RMSE promedio: 107.064\n",
      "Val   MAE promedio:  75.505\n",
      "======================================================\n"
     ]
    }
   ],
   "source": [
    "# --- Calcular métricas globales finales (promedio sobre todos los folds) ---\n",
    "\n",
    "final_avg_train_rmse = sum(r[\"avg_train_rmse\"] for r in results) / len(results)\n",
    "final_avg_train_mae = sum(r[\"avg_train_mae\"] for r in results) / len(results)\n",
    "final_avg_val_rmse = sum(r[\"avg_val_rmse\"] for r in results) / len(results)\n",
    "final_avg_val_mae = sum(r[\"avg_val_mae\"] for r in results) / len(results)\n",
    "\n",
    "print(\"\\n========== AVERAGE RESULTS OVER ALL PARAMS ==========\")\n",
    "print(f\"Train RMSE promedio: {final_avg_train_rmse:.3f}\")\n",
    "print(f\"Train MAE promedio:  {final_avg_train_mae:.3f}\")\n",
    "print(f\"Val   RMSE promedio: {final_avg_val_rmse:.3f}\")\n",
    "print(f\"Val   MAE promedio:  {final_avg_val_mae:.3f}\")\n",
    "print(\"======================================================\")"
   ]
  },
  {
   "cell_type": "code",
   "execution_count": 66,
   "id": "d6cd1f60-b05f-4ef2-b806-15ac8b31e0eb",
   "metadata": {},
   "outputs": [],
   "source": [
    "# ===============================================================\n",
    "mae_train = final_avg_train_mae\n",
    "rmse_train = final_avg_train_rmse\n",
    "\n",
    "mae_val = final_avg_val_mae\n",
    "rmse_val = final_avg_val_rmse\n",
    "# ==============================================================="
   ]
  },
  {
   "cell_type": "code",
   "execution_count": null,
   "id": "1469d262-f7d3-4167-9291-07bb4b685fd6",
   "metadata": {},
   "outputs": [],
   "source": [
    "# ===============================================================\n",
    "# Generar predicciones en test\n",
    "test_preds = final_model.transform(df_test) # desde 15/01/2025 hasta 31/01/2025\n",
    "# ==============================================================="
   ]
  },
  {
   "cell_type": "code",
   "execution_count": 70,
   "id": "18706da7-ae3b-4003-8bcb-6dc73a0194ad",
   "metadata": {},
   "outputs": [
    {
     "name": "stderr",
     "output_type": "stream",
     "text": [
      "                                                                                \r"
     ]
    },
    {
     "data": {
      "text/html": [
       "\n",
       "        <iframe\n",
       "            width=\"100%\"\n",
       "            height=\"650\"\n",
       "            src=\"http://127.0.0.1:8050/\"\n",
       "            frameborder=\"0\"\n",
       "            allowfullscreen\n",
       "            \n",
       "        ></iframe>\n",
       "        "
      ],
      "text/plain": [
       "<IPython.lib.display.IFrame at 0x7f75b456a780>"
      ]
     },
     "metadata": {},
     "output_type": "display_data"
    }
   ],
   "source": [
    "# Nota: df_test tiene que tener la columna 'prediction'\n",
    "test_preds_pd = test_preds.toPandas()\n",
    "ev = Evaluator(test_preds_pd, MODEL_NAME, mae_val, rmse_val)\n",
    "report = ev.getReport()\n",
    "ev.visualEvaluation()"
   ]
  },
  {
   "cell_type": "markdown",
   "id": "3225d489-96a4-4fa6-8a49-dab362089363",
   "metadata": {},
   "source": [
    "### Influencia de las variables"
   ]
  },
  {
   "cell_type": "code",
   "execution_count": null,
   "id": "0da81b3d-e480-452e-be7b-cd4aeb8f811e",
   "metadata": {},
   "outputs": [],
   "source": [
    "# Obtener el modelo de regresión lineal (último stage del pipeline)\n",
    "lr_model = final_model.stages[-1]\n",
    "\n",
    "coefficients = lr_model.coefficients.toArray()\n",
    "intercept = lr_model.intercept"
   ]
  },
  {
   "cell_type": "code",
   "execution_count": null,
   "id": "f8d538d2",
   "metadata": {},
   "outputs": [],
   "source": [
    "# Primero, reconstruir los nombres en orden\n",
    "\n",
    "# 1. Columnas numéricas (ya normalizadas, pero una columna por variable)\n",
    "numeric_feature_names = numeric_cols\n",
    "\n",
    "# 2. Columnas categóricas (después del one-hot)\n",
    "ohe_sizes = {}\n",
    "for c in categorical_cols:\n",
    "    # Recuperar el StringIndexer model del pipeline y ver cuántas clases hay\n",
    "    indexer_model = final_model.stages[categorical_cols.index(c)]\n",
    "    ohe_sizes[c] = len(indexer_model.labels)\n",
    "\n",
    "categorical_feature_names = []\n",
    "for c in categorical_cols:\n",
    "    for i in range(ohe_sizes[c]):\n",
    "        categorical_feature_names.append(f\"{c}_ohe_{i}\")\n",
    "\n",
    "# 3. Columnas booleanas\n",
    "boolean_feature_names = boolean_cols  # solo les hiciste indexación 0/1\n",
    "\n",
    "# Unir todos los nombres\n",
    "feature_names = numeric_feature_names + categorical_feature_names + boolean_feature_names"
   ]
  },
  {
   "cell_type": "code",
   "execution_count": 79,
   "id": "dea93533",
   "metadata": {},
   "outputs": [],
   "source": [
    "# Asociar feature name con su peso\n",
    "feature_importances = list(zip(feature_names, coefficients))\n",
    "\n",
    "# Ordenar por valor absoluto de la importancia\n",
    "feature_importances = sorted(feature_importances, key=lambda x: abs(x[1]), reverse=True)"
   ]
  },
  {
   "cell_type": "code",
   "execution_count": 91,
   "id": "36281c58",
   "metadata": {},
   "outputs": [
    {
     "data": {
      "image/png": "[encoded data removed]",
      "text/plain": [
       "<Figure size 1500x600 with 1 Axes>"
      ]
     },
     "metadata": {},
     "output_type": "display_data"
    }
   ],
   "source": [
    "import matplotlib.pyplot as plt\n",
    "\n",
    "# Seleccionar top N variables\n",
    "top_n = 20\n",
    "top_features = feature_importances[:top_n]\n",
    "\n",
    "# Separar nombres y valores\n",
    "names = [f[0] for f in top_features]\n",
    "values = [f[1] for f in top_features]\n",
    "\n",
    "# Crear gráfico\n",
    "plt.figure(figsize=(15, 6))\n",
    "bars = plt.barh(names, values, color=\"skyblue\")\n",
    "plt.xlabel(\"Coeficiente\")\n",
    "plt.title(\"Top 20 Variables más influyentes\")\n",
    "plt.gca().invert_yaxis()  # Para que la más importante esté arriba\n",
    "plt.grid(True, linestyle=\"--\", alpha=0.7)\n",
    "\n",
    "# Añadir etiquetas con el valor\n",
    "for bar, value in zip(bars, values):\n",
    "    plt.text(value, bar.get_y() + bar.get_height()/2, f\"{value:.2f}\", va='center', ha='left')\n",
    "\n",
    "plt.tight_layout()\n",
    "\n",
    "# --- Guardar gráfica ---\n",
    "plot_path = \"top20_feature_importance_lr.png\"\n",
    "plt.savefig(plot_path)\n",
    "\n",
    "plt.show()"
   ]
  },
  {
   "cell_type": "markdown",
   "id": "5cc79d07-4d85-4dba-8242-331e8102d0ca",
   "metadata": {},
   "source": [
    "## Registro del modelo en MLflow"
   ]
  },
  {
   "cell_type": "code",
   "execution_count": 95,
   "id": "d4654dd7-3e73-41b8-b7f8-eeb559fff34c",
   "metadata": {},
   "outputs": [
    {
     "name": "stderr",
     "output_type": "stream",
     "text": [
      "\u001b[31m2025/04/26 17:08:42 WARNING mlflow.models.model: Model logged without a signature and input example. Please set `input_example` parameter when logging the model to auto infer the model signature.\u001b[0m\n"
     ]
    }
   ],
   "source": [
    "mlflow.set_tracking_uri(\"file:./mlflow_experiments\")\n",
    "mlflow.set_experiment(\"takeoff_time_prediction\")\n",
    "\n",
    "with mlflow.start_run():\n",
    "\n",
    "    # - Datos generales -\n",
    "\n",
    "    # ========================================================================\n",
    "    mlflow.set_tag(\"model_type\", MODEL_NAME)\n",
    "    mlflow.set_tag(\"framework\", \"pyspark.ml\") # scikit-learn, tensorflow, etc.\n",
    "    mlflow.set_tag(\"target_variable\", \"takeoff_time\") # variable respuesta\n",
    "    mlflow.set_tag(\"preprocessing\", \"StringIndexer+OneHotEncoder+StandardScaler+VectorAssembler\") # transformaciones separadas por un +\n",
    "    mlflow.set_tag(\"dataset\", \"original\") # indicar si se ha modificado el conjunto de datos\n",
    "    mlflow.set_tag(\"seed\", SEED) # semilla para replicabilidad\n",
    "    # ========================================================================\n",
    "    \n",
    "    # - Hiperparámetros óptimos -\n",
    "    \n",
    "    # =====================================\n",
    "    # AÑADIR HIPERPARÁMETROS\n",
    "    mlflow.log_param(\"model\", MODEL_NAME)\n",
    "    for param_name, param_value in best_result[\"params\"].items():\n",
    "        mlflow.log_param(param_name, param_value)\n",
    "    # =====================================\n",
    "    \n",
    "    # - Métricas -\n",
    "\n",
    "    mlflow.log_metric(\"execution_time_s\", execution_time)\n",
    "\n",
    "    mlflow.log_metric(\"mae_val\", mae_val)\n",
    "    mlflow.log_metric(\"rmse_val\", rmse_val)\n",
    "\n",
    "    mlflow.log_metric(\"mae_train\", mae_train)\n",
    "    mlflow.log_metric(\"rmse_train\", rmse_train)\n",
    "\n",
    "    # Registrar métricas globales en test\n",
    "    for metric_name, value in report[\"global\"].items():\n",
    "        mlflow.log_metric(f\"{metric_name}_test\", value)\n",
    "    \n",
    "    # Registrar métricas por runway\n",
    "    for runway, metrics in report[\"by_runway\"].items():\n",
    "        for metric_name, value in metrics.items():\n",
    "            mlflow.log_metric(f\"{metric_name}_test_runway_{runway}\", value)\n",
    "    \n",
    "    # Registrar métricas por holding point\n",
    "    for hp, metrics in report[\"by_holding_point\"].items():\n",
    "        for metric_name, value in metrics.items():\n",
    "            mlflow.log_metric(f\"{metric_name}_test_hp_{hp}\", value)\n",
    "\n",
    "    # - Importancia de variables -\n",
    "    mlflow.log_artifact(plot_path, artifact_path=\"plots\")\n",
    "\n",
    "    # - Modelo -\n",
    "\n",
    "    # ========================================================================\n",
    "    # NOTA - Dependiendo de con qué has hecho el modelo esto hay que cambiarlo\n",
    "    mlflow.spark.log_model(model, MODEL_NAME)\n",
    "    # ========================================================================"
   ]
  },
  {
   "cell_type": "code",
   "execution_count": 97,
   "id": "35a86e74",
   "metadata": {},
   "outputs": [
    {
     "name": "stdout",
     "output_type": "stream",
     "text": [
      "[2025-04-26 17:20:15 +0200] [180862] [INFO] Starting gunicorn 23.0.0\n",
      "[2025-04-26 17:20:15 +0200] [180862] [INFO] Listening at: http://127.0.0.1:5000 (180862)\n",
      "[2025-04-26 17:20:15 +0200] [180862] [INFO] Using worker: sync\n",
      "[2025-04-26 17:20:15 +0200] [180863] [INFO] Booting worker with pid: 180863\n",
      "[2025-04-26 17:20:15 +0200] [180864] [INFO] Booting worker with pid: 180864\n",
      "[2025-04-26 17:20:15 +0200] [180865] [INFO] Booting worker with pid: 180865\n",
      "[2025-04-26 17:20:15 +0200] [180866] [INFO] Booting worker with pid: 180866\n",
      "[2025-04-26 17:22:06 +0200] [180862] [INFO] Handling signal: int\n",
      "^C\n",
      "\n",
      "Aborted!\n",
      "[2025-04-26 17:22:06 +0200] [180863] [INFO] Worker exiting (pid: 180863)\n",
      "[2025-04-26 17:22:06 +0200] [180866] [INFO] Worker exiting (pid: 180866)\n",
      "[2025-04-26 17:22:06 +0200] [180865] [INFO] Worker exiting (pid: 180865)\n",
      "[2025-04-26 17:22:06 +0200] [180864] [INFO] Worker exiting (pid: 180864)\n"
     ]
    }
   ],
   "source": [
    "!mlflow ui --backend-store-uri ./mlflow_experiments"
   ]
  }
 ],
 "metadata": {
  "kernelspec": {
   "display_name": ".venv",
   "language": "python",
   "name": "python3"
  },
  "language_info": {
   "codemirror_mode": {
    "name": "ipython",
    "version": 3
   },
   "file_extension": ".py",
   "mimetype": "text/x-python",
   "name": "python",
   "nbconvert_exporter": "python",
   "pygments_lexer": "ipython3",
   "version": "3.12.3"
  }
 },
 "nbformat": 4,
 "nbformat_minor": 5
}
