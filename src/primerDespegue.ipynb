{
  "nbformat": 4,
  "nbformat_minor": 0,
  "metadata": {
    "colab": {
      "provenance": []
    },
    "kernelspec": {
      "name": "python3",
      "display_name": "Python 3"
    },
    "language_info": {
      "name": "python"
    }
  },
  "cells": [
    {
      "cell_type": "code",
      "execution_count": 2,
      "metadata": {
        "colab": {
          "base_uri": "https://localhost:8080/"
        },
        "id": "9sUn8TIfalQi",
        "outputId": "e019c882-5ddb-40fd-989b-1e8174eb51c4"
      },
      "outputs": [
        {
          "output_type": "stream",
          "name": "stdout",
          "text": [
            "Collecting pyModeS\n",
            "  Downloading pymodes-2.19-py3-none-any.whl.metadata (11 kB)\n",
            "Requirement already satisfied: numpy>=1.26 in /usr/local/lib/python3.11/dist-packages (from pyModeS) (1.26.4)\n",
            "Requirement already satisfied: pyzmq>=24.0 in /usr/local/lib/python3.11/dist-packages (from pyModeS) (24.0.1)\n",
            "Downloading pymodes-2.19-py3-none-any.whl (79 kB)\n",
            "\u001b[?25l   \u001b[90m━━━━━━━━━━━━━━━━━━━━━━━━━━━━━━━━━━━━━━━━\u001b[0m \u001b[32m0.0/79.4 kB\u001b[0m \u001b[31m?\u001b[0m eta \u001b[36m-:--:--\u001b[0m\r\u001b[2K   \u001b[90m━━━━━━━━━━━━━━━━━━━━━━━━━━━━━━━━━━━━━━━━\u001b[0m \u001b[32m79.4/79.4 kB\u001b[0m \u001b[31m3.8 MB/s\u001b[0m eta \u001b[36m0:00:00\u001b[0m\n",
            "\u001b[?25hInstalling collected packages: pyModeS\n",
            "Successfully installed pyModeS-2.19\n"
          ]
        }
      ],
      "source": [
        "# stable version\n",
        "!pip install pyModeS"
      ]
    },
    {
      "cell_type": "code",
      "source": [
        "import pyModeS as pms"
      ],
      "metadata": {
        "id": "wNNPpxTvbg5v"
      },
      "execution_count": 21,
      "outputs": []
    },
    {
      "cell_type": "code",
      "source": [
        "pms.data(\"oAANuYAVzS4ABLg3aB0=\")"
      ],
      "metadata": {
        "colab": {
          "base_uri": "https://localhost:8080/",
          "height": 35
        },
        "id": "d2zGg3V2gvC5",
        "outputId": "8283f84e-8aa8-409e-cf5f-b4927e3b8b78"
      },
      "execution_count": 20,
      "outputs": [
        {
          "output_type": "execute_result",
          "data": {
            "text/plain": [
              "'zS4ABL'"
            ],
            "application/vnd.google.colaboratory.intrinsic+json": {
              "type": "string"
            }
          },
          "metadata": {},
          "execution_count": 20
        }
      ]
    },
    {
      "cell_type": "code",
      "source": [
        "\n",
        "msg = 'A0000DB98015CD2E0004B837681D'    # Convert grey code to integer\n",
        "\n",
        "pms.df(msg)                 # Downlink Format\n",
        "pms.icao(msg)               # Infer the ICAO address from the message\n",
        "pms.crc(msg, encode=False)  # Perform CRC or generate parity bit\n",
        "pms.tell(msg)\n",
        "\n",
        "'''\n",
        "pms.hex2bin(str)      # Convert hexadecimal string to binary string\n",
        "pms.bin2int(str)      # Convert binary string to integer\n",
        "pms.hex2int(str)      # Convert hexadecimal string to integer\n",
        "pms.gray2int(str)     # Convert grey code to integer'''"
      ],
      "metadata": {
        "colab": {
          "base_uri": "https://localhost:8080/",
          "height": 261
        },
        "id": "sO3Wk2zDbtzE",
        "outputId": "7048eb00-9d13-4f8c-fc5a-8b64e439759d"
      },
      "execution_count": 22,
      "outputs": [
        {
          "output_type": "stream",
          "name": "stdout",
          "text": [
            "                     Message: A0000DB98015CD2E0004B837681D \n",
            "                ICAO address: AA5F41 \n",
            "             Downlink Format: 20 \n",
            "                    Protocol: Mode-S Comm-B altitude reply \n",
            "                    Altitude: 21225 feet\n",
            "                         BDS: BDS50 (Track and turn report) \n",
            "                  Roll angle: 0.0 degrees\n",
            "                 Track angle: 130.4296875 degrees\n",
            "                  Track rate: None degree/second\n",
            "                Ground speed: 368 knots\n",
            "               True airspeed: 368 knots\n"
          ]
        },
        {
          "output_type": "execute_result",
          "data": {
            "text/plain": [
              "'\\npms.hex2bin(str)      # Convert hexadecimal string to binary string\\npms.bin2int(str)      # Convert binary string to integer\\npms.hex2int(str)      # Convert hexadecimal string to integer\\npms.gray2int(str)     # Convert grey code to integer'"
            ],
            "application/vnd.google.colaboratory.intrinsic+json": {
              "type": "string"
            }
          },
          "metadata": {},
          "execution_count": 22
        }
      ]
    },
    {
      "cell_type": "code",
      "source": [],
      "metadata": {
        "id": "WFJ3TurNbv3-"
      },
      "execution_count": null,
      "outputs": []
    }
  ]
}